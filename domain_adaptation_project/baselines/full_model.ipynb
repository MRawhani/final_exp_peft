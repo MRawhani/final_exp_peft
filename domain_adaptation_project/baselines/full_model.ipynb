{
 "cells": [
  {
   "cell_type": "code",
   "execution_count": 1,
   "metadata": {},
   "outputs": [
    {
     "data": {
      "text/plain": [
       "0"
      ]
     },
     "execution_count": 1,
     "metadata": {},
     "output_type": "execute_result"
    }
   ],
   "source": []
  },
  {
   "cell_type": "code",
   "execution_count": 1,
   "metadata": {},
   "outputs": [
    {
     "name": "stdout",
     "output_type": "stream",
     "text": [
      "['/home/guest/Desktop/projects/second-experiments/domain_adaptation_project/baselines', '/usr/lib/python38.zip', '/usr/lib/python3.8', '/usr/lib/python3.8/lib-dynload', '', '/home/guest/Desktop/projects/second-experiments/.venv/lib/python3.8/site-packages', '/home/guest/Desktop/projects/second-experiments/domain_adaptation_project/modules']\n"
     ]
    },
    {
     "name": "stderr",
     "output_type": "stream",
     "text": [
      "/home/guest/Desktop/projects/second-experiments/.venv/lib/python3.8/site-packages/transformers/utils/generic.py:441: UserWarning: torch.utils._pytree._register_pytree_node is deprecated. Please use torch.utils._pytree.register_pytree_node instead.\n",
      "  _torch_pytree._register_pytree_node(\n",
      "/home/guest/Desktop/projects/second-experiments/.venv/lib/python3.8/site-packages/transformers/utils/generic.py:309: UserWarning: torch.utils._pytree._register_pytree_node is deprecated. Please use torch.utils._pytree.register_pytree_node instead.\n",
      "  _torch_pytree._register_pytree_node(\n",
      "2024-05-24 00:40:29.215649: I tensorflow/core/util/port.cc:110] oneDNN custom operations are on. You may see slightly different numerical results due to floating-point round-off errors from different computation orders. To turn them off, set the environment variable `TF_ENABLE_ONEDNN_OPTS=0`.\n",
      "2024-05-24 00:40:29.305335: I tensorflow/core/platform/cpu_feature_guard.cc:182] This TensorFlow binary is optimized to use available CPU instructions in performance-critical operations.\n",
      "To enable the following instructions: AVX2 AVX512F AVX512_VNNI FMA, in other operations, rebuild TensorFlow with the appropriate compiler flags.\n",
      "2024-05-24 00:40:30.053586: W tensorflow/compiler/tf2tensorrt/utils/py_utils.cc:38] TF-TRT Warning: Could not find TensorRT\n"
     ]
    }
   ],
   "source": [
    "from setup import setup_src_path\n",
    "print(setup_src_path())\n",
    "import data.processed as processed\n",
    "import config.config as config\n",
    "import utils.setup as setup\n",
    "import utils.functions as fn\n",
    "from importlib import reload\n",
    "\n"
   ]
  },
  {
   "cell_type": "code",
   "execution_count": 5,
   "metadata": {},
   "outputs": [],
   "source": [
    "from datasets import load_from_disk\n",
    "\n",
    "source_data=load_from_disk(f\"{config.Config.DATASETS_SAVE_PATH}/source_data\")\n",
    "source_data_eval=load_from_disk(f\"{config.Config.DATASETS_SAVE_PATH}/source_data_eval\")\n",
    "target_data=load_from_disk(f\"{config.Config.DATASETS_SAVE_PATH}/target_data\")\n",
    "target_data_eval=load_from_disk(f\"{config.Config.DATASETS_SAVE_PATH}/target_data_eval\")\n",
    "test_target_data=load_from_disk(f\"{config.Config.DATASETS_SAVE_PATH}/test_target_data\")\n",
    "raw_target_data=load_from_disk(f\"{config.Config.DATASETS_SAVE_PATH}/raw_target_data\")['train']\n"
   ]
  },
  {
   "cell_type": "code",
   "execution_count": 6,
   "metadata": {},
   "outputs": [
    {
     "name": "stdout",
     "output_type": "stream",
     "text": [
      "2273196\n",
      "143135\n"
     ]
    }
   ],
   "source": [
    "reload(fn)\n",
    "print(fn.count_words(raw_target_data))\n",
    "print(fn.count_sentences_basic(raw_target_data))"
   ]
  },
  {
   "cell_type": "code",
   "execution_count": 7,
   "metadata": {},
   "outputs": [],
   "source": [
    "from torch.utils.data import DataLoader\n",
    "source_data_loader = DataLoader(source_data, batch_size=32, shuffle=True)\n",
    "target_data_loader = DataLoader(target_data, batch_size=32)\n",
    "source_data_eval_loader = DataLoader(source_data_eval, batch_size=32, shuffle=True)\n",
    "target_data_eval_loader = DataLoader(target_data_eval, batch_size=32)\n",
    "\n",
    "target_test_loader = DataLoader(test_target_data, batch_size=32)"
   ]
  },
  {
   "cell_type": "code",
   "execution_count": 8,
   "metadata": {},
   "outputs": [
    {
     "name": "stderr",
     "output_type": "stream",
     "text": [
      "/home/guest/Desktop/projects/second-experiments/.venv/lib/python3.8/site-packages/huggingface_hub/file_download.py:1132: FutureWarning: `resume_download` is deprecated and will be removed in version 1.0.0. Downloads always resume when possible. If you want to force a new download, use `force_download=True`.\n",
      "  warnings.warn(\n"
     ]
    },
    {
     "name": "stdout",
     "output_type": "stream",
     "text": [
      "trainable params: 66985530 || all params: 66985530 || trainable%: 100.0\n"
     ]
    }
   ],
   "source": [
    "from adapters import AutoAdapterModel,init\n",
    "from tqdm import tqdm\n",
    "\n",
    "from transformers import AutoConfig, AutoModelForMaskedLM\n",
    "\n",
    "mdlcfg = AutoConfig.from_pretrained(\n",
    "    config.Config.MODEL_NAME,\n",
    " \n",
    ")\n",
    "model = AutoModelForMaskedLM.from_pretrained(\n",
    "    config.Config.MODEL_NAME,\n",
    ")\n",
    "reload(fn)\n",
    "fn.print_trainable_parameters(model)"
   ]
  },
  {
   "cell_type": "code",
   "execution_count": 10,
   "metadata": {},
   "outputs": [
    {
     "name": "stderr",
     "output_type": "stream",
     "text": [
      "/home/guest/Desktop/projects/second-experiments/.venv/lib/python3.8/site-packages/huggingface_hub/file_download.py:1132: FutureWarning: `resume_download` is deprecated and will be removed in version 1.0.0. Downloads always resume when possible. If you want to force a new download, use `force_download=True`.\n",
      "  warnings.warn(\n"
     ]
    },
    {
     "data": {
      "text/plain": [
       "Dataset({\n",
       "    features: ['input_ids', 'attention_mask', 'word_ids'],\n",
       "    num_rows: 69615\n",
       "})"
      ]
     },
     "execution_count": 10,
     "metadata": {},
     "output_type": "execute_result"
    }
   ],
   "source": [
    "from transformers import AutoTokenizer\n",
    "\n",
    "reload(processed)\n",
    "tokenizer = AutoTokenizer.from_pretrained(config.Config.TOKENIZER_NAME)\n",
    "\n",
    "tokenized_dataset= processed.tokenize_dataset(raw_target_data,tokenizer)\n",
    "tokenized_dataset"
   ]
  },
  {
   "cell_type": "code",
   "execution_count": 11,
   "metadata": {},
   "outputs": [],
   "source": [
    "chunk_size = 128\n",
    "# Slicing produces a list of lists for each feature\n",
    "tokenized_samples = tokenized_dataset[444:490]\n",
    "\n",
    "#for idx, sample in enumerate(tokenized_samples[\"input_ids\"]):\n",
    "    #print(f\"'>>> Review {idx} length: {len(sample)}'\")"
   ]
  },
  {
   "cell_type": "code",
   "execution_count": 12,
   "metadata": {},
   "outputs": [
    {
     "name": "stdout",
     "output_type": "stream",
     "text": [
      "'>>> Chunk length: 128'\n",
      "'>>> Chunk length: 128'\n",
      "'>>> Chunk length: 128'\n",
      "'>>> Chunk length: 128'\n",
      "'>>> Chunk length: 128'\n",
      "'>>> Chunk length: 128'\n",
      "'>>> Chunk length: 128'\n",
      "'>>> Chunk length: 128'\n",
      "'>>> Chunk length: 128'\n",
      "'>>> Chunk length: 128'\n",
      "'>>> Chunk length: 128'\n",
      "'>>> Chunk length: 128'\n",
      "'>>> Chunk length: 128'\n",
      "'>>> Chunk length: 128'\n",
      "'>>> Chunk length: 128'\n",
      "'>>> Chunk length: 128'\n"
     ]
    }
   ],
   "source": [
    "results = fn.group_texts(tokenized_samples, chunk_size)\n",
    "for chunk in results[\"labels\"]:\n",
    "    print(f\"'>>> Chunk length: {len(chunk)}'\")"
   ]
  },
  {
   "cell_type": "code",
   "execution_count": 13,
   "metadata": {},
   "outputs": [
    {
     "data": {
      "text/plain": [
       "Dataset({\n",
       "    features: ['input_ids', 'attention_mask', 'word_ids', 'labels'],\n",
       "    num_rows: 24518\n",
       "})"
      ]
     },
     "execution_count": 13,
     "metadata": {},
     "output_type": "execute_result"
    }
   ],
   "source": [
    "lm_datasets = tokenized_dataset.map(fn.group_texts, batched=True,fn_kwargs={'chunk_size': chunk_size})\n",
    "lm_datasets"
   ]
  },
  {
   "cell_type": "code",
   "execution_count": 14,
   "metadata": {},
   "outputs": [
    {
     "name": "stdout",
     "output_type": "stream",
     "text": [
      "12 buddhist temples and 3000 museums in the country. [SEP] [CLS] but go around the back of the taj, too, to the terrace which overlooks the yamuna river. [SEP] the taj has a terrace which looks over a river. [SEP] [CLS] a series of lenses and prisms projects a live image of the city onto a concave viewing screen inside the camera. [SEP] a series of lenses projects a live feed of the city onto the 50 foot screen. [SEP] [CLS] birdwatchers look out for over 270 species of birds which may be seen in the immediate area. [SEP] there are plenty of endangered birds for birdwatchers to find\n",
      "12 buddhist temples and 3000 museums in the country. [SEP] [CLS] but go around the back of the taj, too, to the terrace which overlooks the yamuna river. [SEP] the taj has a terrace which looks over a river. [SEP] [CLS] a series of lenses and prisms projects a live image of the city onto a concave viewing screen inside the camera. [SEP] a series of lenses projects a live feed of the city onto the 50 foot screen. [SEP] [CLS] birdwatchers look out for over 270 species of birds which may be seen in the immediate area. [SEP] there are plenty of endangered birds for birdwatchers to find\n",
      "128\n"
     ]
    }
   ],
   "source": [
    "print(tokenizer.decode(lm_datasets[1][\"input_ids\"]))\n",
    "print(tokenizer.decode(lm_datasets[1]['labels']))\n",
    "print(len(lm_datasets[-1]['labels']))\n"
   ]
  },
  {
   "cell_type": "code",
   "execution_count": 15,
   "metadata": {},
   "outputs": [
    {
     "name": "stderr",
     "output_type": "stream",
     "text": [
      "You're using a DistilBertTokenizerFast tokenizer. Please note that with a fast tokenizer, using the `__call__` method is faster than using a method to encode the text followed by a call to the `pad` method to get a padded encoding.\n"
     ]
    },
    {
     "name": "stdout",
     "output_type": "stream",
     "text": [
      "\n",
      "'>>> [CLS] the lake district national park was created in 1951 to preserve [MASK] entire landscape and allow public [MASK] to [MASK] of natural beauty. [SEP] lake district national park was the first national park established in 5 years. [SEP] [CLS] it was once regarded as the most beautiful street in europe, a claim that [MASK] difficult [MASK] understand today since so many of the original buildings have been replaced. [SEP] [MASK] many of the [MASK] buildings had been replaced by convenience stores. [SEP] [CLS] however, with over 1 [unused422] [MASK] buddhist temples, 200 shinto shrines, numerous museums, and [MASK] imperial [MASK] [MASK] [MASK] aware that you're not going to see everything. [SEP] there are only'\n",
      "\n",
      "'>>> 12 buddhist temples and 3000 museums [MASK] the country. [SEP] [CLS] but go around the back of the taj, too, to the terrace which overlooks the yamuna river. [SEP] the taj has a terrace which [MASK] over a river. [SEP] [CLS] a [MASK] of lenses and prisms projects a live image of the city [MASK] a concave viewing screen inside the camera. [SEP] a series of lenses projects a live feed of the city onto the 50 foot screen. [SEP] [CLS] [MASK]watchers [MASK] out for over 270 species of birds which may be seen in the [MASK] area. [SEP] there are [MASK] of [MASK] [MASK] for birdwatchers to find'\n"
     ]
    }
   ],
   "source": [
    "from transformers import DataCollatorForLanguageModeling\n",
    "\n",
    "data_collator = DataCollatorForLanguageModeling(tokenizer=tokenizer, mlm_probability=0.15)\n",
    "samples = [lm_datasets[i] for i in range(2)]\n",
    "for sample in samples:\n",
    "    _ = sample.pop(\"word_ids\")\n",
    "dd=data_collator(samples)\n",
    "for chunk in dd[\"input_ids\"]:\n",
    "    print(f\"\\n'>>> {tokenizer.decode(chunk)}'\")"
   ]
  },
  {
   "cell_type": "code",
   "execution_count": 16,
   "metadata": {},
   "outputs": [
    {
     "name": "stdout",
     "output_type": "stream",
     "text": [
      "\n",
      "'>>> [CLS] the lake district national park was created in 1951 to [MASK] the entire landscape and allow public [MASK] to [MASK] [MASK] [MASK] beauty. [SEP] lake [MASK] national [MASK] [MASK] the first national park established in [MASK] years. [SEP] [CLS] it was once regarded [MASK] the most beautiful street in europe, a claim that is difficult [MASK] understand today since so many of the original [MASK] [MASK] [MASK] replaced. [SEP] so many of the original buildings had been replaced by convenience [MASK]. [SEP] [CLS] however, [MASK] over 1, 500 buddhist temples, 200 shinto shrines, numerous museums [MASK] and magnificent [MASK] palaces, be [MASK] that you're not going to see [MASK]. [SEP] there [MASK] only'\n",
      "\n",
      "'>>> 12 buddhist temples and 3000 [MASK] [MASK] the country [MASK] [SEP] [CLS] but go around the back of the taj, too [MASK] [MASK] [MASK] terrace which overlooks the yamuna river. [SEP] the taj has a terrace which looks over a river. [SEP] [CLS] a [MASK] of lenses [MASK] prisms [MASK] [MASK] live image of the city onto a concave viewing [MASK] [MASK] the camera. [SEP] a [MASK] of lenses projects a [MASK] feed of the city [MASK] the [MASK] foot screen. [SEP] [CLS] birdwatchers look out for over 270 species [MASK] birds which may be seen in [MASK] immediate area. [SEP] [MASK] are plenty of endangered birds for birdwatchers to find'\n"
     ]
    }
   ],
   "source": [
    "reload(fn)\n",
    "samples = [lm_datasets[i] for i in range(2)]\n",
    "batch = fn.whole_word_masking_data_collator(samples,tokenizer)\n",
    "\n",
    "for chunk in batch[\"input_ids\"]:\n",
    "    print(f\"\\n'>>> {tokenizer.decode(chunk)}'\")"
   ]
  },
  {
   "cell_type": "code",
   "execution_count": 17,
   "metadata": {},
   "outputs": [
    {
     "data": {
      "text/plain": [
       "DatasetDict({\n",
       "    train: Dataset({\n",
       "        features: ['input_ids', 'attention_mask', 'word_ids', 'labels'],\n",
       "        num_rows: 22066\n",
       "    })\n",
       "    test: Dataset({\n",
       "        features: ['input_ids', 'attention_mask', 'word_ids', 'labels'],\n",
       "        num_rows: 2452\n",
       "    })\n",
       "})"
      ]
     },
     "execution_count": 17,
     "metadata": {},
     "output_type": "execute_result"
    }
   ],
   "source": [
    "\n",
    "downsampled_dataset = lm_datasets.train_test_split(\n",
    "    test_size=0.1, seed=42\n",
    ")\n",
    "downsampled_dataset"
   ]
  },
  {
   "cell_type": "code",
   "execution_count": null,
   "metadata": {},
   "outputs": [],
   "source": []
  },
  {
   "cell_type": "code",
   "execution_count": 18,
   "metadata": {},
   "outputs": [
    {
     "name": "stderr",
     "output_type": "stream",
     "text": [
      "/home/guest/Desktop/projects/second-experiments/.venv/lib/python3.8/site-packages/accelerate/accelerator.py:446: FutureWarning: Passing the following arguments to `Accelerator` is deprecated and will be removed in version 1.0 of Accelerate: dict_keys(['dispatch_batches', 'split_batches']). Please pass an `accelerate.DataLoaderConfiguration` instead: \n",
      "dataloader_config = DataLoaderConfiguration(dispatch_batches=None, split_batches=False)\n",
      "  warnings.warn(\n"
     ]
    }
   ],
   "source": [
    "\n",
    "reload(fn)\n",
    "trainer = fn.train_mlm_model_without_adapter(model,\"full_model\",data_collator,tokenizer, downsampled_dataset['train'],downsampled_dataset['test'])"
   ]
  },
  {
   "cell_type": "code",
   "execution_count": 19,
   "metadata": {},
   "outputs": [
    {
     "data": {
      "application/vnd.jupyter.widget-view+json": {
       "model_id": "60c37579022d4e81961aff7b32bbd43c",
       "version_major": 2,
       "version_minor": 0
      },
      "text/plain": [
       "  0%|          | 0/77 [00:00<?, ?it/s]"
      ]
     },
     "metadata": {},
     "output_type": "display_data"
    },
    {
     "name": "stdout",
     "output_type": "stream",
     "text": [
      ">>> Perplexity: 21.12\n"
     ]
    }
   ],
   "source": [
    "import math\n",
    "\n",
    "eval_results = trainer.evaluate()\n",
    "\n",
    "print(f\">>> Perplexity: {math.exp(eval_results['eval_loss']):.2f}\")"
   ]
  },
  {
   "cell_type": "code",
   "execution_count": 20,
   "metadata": {},
   "outputs": [
    {
     "data": {
      "application/vnd.jupyter.widget-view+json": {
       "model_id": "732005a547b341a69a591b7febfdade2",
       "version_major": 2,
       "version_minor": 0
      },
      "text/plain": [
       "  0%|          | 0/6900 [00:00<?, ?it/s]"
      ]
     },
     "metadata": {},
     "output_type": "display_data"
    },
    {
     "name": "stdout",
     "output_type": "stream",
     "text": [
      "{'loss': 2.2393, 'learning_rate': 9.709375000000001e-05, 'epoch': 1.0}\n"
     ]
    },
    {
     "data": {
      "application/vnd.jupyter.widget-view+json": {
       "model_id": "06bf24785ec74548b4c2fd07194e461e",
       "version_major": 2,
       "version_minor": 0
      },
      "text/plain": [
       "  0%|          | 0/77 [00:00<?, ?it/s]"
      ]
     },
     "metadata": {},
     "output_type": "display_data"
    },
    {
     "name": "stdout",
     "output_type": "stream",
     "text": [
      "{'eval_loss': 1.9567559957504272, 'eval_runtime': 2.3055, 'eval_samples_per_second': 1063.551, 'eval_steps_per_second': 33.399, 'epoch': 1.0}\n",
      "{'loss': 1.9711, 'learning_rate': 8.6328125e-05, 'epoch': 2.0}\n"
     ]
    },
    {
     "data": {
      "application/vnd.jupyter.widget-view+json": {
       "model_id": "f281b34b926b4b70b515327fb289ec7f",
       "version_major": 2,
       "version_minor": 0
      },
      "text/plain": [
       "  0%|          | 0/77 [00:00<?, ?it/s]"
      ]
     },
     "metadata": {},
     "output_type": "display_data"
    },
    {
     "name": "stdout",
     "output_type": "stream",
     "text": [
      "{'eval_loss': 1.7907402515411377, 'eval_runtime': 2.338, 'eval_samples_per_second': 1048.775, 'eval_steps_per_second': 32.935, 'epoch': 2.0}\n",
      "{'loss': 1.8278, 'learning_rate': 7.55625e-05, 'epoch': 3.0}\n"
     ]
    },
    {
     "data": {
      "application/vnd.jupyter.widget-view+json": {
       "model_id": "9b7abe4ba5984ccf9f5a8cf3db000ab2",
       "version_major": 2,
       "version_minor": 0
      },
      "text/plain": [
       "  0%|          | 0/77 [00:00<?, ?it/s]"
      ]
     },
     "metadata": {},
     "output_type": "display_data"
    },
    {
     "name": "stdout",
     "output_type": "stream",
     "text": [
      "{'eval_loss': 1.7018787860870361, 'eval_runtime': 2.3116, 'eval_samples_per_second': 1060.741, 'eval_steps_per_second': 33.31, 'epoch': 3.0}\n",
      "{'loss': 1.7153, 'learning_rate': 6.479687500000001e-05, 'epoch': 3.99}\n"
     ]
    },
    {
     "data": {
      "application/vnd.jupyter.widget-view+json": {
       "model_id": "3a51419767c146d7800bd816e7e1695b",
       "version_major": 2,
       "version_minor": 0
      },
      "text/plain": [
       "  0%|          | 0/77 [00:00<?, ?it/s]"
      ]
     },
     "metadata": {},
     "output_type": "display_data"
    },
    {
     "name": "stdout",
     "output_type": "stream",
     "text": [
      "{'eval_loss': 1.6614524126052856, 'eval_runtime': 2.2803, 'eval_samples_per_second': 1075.278, 'eval_steps_per_second': 33.767, 'epoch': 4.0}\n",
      "{'loss': 1.6336, 'learning_rate': 5.403125e-05, 'epoch': 4.99}\n"
     ]
    },
    {
     "data": {
      "application/vnd.jupyter.widget-view+json": {
       "model_id": "e0993211849643dfa37291221345a8ce",
       "version_major": 2,
       "version_minor": 0
      },
      "text/plain": [
       "  0%|          | 0/77 [00:00<?, ?it/s]"
      ]
     },
     "metadata": {},
     "output_type": "display_data"
    },
    {
     "name": "stdout",
     "output_type": "stream",
     "text": [
      "{'eval_loss': 1.632625699043274, 'eval_runtime': 2.2671, 'eval_samples_per_second': 1081.543, 'eval_steps_per_second': 33.964, 'epoch': 5.0}\n",
      "{'loss': 1.5565, 'learning_rate': 4.3265625e-05, 'epoch': 5.99}\n"
     ]
    },
    {
     "data": {
      "application/vnd.jupyter.widget-view+json": {
       "model_id": "c2e013065af9467487c043f9d4659831",
       "version_major": 2,
       "version_minor": 0
      },
      "text/plain": [
       "  0%|          | 0/77 [00:00<?, ?it/s]"
      ]
     },
     "metadata": {},
     "output_type": "display_data"
    },
    {
     "name": "stdout",
     "output_type": "stream",
     "text": [
      "{'eval_loss': 1.5544445514678955, 'eval_runtime': 2.2671, 'eval_samples_per_second': 1081.546, 'eval_steps_per_second': 33.964, 'epoch': 6.0}\n",
      "{'loss': 1.4982, 'learning_rate': 3.2500000000000004e-05, 'epoch': 6.99}\n"
     ]
    },
    {
     "data": {
      "application/vnd.jupyter.widget-view+json": {
       "model_id": "036a819da3244a8aae89403fe25fcad6",
       "version_major": 2,
       "version_minor": 0
      },
      "text/plain": [
       "  0%|          | 0/77 [00:00<?, ?it/s]"
      ]
     },
     "metadata": {},
     "output_type": "display_data"
    },
    {
     "name": "stdout",
     "output_type": "stream",
     "text": [
      "{'eval_loss': 1.51703941822052, 'eval_runtime': 2.2672, 'eval_samples_per_second': 1081.491, 'eval_steps_per_second': 33.962, 'epoch': 7.0}\n",
      "{'loss': 1.4522, 'learning_rate': 2.1734375e-05, 'epoch': 7.99}\n"
     ]
    },
    {
     "data": {
      "application/vnd.jupyter.widget-view+json": {
       "model_id": "f32e57c507a24ee4827461fcb916fe7b",
       "version_major": 2,
       "version_minor": 0
      },
      "text/plain": [
       "  0%|          | 0/77 [00:00<?, ?it/s]"
      ]
     },
     "metadata": {},
     "output_type": "display_data"
    },
    {
     "name": "stdout",
     "output_type": "stream",
     "text": [
      "{'eval_loss': 1.478076457977295, 'eval_runtime': 2.2586, 'eval_samples_per_second': 1085.614, 'eval_steps_per_second': 34.091, 'epoch': 8.0}\n",
      "{'loss': 1.4022, 'learning_rate': 1.096875e-05, 'epoch': 8.99}\n"
     ]
    },
    {
     "data": {
      "application/vnd.jupyter.widget-view+json": {
       "model_id": "20806067476545959b85b705ae4bfbaf",
       "version_major": 2,
       "version_minor": 0
      },
      "text/plain": [
       "  0%|          | 0/77 [00:00<?, ?it/s]"
      ]
     },
     "metadata": {},
     "output_type": "display_data"
    },
    {
     "name": "stdout",
     "output_type": "stream",
     "text": [
      "{'eval_loss': 1.460636019706726, 'eval_runtime': 2.2765, 'eval_samples_per_second': 1077.11, 'eval_steps_per_second': 33.824, 'epoch': 9.0}\n",
      "{'loss': 1.378, 'learning_rate': 2.0312500000000001e-07, 'epoch': 9.99}\n"
     ]
    },
    {
     "data": {
      "application/vnd.jupyter.widget-view+json": {
       "model_id": "05d6336f2dc64ab6a3cc134a4e6a8ea7",
       "version_major": 2,
       "version_minor": 0
      },
      "text/plain": [
       "  0%|          | 0/77 [00:00<?, ?it/s]"
      ]
     },
     "metadata": {},
     "output_type": "display_data"
    },
    {
     "name": "stdout",
     "output_type": "stream",
     "text": [
      "{'eval_loss': 1.4589784145355225, 'eval_runtime': 2.2604, 'eval_samples_per_second': 1084.767, 'eval_steps_per_second': 34.065, 'epoch': 10.0}\n"
     ]
    },
    {
     "name": "stderr",
     "output_type": "stream",
     "text": [
      "There were missing keys in the checkpoint model loaded: ['vocab_projector.weight'].\n"
     ]
    },
    {
     "name": "stdout",
     "output_type": "stream",
     "text": [
      "{'train_runtime': 630.007, 'train_samples_per_second': 350.25, 'train_steps_per_second': 10.952, 'train_loss': 1.6669215357130853, 'epoch': 10.0}\n"
     ]
    },
    {
     "data": {
      "text/plain": [
       "TrainOutput(global_step=6900, training_loss=1.6669215357130853, metrics={'train_runtime': 630.007, 'train_samples_per_second': 350.25, 'train_steps_per_second': 10.952, 'train_loss': 1.6669215357130853, 'epoch': 10.0})"
      ]
     },
     "execution_count": 20,
     "metadata": {},
     "output_type": "execute_result"
    }
   ],
   "source": [
    "trainer.train()"
   ]
  },
  {
   "cell_type": "markdown",
   "metadata": {},
   "source": []
  },
  {
   "cell_type": "code",
   "execution_count": 21,
   "metadata": {},
   "outputs": [
    {
     "data": {
      "application/vnd.jupyter.widget-view+json": {
       "model_id": "44d0625f54ba4f348a6a9cb3029ee877",
       "version_major": 2,
       "version_minor": 0
      },
      "text/plain": [
       "  0%|          | 0/77 [00:00<?, ?it/s]"
      ]
     },
     "metadata": {},
     "output_type": "display_data"
    },
    {
     "name": "stdout",
     "output_type": "stream",
     "text": [
      ">>> Perplexity: 4.27\n"
     ]
    }
   ],
   "source": [
    "import math\n",
    "\n",
    "eval_results = trainer.evaluate()\n",
    "\n",
    "print(f\">>> Perplexity: {math.exp(eval_results['eval_loss']):.2f}\")"
   ]
  },
  {
   "cell_type": "code",
   "execution_count": 22,
   "metadata": {},
   "outputs": [],
   "source": [
    "import torch\n",
    "device = torch.device(\"cpu\" if torch.cuda.is_available() else \"cpu\")\n",
    "model.to(device)\n",
    "\n",
    "from transformers import pipeline\n",
    "\n",
    "mask_filler = pipeline(\"fill-mask\", model=trainer.model, tokenizer=tokenizer)"
   ]
  },
  {
   "cell_type": "code",
   "execution_count": 23,
   "metadata": {},
   "outputs": [
    {
     "name": "stdout",
     "output_type": "stream",
     "text": [
      ">>> i cancelled my plans.\n",
      ">>> i cancelled my trip.\n",
      ">>> i cancelled my tour.\n",
      ">>> i cancelled my visit.\n",
      ">>> i cancelled my vacation.\n"
     ]
    }
   ],
   "source": [
    "masked_sentence = \"I cancelled my [MASK].\"\n",
    "preds = mask_filler(masked_sentence)\n",
    "\n",
    "for pred in preds:\n",
    "    print(f\">>> {pred['sequence']}\")"
   ]
  },
  {
   "cell_type": "code",
   "execution_count": 24,
   "metadata": {},
   "outputs": [
    {
     "name": "stdout",
     "output_type": "stream",
     "text": [
      "Best model loaded from ../saved/results/full_model/results/checkpoint-6900\n"
     ]
    }
   ],
   "source": [
    "best_checkpoint = trainer.state.best_model_checkpoint\n",
    "print(f\"Best model loaded from {best_checkpoint}\")"
   ]
  },
  {
   "cell_type": "code",
   "execution_count": 25,
   "metadata": {},
   "outputs": [
    {
     "name": "stderr",
     "output_type": "stream",
     "text": [
      "Some weights of DistilBertForSequenceClassification were not initialized from the model checkpoint at ../saved/results/full_model/results/checkpoint-6900 and are newly initialized: ['classifier.weight', 'pre_classifier.bias', 'pre_classifier.weight', 'classifier.bias']\n",
      "You should probably TRAIN this model on a down-stream task to be able to use it for predictions and inference.\n"
     ]
    }
   ],
   "source": [
    "from transformers import DistilBertForSequenceClassification,DistilBertTokenizer\n",
    "\n",
    "tokenizer = AutoTokenizer.from_pretrained(best_checkpoint)\n",
    "model = AutoModelForMaskedLM.from_pretrained(best_checkpoint)\n",
    "model = DistilBertForSequenceClassification.from_pretrained(best_checkpoint, num_labels=3)"
   ]
  },
  {
   "cell_type": "code",
   "execution_count": 26,
   "metadata": {},
   "outputs": [
    {
     "name": "stderr",
     "output_type": "stream",
     "text": [
      "huggingface/tokenizers: The current process just got forked, after parallelism has already been used. Disabling parallelism to avoid deadlocks...\n",
      "To disable this warning, you can either:\n",
      "\t- Avoid using `tokenizers` before the fork if possible\n",
      "\t- Explicitly set the environment variable TOKENIZERS_PARALLELISM=(true | false)\n",
      "/home/guest/Desktop/projects/second-experiments/.venv/lib/python3.8/site-packages/accelerate/accelerator.py:446: FutureWarning: Passing the following arguments to `Accelerator` is deprecated and will be removed in version 1.0 of Accelerate: dict_keys(['dispatch_batches', 'split_batches']). Please pass an `accelerate.DataLoaderConfiguration` instead: \n",
      "dataloader_config = DataLoaderConfiguration(dispatch_batches=None, split_batches=False)\n",
      "  warnings.warn(\n"
     ]
    }
   ],
   "source": [
    "from transformers import TrainingArguments, Trainer, EvalPrediction, default_data_collator, EarlyStoppingCallback, get_cosine_schedule_with_warmup\n",
    "from adapters import AdapterTrainer\n",
    "\n",
    "eval_data = True\n",
    "eval_data = source_data_eval\n",
    "batch_size = 32\n",
    "\n",
    "logging_steps = len(source_data) // batch_size\n",
    "\n",
    "training_args = TrainingArguments(\n",
    "    output_dir=f\"{config.Config.RESULTS_SAVE_PATH}/full_model/results\",  # Where to store the output (checkpoints and predictions)\n",
    "    num_train_epochs=6,  # Total number of training epochs\n",
    "    per_device_train_batch_size=batch_size,  # Batch size for training\n",
    "    per_device_eval_batch_size=batch_size,  # Batch size for evaluation\n",
    "    warmup_steps=500,  # Number of warmup steps for learning rate scheduler\n",
    "    learning_rate=1e-4,\n",
    "    weight_decay=0.01,  # Strength of weight decay\n",
    "    logging_dir=f\"{config.Config.RESULTS_SAVE_PATH}/full_model/logs\",  # Directory for storing logs\n",
    "    logging_steps=logging_steps,  # Log every X updates steps\n",
    "    remove_unused_columns=False,\n",
    "    evaluation_strategy=\"steps\" if eval_data is not None else \"no\",  # Evaluate model every X steps\n",
    "    eval_steps=logging_steps,  # Number of steps to perform evaluation\n",
    "    save_steps=logging_steps,  # Save checkpoint every X steps\n",
    "    save_total_limit=2,  # Limit the total amount of checkpoints\n",
    "    load_best_model_at_end=True if eval_data is not None else False,  # Load the best model when finished training\n",
    "    report_to=\"none\"  # Do not report to any online service\n",
    ")\n",
    "\n",
    "# Adding Early Stopping\n",
    "callbacks = [EarlyStoppingCallback(early_stopping_patience=3)]\n",
    "\n",
    "trainer = Trainer(\n",
    "    model=model,  # The instantiated 🤗 Transformers model to be trained\n",
    "    args=training_args,  # Training arguments, defined above\n",
    "    train_dataset=source_data,  # Training dataset\n",
    "    eval_dataset=eval_data if eval_data is not None else None,\n",
    "    callbacks=callbacks\n",
    ")\n",
    "\n",
    "# Create the optimizer and scheduler\n",
    "trainer.create_optimizer_and_scheduler(num_training_steps=len(source_data) * training_args.num_train_epochs // batch_size)\n",
    "\n",
    "# Get the optimizer and replace its scheduler with the custom one\n",
    "optimizer = trainer.optimizer\n",
    "total_steps = len(source_data) * training_args.num_train_epochs // batch_size\n",
    "scheduler = get_cosine_schedule_with_warmup(optimizer, num_warmup_steps=training_args.warmup_steps, num_training_steps=total_steps)\n",
    "\n",
    "trainer.lr_scheduler = scheduler\n",
    "\n",
    "# Train the model\n",
    "# trainer.train()\n"
   ]
  },
  {
   "cell_type": "code",
   "execution_count": 27,
   "metadata": {},
   "outputs": [
    {
     "data": {
      "text/plain": [
       "14064"
      ]
     },
     "execution_count": 27,
     "metadata": {},
     "output_type": "execute_result"
    }
   ],
   "source": [
    "total_steps"
   ]
  },
  {
   "cell_type": "code",
   "execution_count": 28,
   "metadata": {},
   "outputs": [
    {
     "data": {
      "application/vnd.jupyter.widget-view+json": {
       "model_id": "ea0855a14f094f4fa4e5975da3b3e6de",
       "version_major": 2,
       "version_minor": 0
      },
      "text/plain": [
       "  0%|          | 0/14070 [00:00<?, ?it/s]"
      ]
     },
     "metadata": {},
     "output_type": "display_data"
    },
    {
     "name": "stdout",
     "output_type": "stream",
     "text": [
      "{'loss': 0.7658, 'learning_rate': 8.642593957258659e-05, 'epoch': 1.0}\n"
     ]
    },
    {
     "data": {
      "application/vnd.jupyter.widget-view+json": {
       "model_id": "d762d19f07a04922aea26bb3fc8d307b",
       "version_major": 2,
       "version_minor": 0
      },
      "text/plain": [
       "  0%|          | 0/242 [00:00<?, ?it/s]"
      ]
     },
     "metadata": {},
     "output_type": "display_data"
    },
    {
     "name": "stdout",
     "output_type": "stream",
     "text": [
      "{'eval_loss': 0.7482477426528931, 'eval_runtime': 7.253, 'eval_samples_per_second': 1066.46, 'eval_steps_per_second': 33.366, 'epoch': 1.0}\n",
      "{'loss': 0.5399, 'learning_rate': 6.915991156963891e-05, 'epoch': 2.0}\n"
     ]
    },
    {
     "data": {
      "application/vnd.jupyter.widget-view+json": {
       "model_id": "74442dd111024191abb44fef51db240b",
       "version_major": 2,
       "version_minor": 0
      },
      "text/plain": [
       "  0%|          | 0/242 [00:00<?, ?it/s]"
      ]
     },
     "metadata": {},
     "output_type": "display_data"
    },
    {
     "name": "stdout",
     "output_type": "stream",
     "text": [
      "{'eval_loss': 0.7132567167282104, 'eval_runtime': 7.2337, 'eval_samples_per_second': 1069.304, 'eval_steps_per_second': 33.455, 'epoch': 2.0}\n",
      "{'loss': 0.3699, 'learning_rate': 5.189388356669124e-05, 'epoch': 3.0}\n"
     ]
    },
    {
     "data": {
      "application/vnd.jupyter.widget-view+json": {
       "model_id": "91882775f7b941e6b4fca83cb43db4df",
       "version_major": 2,
       "version_minor": 0
      },
      "text/plain": [
       "  0%|          | 0/242 [00:00<?, ?it/s]"
      ]
     },
     "metadata": {},
     "output_type": "display_data"
    },
    {
     "name": "stdout",
     "output_type": "stream",
     "text": [
      "{'eval_loss': 0.8270351886749268, 'eval_runtime': 7.2449, 'eval_samples_per_second': 1067.653, 'eval_steps_per_second': 33.403, 'epoch': 3.0}\n",
      "{'loss': 0.2226, 'learning_rate': 3.4627855563743555e-05, 'epoch': 4.0}\n"
     ]
    },
    {
     "data": {
      "application/vnd.jupyter.widget-view+json": {
       "model_id": "f0e0e3f90810408eb09d250c1a187a35",
       "version_major": 2,
       "version_minor": 0
      },
      "text/plain": [
       "  0%|          | 0/242 [00:00<?, ?it/s]"
      ]
     },
     "metadata": {},
     "output_type": "display_data"
    },
    {
     "name": "stdout",
     "output_type": "stream",
     "text": [
      "{'eval_loss': 1.0716365575790405, 'eval_runtime': 7.2159, 'eval_samples_per_second': 1071.945, 'eval_steps_per_second': 33.537, 'epoch': 4.0}\n",
      "{'loss': 0.1272, 'learning_rate': 1.7369196757553426e-05, 'epoch': 5.0}\n"
     ]
    },
    {
     "data": {
      "application/vnd.jupyter.widget-view+json": {
       "model_id": "8c629c95b8614cb38ecf52e8c71cf1cd",
       "version_major": 2,
       "version_minor": 0
      },
      "text/plain": [
       "  0%|          | 0/242 [00:00<?, ?it/s]"
      ]
     },
     "metadata": {},
     "output_type": "display_data"
    },
    {
     "name": "stdout",
     "output_type": "stream",
     "text": [
      "{'eval_loss': 1.273061752319336, 'eval_runtime': 7.2523, 'eval_samples_per_second': 1066.551, 'eval_steps_per_second': 33.369, 'epoch': 5.0}\n",
      "{'train_runtime': 1393.4475, 'train_samples_per_second': 322.996, 'train_steps_per_second': 10.097, 'train_loss': 0.40508472585840843, 'epoch': 5.0}\n"
     ]
    },
    {
     "data": {
      "text/plain": [
       "TrainOutput(global_step=11720, training_loss=0.40508472585840843, metrics={'train_runtime': 1393.4475, 'train_samples_per_second': 322.996, 'train_steps_per_second': 10.097, 'train_loss': 0.40508472585840843, 'epoch': 5.0})"
      ]
     },
     "execution_count": 28,
     "metadata": {},
     "output_type": "execute_result"
    }
   ],
   "source": [
    "trainer.train()\n"
   ]
  },
  {
   "cell_type": "code",
   "execution_count": 29,
   "metadata": {},
   "outputs": [
    {
     "data": {
      "text/plain": [
       "Dataset({\n",
       "    features: ['labels', 'input_ids', 'attention_mask'],\n",
       "    num_rows: 1976\n",
       "})"
      ]
     },
     "execution_count": 29,
     "metadata": {},
     "output_type": "execute_result"
    }
   ],
   "source": [
    "test_target_data"
   ]
  },
  {
   "cell_type": "code",
   "execution_count": 30,
   "metadata": {},
   "outputs": [
    {
     "name": "stderr",
     "output_type": "stream",
     "text": [
      "huggingface/tokenizers: The current process just got forked, after parallelism has already been used. Disabling parallelism to avoid deadlocks...\n",
      "To disable this warning, you can either:\n",
      "\t- Avoid using `tokenizers` before the fork if possible\n",
      "\t- Explicitly set the environment variable TOKENIZERS_PARALLELISM=(true | false)\n",
      "/home/guest/Desktop/projects/second-experiments/.venv/lib/python3.8/site-packages/accelerate/accelerator.py:446: FutureWarning: Passing the following arguments to `Accelerator` is deprecated and will be removed in version 1.0 of Accelerate: dict_keys(['dispatch_batches', 'split_batches']). Please pass an `accelerate.DataLoaderConfiguration` instead: \n",
      "dataloader_config = DataLoaderConfiguration(dispatch_batches=None, split_batches=False)\n",
      "  warnings.warn(\n"
     ]
    },
    {
     "data": {
      "application/vnd.jupyter.widget-view+json": {
       "model_id": "89bf86a893f6413d978e56c3618eb2cb",
       "version_major": 2,
       "version_minor": 0
      },
      "text/plain": [
       "  0%|          | 0/247 [00:00<?, ?it/s]"
      ]
     },
     "metadata": {},
     "output_type": "display_data"
    },
    {
     "data": {
      "text/plain": [
       "{'eval_loss': 0.7214413285255432,\n",
       " 'eval_accuracy': 0.7105263157894737,\n",
       " 'eval_f1': 0.7129746152528041,\n",
       " 'eval_precision': 0.7339460111210847,\n",
       " 'eval_recall': 0.7105263157894737,\n",
       " 'eval_runtime': 4.069,\n",
       " 'eval_samples_per_second': 485.625,\n",
       " 'eval_steps_per_second': 60.703}"
      ]
     },
     "execution_count": 30,
     "metadata": {},
     "output_type": "execute_result"
    }
   ],
   "source": [
    "import numpy as np\n",
    "from transformers import EvalPrediction\n",
    "from sklearn.metrics import accuracy_score, f1_score,precision_recall_fscore_support\n",
    "\n",
    "\n",
    "def compute_metrics(pred:EvalPrediction):\n",
    "    labels = pred.label_ids\n",
    "    preds = pred.predictions.argmax(-1)\n",
    "    precision, recall, f1, _ = precision_recall_fscore_support(labels, preds, average='weighted')\n",
    "    acc = accuracy_score(labels, preds)\n",
    "    return {\n",
    "        'accuracy': acc,\n",
    "        'f1': f1,\n",
    "        'precision': precision,\n",
    "        'recall': recall\n",
    "    }\n",
    "eval_trainer = AdapterTrainer(\n",
    "    model=model,\n",
    "    args=TrainingArguments(output_dir=\"./eval_output\", remove_unused_columns=False,),\n",
    "    eval_dataset=test_target_data,\n",
    "    compute_metrics=compute_metrics,\n",
    ")\n",
    "eval_trainer.evaluate()"
   ]
  },
  {
   "cell_type": "code",
   "execution_count": 31,
   "metadata": {},
   "outputs": [
    {
     "data": {
      "image/png": "[encoded data removed]",
      "text/plain": [
       "<Figure size 1000x500 with 1 Axes>"
      ]
     },
     "metadata": {},
     "output_type": "display_data"
    }
   ],
   "source": [
    "import matplotlib.pyplot as plt\n",
    "\n",
    "# Sample log history from trainer.state.log_history\n",
    "log_history = trainer.state.log_history\n",
    "\n",
    "# Extract training and evaluation losses\n",
    "epochs = []\n",
    "training_losses = []\n",
    "evaluation_losses = []\n",
    "\n",
    "for record in log_history:\n",
    "    if \"loss\" in record and \"epoch\" in record:\n",
    "        epochs.append(record[\"epoch\"])\n",
    "        training_losses.append(record[\"loss\"])\n",
    "    if \"eval_loss\" in record and \"epoch\" in record:\n",
    "        evaluation_losses.append(record[\"eval_loss\"])\n",
    "\n",
    "# Plot the training and evaluation loss curves\n",
    "plt.figure(figsize=(10, 5))\n",
    "plt.plot(epochs, training_losses, 'b', label='Training Loss')\n",
    "plt.plot(epochs[:len(evaluation_losses)], evaluation_losses, 'r', label='Evaluation Loss')\n",
    "plt.xlabel('Epochs')\n",
    "plt.ylabel('Loss')\n",
    "plt.title('Training and Evaluation Loss over Epochs')\n",
    "plt.legend()\n",
    "plt.show()\n"
   ]
  },
  {
   "cell_type": "code",
   "execution_count": null,
   "metadata": {},
   "outputs": [],
   "source": []
  }
 ],
 "metadata": {
  "kernelspec": {
   "display_name": "intial-experments-_CPDD38x-py3.8",
   "language": "python",
   "name": "python3"
  },
  "language_info": {
   "codemirror_mode": {
    "name": "ipython",
    "version": 3
   },
   "file_extension": ".py",
   "mimetype": "text/x-python",
   "name": "python",
   "nbconvert_exporter": "python",
   "pygments_lexer": "ipython3",
   "version": "3.8.10"
  }
 },
 "nbformat": 4,
 "nbformat_minor": 2
}
