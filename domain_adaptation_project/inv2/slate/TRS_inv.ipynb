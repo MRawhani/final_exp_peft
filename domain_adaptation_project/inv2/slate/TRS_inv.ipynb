{
 "cells": [
  {
   "cell_type": "code",
   "execution_count": 1,
   "metadata": {},
   "outputs": [
    {
     "data": {
      "text/plain": [
       "0"
      ]
     },
     "execution_count": 1,
     "metadata": {},
     "output_type": "execute_result"
    }
   ],
   "source": [
    "\n",
    "import torch\n",
    "import gc   \n",
    "torch.cuda.empty_cache()\n",
    "gc.collect()\n"
   ]
  },
  {
   "cell_type": "code",
   "execution_count": 2,
   "metadata": {},
   "outputs": [
    {
     "name": "stdout",
     "output_type": "stream",
     "text": [
      "['/home/guest/Desktop/projects/fourth-expeiments/domain_adaptation_project/inv2/slate', '/usr/lib/python38.zip', '/usr/lib/python3.8', '/usr/lib/python3.8/lib-dynload', '', '/home/guest/.cache/pypoetry/virtualenvs/fourth-experments-OVNdUUAn-py3.8/lib/python3.8/site-packages', '/tmp/tmpntls7mr7', '/home/guest/Desktop/projects/fourth-expeiments/domain_adaptation_project/modules']\n"
     ]
    },
    {
     "name": "stderr",
     "output_type": "stream",
     "text": [
      "2024-07-07 09:45:50.479694: I tensorflow/core/util/port.cc:110] oneDNN custom operations are on. You may see slightly different numerical results due to floating-point round-off errors from different computation orders. To turn them off, set the environment variable `TF_ENABLE_ONEDNN_OPTS=0`.\n",
      "2024-07-07 09:45:50.653084: I tensorflow/core/platform/cpu_feature_guard.cc:182] This TensorFlow binary is optimized to use available CPU instructions in performance-critical operations.\n",
      "To enable the following instructions: AVX2 AVX512F AVX512_VNNI FMA, in other operations, rebuild TensorFlow with the appropriate compiler flags.\n",
      "2024-07-07 09:45:51.410567: W tensorflow/compiler/tf2tensorrt/utils/py_utils.cc:38] TF-TRT Warning: Could not find TensorRT\n"
     ]
    },
    {
     "name": "stdout",
     "output_type": "stream",
     "text": [
      "./text-files/\n",
      "./hp-model-\n"
     ]
    }
   ],
   "source": [
    "import os\n",
    "os.environ[\"TOKENIZERS_PARALLELISM\"] = \"false\"\n",
    "os.environ[\"OMP_NUM_THREADS\"] = \"1\"\n",
    "\n",
    "# Step 2: Import necessary libraries\n",
    "from typing import Optional, Dict, Any\n",
    "import os\n",
    "import torch\n",
    "import pytorch_lightning as pl\n",
    "import pandas as pd\n",
    "from transformers import AutoTokenizer\n",
    "from torch.utils.data import Dataset, DataLoader\n",
    "from rich.traceback import install\n",
    "from pytorch_lightning.loggers import WandbLogger\n",
    "import torch.nn as nn\n",
    "import torch.optim as optim\n",
    "from transformers import AutoConfig, get_cosine_schedule_with_warmup\n",
    "from adapters import AutoAdapterModel, AdapterConfig\n",
    "from adapters.composition import Stack\n",
    "from pytorch_lightning import seed_everything, Trainer\n",
    "from pytorch_lightning.callbacks import ModelCheckpoint, EarlyStopping\n",
    "import torchmetrics\n",
    "from sklearn.metrics import confusion_matrix, ConfusionMatrixDisplay\n",
    "from sklearn.manifold import TSNE\n",
    "import matplotlib.pyplot as plt\n",
    "import numpy as np\n",
    "\n",
    "install(show_locals=True)\n",
    "\n",
    "from setup import setup_src_path\n",
    "print(setup_src_path())\n",
    "import data.processed as processed\n",
    "import config.config as config\n",
    "import utils.setup as setup\n",
    "import utils.functions as fn\n",
    "from importlib import reload\n",
    "\n",
    "from datasets import load_from_disk\n",
    "\n",
    "print(config.Config.TXT_SAVE_PATH)\n",
    "print(config.Config.MODEL_SAVE_PATH)\n",
    "\n",
    "dataset = load_from_disk(f\"../{config.Config.DATASETS_SAVE_PATH}/datasets\")\n"
   ]
  },
  {
   "cell_type": "code",
   "execution_count": 3,
   "metadata": {},
   "outputs": [],
   "source": [
    "# Step 4: Define the DomainTaskAdapter class\n",
    "\n",
    "\n",
    "\n",
    "class DomainTaskAdapter(pl.LightningModule):\n",
    "    def __init__(self, hparams):\n",
    "        super(DomainTaskAdapter, self).__init__()\n",
    "        self.save_hyperparameters(hparams)\n",
    "        self.config = AutoConfig.from_pretrained(self.hparams[\"pretrained_model_name\"])\n",
    "        self.config.output_hidden_states = True\n",
    "        self.model = AutoAdapterModel.from_pretrained(self.hparams[\"pretrained_model_name\"], config=self.config)\n",
    "        \n",
    "        self.reduction_factor = self.hparams.get(\"reduction_factor\", 16)\n",
    "        if self.reduction_factor == \"None\":\n",
    "            self.reduction_factor = 16\n",
    "        self.leave_out = self.hparams.get(\"leave_out\", [])\n",
    "       \n",
    "        self.saved_adapter_dir = self.hparams[\"saved_adapter_dir\"]\n",
    "        self.domain_adapter_name = self.hparams[\"domain_adapter_name\"]\n",
    "        \n",
    "        adapter_config = AdapterConfig.load(\"seq_bn\")\n",
    "        \n",
    "        self.task_adapter_name = self.hparams[\"task_adapter_name\"]\n",
    "        #self.model.add_adapter(self.task_adapter_name, config=adapter_config)\n",
    "\n",
    "        self.model.load_adapter(f\"{self.saved_adapter_dir}/{self.domain_adapter_name}\", with_head=False)\n",
    "        self.model.add_classification_head(self.task_adapter_name, num_labels=self.hparams[\"num_classes\"])\n",
    "        self.model.active_adapters = self.domain_adapter_name\n",
    "\n",
    "        self.model.train_adapter(self.domain_adapter_name)\n",
    "        print(self.model.adapter_summary())\n",
    "        print(fn.print_trainable_parameters(self.model))\n",
    "\n",
    "        self.training_outputs = []\n",
    "        self.validation_outputs = []\n",
    "        self.test_outputs = []\n",
    "        self.criterion = nn.CrossEntropyLoss()\n",
    "        self.accuracy = torchmetrics.Accuracy(task='multiclass',                                           \n",
    "                                     num_classes=self.hparams[\"num_classes\"])\n",
    "        self.f1 = torchmetrics.F1Score(task='multiclass',num_classes=self.hparams[\"num_classes\"], average=\"weighted\")\n",
    "        self.softmax = nn.Softmax(dim=1)\n",
    "        self.entropy_values = []  # For entropy minimization\n",
    "    def forward(self, input_ids, attention_mask):\n",
    "        outputs = self.model(input_ids=input_ids, attention_mask=attention_mask)\n",
    "        return outputs.logits\n",
    "\n",
    "    def training_step(self, batch, batch_idx):\n",
    "        input_ids, attention_mask = batch[\"source_input_ids\"], batch[\"source_attention_mask\"]\n",
    "        labels = batch[\"label_source\"]\n",
    "        logits = self(input_ids=input_ids, attention_mask=attention_mask)\n",
    "        loss = self.criterion(logits, labels)\n",
    "        accuracy = self.accuracy(labels, torch.argmax(self.softmax(logits), dim=1))\n",
    "        f1 = self.f1(labels, torch.argmax(self.softmax(logits), dim=1))\n",
    "        # self.training_outputs.append({\n",
    "        #     \"train_loss\": loss,\n",
    "        #     \"train_accuracy\":accuracy,\n",
    "        #     \"train_f1\":f1,\n",
    "        #     })\n",
    "        self.log(\"train_loss\", loss)\n",
    "        self.log(\"train_accuracy\", accuracy)\n",
    "        self.log(\"train_f1\", f1)\n",
    "        \n",
    "        return loss\n",
    "   \n",
    "    def validation_step(self, batch, batch_idx):\n",
    "        \"\"\"validation step of DomainTaskAdapter\"\"\"\n",
    "        # get the input ids and attention mask for source data\n",
    "        input_ids, attention_mask = batch[\"source_input_ids\"], batch[\"source_attention_mask\"]\n",
    "        logits = self(input_ids=input_ids, attention_mask=attention_mask)\n",
    "        labels = batch[\"label_source\"]\n",
    "        source_loss = self.criterion(logits, labels)\n",
    "        source_accuracy = self.accuracy(labels, torch.argmax(self.softmax(logits), dim=1))\n",
    "        source_f1 = self.f1(labels, torch.argmax(self.softmax(logits), dim=1))\n",
    "\n",
    "\n",
    "        # get the input ids and attention mask for target data\n",
    "        input_ids, attention_mask = batch[\"target_input_ids\"], batch[\"target_attention_mask\"]\n",
    "        logits  = self(input_ids=input_ids, attention_mask=attention_mask)\n",
    "        labels = batch[\"label_target\"]\n",
    "        target_loss = self.criterion(logits, labels)\n",
    "        target_accuracy = self.accuracy(labels, torch.argmax(self.softmax(logits), dim=1))\n",
    "        target_f1 = self.f1(labels, torch.argmax(self.softmax(logits), dim=1))\n",
    "        # # Entropy minimization - calculate and log entropy\n",
    "        # probs = self.softmax(logits).cpu().numpy()\n",
    "        # entropy = -np.sum(probs * np.log(probs + 1e-10), axis=1)\n",
    "        # avg_entropy = np.mean(entropy)\n",
    "        # self.entropy_values.append(avg_entropy)\n",
    "     \n",
    "        # this will log the mean div value across epoch\n",
    "        self.log(name=\"source_val/loss\", value=source_loss, prog_bar=True, logger=True)\n",
    "        self.log(name=\"source_val/accuracy\", value=source_accuracy, prog_bar=True, logger=True)\n",
    "        self.log(name=\"source_val/f1\", value=source_f1, prog_bar=True, logger=True)\n",
    "        self.log(name=\"target_val/loss\", value=target_loss, prog_bar=True, logger=True)\n",
    "        self.log(name=\"target_val/accuracy\", value=target_accuracy, prog_bar=True, logger=True)\n",
    "        self.log(name=\"target_val/f1\", value=target_f1, prog_bar=True, logger=True)\n",
    "        \n",
    "        self.validation_outputs.append({\n",
    "            \"source_val/loss\": source_loss,\n",
    "            \"source_val/accuracy\": source_accuracy,\n",
    "            \"source_val/f1\": source_f1,\n",
    "            \"target_val/loss\": target_loss,\n",
    "            \"target_val/accuracy\": target_accuracy,\n",
    "            \"target_val/f1\": target_f1,\n",
    "            # \"features\": target_features.cpu(),  # Collect features for t-SNE\n",
    "            # \"logits\": logits.cpu(),  # Collect logits for confusion matrix\n",
    "            # \"labels\": labels.cpu()  # Collect labels for confusion matrix   \n",
    "                })\n",
    "        return {\n",
    "            \"source_val/loss\": source_loss,\n",
    "            \"source_val/accuracy\": source_accuracy,\n",
    "            \"source_val/f1\": source_f1,\n",
    "            \"target_val/loss\": target_loss,\n",
    "            \"target_val/accuracy\": target_accuracy,\n",
    "            \"target_val/f1\": target_f1,\n",
    "            # \"features\": target_features.cpu(),  # Collect features for t-SNE\n",
    "            # \"logits\": logits.cpu(),  # Collect logits for confusion matrix\n",
    "            # \"labels\": labels.cpu()  # Collect labels for confusion matrix   \n",
    "                            }\n",
    "    def on_validation_epoch_start(self):\n",
    "        self.validation_outputs = []\n",
    "    \n",
    "    def on_validation_epoch_end(self):\n",
    "        try:\n",
    "            outputs= self.validation_outputs\n",
    "            mean_source_loss = torch.stack([x[\"source_val/loss\"] for x in outputs]).mean()\n",
    "            mean_source_accuracy = torch.stack([x[\"source_val/accuracy\"] for x in outputs]).mean()\n",
    "            mean_source_f1 = torch.stack([x[\"source_val/f1\"] for x in outputs]).mean()\n",
    "\n",
    "            mean_target_loss = torch.stack([x[\"target_val/loss\"] for x in outputs]).mean()\n",
    "            mean_target_accuracy = torch.stack([x[\"target_val/accuracy\"] for x in outputs]).mean()\n",
    "            mean_target_f1 = torch.stack([x[\"target_val/f1\"] for x in outputs]).mean()\n",
    "            print(f\"target_val/loss: {mean_target_loss}\")\n",
    "            print(f\"target_val/accuracy: {mean_target_accuracy}\")\n",
    "            print(f\"target_val/f1: {mean_target_f1}\")\n",
    "            print(f\"source_val/loss: {mean_source_loss}\")\n",
    "            print(f\"source_val/accuracy: {mean_source_accuracy}\")\n",
    "            print(f\"source_val/f1: {mean_source_f1}\")\n",
    "\n",
    "            self.log(name=\"source_val/loss\", value=mean_source_loss, prog_bar=True, logger=True)\n",
    "            self.log(name=\"source_val/accuracy\", value=mean_source_accuracy, prog_bar=True, logger=True)\n",
    "            self.log(name=\"target_val/loss\", value=mean_target_loss, prog_bar=True, logger=True)\n",
    "            self.log(name=\"target_val/accuracy\", value=mean_target_accuracy, prog_bar=True, logger=True)\n",
    "            self.log(name=\"target_val/f1\", value=mean_target_f1, prog_bar=True, logger=True)\n",
    "            self.log(name=\"source_val/f1\", value=mean_source_f1, prog_bar=True, logger=True)\n",
    "        \n",
    "        \n",
    "            self.log(\"val_loss\", mean_source_loss)\n",
    "            # Generate and log visualizations\n",
    "            # if hasattr(self.trainer, 'current_epoch'):\n",
    "            #     self.plot_tsne(outputs, epoch=self.trainer.current_epoch, phase='validation')\n",
    "            #     self.plot_confusion_matrix(outputs, phase='validation')\n",
    "        except Exception as e:\n",
    "            print(f\"Error during on_validation_epoch_end: {e}\")\n",
    "            raise\n",
    "\n",
    "    def test_step(self, batch, batch_idx):\n",
    "        \"\"\"validation step of DomainTaskAdapter\"\"\"\n",
    "        # get the input ids and attention mask for source data\n",
    "        input_ids, attention_mask = batch[\"source_input_ids\"], batch[\"source_attention_mask\"]\n",
    "        logits  = self(input_ids=input_ids, attention_mask=attention_mask)\n",
    "        labels = batch[\"label_source\"]\n",
    "        source_loss = self.criterion(logits, labels)\n",
    "        source_accuracy = self.accuracy(labels, torch.argmax(self.softmax(logits), dim=1))\n",
    "        source_f1 = self.f1(labels, torch.argmax(self.softmax(logits), dim=1))\n",
    "\n",
    "        # get the input ids and attention mask for target data\n",
    "        input_ids, attention_mask = batch[\"target_input_ids\"], batch[\"target_attention_mask\"]\n",
    "        logits = self(input_ids=input_ids, attention_mask=attention_mask)\n",
    "        labels = batch[\"label_target\"]\n",
    "        target_loss = self.criterion(logits, labels)\n",
    "        target_accuracy = self.accuracy(labels, torch.argmax(self.softmax(logits), dim=1))\n",
    "        target_f1 = self.f1(labels, torch.argmax(self.softmax(logits), dim=1))\n",
    "\n",
    "       \n",
    "\n",
    "        self.log(name=\"source_test/loss\", value=source_loss, logger=True)\n",
    "        self.log(name=\"source_test/accuracy\", value=source_accuracy, logger=True)\n",
    "        self.log(name=\"source_test/f1\", value=source_f1, logger=True)\n",
    "        self.log(name=\"target_test/loss\", value=target_loss, logger=True)\n",
    "        self.log(name=\"target_test/accuracy\", value=target_accuracy, logger=True)\n",
    "        self.log(name=\"target_test/f1\", value=target_f1, logger=True)\n",
    "        \n",
    "        self.test_outputs.append({\n",
    "            \"source_test/loss\": source_loss,\n",
    "            \"source_test/accuracy\": source_accuracy,\n",
    "            \"source_test/f1\": source_f1,\n",
    "            \"target_test/loss\": target_loss,\n",
    "            \"target_test/accuracy\": target_accuracy,\n",
    "            \"target_test/f1\": target_f1,\n",
    "            # \"features\": target_features.cpu(),  # Collect features for t-SNE\n",
    "            # \"logits\": logits.cpu(),  # Collect logits for confusion matrix\n",
    "            # \"labels\": labels.cpu()  # Collect labels for confusion matrix   \n",
    "        })\n",
    "        return {\n",
    "            \"source_test/loss\": source_loss,\n",
    "            \"source_test/accuracy\": source_accuracy,\n",
    "            \"source_test/f1\": source_f1,\n",
    "            \"target_test/loss\": target_loss,\n",
    "            \"target_test/accuracy\": target_accuracy,\n",
    "            \"target_test/f1\": target_f1,\n",
    "            # \"features\": target_features.cpu(),  # Collect features for t-SNE\n",
    "            # \"logits\": logits.cpu(),  # Collect logits for confusion matrix\n",
    "            # \"labels\": labels.cpu()  # Collect labels for confusion matrix   \n",
    "        }\n",
    "    def on_test_epoch_start(self):\n",
    "        self.test_outputs = []\n",
    "    def on_test_epoch_end(self):\n",
    "        try:\n",
    "            outputs=  self.test_outputs\n",
    "            mean_source_loss = torch.stack([x[\"source_test/loss\"] for x in outputs]).mean()\n",
    "            mean_source_accuracy = torch.stack([x[\"source_test/accuracy\"] for x in outputs]).mean()\n",
    "            mean_source_f1 = torch.stack([x[\"source_test/f1\"] for x in outputs]).mean()\n",
    "\n",
    "            mean_target_loss = torch.stack([x[\"target_test/loss\"] for x in outputs]).mean()\n",
    "            mean_target_accuracy = torch.stack([x[\"target_test/accuracy\"] for x in outputs]).mean()\n",
    "            mean_target_f1 = torch.stack([x[\"target_test/f1\"] for x in outputs]).mean()\n",
    "\n",
    "            self.log(name=\"source_test/loss\", value=mean_source_loss)\n",
    "            self.log(name=\"source_test/accuracy\", value=mean_source_accuracy)\n",
    "            self.log(name=\"source_test/f1\", value=mean_source_f1)\n",
    "            self.log(name=\"target_test/loss\", value=mean_target_loss)\n",
    "            self.log(name=\"target_test/accuracy\", value=mean_target_accuracy)\n",
    "            self.log(name=\"target_test/f1\", value=mean_target_f1)\n",
    "\n",
    "            # # Generate and log visualizations\n",
    "            # if hasattr(self.trainer, 'current_epoch'):\n",
    "            #     self.plot_tsne(outputs, epoch=self.trainer.current_epoch, phase='test')\n",
    "            #     self.plot_confusion_matrix(outputs, phase='test')\n",
    "        except Exception as e:\n",
    "            print(f\"Error during on_test_epoch_end: {e}\")\n",
    "            raise\n",
    "    def save_adapter(self, location, adapter_name):\n",
    "        self.model.save_adapter(location, adapter_name)\n",
    "    def configure_optimizers(self):\n",
    "        optimizer = optim.AdamW(self.parameters(), lr=self.hparams[\"learning_rate\"])\n",
    "        lr_scheduler = {\n",
    "            'scheduler': optim.lr_scheduler.ReduceLROnPlateau(optimizer, mode='min', factor=0.1, patience=2, threshold=0.0001, cooldown=0, min_lr=1e-8),\n",
    "            'monitor': 'val_loss'\n",
    "        }\n",
    "        return [optimizer], [lr_scheduler]\n",
    "    def plot_tsne(self, outputs, epoch, phase):\n",
    "        try:\n",
    "            features = []\n",
    "            labels = []\n",
    "            for output in outputs:\n",
    "                features.extend(output[\"features\"].numpy())  # Use target features\n",
    "                labels.extend(output[\"labels\"].numpy())  # Use target labels\n",
    "\n",
    "            features = np.array(features)\n",
    "            labels = np.array(labels)\n",
    "            print(f\"Features shape: {features.shape}\")\n",
    "            print(f\"Labels shape: {labels.shape}\")\n",
    "\n",
    "            # Flatten features if necessary\n",
    "            if features.ndim > 2:\n",
    "                features = features.reshape(features.shape[0], -1)\n",
    "                print(f\"Flattened features shape: {features.shape}\")\n",
    "\n",
    "            tsne = TSNE(n_components=2)\n",
    "            tsne_results = tsne.fit_transform(features)\n",
    "            plt.figure(figsize=(10, 6))\n",
    "            for i in range(self.hparams[\"num_classes\"]):\n",
    "                idxs = np.where(labels == i)\n",
    "                plt.scatter(tsne_results[idxs, 0], tsne_results[idxs, 1], label=f'Class {i}')\n",
    "            plt.legend()\n",
    "            plt.title(f't-SNE plot {phase} Epoch {epoch}')\n",
    "            plt.show()  # Display the plot inline\n",
    "        except Exception as e:\n",
    "            print(f\"Error during t-SNE plotting: {e}\")\n",
    "            raise\n",
    "\n",
    "    def plot_confusion_matrix(self, outputs, phase):\n",
    "        try:\n",
    "            y_true = []\n",
    "            y_pred = []\n",
    "            for output in outputs:\n",
    "                y_true.extend(output[\"labels\"].numpy())  # Use target labels\n",
    "                y_pred.extend(torch.argmax(output[\"logits\"], dim=1).numpy())  # Use predicted labels from logits\n",
    "\n",
    "            y_true = np.array(y_true)\n",
    "            y_pred = np.array(y_pred)\n",
    "            print(f\"y_true shape: {y_true.shape}\")\n",
    "            print(f\"y_pred shape: {y_pred.shape}\")\n",
    "\n",
    "            cm = confusion_matrix(y_true, y_pred)\n",
    "            disp = ConfusionMatrixDisplay(confusion_matrix=cm)\n",
    "            disp.plot()\n",
    "            plt.title(f'Confusion Matrix {phase}')\n",
    "            plt.show()  # Display the plot inline\n",
    "        except Exception as e:\n",
    "            print(f\"Error during confusion matrix plotting: {e}\")\n",
    "            raise"
   ]
  },
  {
   "cell_type": "code",
   "execution_count": 4,
   "metadata": {},
   "outputs": [
    {
     "name": "stderr",
     "output_type": "stream",
     "text": [
      "Failed to detect the name of this notebook, you can set it manually with the WANDB_NOTEBOOK_NAME environment variable to enable code saving.\n",
      "\u001b[34m\u001b[1mwandb\u001b[0m: Currently logged in as: \u001b[33mmrawhani5\u001b[0m (\u001b[33mmrawhani\u001b[0m). Use \u001b[1m`wandb login --relogin`\u001b[0m to force relogin\n"
     ]
    }
   ],
   "source": [
    "# Step 5: Training and Evaluation Loop with Wandb logging\n",
    "import wandb\n",
    "wandb.login()\n",
    "# Wandb setup and training loop\n",
    "seeds = [42,10,100]  # List of seeds\n",
    "project_name = 'ablations'  # Replace with your wandb project name\n",
    "domain = 'TRS'  # Replace with the specific domain for this notebook\n",
    "type = 'inv'  # Replace with the specific type for this notebook\n",
    "domain_aprev ='TRS'\n",
    "\n",
    "# Initialize results dictionary\n",
    "results = {\n",
    "    \"last_epoch\": {\n",
    "        \n",
    "        \"source_test/loss\": [],\n",
    "        \"source_test/accuracy\": [],\n",
    "        \"source_test/f1\": [],\n",
    "        \"target_test/loss\": [],\n",
    "        \"target_test/accuracy\": [],\n",
    "        \"target_test/f1\": [],\n",
    "    },\n",
    "    \"best_model\": {\n",
    "        \n",
    "        \"source_test/loss\": [],\n",
    "        \"source_test/accuracy\": [],\n",
    "        \"source_test/f1\": [],\n",
    "        \"target_test/loss\": [],\n",
    "        \"target_test/accuracy\": [],\n",
    "        \"target_test/f1\": [],\n",
    "    },\n",
    "    \"epoch_saved\": {\n",
    "        \n",
    "        \"source_test/loss\": [],\n",
    "        \"source_test/accuracy\": [],\n",
    "        \"source_test/f1\": [],\n",
    "        \"target_test/loss\": [],\n",
    "        \"target_test/accuracy\": [],\n",
    "        \"target_test/f1\": [],\n",
    "    }\n",
    "}\n",
    "\n",
    "best_val_loss = float('inf')\n",
    "best_model = None\n",
    "best_model_path = \"\"\n"
   ]
  },
  {
   "cell_type": "code",
   "execution_count": 5,
   "metadata": {},
   "outputs": [
    {
     "data": {
      "text/html": [
       "wandb version 0.17.4 is available!  To upgrade, please run:\n",
       " $ pip install wandb --upgrade"
      ],
      "text/plain": [
       "<IPython.core.display.HTML object>"
      ]
     },
     "metadata": {},
     "output_type": "display_data"
    },
    {
     "data": {
      "text/html": [
       "Tracking run with wandb version 0.17.0"
      ],
      "text/plain": [
       "<IPython.core.display.HTML object>"
      ]
     },
     "metadata": {},
     "output_type": "display_data"
    },
    {
     "data": {
      "text/html": [
       "Run data is saved locally in <code>/home/guest/Desktop/projects/fourth-expeiments/domain_adaptation_project/inv2/slate/wandb/run-20240707_094553-01l7yyt7</code>"
      ],
      "text/plain": [
       "<IPython.core.display.HTML object>"
      ]
     },
     "metadata": {},
     "output_type": "display_data"
    },
    {
     "data": {
      "text/html": [
       "Syncing run <strong><a href='https://wandb.ai/mrawhani/ablations/runs/01l7yyt7' target=\"_blank\">TRS_inv_run_with_seed_42</a></strong> to <a href='https://wandb.ai/mrawhani/ablations' target=\"_blank\">Weights & Biases</a> (<a href='https://wandb.me/run' target=\"_blank\">docs</a>)<br/>"
      ],
      "text/plain": [
       "<IPython.core.display.HTML object>"
      ]
     },
     "metadata": {},
     "output_type": "display_data"
    },
    {
     "data": {
      "text/html": [
       " View project at <a href='https://wandb.ai/mrawhani/ablations' target=\"_blank\">https://wandb.ai/mrawhani/ablations</a>"
      ],
      "text/plain": [
       "<IPython.core.display.HTML object>"
      ]
     },
     "metadata": {},
     "output_type": "display_data"
    },
    {
     "data": {
      "text/html": [
       " View run at <a href='https://wandb.ai/mrawhani/ablations/runs/01l7yyt7' target=\"_blank\">https://wandb.ai/mrawhani/ablations/runs/01l7yyt7</a>"
      ],
      "text/plain": [
       "<IPython.core.display.HTML object>"
      ]
     },
     "metadata": {},
     "output_type": "display_data"
    },
    {
     "name": "stderr",
     "output_type": "stream",
     "text": [
      "Seed set to 42\n",
      "/home/guest/.cache/pypoetry/virtualenvs/fourth-experments-OVNdUUAn-py3.8/lib/python3.8/site-packages/huggingface_hub/file_download.py:1132: FutureWarning: `resume_download` is deprecated and will be removed in version 1.0.0. Downloads always resume when possible. If you want to force a new download, use `force_download=True`.\n",
      "  warnings.warn(\n"
     ]
    },
    {
     "name": "stdout",
     "output_type": "stream",
     "text": [
      "prinssst: travel\n",
      "print: slate\n",
      "print: 69575\n",
      "prinssst: travel\n",
      "print: slate\n",
      "print: 69575\n"
     ]
    },
    {
     "name": "stderr",
     "output_type": "stream",
     "text": [
      "Some weights of BertAdapterModel were not initialized from the model checkpoint at bert-base-uncased and are newly initialized: ['heads.default.3.bias']\n",
      "You should probably TRAIN this model on a down-stream task to be able to use it for predictions and inference.\n",
      "/home/guest/.cache/pypoetry/virtualenvs/fourth-experments-OVNdUUAn-py3.8/lib/python3.8/site-packages/torch/utils/data/dataloader.py:558: UserWarning: This DataLoader will create 16 worker processes in total. Our suggested max number of worker in current system is 12, which is smaller than what this DataLoader is going to create. Please be aware that excessive worker creation might get DataLoader running slow or even freeze, lower the worker number to avoid potential slowness/freeze if necessary.\n",
      "  warnings.warn(_create_warning_msg(\n",
      "GPU available: True (cuda), used: True\n",
      "TPU available: False, using: 0 TPU cores\n",
      "IPU available: False, using: 0 IPUs\n",
      "HPU available: False, using: 0 HPUs\n",
      "`Trainer(limit_train_batches=1.0)` was configured so 100% of the batches per epoch will be used..\n",
      "`Trainer(limit_val_batches=1.0)` was configured so 100% of the batches will be used..\n",
      "`Trainer(limit_test_batches=1.0)` was configured so 100% of the batches will be used..\n",
      "/home/guest/.cache/pypoetry/virtualenvs/fourth-experments-OVNdUUAn-py3.8/lib/python3.8/site-packages/pytorch_lightning/loggers/wandb.py:396: There is a wandb run already in progress and newly created instances of `WandbLogger` will reuse this run. If this is not desired, call `wandb.finish()` before instantiating `WandbLogger`.\n",
      "LOCAL_RANK: 0 - CUDA_VISIBLE_DEVICES: [0]\n"
     ]
    },
    {
     "name": "stdout",
     "output_type": "stream",
     "text": [
      "================================================================================\n",
      "Name                     Architecture         #Param      %Param  Active   Train\n",
      "--------------------------------------------------------------------------------\n",
      "mlm_inv_S                bottleneck        7,387,776       6.748       1       1\n",
      "--------------------------------------------------------------------------------\n",
      "Full model                               109,482,240     100.000               0\n",
      "================================================================================\n",
      "trainable params: 8603325 || all params: 118085565 || trainable%: 7.285670352680279\n",
      "None\n"
     ]
    },
    {
     "name": "stderr",
     "output_type": "stream",
     "text": [
      "\n",
      "  | Name      | Type               | Params\n",
      "-------------------------------------------------\n",
      "0 | model     | BertAdapterModel   | 118 M \n",
      "1 | criterion | CrossEntropyLoss   | 0     \n",
      "2 | accuracy  | MulticlassAccuracy | 0     \n",
      "3 | f1        | MulticlassF1Score  | 0     \n",
      "4 | softmax   | Softmax            | 0     \n",
      "-------------------------------------------------\n",
      "8.6 M     Trainable params\n",
      "109 M     Non-trainable params\n",
      "118 M     Total params\n",
      "472.342   Total estimated model params size (MB)\n"
     ]
    },
    {
     "data": {
      "application/vnd.jupyter.widget-view+json": {
       "model_id": "8cfb77c48ac34de889fd2bcff1eca224",
       "version_major": 2,
       "version_minor": 0
      },
      "text/plain": [
       "Sanity Checking: |          | 0/? [00:00<?, ?it/s]"
      ]
     },
     "metadata": {},
     "output_type": "display_data"
    },
    {
     "name": "stdout",
     "output_type": "stream",
     "text": [
      "target_val/loss: 1.1009232997894287\n",
      "target_val/accuracy: 0.34375\n",
      "target_val/f1: 0.3975796699523926\n",
      "source_val/loss: 1.1059770584106445\n",
      "source_val/accuracy: 0.3125\n",
      "source_val/f1: 0.30754369497299194\n"
     ]
    },
    {
     "data": {
      "application/vnd.jupyter.widget-view+json": {
       "model_id": "00f99ba8eb194512b0662886582f7a12",
       "version_major": 2,
       "version_minor": 0
      },
      "text/plain": [
       "Training: |          | 0/? [00:00<?, ?it/s]"
      ]
     },
     "metadata": {},
     "output_type": "display_data"
    },
    {
     "data": {
      "application/vnd.jupyter.widget-view+json": {
       "model_id": "632805d2bd1a459ba42be14d36a553e6",
       "version_major": 2,
       "version_minor": 0
      },
      "text/plain": [
       "Validation: |          | 0/? [00:00<?, ?it/s]"
      ]
     },
     "metadata": {},
     "output_type": "display_data"
    },
    {
     "name": "stdout",
     "output_type": "stream",
     "text": [
      "target_val/loss: 0.7013813853263855\n",
      "target_val/accuracy: 0.7062105536460876\n",
      "target_val/f1: 0.7056020498275757\n",
      "source_val/loss: 0.5622442960739136\n",
      "source_val/accuracy: 0.7787489295005798\n",
      "source_val/f1: 0.7779839038848877\n"
     ]
    },
    {
     "data": {
      "application/vnd.jupyter.widget-view+json": {
       "model_id": "fbc4628beb72402da0f20f1181076e94",
       "version_major": 2,
       "version_minor": 0
      },
      "text/plain": [
       "Validation: |          | 0/? [00:00<?, ?it/s]"
      ]
     },
     "metadata": {},
     "output_type": "display_data"
    },
    {
     "name": "stdout",
     "output_type": "stream",
     "text": [
      "target_val/loss: 0.6614435911178589\n",
      "target_val/accuracy: 0.7313506007194519\n",
      "target_val/f1: 0.7311590313911438\n",
      "source_val/loss: 0.5256842374801636\n",
      "source_val/accuracy: 0.796698272228241\n",
      "source_val/f1: 0.796146810054779\n"
     ]
    },
    {
     "data": {
      "application/vnd.jupyter.widget-view+json": {
       "model_id": "838ee34fe3b745d2bc6171c2be40b360",
       "version_major": 2,
       "version_minor": 0
      },
      "text/plain": [
       "Validation: |          | 0/? [00:00<?, ?it/s]"
      ]
     },
     "metadata": {},
     "output_type": "display_data"
    },
    {
     "name": "stdout",
     "output_type": "stream",
     "text": [
      "target_val/loss: 0.6721219420433044\n",
      "target_val/accuracy: 0.7397848963737488\n",
      "target_val/f1: 0.7403179407119751\n",
      "source_val/loss: 0.5103457570075989\n",
      "source_val/accuracy: 0.8090949654579163\n",
      "source_val/f1: 0.809332549571991\n"
     ]
    },
    {
     "data": {
      "application/vnd.jupyter.widget-view+json": {
       "model_id": "d76cdda3ed7a43c69f2941eb0b78a343",
       "version_major": 2,
       "version_minor": 0
      },
      "text/plain": [
       "Validation: |          | 0/? [00:00<?, ?it/s]"
      ]
     },
     "metadata": {},
     "output_type": "display_data"
    },
    {
     "name": "stdout",
     "output_type": "stream",
     "text": [
      "target_val/loss: 0.7287922501564026\n",
      "target_val/accuracy: 0.7312553524971008\n",
      "target_val/f1: 0.7354944348335266\n",
      "source_val/loss: 0.5487858653068542\n",
      "source_val/accuracy: 0.8009188771247864\n",
      "source_val/f1: 0.8030893206596375\n"
     ]
    },
    {
     "data": {
      "application/vnd.jupyter.widget-view+json": {
       "model_id": "daee1115c97540adb960a3e6ea6997c4",
       "version_major": 2,
       "version_minor": 0
      },
      "text/plain": [
       "Validation: |          | 0/? [00:00<?, ?it/s]"
      ]
     },
     "metadata": {},
     "output_type": "display_data"
    },
    {
     "name": "stderr",
     "output_type": "stream",
     "text": [
      "`Trainer.fit` stopped: `max_epochs=5` reached.\n"
     ]
    },
    {
     "name": "stdout",
     "output_type": "stream",
     "text": [
      "target_val/loss: 0.7893710732460022\n",
      "target_val/accuracy: 0.7351361513137817\n",
      "target_val/f1: 0.7376084327697754\n",
      "source_val/loss: 0.5968348383903503\n",
      "source_val/accuracy: 0.8013877868652344\n",
      "source_val/f1: 0.8029177188873291\n",
      "Best checkpoint path: ./lightning_logs/01l7yyt7/checkpoints/task-TRS-epoch=02-val_loss=0.51.ckpt\n",
      "Saved epoch checkpoint path: ./lightning_logs/01l7yyt7/checkpoints/TRS-epoch=02.ckpt\n"
     ]
    },
    {
     "name": "stderr",
     "output_type": "stream",
     "text": [
      "LOCAL_RANK: 0 - CUDA_VISIBLE_DEVICES: [0]\n"
     ]
    },
    {
     "name": "stdout",
     "output_type": "stream",
     "text": [
      "prinssst: travel\n",
      "print: slate\n",
      "print: 69575\n"
     ]
    },
    {
     "data": {
      "application/vnd.jupyter.widget-view+json": {
       "model_id": "db437a75512c4f878021a577d645d179",
       "version_major": 2,
       "version_minor": 0
      },
      "text/plain": [
       "Testing: |          | 0/? [00:00<?, ?it/s]"
      ]
     },
     "metadata": {},
     "output_type": "display_data"
    },
    {
     "data": {
      "text/html": [
       "<pre style=\"white-space:pre;overflow-x:auto;line-height:normal;font-family:Menlo,'DejaVu Sans Mono',consolas,'Courier New',monospace\">┏━━━━━━━━━━━━━━━━━━━━━━━━━━━┳━━━━━━━━━━━━━━━━━━━━━━━━━━━┓\n",
       "┃<span style=\"font-weight: bold\">        Test metric        </span>┃<span style=\"font-weight: bold\">       DataLoader 0        </span>┃\n",
       "┡━━━━━━━━━━━━━━━━━━━━━━━━━━━╇━━━━━━━━━━━━━━━━━━━━━━━━━━━┩\n",
       "│<span style=\"color: #008080; text-decoration-color: #008080\">   source_test/accuracy    </span>│<span style=\"color: #800080; text-decoration-color: #800080\">    0.8150201439857483     </span>│\n",
       "│<span style=\"color: #008080; text-decoration-color: #008080\">      source_test/f1       </span>│<span style=\"color: #800080; text-decoration-color: #800080\">    0.8162740468978882     </span>│\n",
       "│<span style=\"color: #008080; text-decoration-color: #008080\">     source_test/loss      </span>│<span style=\"color: #800080; text-decoration-color: #800080\">     0.535061776638031     </span>│\n",
       "│<span style=\"color: #008080; text-decoration-color: #008080\">   target_test/accuracy    </span>│<span style=\"color: #800080; text-decoration-color: #800080\">    0.7338709235191345     </span>│\n",
       "│<span style=\"color: #008080; text-decoration-color: #008080\">      target_test/f1       </span>│<span style=\"color: #800080; text-decoration-color: #800080\">    0.7368236780166626     </span>│\n",
       "│<span style=\"color: #008080; text-decoration-color: #008080\">     target_test/loss      </span>│<span style=\"color: #800080; text-decoration-color: #800080\">    0.8049806356430054     </span>│\n",
       "└───────────────────────────┴───────────────────────────┘\n",
       "</pre>\n"
      ],
      "text/plain": [
       "┏━━━━━━━━━━━━━━━━━━━━━━━━━━━┳━━━━━━━━━━━━━━━━━━━━━━━━━━━┓\n",
       "┃\u001b[1m \u001b[0m\u001b[1m       Test metric       \u001b[0m\u001b[1m \u001b[0m┃\u001b[1m \u001b[0m\u001b[1m      DataLoader 0       \u001b[0m\u001b[1m \u001b[0m┃\n",
       "┡━━━━━━━━━━━━━━━━━━━━━━━━━━━╇━━━━━━━━━━━━━━━━━━━━━━━━━━━┩\n",
       "│\u001b[36m \u001b[0m\u001b[36m  source_test/accuracy   \u001b[0m\u001b[36m \u001b[0m│\u001b[35m \u001b[0m\u001b[35m   0.8150201439857483    \u001b[0m\u001b[35m \u001b[0m│\n",
       "│\u001b[36m \u001b[0m\u001b[36m     source_test/f1      \u001b[0m\u001b[36m \u001b[0m│\u001b[35m \u001b[0m\u001b[35m   0.8162740468978882    \u001b[0m\u001b[35m \u001b[0m│\n",
       "│\u001b[36m \u001b[0m\u001b[36m    source_test/loss     \u001b[0m\u001b[36m \u001b[0m│\u001b[35m \u001b[0m\u001b[35m    0.535061776638031    \u001b[0m\u001b[35m \u001b[0m│\n",
       "│\u001b[36m \u001b[0m\u001b[36m  target_test/accuracy   \u001b[0m\u001b[36m \u001b[0m│\u001b[35m \u001b[0m\u001b[35m   0.7338709235191345    \u001b[0m\u001b[35m \u001b[0m│\n",
       "│\u001b[36m \u001b[0m\u001b[36m     target_test/f1      \u001b[0m\u001b[36m \u001b[0m│\u001b[35m \u001b[0m\u001b[35m   0.7368236780166626    \u001b[0m\u001b[35m \u001b[0m│\n",
       "│\u001b[36m \u001b[0m\u001b[36m    target_test/loss     \u001b[0m\u001b[36m \u001b[0m│\u001b[35m \u001b[0m\u001b[35m   0.8049806356430054    \u001b[0m\u001b[35m \u001b[0m│\n",
       "└───────────────────────────┴───────────────────────────┘\n"
      ]
     },
     "metadata": {},
     "output_type": "display_data"
    },
    {
     "name": "stdout",
     "output_type": "stream",
     "text": [
      "Test Results Last Epoch: [{'source_test/loss': 0.535061776638031, 'source_test/accuracy': 0.8150201439857483, 'source_test/f1': 0.8162740468978882, 'target_test/loss': 0.8049806356430054, 'target_test/accuracy': 0.7338709235191345, 'target_test/f1': 0.7368236780166626}]\n",
      "Best checkpoint path: ./lightning_logs/01l7yyt7/checkpoints/task-TRS-epoch=02-val_loss=0.51.ckpt\n",
      "Saved epoch checkpoint path: ./lightning_logs/01l7yyt7/checkpoints/TRS-epoch=02.ckpt\n"
     ]
    },
    {
     "name": "stderr",
     "output_type": "stream",
     "text": [
      "Some weights of BertAdapterModel were not initialized from the model checkpoint at bert-base-uncased and are newly initialized: ['heads.default.3.bias']\n",
      "You should probably TRAIN this model on a down-stream task to be able to use it for predictions and inference.\n"
     ]
    },
    {
     "name": "stdout",
     "output_type": "stream",
     "text": [
      "================================================================================\n",
      "Name                     Architecture         #Param      %Param  Active   Train\n",
      "--------------------------------------------------------------------------------\n",
      "mlm_inv_S                bottleneck        7,387,776       6.748       1       1\n",
      "--------------------------------------------------------------------------------\n",
      "Full model                               109,482,240     100.000               0\n",
      "================================================================================\n",
      "trainable params: 8603325 || all params: 118085565 || trainable%: 7.285670352680279\n",
      "None\n"
     ]
    },
    {
     "name": "stderr",
     "output_type": "stream",
     "text": [
      "LOCAL_RANK: 0 - CUDA_VISIBLE_DEVICES: [0]\n"
     ]
    },
    {
     "data": {
      "application/vnd.jupyter.widget-view+json": {
       "model_id": "e8997ee8d0d84bedbd36803ba54c0a28",
       "version_major": 2,
       "version_minor": 0
      },
      "text/plain": [
       "Testing: |          | 0/? [00:00<?, ?it/s]"
      ]
     },
     "metadata": {},
     "output_type": "display_data"
    },
    {
     "data": {
      "text/html": [
       "<pre style=\"white-space:pre;overflow-x:auto;line-height:normal;font-family:Menlo,'DejaVu Sans Mono',consolas,'Courier New',monospace\">┏━━━━━━━━━━━━━━━━━━━━━━━━━━━┳━━━━━━━━━━━━━━━━━━━━━━━━━━━┓\n",
       "┃<span style=\"font-weight: bold\">        Test metric        </span>┃<span style=\"font-weight: bold\">       DataLoader 0        </span>┃\n",
       "┡━━━━━━━━━━━━━━━━━━━━━━━━━━━╇━━━━━━━━━━━━━━━━━━━━━━━━━━━┩\n",
       "│<span style=\"color: #008080; text-decoration-color: #008080\">   source_test/accuracy    </span>│<span style=\"color: #800080; text-decoration-color: #800080\">    0.8180443048477173     </span>│\n",
       "│<span style=\"color: #008080; text-decoration-color: #008080\">      source_test/f1       </span>│<span style=\"color: #800080; text-decoration-color: #800080\">    0.8179091215133667     </span>│\n",
       "│<span style=\"color: #008080; text-decoration-color: #008080\">     source_test/loss      </span>│<span style=\"color: #800080; text-decoration-color: #800080\">    0.47545063495635986    </span>│\n",
       "│<span style=\"color: #008080; text-decoration-color: #008080\">   target_test/accuracy    </span>│<span style=\"color: #800080; text-decoration-color: #800080\">     0.737399160861969     </span>│\n",
       "│<span style=\"color: #008080; text-decoration-color: #008080\">      target_test/f1       </span>│<span style=\"color: #800080; text-decoration-color: #800080\">    0.7382378578186035     </span>│\n",
       "│<span style=\"color: #008080; text-decoration-color: #008080\">     target_test/loss      </span>│<span style=\"color: #800080; text-decoration-color: #800080\">    0.6767547726631165     </span>│\n",
       "└───────────────────────────┴───────────────────────────┘\n",
       "</pre>\n"
      ],
      "text/plain": [
       "┏━━━━━━━━━━━━━━━━━━━━━━━━━━━┳━━━━━━━━━━━━━━━━━━━━━━━━━━━┓\n",
       "┃\u001b[1m \u001b[0m\u001b[1m       Test metric       \u001b[0m\u001b[1m \u001b[0m┃\u001b[1m \u001b[0m\u001b[1m      DataLoader 0       \u001b[0m\u001b[1m \u001b[0m┃\n",
       "┡━━━━━━━━━━━━━━━━━━━━━━━━━━━╇━━━━━━━━━━━━━━━━━━━━━━━━━━━┩\n",
       "│\u001b[36m \u001b[0m\u001b[36m  source_test/accuracy   \u001b[0m\u001b[36m \u001b[0m│\u001b[35m \u001b[0m\u001b[35m   0.8180443048477173    \u001b[0m\u001b[35m \u001b[0m│\n",
       "│\u001b[36m \u001b[0m\u001b[36m     source_test/f1      \u001b[0m\u001b[36m \u001b[0m│\u001b[35m \u001b[0m\u001b[35m   0.8179091215133667    \u001b[0m\u001b[35m \u001b[0m│\n",
       "│\u001b[36m \u001b[0m\u001b[36m    source_test/loss     \u001b[0m\u001b[36m \u001b[0m│\u001b[35m \u001b[0m\u001b[35m   0.47545063495635986   \u001b[0m\u001b[35m \u001b[0m│\n",
       "│\u001b[36m \u001b[0m\u001b[36m  target_test/accuracy   \u001b[0m\u001b[36m \u001b[0m│\u001b[35m \u001b[0m\u001b[35m    0.737399160861969    \u001b[0m\u001b[35m \u001b[0m│\n",
       "│\u001b[36m \u001b[0m\u001b[36m     target_test/f1      \u001b[0m\u001b[36m \u001b[0m│\u001b[35m \u001b[0m\u001b[35m   0.7382378578186035    \u001b[0m\u001b[35m \u001b[0m│\n",
       "│\u001b[36m \u001b[0m\u001b[36m    target_test/loss     \u001b[0m\u001b[36m \u001b[0m│\u001b[35m \u001b[0m\u001b[35m   0.6767547726631165    \u001b[0m\u001b[35m \u001b[0m│\n",
       "└───────────────────────────┴───────────────────────────┘\n"
      ]
     },
     "metadata": {},
     "output_type": "display_data"
    },
    {
     "name": "stdout",
     "output_type": "stream",
     "text": [
      "Test Results on Best Model: [{'source_test/loss': 0.47545063495635986, 'source_test/accuracy': 0.8180443048477173, 'source_test/f1': 0.8179091215133667, 'target_test/loss': 0.6767547726631165, 'target_test/accuracy': 0.737399160861969, 'target_test/f1': 0.7382378578186035}]\n"
     ]
    },
    {
     "name": "stderr",
     "output_type": "stream",
     "text": [
      "Some weights of BertAdapterModel were not initialized from the model checkpoint at bert-base-uncased and are newly initialized: ['heads.default.3.bias']\n",
      "You should probably TRAIN this model on a down-stream task to be able to use it for predictions and inference.\n"
     ]
    },
    {
     "name": "stdout",
     "output_type": "stream",
     "text": [
      "================================================================================\n",
      "Name                     Architecture         #Param      %Param  Active   Train\n",
      "--------------------------------------------------------------------------------\n",
      "mlm_inv_S                bottleneck        7,387,776       6.748       1       1\n",
      "--------------------------------------------------------------------------------\n",
      "Full model                               109,482,240     100.000               0\n",
      "================================================================================\n",
      "trainable params: 8603325 || all params: 118085565 || trainable%: 7.285670352680279\n",
      "None\n"
     ]
    },
    {
     "name": "stderr",
     "output_type": "stream",
     "text": [
      "LOCAL_RANK: 0 - CUDA_VISIBLE_DEVICES: [0]\n"
     ]
    },
    {
     "data": {
      "application/vnd.jupyter.widget-view+json": {
       "model_id": "a621a5252184472b94c3047e32f87c65",
       "version_major": 2,
       "version_minor": 0
      },
      "text/plain": [
       "Testing: |          | 0/? [00:00<?, ?it/s]"
      ]
     },
     "metadata": {},
     "output_type": "display_data"
    },
    {
     "data": {
      "text/html": [
       "<pre style=\"white-space:pre;overflow-x:auto;line-height:normal;font-family:Menlo,'DejaVu Sans Mono',consolas,'Courier New',monospace\">┏━━━━━━━━━━━━━━━━━━━━━━━━━━━┳━━━━━━━━━━━━━━━━━━━━━━━━━━━┓\n",
       "┃<span style=\"font-weight: bold\">        Test metric        </span>┃<span style=\"font-weight: bold\">       DataLoader 0        </span>┃\n",
       "┡━━━━━━━━━━━━━━━━━━━━━━━━━━━╇━━━━━━━━━━━━━━━━━━━━━━━━━━━┩\n",
       "│<span style=\"color: #008080; text-decoration-color: #008080\">   source_test/accuracy    </span>│<span style=\"color: #800080; text-decoration-color: #800080\">    0.8180443048477173     </span>│\n",
       "│<span style=\"color: #008080; text-decoration-color: #008080\">      source_test/f1       </span>│<span style=\"color: #800080; text-decoration-color: #800080\">    0.8179091215133667     </span>│\n",
       "│<span style=\"color: #008080; text-decoration-color: #008080\">     source_test/loss      </span>│<span style=\"color: #800080; text-decoration-color: #800080\">    0.47545063495635986    </span>│\n",
       "│<span style=\"color: #008080; text-decoration-color: #008080\">   target_test/accuracy    </span>│<span style=\"color: #800080; text-decoration-color: #800080\">     0.737399160861969     </span>│\n",
       "│<span style=\"color: #008080; text-decoration-color: #008080\">      target_test/f1       </span>│<span style=\"color: #800080; text-decoration-color: #800080\">    0.7382378578186035     </span>│\n",
       "│<span style=\"color: #008080; text-decoration-color: #008080\">     target_test/loss      </span>│<span style=\"color: #800080; text-decoration-color: #800080\">    0.6767547726631165     </span>│\n",
       "└───────────────────────────┴───────────────────────────┘\n",
       "</pre>\n"
      ],
      "text/plain": [
       "┏━━━━━━━━━━━━━━━━━━━━━━━━━━━┳━━━━━━━━━━━━━━━━━━━━━━━━━━━┓\n",
       "┃\u001b[1m \u001b[0m\u001b[1m       Test metric       \u001b[0m\u001b[1m \u001b[0m┃\u001b[1m \u001b[0m\u001b[1m      DataLoader 0       \u001b[0m\u001b[1m \u001b[0m┃\n",
       "┡━━━━━━━━━━━━━━━━━━━━━━━━━━━╇━━━━━━━━━━━━━━━━━━━━━━━━━━━┩\n",
       "│\u001b[36m \u001b[0m\u001b[36m  source_test/accuracy   \u001b[0m\u001b[36m \u001b[0m│\u001b[35m \u001b[0m\u001b[35m   0.8180443048477173    \u001b[0m\u001b[35m \u001b[0m│\n",
       "│\u001b[36m \u001b[0m\u001b[36m     source_test/f1      \u001b[0m\u001b[36m \u001b[0m│\u001b[35m \u001b[0m\u001b[35m   0.8179091215133667    \u001b[0m\u001b[35m \u001b[0m│\n",
       "│\u001b[36m \u001b[0m\u001b[36m    source_test/loss     \u001b[0m\u001b[36m \u001b[0m│\u001b[35m \u001b[0m\u001b[35m   0.47545063495635986   \u001b[0m\u001b[35m \u001b[0m│\n",
       "│\u001b[36m \u001b[0m\u001b[36m  target_test/accuracy   \u001b[0m\u001b[36m \u001b[0m│\u001b[35m \u001b[0m\u001b[35m    0.737399160861969    \u001b[0m\u001b[35m \u001b[0m│\n",
       "│\u001b[36m \u001b[0m\u001b[36m     target_test/f1      \u001b[0m\u001b[36m \u001b[0m│\u001b[35m \u001b[0m\u001b[35m   0.7382378578186035    \u001b[0m\u001b[35m \u001b[0m│\n",
       "│\u001b[36m \u001b[0m\u001b[36m    target_test/loss     \u001b[0m\u001b[36m \u001b[0m│\u001b[35m \u001b[0m\u001b[35m   0.6767547726631165    \u001b[0m\u001b[35m \u001b[0m│\n",
       "└───────────────────────────┴───────────────────────────┘\n"
      ]
     },
     "metadata": {},
     "output_type": "display_data"
    },
    {
     "name": "stdout",
     "output_type": "stream",
     "text": [
      "Test Results on saved epoch: [{'source_test/loss': 0.47545063495635986, 'source_test/accuracy': 0.8180443048477173, 'source_test/f1': 0.8179091215133667, 'target_test/loss': 0.6767547726631165, 'target_test/accuracy': 0.737399160861969, 'target_test/f1': 0.7382378578186035}]\n"
     ]
    },
    {
     "data": {
      "application/vnd.jupyter.widget-view+json": {
       "model_id": "5d0a2cd40f6c4cb2a6b4f75df5e64792",
       "version_major": 2,
       "version_minor": 0
      },
      "text/plain": [
       "VBox(children=(Label(value='0.002 MB of 0.002 MB uploaded\\r'), FloatProgress(value=1.0, max=1.0)))"
      ]
     },
     "metadata": {},
     "output_type": "display_data"
    },
    {
     "data": {
      "text/html": [
       "<style>\n",
       "    table.wandb td:nth-child(1) { padding: 0 10px; text-align: left ; width: auto;} td:nth-child(2) {text-align: left ; width: 100%}\n",
       "    .wandb-row { display: flex; flex-direction: row; flex-wrap: wrap; justify-content: flex-start; width: 100% }\n",
       "    .wandb-col { display: flex; flex-direction: column; flex-basis: 100%; flex: 1; padding: 10px; }\n",
       "    </style>\n",
       "<div class=\"wandb-row\"><div class=\"wandb-col\"><h3>Run history:</h3><br/><table class=\"wandb\"><tr><td>epoch</td><td>▁▁▁▁▁▁▁▁▂▂▂▂▂▂▂▂▄▄▄▄▄▄▄▄▅▅▅▅▅▅▅▅▇▇▇▇▇▇▇█</td></tr><tr><td>source_test/accuracy</td><td>▁██</td></tr><tr><td>source_test/f1</td><td>▁██</td></tr><tr><td>source_test/loss</td><td>█▁▁</td></tr><tr><td>source_val/accuracy</td><td>▁▅█▆▆</td></tr><tr><td>source_val/f1</td><td>▁▅█▇▇</td></tr><tr><td>source_val/loss</td><td>▅▂▁▄█</td></tr><tr><td>target_test/accuracy</td><td>▁██</td></tr><tr><td>target_test/f1</td><td>▁██</td></tr><tr><td>target_test/loss</td><td>█▁▁</td></tr><tr><td>target_val/accuracy</td><td>▁▆█▆▇</td></tr><tr><td>target_val/f1</td><td>▁▆█▇▇</td></tr><tr><td>target_val/loss</td><td>▃▁▂▅█</td></tr><tr><td>train_accuracy</td><td>▁▄▃▂▃▃▅▅▄▅▃▄▅▄▄▄▅▇▆▇▅▂▆▄▅▆▇▇▆▄▆▆▆▆▆▆▇▇▇█</td></tr><tr><td>train_f1</td><td>▁▄▃▁▂▂▅▅▄▅▃▄▅▃▃▄▅▇▆▇▅▂▆▄▅▆▇▇▆▄▆▆▆▆▆▆▇▇▇█</td></tr><tr><td>train_loss</td><td>█▆▅▅▆▆▄▄▅▄▄▅▄▆▅▄▃▃▃▃▄▆▃▅▃▃▂▂▃▄▃▃▃▂▂▅▁▂▂▁</td></tr><tr><td>trainer/global_step</td><td>▁▁▁▂▂▂▂▂▂▃▃▃▃▃▄▄▄▄▄▄▅▅▅▅▅▆▆▆▆▆▆▇▇▇▇▇▇███</td></tr><tr><td>val_loss</td><td>▅▂▁▄█</td></tr></table><br/></div><div class=\"wandb-col\"><h3>Run summary:</h3><br/><table class=\"wandb\"><tr><td>epoch</td><td>5</td></tr><tr><td>source_test/accuracy</td><td>0.81804</td></tr><tr><td>source_test/f1</td><td>0.81791</td></tr><tr><td>source_test/loss</td><td>0.47545</td></tr><tr><td>source_val/accuracy</td><td>0.80139</td></tr><tr><td>source_val/f1</td><td>0.80292</td></tr><tr><td>source_val/loss</td><td>0.59683</td></tr><tr><td>target_test/accuracy</td><td>0.7374</td></tr><tr><td>target_test/f1</td><td>0.73824</td></tr><tr><td>target_test/loss</td><td>0.67675</td></tr><tr><td>target_val/accuracy</td><td>0.73514</td></tr><tr><td>target_val/f1</td><td>0.73761</td></tr><tr><td>target_val/loss</td><td>0.78937</td></tr><tr><td>train_accuracy</td><td>0.9375</td></tr><tr><td>train_f1</td><td>0.9375</td></tr><tr><td>train_loss</td><td>0.37139</td></tr><tr><td>trainer/global_step</td><td>10875</td></tr><tr><td>val_loss</td><td>0.59683</td></tr></table><br/></div></div>"
      ],
      "text/plain": [
       "<IPython.core.display.HTML object>"
      ]
     },
     "metadata": {},
     "output_type": "display_data"
    },
    {
     "data": {
      "text/html": [
       " View run <strong style=\"color:#cdcd00\">TRS_inv_run_with_seed_42</strong> at: <a href='https://wandb.ai/mrawhani/ablations/runs/01l7yyt7' target=\"_blank\">https://wandb.ai/mrawhani/ablations/runs/01l7yyt7</a><br/> View project at: <a href='https://wandb.ai/mrawhani/ablations' target=\"_blank\">https://wandb.ai/mrawhani/ablations</a><br/>Synced 5 W&B file(s), 0 media file(s), 0 artifact file(s) and 0 other file(s)"
      ],
      "text/plain": [
       "<IPython.core.display.HTML object>"
      ]
     },
     "metadata": {},
     "output_type": "display_data"
    },
    {
     "data": {
      "text/html": [
       "Find logs at: <code>./wandb/run-20240707_094553-01l7yyt7/logs</code>"
      ],
      "text/plain": [
       "<IPython.core.display.HTML object>"
      ]
     },
     "metadata": {},
     "output_type": "display_data"
    },
    {
     "data": {
      "application/vnd.jupyter.widget-view+json": {
       "model_id": "2a2e9432a68e4054afde42927b48a48d",
       "version_major": 2,
       "version_minor": 0
      },
      "text/plain": [
       "VBox(children=(Label(value='Waiting for wandb.init()...\\r'), FloatProgress(value=0.011112199988888783, max=1.0…"
      ]
     },
     "metadata": {},
     "output_type": "display_data"
    },
    {
     "data": {
      "text/html": [
       "wandb version 0.17.4 is available!  To upgrade, please run:\n",
       " $ pip install wandb --upgrade"
      ],
      "text/plain": [
       "<IPython.core.display.HTML object>"
      ]
     },
     "metadata": {},
     "output_type": "display_data"
    },
    {
     "data": {
      "text/html": [
       "Tracking run with wandb version 0.17.0"
      ],
      "text/plain": [
       "<IPython.core.display.HTML object>"
      ]
     },
     "metadata": {},
     "output_type": "display_data"
    },
    {
     "data": {
      "text/html": [
       "Run data is saved locally in <code>/home/guest/Desktop/projects/fourth-expeiments/domain_adaptation_project/inv2/slate/wandb/run-20240707_102858-lmlyszm4</code>"
      ],
      "text/plain": [
       "<IPython.core.display.HTML object>"
      ]
     },
     "metadata": {},
     "output_type": "display_data"
    },
    {
     "data": {
      "text/html": [
       "Syncing run <strong><a href='https://wandb.ai/mrawhani/ablations/runs/lmlyszm4' target=\"_blank\">TRS_inv_run_with_seed_10</a></strong> to <a href='https://wandb.ai/mrawhani/ablations' target=\"_blank\">Weights & Biases</a> (<a href='https://wandb.me/run' target=\"_blank\">docs</a>)<br/>"
      ],
      "text/plain": [
       "<IPython.core.display.HTML object>"
      ]
     },
     "metadata": {},
     "output_type": "display_data"
    },
    {
     "data": {
      "text/html": [
       " View project at <a href='https://wandb.ai/mrawhani/ablations' target=\"_blank\">https://wandb.ai/mrawhani/ablations</a>"
      ],
      "text/plain": [
       "<IPython.core.display.HTML object>"
      ]
     },
     "metadata": {},
     "output_type": "display_data"
    },
    {
     "data": {
      "text/html": [
       " View run at <a href='https://wandb.ai/mrawhani/ablations/runs/lmlyszm4' target=\"_blank\">https://wandb.ai/mrawhani/ablations/runs/lmlyszm4</a>"
      ],
      "text/plain": [
       "<IPython.core.display.HTML object>"
      ]
     },
     "metadata": {},
     "output_type": "display_data"
    },
    {
     "name": "stderr",
     "output_type": "stream",
     "text": [
      "Seed set to 10\n",
      "/home/guest/.cache/pypoetry/virtualenvs/fourth-experments-OVNdUUAn-py3.8/lib/python3.8/site-packages/huggingface_hub/file_download.py:1132: FutureWarning: `resume_download` is deprecated and will be removed in version 1.0.0. Downloads always resume when possible. If you want to force a new download, use `force_download=True`.\n",
      "  warnings.warn(\n"
     ]
    },
    {
     "name": "stdout",
     "output_type": "stream",
     "text": [
      "prinssst: travel\n",
      "print: slate\n",
      "print: 69575\n",
      "prinssst: travel\n",
      "print: slate\n",
      "print: 69575\n"
     ]
    },
    {
     "name": "stderr",
     "output_type": "stream",
     "text": [
      "Some weights of BertAdapterModel were not initialized from the model checkpoint at bert-base-uncased and are newly initialized: ['heads.default.3.bias']\n",
      "You should probably TRAIN this model on a down-stream task to be able to use it for predictions and inference.\n",
      "/home/guest/.cache/pypoetry/virtualenvs/fourth-experments-OVNdUUAn-py3.8/lib/python3.8/site-packages/torch/utils/data/dataloader.py:558: UserWarning: This DataLoader will create 16 worker processes in total. Our suggested max number of worker in current system is 12, which is smaller than what this DataLoader is going to create. Please be aware that excessive worker creation might get DataLoader running slow or even freeze, lower the worker number to avoid potential slowness/freeze if necessary.\n",
      "  warnings.warn(_create_warning_msg(\n",
      "GPU available: True (cuda), used: True\n",
      "TPU available: False, using: 0 TPU cores\n",
      "IPU available: False, using: 0 IPUs\n",
      "HPU available: False, using: 0 HPUs\n",
      "`Trainer(limit_train_batches=1.0)` was configured so 100% of the batches per epoch will be used..\n",
      "`Trainer(limit_val_batches=1.0)` was configured so 100% of the batches will be used..\n",
      "`Trainer(limit_test_batches=1.0)` was configured so 100% of the batches will be used..\n",
      "/home/guest/.cache/pypoetry/virtualenvs/fourth-experments-OVNdUUAn-py3.8/lib/python3.8/site-packages/pytorch_lightning/loggers/wandb.py:396: There is a wandb run already in progress and newly created instances of `WandbLogger` will reuse this run. If this is not desired, call `wandb.finish()` before instantiating `WandbLogger`.\n",
      "LOCAL_RANK: 0 - CUDA_VISIBLE_DEVICES: [0]\n"
     ]
    },
    {
     "name": "stdout",
     "output_type": "stream",
     "text": [
      "================================================================================\n",
      "Name                     Architecture         #Param      %Param  Active   Train\n",
      "--------------------------------------------------------------------------------\n",
      "mlm_inv_S                bottleneck        7,387,776       6.748       1       1\n",
      "--------------------------------------------------------------------------------\n",
      "Full model                               109,482,240     100.000               0\n",
      "================================================================================\n",
      "trainable params: 8603325 || all params: 118085565 || trainable%: 7.285670352680279\n",
      "None\n"
     ]
    },
    {
     "name": "stderr",
     "output_type": "stream",
     "text": [
      "\n",
      "  | Name      | Type               | Params\n",
      "-------------------------------------------------\n",
      "0 | model     | BertAdapterModel   | 118 M \n",
      "1 | criterion | CrossEntropyLoss   | 0     \n",
      "2 | accuracy  | MulticlassAccuracy | 0     \n",
      "3 | f1        | MulticlassF1Score  | 0     \n",
      "4 | softmax   | Softmax            | 0     \n",
      "-------------------------------------------------\n",
      "8.6 M     Trainable params\n",
      "109 M     Non-trainable params\n",
      "118 M     Total params\n",
      "472.342   Total estimated model params size (MB)\n"
     ]
    },
    {
     "data": {
      "application/vnd.jupyter.widget-view+json": {
       "model_id": "4b3f13cdf2d74fb89a74a96089d9f9ff",
       "version_major": 2,
       "version_minor": 0
      },
      "text/plain": [
       "Sanity Checking: |          | 0/? [00:00<?, ?it/s]"
      ]
     },
     "metadata": {},
     "output_type": "display_data"
    },
    {
     "name": "stdout",
     "output_type": "stream",
     "text": [
      "target_val/loss: 1.1094720363616943\n",
      "target_val/accuracy: 0.265625\n",
      "target_val/f1: 0.28543391823768616\n",
      "source_val/loss: 1.0991326570510864\n",
      "source_val/accuracy: 0.40625\n",
      "source_val/f1: 0.4234916865825653\n"
     ]
    },
    {
     "data": {
      "application/vnd.jupyter.widget-view+json": {
       "model_id": "ed2ac33432204e0780ab381c1540f3f0",
       "version_major": 2,
       "version_minor": 0
      },
      "text/plain": [
       "Training: |          | 0/? [00:00<?, ?it/s]"
      ]
     },
     "metadata": {},
     "output_type": "display_data"
    },
    {
     "data": {
      "application/vnd.jupyter.widget-view+json": {
       "model_id": "3f364fa56fcd47cf9ce62e67914ce57a",
       "version_major": 2,
       "version_minor": 0
      },
      "text/plain": [
       "Validation: |          | 0/? [00:00<?, ?it/s]"
      ]
     },
     "metadata": {},
     "output_type": "display_data"
    },
    {
     "name": "stdout",
     "output_type": "stream",
     "text": [
      "target_val/loss: 0.7151824235916138\n",
      "target_val/accuracy: 0.6996179819107056\n",
      "target_val/f1: 0.6995416879653931\n",
      "source_val/loss: 0.5786175727844238\n",
      "source_val/accuracy: 0.7680309414863586\n",
      "source_val/f1: 0.7666036486625671\n"
     ]
    },
    {
     "data": {
      "application/vnd.jupyter.widget-view+json": {
       "model_id": "ef0fea2c65de440a81bbcc3843cd1963",
       "version_major": 2,
       "version_minor": 0
      },
      "text/plain": [
       "Validation: |          | 0/? [00:00<?, ?it/s]"
      ]
     },
     "metadata": {},
     "output_type": "display_data"
    },
    {
     "name": "stdout",
     "output_type": "stream",
     "text": [
      "target_val/loss: 0.6718918681144714\n",
      "target_val/accuracy: 0.7295834422111511\n",
      "target_val/f1: 0.7294880151748657\n",
      "source_val/loss: 0.5291646122932434\n",
      "source_val/accuracy: 0.7946321964263916\n",
      "source_val/f1: 0.793938398361206\n"
     ]
    },
    {
     "data": {
      "application/vnd.jupyter.widget-view+json": {
       "model_id": "523b910b1cfd4156aa6a6819b0f0e503",
       "version_major": 2,
       "version_minor": 0
      },
      "text/plain": [
       "Validation: |          | 0/? [00:00<?, ?it/s]"
      ]
     },
     "metadata": {},
     "output_type": "display_data"
    },
    {
     "name": "stdout",
     "output_type": "stream",
     "text": [
      "target_val/loss: 0.6739938259124756\n",
      "target_val/accuracy: 0.7390100955963135\n",
      "target_val/f1: 0.7388956546783447\n",
      "source_val/loss: 0.5226821303367615\n",
      "source_val/accuracy: 0.8093124628067017\n",
      "source_val/f1: 0.8094033598899841\n"
     ]
    },
    {
     "data": {
      "application/vnd.jupyter.widget-view+json": {
       "model_id": "5c9e986669d045d991cde8e3f64bfafe",
       "version_major": 2,
       "version_minor": 0
      },
      "text/plain": [
       "Validation: |          | 0/? [00:00<?, ?it/s]"
      ]
     },
     "metadata": {},
     "output_type": "display_data"
    },
    {
     "name": "stdout",
     "output_type": "stream",
     "text": [
      "target_val/loss: 0.7393590211868286\n",
      "target_val/accuracy: 0.7349662780761719\n",
      "target_val/f1: 0.7381066679954529\n",
      "source_val/loss: 0.5549415349960327\n",
      "source_val/accuracy: 0.7994100451469421\n",
      "source_val/f1: 0.8010379076004028\n"
     ]
    },
    {
     "data": {
      "application/vnd.jupyter.widget-view+json": {
       "model_id": "7cbef8e27f974b27ae7c6991f4fc4cff",
       "version_major": 2,
       "version_minor": 0
      },
      "text/plain": [
       "Validation: |          | 0/? [00:00<?, ?it/s]"
      ]
     },
     "metadata": {},
     "output_type": "display_data"
    },
    {
     "name": "stderr",
     "output_type": "stream",
     "text": [
      "`Trainer.fit` stopped: `max_epochs=5` reached.\n"
     ]
    },
    {
     "name": "stdout",
     "output_type": "stream",
     "text": [
      "target_val/loss: 0.7997288107872009\n",
      "target_val/accuracy: 0.7300592660903931\n",
      "target_val/f1: 0.7349776029586792\n",
      "source_val/loss: 0.598136305809021\n",
      "source_val/accuracy: 0.796698272228241\n",
      "source_val/f1: 0.7989804148674011\n",
      "Best checkpoint path: ./lightning_logs/lmlyszm4/checkpoints/task-TRS-epoch=02-val_loss=0.52.ckpt\n",
      "Saved epoch checkpoint path: ./lightning_logs/lmlyszm4/checkpoints/TRS-epoch=02.ckpt\n"
     ]
    },
    {
     "name": "stderr",
     "output_type": "stream",
     "text": [
      "LOCAL_RANK: 0 - CUDA_VISIBLE_DEVICES: [0]\n"
     ]
    },
    {
     "name": "stdout",
     "output_type": "stream",
     "text": [
      "prinssst: travel\n",
      "print: slate\n",
      "print: 69575\n"
     ]
    },
    {
     "data": {
      "application/vnd.jupyter.widget-view+json": {
       "model_id": "76f2ef519fbe4a4990abfc28059a2217",
       "version_major": 2,
       "version_minor": 0
      },
      "text/plain": [
       "Testing: |          | 0/? [00:00<?, ?it/s]"
      ]
     },
     "metadata": {},
     "output_type": "display_data"
    },
    {
     "data": {
      "text/html": [
       "<pre style=\"white-space:pre;overflow-x:auto;line-height:normal;font-family:Menlo,'DejaVu Sans Mono',consolas,'Courier New',monospace\">┏━━━━━━━━━━━━━━━━━━━━━━━━━━━┳━━━━━━━━━━━━━━━━━━━━━━━━━━━┓\n",
       "┃<span style=\"font-weight: bold\">        Test metric        </span>┃<span style=\"font-weight: bold\">       DataLoader 0        </span>┃\n",
       "┡━━━━━━━━━━━━━━━━━━━━━━━━━━━╇━━━━━━━━━━━━━━━━━━━━━━━━━━━┩\n",
       "│<span style=\"color: #008080; text-decoration-color: #008080\">   source_test/accuracy    </span>│<span style=\"color: #800080; text-decoration-color: #800080\">    0.8059475421905518     </span>│\n",
       "│<span style=\"color: #008080; text-decoration-color: #008080\">      source_test/f1       </span>│<span style=\"color: #800080; text-decoration-color: #800080\">    0.8074867129325867     </span>│\n",
       "│<span style=\"color: #008080; text-decoration-color: #008080\">     source_test/loss      </span>│<span style=\"color: #800080; text-decoration-color: #800080\">    0.5634183287620544     </span>│\n",
       "│<span style=\"color: #008080; text-decoration-color: #008080\">   target_test/accuracy    </span>│<span style=\"color: #800080; text-decoration-color: #800080\">    0.7162297964096069     </span>│\n",
       "│<span style=\"color: #008080; text-decoration-color: #008080\">      target_test/f1       </span>│<span style=\"color: #800080; text-decoration-color: #800080\">    0.7214670181274414     </span>│\n",
       "│<span style=\"color: #008080; text-decoration-color: #008080\">     target_test/loss      </span>│<span style=\"color: #800080; text-decoration-color: #800080\">    0.8306974172592163     </span>│\n",
       "└───────────────────────────┴───────────────────────────┘\n",
       "</pre>\n"
      ],
      "text/plain": [
       "┏━━━━━━━━━━━━━━━━━━━━━━━━━━━┳━━━━━━━━━━━━━━━━━━━━━━━━━━━┓\n",
       "┃\u001b[1m \u001b[0m\u001b[1m       Test metric       \u001b[0m\u001b[1m \u001b[0m┃\u001b[1m \u001b[0m\u001b[1m      DataLoader 0       \u001b[0m\u001b[1m \u001b[0m┃\n",
       "┡━━━━━━━━━━━━━━━━━━━━━━━━━━━╇━━━━━━━━━━━━━━━━━━━━━━━━━━━┩\n",
       "│\u001b[36m \u001b[0m\u001b[36m  source_test/accuracy   \u001b[0m\u001b[36m \u001b[0m│\u001b[35m \u001b[0m\u001b[35m   0.8059475421905518    \u001b[0m\u001b[35m \u001b[0m│\n",
       "│\u001b[36m \u001b[0m\u001b[36m     source_test/f1      \u001b[0m\u001b[36m \u001b[0m│\u001b[35m \u001b[0m\u001b[35m   0.8074867129325867    \u001b[0m\u001b[35m \u001b[0m│\n",
       "│\u001b[36m \u001b[0m\u001b[36m    source_test/loss     \u001b[0m\u001b[36m \u001b[0m│\u001b[35m \u001b[0m\u001b[35m   0.5634183287620544    \u001b[0m\u001b[35m \u001b[0m│\n",
       "│\u001b[36m \u001b[0m\u001b[36m  target_test/accuracy   \u001b[0m\u001b[36m \u001b[0m│\u001b[35m \u001b[0m\u001b[35m   0.7162297964096069    \u001b[0m\u001b[35m \u001b[0m│\n",
       "│\u001b[36m \u001b[0m\u001b[36m     target_test/f1      \u001b[0m\u001b[36m \u001b[0m│\u001b[35m \u001b[0m\u001b[35m   0.7214670181274414    \u001b[0m\u001b[35m \u001b[0m│\n",
       "│\u001b[36m \u001b[0m\u001b[36m    target_test/loss     \u001b[0m\u001b[36m \u001b[0m│\u001b[35m \u001b[0m\u001b[35m   0.8306974172592163    \u001b[0m\u001b[35m \u001b[0m│\n",
       "└───────────────────────────┴───────────────────────────┘\n"
      ]
     },
     "metadata": {},
     "output_type": "display_data"
    },
    {
     "name": "stdout",
     "output_type": "stream",
     "text": [
      "Test Results Last Epoch: [{'source_test/loss': 0.5634183287620544, 'source_test/accuracy': 0.8059475421905518, 'source_test/f1': 0.8074867129325867, 'target_test/loss': 0.8306974172592163, 'target_test/accuracy': 0.7162297964096069, 'target_test/f1': 0.7214670181274414}]\n",
      "Best checkpoint path: ./lightning_logs/lmlyszm4/checkpoints/task-TRS-epoch=02-val_loss=0.52.ckpt\n",
      "Saved epoch checkpoint path: ./lightning_logs/lmlyszm4/checkpoints/TRS-epoch=02.ckpt\n"
     ]
    },
    {
     "name": "stderr",
     "output_type": "stream",
     "text": [
      "Some weights of BertAdapterModel were not initialized from the model checkpoint at bert-base-uncased and are newly initialized: ['heads.default.3.bias']\n",
      "You should probably TRAIN this model on a down-stream task to be able to use it for predictions and inference.\n"
     ]
    },
    {
     "name": "stdout",
     "output_type": "stream",
     "text": [
      "================================================================================\n",
      "Name                     Architecture         #Param      %Param  Active   Train\n",
      "--------------------------------------------------------------------------------\n",
      "mlm_inv_S                bottleneck        7,387,776       6.748       1       1\n",
      "--------------------------------------------------------------------------------\n",
      "Full model                               109,482,240     100.000               0\n",
      "================================================================================\n",
      "trainable params: 8603325 || all params: 118085565 || trainable%: 7.285670352680279\n",
      "None\n"
     ]
    },
    {
     "name": "stderr",
     "output_type": "stream",
     "text": [
      "LOCAL_RANK: 0 - CUDA_VISIBLE_DEVICES: [0]\n"
     ]
    },
    {
     "data": {
      "application/vnd.jupyter.widget-view+json": {
       "model_id": "cc878eaf6554492ab0f757b5de05ccd1",
       "version_major": 2,
       "version_minor": 0
      },
      "text/plain": [
       "Testing: |          | 0/? [00:00<?, ?it/s]"
      ]
     },
     "metadata": {},
     "output_type": "display_data"
    },
    {
     "data": {
      "text/html": [
       "<pre style=\"white-space:pre;overflow-x:auto;line-height:normal;font-family:Menlo,'DejaVu Sans Mono',consolas,'Courier New',monospace\">┏━━━━━━━━━━━━━━━━━━━━━━━━━━━┳━━━━━━━━━━━━━━━━━━━━━━━━━━━┓\n",
       "┃<span style=\"font-weight: bold\">        Test metric        </span>┃<span style=\"font-weight: bold\">       DataLoader 0        </span>┃\n",
       "┡━━━━━━━━━━━━━━━━━━━━━━━━━━━╇━━━━━━━━━━━━━━━━━━━━━━━━━━━┩\n",
       "│<span style=\"color: #008080; text-decoration-color: #008080\">   source_test/accuracy    </span>│<span style=\"color: #800080; text-decoration-color: #800080\">    0.8099797964096069     </span>│\n",
       "│<span style=\"color: #008080; text-decoration-color: #008080\">      source_test/f1       </span>│<span style=\"color: #800080; text-decoration-color: #800080\">    0.8099653720855713     </span>│\n",
       "│<span style=\"color: #008080; text-decoration-color: #008080\">     source_test/loss      </span>│<span style=\"color: #800080; text-decoration-color: #800080\">    0.5057679414749146     </span>│\n",
       "│<span style=\"color: #008080; text-decoration-color: #008080\">   target_test/accuracy    </span>│<span style=\"color: #800080; text-decoration-color: #800080\">    0.7192540168762207     </span>│\n",
       "│<span style=\"color: #008080; text-decoration-color: #008080\">      target_test/f1       </span>│<span style=\"color: #800080; text-decoration-color: #800080\">    0.7194077968597412     </span>│\n",
       "│<span style=\"color: #008080; text-decoration-color: #008080\">     target_test/loss      </span>│<span style=\"color: #800080; text-decoration-color: #800080\">    0.7253218293190002     </span>│\n",
       "└───────────────────────────┴───────────────────────────┘\n",
       "</pre>\n"
      ],
      "text/plain": [
       "┏━━━━━━━━━━━━━━━━━━━━━━━━━━━┳━━━━━━━━━━━━━━━━━━━━━━━━━━━┓\n",
       "┃\u001b[1m \u001b[0m\u001b[1m       Test metric       \u001b[0m\u001b[1m \u001b[0m┃\u001b[1m \u001b[0m\u001b[1m      DataLoader 0       \u001b[0m\u001b[1m \u001b[0m┃\n",
       "┡━━━━━━━━━━━━━━━━━━━━━━━━━━━╇━━━━━━━━━━━━━━━━━━━━━━━━━━━┩\n",
       "│\u001b[36m \u001b[0m\u001b[36m  source_test/accuracy   \u001b[0m\u001b[36m \u001b[0m│\u001b[35m \u001b[0m\u001b[35m   0.8099797964096069    \u001b[0m\u001b[35m \u001b[0m│\n",
       "│\u001b[36m \u001b[0m\u001b[36m     source_test/f1      \u001b[0m\u001b[36m \u001b[0m│\u001b[35m \u001b[0m\u001b[35m   0.8099653720855713    \u001b[0m\u001b[35m \u001b[0m│\n",
       "│\u001b[36m \u001b[0m\u001b[36m    source_test/loss     \u001b[0m\u001b[36m \u001b[0m│\u001b[35m \u001b[0m\u001b[35m   0.5057679414749146    \u001b[0m\u001b[35m \u001b[0m│\n",
       "│\u001b[36m \u001b[0m\u001b[36m  target_test/accuracy   \u001b[0m\u001b[36m \u001b[0m│\u001b[35m \u001b[0m\u001b[35m   0.7192540168762207    \u001b[0m\u001b[35m \u001b[0m│\n",
       "│\u001b[36m \u001b[0m\u001b[36m     target_test/f1      \u001b[0m\u001b[36m \u001b[0m│\u001b[35m \u001b[0m\u001b[35m   0.7194077968597412    \u001b[0m\u001b[35m \u001b[0m│\n",
       "│\u001b[36m \u001b[0m\u001b[36m    target_test/loss     \u001b[0m\u001b[36m \u001b[0m│\u001b[35m \u001b[0m\u001b[35m   0.7253218293190002    \u001b[0m\u001b[35m \u001b[0m│\n",
       "└───────────────────────────┴───────────────────────────┘\n"
      ]
     },
     "metadata": {},
     "output_type": "display_data"
    },
    {
     "name": "stdout",
     "output_type": "stream",
     "text": [
      "Test Results on Best Model: [{'source_test/loss': 0.5057679414749146, 'source_test/accuracy': 0.8099797964096069, 'source_test/f1': 0.8099653720855713, 'target_test/loss': 0.7253218293190002, 'target_test/accuracy': 0.7192540168762207, 'target_test/f1': 0.7194077968597412}]\n"
     ]
    },
    {
     "name": "stderr",
     "output_type": "stream",
     "text": [
      "Some weights of BertAdapterModel were not initialized from the model checkpoint at bert-base-uncased and are newly initialized: ['heads.default.3.bias']\n",
      "You should probably TRAIN this model on a down-stream task to be able to use it for predictions and inference.\n"
     ]
    },
    {
     "name": "stdout",
     "output_type": "stream",
     "text": [
      "================================================================================\n",
      "Name                     Architecture         #Param      %Param  Active   Train\n",
      "--------------------------------------------------------------------------------\n",
      "mlm_inv_S                bottleneck        7,387,776       6.748       1       1\n",
      "--------------------------------------------------------------------------------\n",
      "Full model                               109,482,240     100.000               0\n",
      "================================================================================\n",
      "trainable params: 8603325 || all params: 118085565 || trainable%: 7.285670352680279\n",
      "None\n"
     ]
    },
    {
     "name": "stderr",
     "output_type": "stream",
     "text": [
      "LOCAL_RANK: 0 - CUDA_VISIBLE_DEVICES: [0]\n"
     ]
    },
    {
     "data": {
      "application/vnd.jupyter.widget-view+json": {
       "model_id": "b075d1ef61c14479ae957c2ff48f2281",
       "version_major": 2,
       "version_minor": 0
      },
      "text/plain": [
       "Testing: |          | 0/? [00:00<?, ?it/s]"
      ]
     },
     "metadata": {},
     "output_type": "display_data"
    },
    {
     "data": {
      "text/html": [
       "<pre style=\"white-space:pre;overflow-x:auto;line-height:normal;font-family:Menlo,'DejaVu Sans Mono',consolas,'Courier New',monospace\">┏━━━━━━━━━━━━━━━━━━━━━━━━━━━┳━━━━━━━━━━━━━━━━━━━━━━━━━━━┓\n",
       "┃<span style=\"font-weight: bold\">        Test metric        </span>┃<span style=\"font-weight: bold\">       DataLoader 0        </span>┃\n",
       "┡━━━━━━━━━━━━━━━━━━━━━━━━━━━╇━━━━━━━━━━━━━━━━━━━━━━━━━━━┩\n",
       "│<span style=\"color: #008080; text-decoration-color: #008080\">   source_test/accuracy    </span>│<span style=\"color: #800080; text-decoration-color: #800080\">    0.8099797964096069     </span>│\n",
       "│<span style=\"color: #008080; text-decoration-color: #008080\">      source_test/f1       </span>│<span style=\"color: #800080; text-decoration-color: #800080\">    0.8099653720855713     </span>│\n",
       "│<span style=\"color: #008080; text-decoration-color: #008080\">     source_test/loss      </span>│<span style=\"color: #800080; text-decoration-color: #800080\">    0.5057679414749146     </span>│\n",
       "│<span style=\"color: #008080; text-decoration-color: #008080\">   target_test/accuracy    </span>│<span style=\"color: #800080; text-decoration-color: #800080\">    0.7192540168762207     </span>│\n",
       "│<span style=\"color: #008080; text-decoration-color: #008080\">      target_test/f1       </span>│<span style=\"color: #800080; text-decoration-color: #800080\">    0.7194077968597412     </span>│\n",
       "│<span style=\"color: #008080; text-decoration-color: #008080\">     target_test/loss      </span>│<span style=\"color: #800080; text-decoration-color: #800080\">    0.7253218293190002     </span>│\n",
       "└───────────────────────────┴───────────────────────────┘\n",
       "</pre>\n"
      ],
      "text/plain": [
       "┏━━━━━━━━━━━━━━━━━━━━━━━━━━━┳━━━━━━━━━━━━━━━━━━━━━━━━━━━┓\n",
       "┃\u001b[1m \u001b[0m\u001b[1m       Test metric       \u001b[0m\u001b[1m \u001b[0m┃\u001b[1m \u001b[0m\u001b[1m      DataLoader 0       \u001b[0m\u001b[1m \u001b[0m┃\n",
       "┡━━━━━━━━━━━━━━━━━━━━━━━━━━━╇━━━━━━━━━━━━━━━━━━━━━━━━━━━┩\n",
       "│\u001b[36m \u001b[0m\u001b[36m  source_test/accuracy   \u001b[0m\u001b[36m \u001b[0m│\u001b[35m \u001b[0m\u001b[35m   0.8099797964096069    \u001b[0m\u001b[35m \u001b[0m│\n",
       "│\u001b[36m \u001b[0m\u001b[36m     source_test/f1      \u001b[0m\u001b[36m \u001b[0m│\u001b[35m \u001b[0m\u001b[35m   0.8099653720855713    \u001b[0m\u001b[35m \u001b[0m│\n",
       "│\u001b[36m \u001b[0m\u001b[36m    source_test/loss     \u001b[0m\u001b[36m \u001b[0m│\u001b[35m \u001b[0m\u001b[35m   0.5057679414749146    \u001b[0m\u001b[35m \u001b[0m│\n",
       "│\u001b[36m \u001b[0m\u001b[36m  target_test/accuracy   \u001b[0m\u001b[36m \u001b[0m│\u001b[35m \u001b[0m\u001b[35m   0.7192540168762207    \u001b[0m\u001b[35m \u001b[0m│\n",
       "│\u001b[36m \u001b[0m\u001b[36m     target_test/f1      \u001b[0m\u001b[36m \u001b[0m│\u001b[35m \u001b[0m\u001b[35m   0.7194077968597412    \u001b[0m\u001b[35m \u001b[0m│\n",
       "│\u001b[36m \u001b[0m\u001b[36m    target_test/loss     \u001b[0m\u001b[36m \u001b[0m│\u001b[35m \u001b[0m\u001b[35m   0.7253218293190002    \u001b[0m\u001b[35m \u001b[0m│\n",
       "└───────────────────────────┴───────────────────────────┘\n"
      ]
     },
     "metadata": {},
     "output_type": "display_data"
    },
    {
     "name": "stdout",
     "output_type": "stream",
     "text": [
      "Test Results on saved epoch: [{'source_test/loss': 0.5057679414749146, 'source_test/accuracy': 0.8099797964096069, 'source_test/f1': 0.8099653720855713, 'target_test/loss': 0.7253218293190002, 'target_test/accuracy': 0.7192540168762207, 'target_test/f1': 0.7194077968597412}]\n"
     ]
    },
    {
     "data": {
      "application/vnd.jupyter.widget-view+json": {
       "model_id": "2c3bed8e957b427a997990609b0ad13e",
       "version_major": 2,
       "version_minor": 0
      },
      "text/plain": [
       "VBox(children=(Label(value='0.002 MB of 0.002 MB uploaded\\r'), FloatProgress(value=1.0, max=1.0)))"
      ]
     },
     "metadata": {},
     "output_type": "display_data"
    },
    {
     "data": {
      "text/html": [
       "<style>\n",
       "    table.wandb td:nth-child(1) { padding: 0 10px; text-align: left ; width: auto;} td:nth-child(2) {text-align: left ; width: 100%}\n",
       "    .wandb-row { display: flex; flex-direction: row; flex-wrap: wrap; justify-content: flex-start; width: 100% }\n",
       "    .wandb-col { display: flex; flex-direction: column; flex-basis: 100%; flex: 1; padding: 10px; }\n",
       "    </style>\n",
       "<div class=\"wandb-row\"><div class=\"wandb-col\"><h3>Run history:</h3><br/><table class=\"wandb\"><tr><td>epoch</td><td>▁▁▁▁▁▁▁▁▂▂▂▂▂▂▂▂▄▄▄▄▄▄▄▄▅▅▅▅▅▅▅▅▇▇▇▇▇▇▇█</td></tr><tr><td>source_test/accuracy</td><td>▁██</td></tr><tr><td>source_test/f1</td><td>▁██</td></tr><tr><td>source_test/loss</td><td>█▁▁</td></tr><tr><td>source_val/accuracy</td><td>▁▆█▆▆</td></tr><tr><td>source_val/f1</td><td>▁▅█▇▆</td></tr><tr><td>source_val/loss</td><td>▆▂▁▄█</td></tr><tr><td>target_test/accuracy</td><td>▁██</td></tr><tr><td>target_test/f1</td><td>█▁▁</td></tr><tr><td>target_test/loss</td><td>█▁▁</td></tr><tr><td>target_val/accuracy</td><td>▁▆█▇▆</td></tr><tr><td>target_val/f1</td><td>▁▆██▇</td></tr><tr><td>target_val/loss</td><td>▃▁▁▅█</td></tr><tr><td>train_accuracy</td><td>▁▅▄▅▄▃▆▄▄▆▅▅▅▃▅▆▅▆▆▇▅▅▆▄▆▅█▇▆▅▅▅▇█▆▅█▅▇█</td></tr><tr><td>train_f1</td><td>▁▅▄▅▄▃▆▄▄▆▅▅▅▃▅▆▅▆▆▇▅▅▆▄▆▅█▇▆▅▅▅▇█▆▅█▅▇█</td></tr><tr><td>train_loss</td><td>█▆▆▅▆▆▄▆▆▄▄▄▃▇▅▅▃▃▃▃▄▄▃▅▃▃▂▂▂▃▅▄▂▁▃▅▁▃▂▁</td></tr><tr><td>trainer/global_step</td><td>▁▁▁▂▂▂▂▂▂▃▃▃▃▃▄▄▄▄▄▄▅▅▅▅▅▆▆▆▆▆▆▇▇▇▇▇▇███</td></tr><tr><td>val_loss</td><td>▆▂▁▄█</td></tr></table><br/></div><div class=\"wandb-col\"><h3>Run summary:</h3><br/><table class=\"wandb\"><tr><td>epoch</td><td>5</td></tr><tr><td>source_test/accuracy</td><td>0.80998</td></tr><tr><td>source_test/f1</td><td>0.80997</td></tr><tr><td>source_test/loss</td><td>0.50577</td></tr><tr><td>source_val/accuracy</td><td>0.7967</td></tr><tr><td>source_val/f1</td><td>0.79898</td></tr><tr><td>source_val/loss</td><td>0.59814</td></tr><tr><td>target_test/accuracy</td><td>0.71925</td></tr><tr><td>target_test/f1</td><td>0.71941</td></tr><tr><td>target_test/loss</td><td>0.72532</td></tr><tr><td>target_val/accuracy</td><td>0.73006</td></tr><tr><td>target_val/f1</td><td>0.73498</td></tr><tr><td>target_val/loss</td><td>0.79973</td></tr><tr><td>train_accuracy</td><td>0.90625</td></tr><tr><td>train_f1</td><td>0.90774</td></tr><tr><td>train_loss</td><td>0.20062</td></tr><tr><td>trainer/global_step</td><td>10875</td></tr><tr><td>val_loss</td><td>0.59814</td></tr></table><br/></div></div>"
      ],
      "text/plain": [
       "<IPython.core.display.HTML object>"
      ]
     },
     "metadata": {},
     "output_type": "display_data"
    },
    {
     "data": {
      "text/html": [
       " View run <strong style=\"color:#cdcd00\">TRS_inv_run_with_seed_10</strong> at: <a href='https://wandb.ai/mrawhani/ablations/runs/lmlyszm4' target=\"_blank\">https://wandb.ai/mrawhani/ablations/runs/lmlyszm4</a><br/> View project at: <a href='https://wandb.ai/mrawhani/ablations' target=\"_blank\">https://wandb.ai/mrawhani/ablations</a><br/>Synced 5 W&B file(s), 0 media file(s), 0 artifact file(s) and 0 other file(s)"
      ],
      "text/plain": [
       "<IPython.core.display.HTML object>"
      ]
     },
     "metadata": {},
     "output_type": "display_data"
    },
    {
     "data": {
      "text/html": [
       "Find logs at: <code>./wandb/run-20240707_102858-lmlyszm4/logs</code>"
      ],
      "text/plain": [
       "<IPython.core.display.HTML object>"
      ]
     },
     "metadata": {},
     "output_type": "display_data"
    },
    {
     "data": {
      "application/vnd.jupyter.widget-view+json": {
       "model_id": "2d0d6d1558d94a66bf9dcdcaa73df9b0",
       "version_major": 2,
       "version_minor": 0
      },
      "text/plain": [
       "VBox(children=(Label(value='Waiting for wandb.init()...\\r'), FloatProgress(value=0.011112581566622894, max=1.0…"
      ]
     },
     "metadata": {},
     "output_type": "display_data"
    },
    {
     "data": {
      "text/html": [
       "wandb version 0.17.4 is available!  To upgrade, please run:\n",
       " $ pip install wandb --upgrade"
      ],
      "text/plain": [
       "<IPython.core.display.HTML object>"
      ]
     },
     "metadata": {},
     "output_type": "display_data"
    },
    {
     "data": {
      "text/html": [
       "Tracking run with wandb version 0.17.0"
      ],
      "text/plain": [
       "<IPython.core.display.HTML object>"
      ]
     },
     "metadata": {},
     "output_type": "display_data"
    },
    {
     "data": {
      "text/html": [
       "Run data is saved locally in <code>/home/guest/Desktop/projects/fourth-expeiments/domain_adaptation_project/inv2/slate/wandb/run-20240707_111214-7ctcqacp</code>"
      ],
      "text/plain": [
       "<IPython.core.display.HTML object>"
      ]
     },
     "metadata": {},
     "output_type": "display_data"
    },
    {
     "data": {
      "text/html": [
       "Syncing run <strong><a href='https://wandb.ai/mrawhani/ablations/runs/7ctcqacp' target=\"_blank\">TRS_inv_run_with_seed_100</a></strong> to <a href='https://wandb.ai/mrawhani/ablations' target=\"_blank\">Weights & Biases</a> (<a href='https://wandb.me/run' target=\"_blank\">docs</a>)<br/>"
      ],
      "text/plain": [
       "<IPython.core.display.HTML object>"
      ]
     },
     "metadata": {},
     "output_type": "display_data"
    },
    {
     "data": {
      "text/html": [
       " View project at <a href='https://wandb.ai/mrawhani/ablations' target=\"_blank\">https://wandb.ai/mrawhani/ablations</a>"
      ],
      "text/plain": [
       "<IPython.core.display.HTML object>"
      ]
     },
     "metadata": {},
     "output_type": "display_data"
    },
    {
     "data": {
      "text/html": [
       " View run at <a href='https://wandb.ai/mrawhani/ablations/runs/7ctcqacp' target=\"_blank\">https://wandb.ai/mrawhani/ablations/runs/7ctcqacp</a>"
      ],
      "text/plain": [
       "<IPython.core.display.HTML object>"
      ]
     },
     "metadata": {},
     "output_type": "display_data"
    },
    {
     "name": "stderr",
     "output_type": "stream",
     "text": [
      "Seed set to 100\n",
      "/home/guest/.cache/pypoetry/virtualenvs/fourth-experments-OVNdUUAn-py3.8/lib/python3.8/site-packages/huggingface_hub/file_download.py:1132: FutureWarning: `resume_download` is deprecated and will be removed in version 1.0.0. Downloads always resume when possible. If you want to force a new download, use `force_download=True`.\n",
      "  warnings.warn(\n"
     ]
    },
    {
     "name": "stdout",
     "output_type": "stream",
     "text": [
      "prinssst: travel\n",
      "print: slate\n",
      "print: 69575\n",
      "prinssst: travel\n",
      "print: slate\n",
      "print: 69575\n"
     ]
    },
    {
     "name": "stderr",
     "output_type": "stream",
     "text": [
      "Some weights of BertAdapterModel were not initialized from the model checkpoint at bert-base-uncased and are newly initialized: ['heads.default.3.bias']\n",
      "You should probably TRAIN this model on a down-stream task to be able to use it for predictions and inference.\n",
      "/home/guest/.cache/pypoetry/virtualenvs/fourth-experments-OVNdUUAn-py3.8/lib/python3.8/site-packages/torch/utils/data/dataloader.py:558: UserWarning: This DataLoader will create 16 worker processes in total. Our suggested max number of worker in current system is 12, which is smaller than what this DataLoader is going to create. Please be aware that excessive worker creation might get DataLoader running slow or even freeze, lower the worker number to avoid potential slowness/freeze if necessary.\n",
      "  warnings.warn(_create_warning_msg(\n",
      "GPU available: True (cuda), used: True\n",
      "TPU available: False, using: 0 TPU cores\n",
      "IPU available: False, using: 0 IPUs\n",
      "HPU available: False, using: 0 HPUs\n",
      "`Trainer(limit_train_batches=1.0)` was configured so 100% of the batches per epoch will be used..\n",
      "`Trainer(limit_val_batches=1.0)` was configured so 100% of the batches will be used..\n",
      "`Trainer(limit_test_batches=1.0)` was configured so 100% of the batches will be used..\n",
      "/home/guest/.cache/pypoetry/virtualenvs/fourth-experments-OVNdUUAn-py3.8/lib/python3.8/site-packages/pytorch_lightning/loggers/wandb.py:396: There is a wandb run already in progress and newly created instances of `WandbLogger` will reuse this run. If this is not desired, call `wandb.finish()` before instantiating `WandbLogger`.\n",
      "LOCAL_RANK: 0 - CUDA_VISIBLE_DEVICES: [0]\n"
     ]
    },
    {
     "name": "stdout",
     "output_type": "stream",
     "text": [
      "================================================================================\n",
      "Name                     Architecture         #Param      %Param  Active   Train\n",
      "--------------------------------------------------------------------------------\n",
      "mlm_inv_S                bottleneck        7,387,776       6.748       1       1\n",
      "--------------------------------------------------------------------------------\n",
      "Full model                               109,482,240     100.000               0\n",
      "================================================================================\n",
      "trainable params: 8603325 || all params: 118085565 || trainable%: 7.285670352680279\n",
      "None\n"
     ]
    },
    {
     "name": "stderr",
     "output_type": "stream",
     "text": [
      "\n",
      "  | Name      | Type               | Params\n",
      "-------------------------------------------------\n",
      "0 | model     | BertAdapterModel   | 118 M \n",
      "1 | criterion | CrossEntropyLoss   | 0     \n",
      "2 | accuracy  | MulticlassAccuracy | 0     \n",
      "3 | f1        | MulticlassF1Score  | 0     \n",
      "4 | softmax   | Softmax            | 0     \n",
      "-------------------------------------------------\n",
      "8.6 M     Trainable params\n",
      "109 M     Non-trainable params\n",
      "118 M     Total params\n",
      "472.342   Total estimated model params size (MB)\n"
     ]
    },
    {
     "data": {
      "application/vnd.jupyter.widget-view+json": {
       "model_id": "2bd6d71cd7bb4f61993e878ab323050f",
       "version_major": 2,
       "version_minor": 0
      },
      "text/plain": [
       "Sanity Checking: |          | 0/? [00:00<?, ?it/s]"
      ]
     },
     "metadata": {},
     "output_type": "display_data"
    },
    {
     "name": "stdout",
     "output_type": "stream",
     "text": [
      "target_val/loss: 1.1098642349243164\n",
      "target_val/accuracy: 0.28125\n",
      "target_val/f1: 0.32904329895973206\n",
      "source_val/loss: 1.0971403121948242\n",
      "source_val/accuracy: 0.34375\n",
      "source_val/f1: 0.4077877104282379\n"
     ]
    },
    {
     "data": {
      "application/vnd.jupyter.widget-view+json": {
       "model_id": "ea483df9454d4b3a8772499a2b706d79",
       "version_major": 2,
       "version_minor": 0
      },
      "text/plain": [
       "Training: |          | 0/? [00:00<?, ?it/s]"
      ]
     },
     "metadata": {},
     "output_type": "display_data"
    },
    {
     "data": {
      "application/vnd.jupyter.widget-view+json": {
       "model_id": "c5abaf55004b4a0184f820308e50cff7",
       "version_major": 2,
       "version_minor": 0
      },
      "text/plain": [
       "Validation: |          | 0/? [00:00<?, ?it/s]"
      ]
     },
     "metadata": {},
     "output_type": "display_data"
    },
    {
     "name": "stdout",
     "output_type": "stream",
     "text": [
      "target_val/loss: 0.7316504120826721\n",
      "target_val/accuracy: 0.6935487389564514\n",
      "target_val/f1: 0.6933726072311401\n",
      "source_val/loss: 0.5854132771492004\n",
      "source_val/accuracy: 0.7692338824272156\n",
      "source_val/f1: 0.7681252360343933\n"
     ]
    },
    {
     "data": {
      "application/vnd.jupyter.widget-view+json": {
       "model_id": "7d8daa20a73d40a987bf2d04367b94ca",
       "version_major": 2,
       "version_minor": 0
      },
      "text/plain": [
       "Validation: |          | 0/? [00:00<?, ?it/s]"
      ]
     },
     "metadata": {},
     "output_type": "display_data"
    },
    {
     "name": "stdout",
     "output_type": "stream",
     "text": [
      "target_val/loss: 0.691678524017334\n",
      "target_val/accuracy: 0.7282513976097107\n",
      "target_val/f1: 0.7280209064483643\n",
      "source_val/loss: 0.5407392382621765\n",
      "source_val/accuracy: 0.7895552515983582\n",
      "source_val/f1: 0.7889453172683716\n"
     ]
    },
    {
     "data": {
      "application/vnd.jupyter.widget-view+json": {
       "model_id": "d960eb347e8348c8a134642ee1c17e9d",
       "version_major": 2,
       "version_minor": 0
      },
      "text/plain": [
       "Validation: |          | 0/? [00:00<?, ?it/s]"
      ]
     },
     "metadata": {},
     "output_type": "display_data"
    },
    {
     "name": "stdout",
     "output_type": "stream",
     "text": [
      "target_val/loss: 0.6810680627822876\n",
      "target_val/accuracy: 0.7307932376861572\n",
      "target_val/f1: 0.731635570526123\n",
      "source_val/loss: 0.5197728872299194\n",
      "source_val/accuracy: 0.8020810484886169\n",
      "source_val/f1: 0.8025223612785339\n"
     ]
    },
    {
     "data": {
      "application/vnd.jupyter.widget-view+json": {
       "model_id": "86aebb67a5db44b6b5eaff82f44d80b7",
       "version_major": 2,
       "version_minor": 0
      },
      "text/plain": [
       "Validation: |          | 0/? [00:00<?, ?it/s]"
      ]
     },
     "metadata": {},
     "output_type": "display_data"
    },
    {
     "name": "stdout",
     "output_type": "stream",
     "text": [
      "target_val/loss: 0.721956193447113\n",
      "target_val/accuracy: 0.7316972017288208\n",
      "target_val/f1: 0.7334035634994507\n",
      "source_val/loss: 0.5474874377250671\n",
      "source_val/accuracy: 0.7997498512268066\n",
      "source_val/f1: 0.8002434372901917\n"
     ]
    },
    {
     "data": {
      "application/vnd.jupyter.widget-view+json": {
       "model_id": "5ab1d3ccfe324ea9b0e383e68afdefdb",
       "version_major": 2,
       "version_minor": 0
      },
      "text/plain": [
       "Validation: |          | 0/? [00:00<?, ?it/s]"
      ]
     },
     "metadata": {},
     "output_type": "display_data"
    },
    {
     "name": "stderr",
     "output_type": "stream",
     "text": [
      "`Trainer.fit` stopped: `max_epochs=5` reached.\n"
     ]
    },
    {
     "name": "stdout",
     "output_type": "stream",
     "text": [
      "target_val/loss: 0.7742773294448853\n",
      "target_val/accuracy: 0.7272998690605164\n",
      "target_val/f1: 0.7295273542404175\n",
      "source_val/loss: 0.5760067701339722\n",
      "source_val/accuracy: 0.8018636107444763\n",
      "source_val/f1: 0.8029296398162842\n",
      "Best checkpoint path: ./lightning_logs/7ctcqacp/checkpoints/task-TRS-epoch=02-val_loss=0.52.ckpt\n",
      "Saved epoch checkpoint path: ./lightning_logs/7ctcqacp/checkpoints/TRS-epoch=02.ckpt\n"
     ]
    },
    {
     "name": "stderr",
     "output_type": "stream",
     "text": [
      "LOCAL_RANK: 0 - CUDA_VISIBLE_DEVICES: [0]\n"
     ]
    },
    {
     "name": "stdout",
     "output_type": "stream",
     "text": [
      "prinssst: travel\n",
      "print: slate\n",
      "print: 69575\n"
     ]
    },
    {
     "data": {
      "application/vnd.jupyter.widget-view+json": {
       "model_id": "188215e3ea4e4ebab645a95ea0706a13",
       "version_major": 2,
       "version_minor": 0
      },
      "text/plain": [
       "Testing: |          | 0/? [00:00<?, ?it/s]"
      ]
     },
     "metadata": {},
     "output_type": "display_data"
    },
    {
     "data": {
      "text/html": [
       "<pre style=\"white-space:pre;overflow-x:auto;line-height:normal;font-family:Menlo,'DejaVu Sans Mono',consolas,'Courier New',monospace\">┏━━━━━━━━━━━━━━━━━━━━━━━━━━━┳━━━━━━━━━━━━━━━━━━━━━━━━━━━┓\n",
       "┃<span style=\"font-weight: bold\">        Test metric        </span>┃<span style=\"font-weight: bold\">       DataLoader 0        </span>┃\n",
       "┡━━━━━━━━━━━━━━━━━━━━━━━━━━━╇━━━━━━━━━━━━━━━━━━━━━━━━━━━┩\n",
       "│<span style=\"color: #008080; text-decoration-color: #008080\">   source_test/accuracy    </span>│<span style=\"color: #800080; text-decoration-color: #800080\">    0.8140120506286621     </span>│\n",
       "│<span style=\"color: #008080; text-decoration-color: #008080\">      source_test/f1       </span>│<span style=\"color: #800080; text-decoration-color: #800080\">    0.8139877319335938     </span>│\n",
       "│<span style=\"color: #008080; text-decoration-color: #008080\">     source_test/loss      </span>│<span style=\"color: #800080; text-decoration-color: #800080\">    0.5420547723770142     </span>│\n",
       "│<span style=\"color: #008080; text-decoration-color: #008080\">   target_test/accuracy    </span>│<span style=\"color: #800080; text-decoration-color: #800080\">    0.7283266186714172     </span>│\n",
       "│<span style=\"color: #008080; text-decoration-color: #008080\">      target_test/f1       </span>│<span style=\"color: #800080; text-decoration-color: #800080\">    0.7308688759803772     </span>│\n",
       "│<span style=\"color: #008080; text-decoration-color: #008080\">     target_test/loss      </span>│<span style=\"color: #800080; text-decoration-color: #800080\">    0.7979244589805603     </span>│\n",
       "└───────────────────────────┴───────────────────────────┘\n",
       "</pre>\n"
      ],
      "text/plain": [
       "┏━━━━━━━━━━━━━━━━━━━━━━━━━━━┳━━━━━━━━━━━━━━━━━━━━━━━━━━━┓\n",
       "┃\u001b[1m \u001b[0m\u001b[1m       Test metric       \u001b[0m\u001b[1m \u001b[0m┃\u001b[1m \u001b[0m\u001b[1m      DataLoader 0       \u001b[0m\u001b[1m \u001b[0m┃\n",
       "┡━━━━━━━━━━━━━━━━━━━━━━━━━━━╇━━━━━━━━━━━━━━━━━━━━━━━━━━━┩\n",
       "│\u001b[36m \u001b[0m\u001b[36m  source_test/accuracy   \u001b[0m\u001b[36m \u001b[0m│\u001b[35m \u001b[0m\u001b[35m   0.8140120506286621    \u001b[0m\u001b[35m \u001b[0m│\n",
       "│\u001b[36m \u001b[0m\u001b[36m     source_test/f1      \u001b[0m\u001b[36m \u001b[0m│\u001b[35m \u001b[0m\u001b[35m   0.8139877319335938    \u001b[0m\u001b[35m \u001b[0m│\n",
       "│\u001b[36m \u001b[0m\u001b[36m    source_test/loss     \u001b[0m\u001b[36m \u001b[0m│\u001b[35m \u001b[0m\u001b[35m   0.5420547723770142    \u001b[0m\u001b[35m \u001b[0m│\n",
       "│\u001b[36m \u001b[0m\u001b[36m  target_test/accuracy   \u001b[0m\u001b[36m \u001b[0m│\u001b[35m \u001b[0m\u001b[35m   0.7283266186714172    \u001b[0m\u001b[35m \u001b[0m│\n",
       "│\u001b[36m \u001b[0m\u001b[36m     target_test/f1      \u001b[0m\u001b[36m \u001b[0m│\u001b[35m \u001b[0m\u001b[35m   0.7308688759803772    \u001b[0m\u001b[35m \u001b[0m│\n",
       "│\u001b[36m \u001b[0m\u001b[36m    target_test/loss     \u001b[0m\u001b[36m \u001b[0m│\u001b[35m \u001b[0m\u001b[35m   0.7979244589805603    \u001b[0m\u001b[35m \u001b[0m│\n",
       "└───────────────────────────┴───────────────────────────┘\n"
      ]
     },
     "metadata": {},
     "output_type": "display_data"
    },
    {
     "name": "stdout",
     "output_type": "stream",
     "text": [
      "Test Results Last Epoch: [{'source_test/loss': 0.5420547723770142, 'source_test/accuracy': 0.8140120506286621, 'source_test/f1': 0.8139877319335938, 'target_test/loss': 0.7979244589805603, 'target_test/accuracy': 0.7283266186714172, 'target_test/f1': 0.7308688759803772}]\n",
      "Best checkpoint path: ./lightning_logs/7ctcqacp/checkpoints/task-TRS-epoch=02-val_loss=0.52.ckpt\n",
      "Saved epoch checkpoint path: ./lightning_logs/7ctcqacp/checkpoints/TRS-epoch=02.ckpt\n"
     ]
    },
    {
     "name": "stderr",
     "output_type": "stream",
     "text": [
      "Some weights of BertAdapterModel were not initialized from the model checkpoint at bert-base-uncased and are newly initialized: ['heads.default.3.bias']\n",
      "You should probably TRAIN this model on a down-stream task to be able to use it for predictions and inference.\n"
     ]
    },
    {
     "name": "stdout",
     "output_type": "stream",
     "text": [
      "================================================================================\n",
      "Name                     Architecture         #Param      %Param  Active   Train\n",
      "--------------------------------------------------------------------------------\n",
      "mlm_inv_S                bottleneck        7,387,776       6.748       1       1\n",
      "--------------------------------------------------------------------------------\n",
      "Full model                               109,482,240     100.000               0\n",
      "================================================================================\n",
      "trainable params: 8603325 || all params: 118085565 || trainable%: 7.285670352680279\n",
      "None\n"
     ]
    },
    {
     "name": "stderr",
     "output_type": "stream",
     "text": [
      "LOCAL_RANK: 0 - CUDA_VISIBLE_DEVICES: [0]\n"
     ]
    },
    {
     "data": {
      "application/vnd.jupyter.widget-view+json": {
       "model_id": "41300c8d1117497fa2479bd879ceff27",
       "version_major": 2,
       "version_minor": 0
      },
      "text/plain": [
       "Testing: |          | 0/? [00:00<?, ?it/s]"
      ]
     },
     "metadata": {},
     "output_type": "display_data"
    },
    {
     "data": {
      "text/html": [
       "<pre style=\"white-space:pre;overflow-x:auto;line-height:normal;font-family:Menlo,'DejaVu Sans Mono',consolas,'Courier New',monospace\">┏━━━━━━━━━━━━━━━━━━━━━━━━━━━┳━━━━━━━━━━━━━━━━━━━━━━━━━━━┓\n",
       "┃<span style=\"font-weight: bold\">        Test metric        </span>┃<span style=\"font-weight: bold\">       DataLoader 0        </span>┃\n",
       "┡━━━━━━━━━━━━━━━━━━━━━━━━━━━╇━━━━━━━━━━━━━━━━━━━━━━━━━━━┩\n",
       "│<span style=\"color: #008080; text-decoration-color: #008080\">   source_test/accuracy    </span>│<span style=\"color: #800080; text-decoration-color: #800080\">          0.8125           </span>│\n",
       "│<span style=\"color: #008080; text-decoration-color: #008080\">      source_test/f1       </span>│<span style=\"color: #800080; text-decoration-color: #800080\">     0.812694787979126     </span>│\n",
       "│<span style=\"color: #008080; text-decoration-color: #008080\">     source_test/loss      </span>│<span style=\"color: #800080; text-decoration-color: #800080\">    0.49569353461265564    </span>│\n",
       "│<span style=\"color: #008080; text-decoration-color: #008080\">   target_test/accuracy    </span>│<span style=\"color: #800080; text-decoration-color: #800080\">    0.7192540168762207     </span>│\n",
       "│<span style=\"color: #008080; text-decoration-color: #008080\">      target_test/f1       </span>│<span style=\"color: #800080; text-decoration-color: #800080\">    0.7198936343193054     </span>│\n",
       "│<span style=\"color: #008080; text-decoration-color: #008080\">     target_test/loss      </span>│<span style=\"color: #800080; text-decoration-color: #800080\">    0.7172739505767822     </span>│\n",
       "└───────────────────────────┴───────────────────────────┘\n",
       "</pre>\n"
      ],
      "text/plain": [
       "┏━━━━━━━━━━━━━━━━━━━━━━━━━━━┳━━━━━━━━━━━━━━━━━━━━━━━━━━━┓\n",
       "┃\u001b[1m \u001b[0m\u001b[1m       Test metric       \u001b[0m\u001b[1m \u001b[0m┃\u001b[1m \u001b[0m\u001b[1m      DataLoader 0       \u001b[0m\u001b[1m \u001b[0m┃\n",
       "┡━━━━━━━━━━━━━━━━━━━━━━━━━━━╇━━━━━━━━━━━━━━━━━━━━━━━━━━━┩\n",
       "│\u001b[36m \u001b[0m\u001b[36m  source_test/accuracy   \u001b[0m\u001b[36m \u001b[0m│\u001b[35m \u001b[0m\u001b[35m         0.8125          \u001b[0m\u001b[35m \u001b[0m│\n",
       "│\u001b[36m \u001b[0m\u001b[36m     source_test/f1      \u001b[0m\u001b[36m \u001b[0m│\u001b[35m \u001b[0m\u001b[35m    0.812694787979126    \u001b[0m\u001b[35m \u001b[0m│\n",
       "│\u001b[36m \u001b[0m\u001b[36m    source_test/loss     \u001b[0m\u001b[36m \u001b[0m│\u001b[35m \u001b[0m\u001b[35m   0.49569353461265564   \u001b[0m\u001b[35m \u001b[0m│\n",
       "│\u001b[36m \u001b[0m\u001b[36m  target_test/accuracy   \u001b[0m\u001b[36m \u001b[0m│\u001b[35m \u001b[0m\u001b[35m   0.7192540168762207    \u001b[0m\u001b[35m \u001b[0m│\n",
       "│\u001b[36m \u001b[0m\u001b[36m     target_test/f1      \u001b[0m\u001b[36m \u001b[0m│\u001b[35m \u001b[0m\u001b[35m   0.7198936343193054    \u001b[0m\u001b[35m \u001b[0m│\n",
       "│\u001b[36m \u001b[0m\u001b[36m    target_test/loss     \u001b[0m\u001b[36m \u001b[0m│\u001b[35m \u001b[0m\u001b[35m   0.7172739505767822    \u001b[0m\u001b[35m \u001b[0m│\n",
       "└───────────────────────────┴───────────────────────────┘\n"
      ]
     },
     "metadata": {},
     "output_type": "display_data"
    },
    {
     "name": "stdout",
     "output_type": "stream",
     "text": [
      "Test Results on Best Model: [{'source_test/loss': 0.49569353461265564, 'source_test/accuracy': 0.8125, 'source_test/f1': 0.812694787979126, 'target_test/loss': 0.7172739505767822, 'target_test/accuracy': 0.7192540168762207, 'target_test/f1': 0.7198936343193054}]\n"
     ]
    },
    {
     "name": "stderr",
     "output_type": "stream",
     "text": [
      "Some weights of BertAdapterModel were not initialized from the model checkpoint at bert-base-uncased and are newly initialized: ['heads.default.3.bias']\n",
      "You should probably TRAIN this model on a down-stream task to be able to use it for predictions and inference.\n"
     ]
    },
    {
     "name": "stdout",
     "output_type": "stream",
     "text": [
      "================================================================================\n",
      "Name                     Architecture         #Param      %Param  Active   Train\n",
      "--------------------------------------------------------------------------------\n",
      "mlm_inv_S                bottleneck        7,387,776       6.748       1       1\n",
      "--------------------------------------------------------------------------------\n",
      "Full model                               109,482,240     100.000               0\n",
      "================================================================================\n",
      "trainable params: 8603325 || all params: 118085565 || trainable%: 7.285670352680279\n",
      "None\n"
     ]
    },
    {
     "name": "stderr",
     "output_type": "stream",
     "text": [
      "LOCAL_RANK: 0 - CUDA_VISIBLE_DEVICES: [0]\n"
     ]
    },
    {
     "data": {
      "application/vnd.jupyter.widget-view+json": {
       "model_id": "0a5b2c7365ad429db7e8ebe97d4763fd",
       "version_major": 2,
       "version_minor": 0
      },
      "text/plain": [
       "Testing: |          | 0/? [00:00<?, ?it/s]"
      ]
     },
     "metadata": {},
     "output_type": "display_data"
    },
    {
     "data": {
      "text/html": [
       "<pre style=\"white-space:pre;overflow-x:auto;line-height:normal;font-family:Menlo,'DejaVu Sans Mono',consolas,'Courier New',monospace\">┏━━━━━━━━━━━━━━━━━━━━━━━━━━━┳━━━━━━━━━━━━━━━━━━━━━━━━━━━┓\n",
       "┃<span style=\"font-weight: bold\">        Test metric        </span>┃<span style=\"font-weight: bold\">       DataLoader 0        </span>┃\n",
       "┡━━━━━━━━━━━━━━━━━━━━━━━━━━━╇━━━━━━━━━━━━━━━━━━━━━━━━━━━┩\n",
       "│<span style=\"color: #008080; text-decoration-color: #008080\">   source_test/accuracy    </span>│<span style=\"color: #800080; text-decoration-color: #800080\">          0.8125           </span>│\n",
       "│<span style=\"color: #008080; text-decoration-color: #008080\">      source_test/f1       </span>│<span style=\"color: #800080; text-decoration-color: #800080\">     0.812694787979126     </span>│\n",
       "│<span style=\"color: #008080; text-decoration-color: #008080\">     source_test/loss      </span>│<span style=\"color: #800080; text-decoration-color: #800080\">    0.49569353461265564    </span>│\n",
       "│<span style=\"color: #008080; text-decoration-color: #008080\">   target_test/accuracy    </span>│<span style=\"color: #800080; text-decoration-color: #800080\">    0.7192540168762207     </span>│\n",
       "│<span style=\"color: #008080; text-decoration-color: #008080\">      target_test/f1       </span>│<span style=\"color: #800080; text-decoration-color: #800080\">    0.7198936343193054     </span>│\n",
       "│<span style=\"color: #008080; text-decoration-color: #008080\">     target_test/loss      </span>│<span style=\"color: #800080; text-decoration-color: #800080\">    0.7172739505767822     </span>│\n",
       "└───────────────────────────┴───────────────────────────┘\n",
       "</pre>\n"
      ],
      "text/plain": [
       "┏━━━━━━━━━━━━━━━━━━━━━━━━━━━┳━━━━━━━━━━━━━━━━━━━━━━━━━━━┓\n",
       "┃\u001b[1m \u001b[0m\u001b[1m       Test metric       \u001b[0m\u001b[1m \u001b[0m┃\u001b[1m \u001b[0m\u001b[1m      DataLoader 0       \u001b[0m\u001b[1m \u001b[0m┃\n",
       "┡━━━━━━━━━━━━━━━━━━━━━━━━━━━╇━━━━━━━━━━━━━━━━━━━━━━━━━━━┩\n",
       "│\u001b[36m \u001b[0m\u001b[36m  source_test/accuracy   \u001b[0m\u001b[36m \u001b[0m│\u001b[35m \u001b[0m\u001b[35m         0.8125          \u001b[0m\u001b[35m \u001b[0m│\n",
       "│\u001b[36m \u001b[0m\u001b[36m     source_test/f1      \u001b[0m\u001b[36m \u001b[0m│\u001b[35m \u001b[0m\u001b[35m    0.812694787979126    \u001b[0m\u001b[35m \u001b[0m│\n",
       "│\u001b[36m \u001b[0m\u001b[36m    source_test/loss     \u001b[0m\u001b[36m \u001b[0m│\u001b[35m \u001b[0m\u001b[35m   0.49569353461265564   \u001b[0m\u001b[35m \u001b[0m│\n",
       "│\u001b[36m \u001b[0m\u001b[36m  target_test/accuracy   \u001b[0m\u001b[36m \u001b[0m│\u001b[35m \u001b[0m\u001b[35m   0.7192540168762207    \u001b[0m\u001b[35m \u001b[0m│\n",
       "│\u001b[36m \u001b[0m\u001b[36m     target_test/f1      \u001b[0m\u001b[36m \u001b[0m│\u001b[35m \u001b[0m\u001b[35m   0.7198936343193054    \u001b[0m\u001b[35m \u001b[0m│\n",
       "│\u001b[36m \u001b[0m\u001b[36m    target_test/loss     \u001b[0m\u001b[36m \u001b[0m│\u001b[35m \u001b[0m\u001b[35m   0.7172739505767822    \u001b[0m\u001b[35m \u001b[0m│\n",
       "└───────────────────────────┴───────────────────────────┘\n"
      ]
     },
     "metadata": {},
     "output_type": "display_data"
    },
    {
     "name": "stdout",
     "output_type": "stream",
     "text": [
      "Test Results on saved epoch: [{'source_test/loss': 0.49569353461265564, 'source_test/accuracy': 0.8125, 'source_test/f1': 0.812694787979126, 'target_test/loss': 0.7172739505767822, 'target_test/accuracy': 0.7192540168762207, 'target_test/f1': 0.7198936343193054}]\n"
     ]
    },
    {
     "data": {
      "application/vnd.jupyter.widget-view+json": {
       "model_id": "170b1abb05d44706a74f4c7b589b222d",
       "version_major": 2,
       "version_minor": 0
      },
      "text/plain": [
       "VBox(children=(Label(value='0.002 MB of 0.002 MB uploaded\\r'), FloatProgress(value=1.0, max=1.0)))"
      ]
     },
     "metadata": {},
     "output_type": "display_data"
    },
    {
     "data": {
      "text/html": [
       "<style>\n",
       "    table.wandb td:nth-child(1) { padding: 0 10px; text-align: left ; width: auto;} td:nth-child(2) {text-align: left ; width: 100%}\n",
       "    .wandb-row { display: flex; flex-direction: row; flex-wrap: wrap; justify-content: flex-start; width: 100% }\n",
       "    .wandb-col { display: flex; flex-direction: column; flex-basis: 100%; flex: 1; padding: 10px; }\n",
       "    </style>\n",
       "<div class=\"wandb-row\"><div class=\"wandb-col\"><h3>Run history:</h3><br/><table class=\"wandb\"><tr><td>epoch</td><td>▁▁▁▁▁▁▁▁▂▂▂▂▂▂▂▂▄▄▄▄▄▄▄▄▅▅▅▅▅▅▅▅▇▇▇▇▇▇▇█</td></tr><tr><td>source_test/accuracy</td><td>█▁▁</td></tr><tr><td>source_test/f1</td><td>█▁▁</td></tr><tr><td>source_test/loss</td><td>█▁▁</td></tr><tr><td>source_val/accuracy</td><td>▁▅███</td></tr><tr><td>source_val/f1</td><td>▁▅█▇█</td></tr><tr><td>source_val/loss</td><td>█▃▁▄▇</td></tr><tr><td>target_test/accuracy</td><td>█▁▁</td></tr><tr><td>target_test/f1</td><td>█▁▁</td></tr><tr><td>target_test/loss</td><td>█▁▁</td></tr><tr><td>target_val/accuracy</td><td>▁▇██▇</td></tr><tr><td>target_val/f1</td><td>▁▇██▇</td></tr><tr><td>target_val/loss</td><td>▅▂▁▄█</td></tr><tr><td>train_accuracy</td><td>▁▅▄▂▂▂▆▃▅▅▅▂▅▂▂▃▅▅▅▇▅▄▇▆▇▇▆█▅▄▆▅▇█▅▃█▇██</td></tr><tr><td>train_f1</td><td>▁▅▄▂▃▂▆▃▅▅▅▃▅▂▃▄▅▅▅▇▅▄▇▆▇▇▆█▆▄▆▅▇█▅▄█▇██</td></tr><tr><td>train_loss</td><td>█▅▆▆▆▆▄▅▆▅▅▄▄█▆▅▄▄▃▃▃▅▃▅▃▂▂▂▄▅▃▅▃▁▄▆▁▁▁▁</td></tr><tr><td>trainer/global_step</td><td>▁▁▁▂▂▂▂▂▂▃▃▃▃▃▄▄▄▄▄▄▅▅▅▅▅▆▆▆▆▆▆▇▇▇▇▇▇███</td></tr><tr><td>val_loss</td><td>█▃▁▄▇</td></tr></table><br/></div><div class=\"wandb-col\"><h3>Run summary:</h3><br/><table class=\"wandb\"><tr><td>epoch</td><td>5</td></tr><tr><td>source_test/accuracy</td><td>0.8125</td></tr><tr><td>source_test/f1</td><td>0.81269</td></tr><tr><td>source_test/loss</td><td>0.49569</td></tr><tr><td>source_val/accuracy</td><td>0.80186</td></tr><tr><td>source_val/f1</td><td>0.80293</td></tr><tr><td>source_val/loss</td><td>0.57601</td></tr><tr><td>target_test/accuracy</td><td>0.71925</td></tr><tr><td>target_test/f1</td><td>0.71989</td></tr><tr><td>target_test/loss</td><td>0.71727</td></tr><tr><td>target_val/accuracy</td><td>0.7273</td></tr><tr><td>target_val/f1</td><td>0.72953</td></tr><tr><td>target_val/loss</td><td>0.77428</td></tr><tr><td>train_accuracy</td><td>0.90625</td></tr><tr><td>train_f1</td><td>0.90625</td></tr><tr><td>train_loss</td><td>0.25694</td></tr><tr><td>trainer/global_step</td><td>10875</td></tr><tr><td>val_loss</td><td>0.57601</td></tr></table><br/></div></div>"
      ],
      "text/plain": [
       "<IPython.core.display.HTML object>"
      ]
     },
     "metadata": {},
     "output_type": "display_data"
    },
    {
     "data": {
      "text/html": [
       " View run <strong style=\"color:#cdcd00\">TRS_inv_run_with_seed_100</strong> at: <a href='https://wandb.ai/mrawhani/ablations/runs/7ctcqacp' target=\"_blank\">https://wandb.ai/mrawhani/ablations/runs/7ctcqacp</a><br/> View project at: <a href='https://wandb.ai/mrawhani/ablations' target=\"_blank\">https://wandb.ai/mrawhani/ablations</a><br/>Synced 5 W&B file(s), 0 media file(s), 0 artifact file(s) and 0 other file(s)"
      ],
      "text/plain": [
       "<IPython.core.display.HTML object>"
      ]
     },
     "metadata": {},
     "output_type": "display_data"
    },
    {
     "data": {
      "text/html": [
       "Find logs at: <code>./wandb/run-20240707_111214-7ctcqacp/logs</code>"
      ],
      "text/plain": [
       "<IPython.core.display.HTML object>"
      ]
     },
     "metadata": {},
     "output_type": "display_data"
    }
   ],
   "source": [
    "for seed in seeds:\n",
    "    wandb.init(project=project_name, name=f'{domain}_{type}_run_with_seed_{seed}', config={'seed': seed})\n",
    "\n",
    "    try:\n",
    "        seed_everything(seed)\n",
    "\n",
    "        hparams = {\n",
    "            \"source_target\": \"travel_slate\",\n",
    "            \"source_domain\": \"travel\",\n",
    "            \"target_domain\": \"slate\",\n",
    "            \"domain_adapter_name\": \"mlm_inv_S\",\n",
    "            \"task_adapter_name\": \"task_TRS\",\n",
    "            \"pretrained_model_name\": \"bert-base-uncased\",\n",
    "            \"padding\": \"max_length\",\n",
    "            \"max_seq_length\": 128,\n",
    "            \"bsz\": 32,\n",
    "            \"num_classes\": 3,\n",
    "            \"learning_rate\": 1e-4,\n",
    "            \"reduction_factor\": 16,\n",
    "            \"mode\": \"domain\",\n",
    "            \"saved_adapter_dir\": \"../../saved/adapters\",\n",
    "        }\n",
    "\n",
    "        save_dir = \"checkpoints\"\n",
    "        save_epoch_3 = 3  # Save model at the 3rd epoch\n",
    "        #save_model_callback_epoch = SaveModelAtEpochCallback(save_dir, save_epoch_3)\n",
    "        # Add a print statement to confirm the callback initialization\n",
    "        #print(f\"Initialized SaveModelAtEpochCallback with save_dir={save_dir} and save_epoch={save_epoch_3}\")\n",
    "        dm = processed.DataModuleSourceTarget(hparams)\n",
    "        dm.setup('fit')\n",
    "        dm.setup(\"test\")\n",
    "\n",
    "        model = DomainTaskAdapter(hparams)\n",
    "\n",
    "        checkpoint_callback = ModelCheckpoint(\n",
    "            filename=\"task-TRS-{epoch:02d}-{val_loss:.2f}\",\n",
    "            save_top_k=1,\n",
    "            monitor=\"val_loss\",\n",
    "            mode=\"min\",\n",
    "        )\n",
    "        save_model_callback_epoch = ModelCheckpoint(\n",
    "                # dirpath=checkpoints_path, # <--- specify this on the trainer itself for version control\n",
    "                filename=\"TRS-{epoch:02d}\",\n",
    "                every_n_epochs=save_epoch_3,\n",
    "                save_top_k=-1,  # <--- this is important!\n",
    "            )\n",
    "       \n",
    "        wandb_logger = WandbLogger()\n",
    "        \n",
    "    except Exception as e:\n",
    "        print(f\"Error during preprocessing : {e}\")   \n",
    "\n",
    "    try:\n",
    "        train_loader = dm.train_dataloader()\n",
    "        val_loader = dm.val_dataloader()\n",
    "        trainer = Trainer(\n",
    "            max_epochs=5,\n",
    "            accelerator=\"auto\",\n",
    "            default_root_dir=\"checkpoints\",\n",
    "            # precision=16,\n",
    "            logger=wandb_logger,\n",
    "            callbacks=[checkpoint_callback,save_model_callback_epoch],\n",
    "            limit_train_batches=1.0,\n",
    "            limit_val_batches=1.0,\n",
    "            limit_test_batches=1.0,\n",
    "            # log_every_n_steps=10,\n",
    "        )\n",
    "      \n",
    "        trainer.fit(model, train_loader, val_loader)\n",
    "           # ATRSr training, print the paths to verify\n",
    "        print(f\"Best checkpoint path: {checkpoint_callback.best_model_path}\")\n",
    "        print(f\"Saved epoch checkpoint path: {save_model_callback_epoch.best_model_path}\")\n",
    "    except Exception as e:\n",
    "        print(f\"Error during training : {e}\")\n",
    "\n",
    "    try:\n",
    "        \n",
    "        dm.setup(\"test\")\n",
    "        test_loader = dm.test_dataloader()\n",
    "        test_results_last = trainer.test(model, test_loader)\n",
    "        print(\"Test Results Last Epoch:\", test_results_last)\n",
    "\n",
    "        # Collect results for last epoch model\n",
    "        for key, value in test_results_last[0].items():\n",
    "            results[\"last_epoch\"][key].append(value)\n",
    "\n",
    "        # Paths to the saved checkpoints\n",
    "        best_checkpoint_path = checkpoint_callback.best_model_path\n",
    "        saved_epoch_checkpoint_path = save_model_callback_epoch.best_model_path\n",
    "        # Print the paths to verify\n",
    "        print(f\"Best checkpoint path: {best_checkpoint_path}\")\n",
    "        print(f\"Saved epoch checkpoint path: {saved_epoch_checkpoint_path}\")\n",
    "        \n",
    "        best_model = DomainTaskAdapter.load_from_checkpoint(best_checkpoint_path)\n",
    "        test_results_best = trainer.test(best_model, test_loader)\n",
    "        print(\"Test Results on Best Model:\", test_results_best)\n",
    "        # Collect results for best model\n",
    "        for key, value in test_results_best[0].items():\n",
    "            results[\"best_model\"][key].append(value)\n",
    "\n",
    "        saved_epoch_model = DomainTaskAdapter.load_from_checkpoint(saved_epoch_checkpoint_path)\n",
    "        test_results_saved_epoch = trainer.test(saved_epoch_model, test_loader)\n",
    "        print(\"Test Results on saved epoch:\", test_results_saved_epoch)\n",
    "        # Collect results for 3rd epoch model\n",
    "        for key, value in test_results_saved_epoch[0].items():\n",
    "            results[\"epoch_saved\"][key].append(value)\n",
    "        \n",
    "\n",
    "    except Exception as e:\n",
    "        print(f\"Error during testing: {e}\")\n",
    "\n",
    "    # Finish the wandb run\n",
    "    wandb.finish()"
   ]
  },
  {
   "cell_type": "code",
   "execution_count": 6,
   "metadata": {},
   "outputs": [
    {
     "data": {
      "text/plain": [
       "dict_items([('last_epoch', {'source_test/loss': [0.535061776638031, 0.5634183287620544, 0.5420547723770142], 'source_test/accuracy': [0.8150201439857483, 0.8059475421905518, 0.8140120506286621], 'source_test/f1': [0.8162740468978882, 0.8074867129325867, 0.8139877319335938], 'target_test/loss': [0.8049806356430054, 0.8306974172592163, 0.7979244589805603], 'target_test/accuracy': [0.7338709235191345, 0.7162297964096069, 0.7283266186714172], 'target_test/f1': [0.7368236780166626, 0.7214670181274414, 0.7308688759803772]}), ('best_model', {'source_test/loss': [0.47545063495635986, 0.5057679414749146, 0.49569353461265564], 'source_test/accuracy': [0.8180443048477173, 0.8099797964096069, 0.8125], 'source_test/f1': [0.8179091215133667, 0.8099653720855713, 0.812694787979126], 'target_test/loss': [0.6767547726631165, 0.7253218293190002, 0.7172739505767822], 'target_test/accuracy': [0.737399160861969, 0.7192540168762207, 0.7192540168762207], 'target_test/f1': [0.7382378578186035, 0.7194077968597412, 0.7198936343193054]}), ('epoch_saved', {'source_test/loss': [0.47545063495635986, 0.5057679414749146, 0.49569353461265564], 'source_test/accuracy': [0.8180443048477173, 0.8099797964096069, 0.8125], 'source_test/f1': [0.8179091215133667, 0.8099653720855713, 0.812694787979126], 'target_test/loss': [0.6767547726631165, 0.7253218293190002, 0.7172739505767822], 'target_test/accuracy': [0.737399160861969, 0.7192540168762207, 0.7192540168762207], 'target_test/f1': [0.7382378578186035, 0.7194077968597412, 0.7198936343193054]})])"
      ]
     },
     "execution_count": 6,
     "metadata": {},
     "output_type": "execute_result"
    }
   ],
   "source": [
    "results.items()"
   ]
  },
  {
   "cell_type": "code",
   "execution_count": 7,
   "metadata": {},
   "outputs": [
    {
     "data": {
      "text/html": [
       "wandb version 0.17.4 is available!  To upgrade, please run:\n",
       " $ pip install wandb --upgrade"
      ],
      "text/plain": [
       "<IPython.core.display.HTML object>"
      ]
     },
     "metadata": {},
     "output_type": "display_data"
    },
    {
     "data": {
      "text/html": [
       "Tracking run with wandb version 0.17.0"
      ],
      "text/plain": [
       "<IPython.core.display.HTML object>"
      ]
     },
     "metadata": {},
     "output_type": "display_data"
    },
    {
     "data": {
      "text/html": [
       "Run data is saved locally in <code>/home/guest/Desktop/projects/fourth-expeiments/domain_adaptation_project/inv2/slate/wandb/run-20240707_115708-u3so3iqb</code>"
      ],
      "text/plain": [
       "<IPython.core.display.HTML object>"
      ]
     },
     "metadata": {},
     "output_type": "display_data"
    },
    {
     "data": {
      "text/html": [
       "Syncing run <strong><a href='https://wandb.ai/mrawhani/ablations/runs/u3so3iqb' target=\"_blank\">TRS_mean_results</a></strong> to <a href='https://wandb.ai/mrawhani/ablations' target=\"_blank\">Weights & Biases</a> (<a href='https://wandb.me/run' target=\"_blank\">docs</a>)<br/>"
      ],
      "text/plain": [
       "<IPython.core.display.HTML object>"
      ]
     },
     "metadata": {},
     "output_type": "display_data"
    },
    {
     "data": {
      "text/html": [
       " View project at <a href='https://wandb.ai/mrawhani/ablations' target=\"_blank\">https://wandb.ai/mrawhani/ablations</a>"
      ],
      "text/plain": [
       "<IPython.core.display.HTML object>"
      ]
     },
     "metadata": {},
     "output_type": "display_data"
    },
    {
     "data": {
      "text/html": [
       " View run at <a href='https://wandb.ai/mrawhani/ablations/runs/u3so3iqb' target=\"_blank\">https://wandb.ai/mrawhani/ablations/runs/u3so3iqb</a>"
      ],
      "text/plain": [
       "<IPython.core.display.HTML object>"
      ]
     },
     "metadata": {},
     "output_type": "display_data"
    },
    {
     "data": {
      "application/vnd.jupyter.widget-view+json": {
       "model_id": "1f371bc4e47b43ed9f32d07886b9e69f",
       "version_major": 2,
       "version_minor": 0
      },
      "text/plain": [
       "VBox(children=(Label(value='0.009 MB of 0.009 MB uploaded\\r'), FloatProgress(value=1.0, max=1.0)))"
      ]
     },
     "metadata": {},
     "output_type": "display_data"
    },
    {
     "data": {
      "text/html": [
       "<style>\n",
       "    table.wandb td:nth-child(1) { padding: 0 10px; text-align: left ; width: auto;} td:nth-child(2) {text-align: left ; width: 100%}\n",
       "    .wandb-row { display: flex; flex-direction: row; flex-wrap: wrap; justify-content: flex-start; width: 100% }\n",
       "    .wandb-col { display: flex; flex-direction: column; flex-basis: 100%; flex: 1; padding: 10px; }\n",
       "    </style>\n",
       "<div class=\"wandb-row\"><div class=\"wandb-col\"><h3>Run history:</h3><br/><table class=\"wandb\"><tr><td>best_model/source_test/accuracy</td><td>▁</td></tr><tr><td>best_model/source_test/accuracy_std</td><td>▁</td></tr><tr><td>best_model/source_test/f1</td><td>▁</td></tr><tr><td>best_model/source_test/f1_std</td><td>▁</td></tr><tr><td>best_model/source_test/loss</td><td>▁</td></tr><tr><td>best_model/source_test/loss_std</td><td>▁</td></tr><tr><td>best_model/target_test/accuracy</td><td>▁</td></tr><tr><td>best_model/target_test/accuracy_std</td><td>▁</td></tr><tr><td>best_model/target_test/f1</td><td>▁</td></tr><tr><td>best_model/target_test/f1_std</td><td>▁</td></tr><tr><td>best_model/target_test/loss</td><td>▁</td></tr><tr><td>best_model/target_test/loss_std</td><td>▁</td></tr><tr><td>epoch_saved/source_test/accuracy</td><td>▁</td></tr><tr><td>epoch_saved/source_test/accuracy_std</td><td>▁</td></tr><tr><td>epoch_saved/source_test/f1</td><td>▁</td></tr><tr><td>epoch_saved/source_test/f1_std</td><td>▁</td></tr><tr><td>epoch_saved/source_test/loss</td><td>▁</td></tr><tr><td>epoch_saved/source_test/loss_std</td><td>▁</td></tr><tr><td>epoch_saved/target_test/accuracy</td><td>▁</td></tr><tr><td>epoch_saved/target_test/accuracy_std</td><td>▁</td></tr><tr><td>epoch_saved/target_test/f1</td><td>▁</td></tr><tr><td>epoch_saved/target_test/f1_std</td><td>▁</td></tr><tr><td>epoch_saved/target_test/loss</td><td>▁</td></tr><tr><td>epoch_saved/target_test/loss_std</td><td>▁</td></tr><tr><td>last_epoch/source_test/accuracy</td><td>▁</td></tr><tr><td>last_epoch/source_test/accuracy_std</td><td>▁</td></tr><tr><td>last_epoch/source_test/f1</td><td>▁</td></tr><tr><td>last_epoch/source_test/f1_std</td><td>▁</td></tr><tr><td>last_epoch/source_test/loss</td><td>▁</td></tr><tr><td>last_epoch/source_test/loss_std</td><td>▁</td></tr><tr><td>last_epoch/target_test/accuracy</td><td>▁</td></tr><tr><td>last_epoch/target_test/accuracy_std</td><td>▁</td></tr><tr><td>last_epoch/target_test/f1</td><td>▁</td></tr><tr><td>last_epoch/target_test/f1_std</td><td>▁</td></tr><tr><td>last_epoch/target_test/loss</td><td>▁</td></tr><tr><td>last_epoch/target_test/loss_std</td><td>▁</td></tr></table><br/></div><div class=\"wandb-col\"><h3>Run summary:</h3><br/><table class=\"wandb\"><tr><td>best_model/source_test/accuracy</td><td>0.81351</td></tr><tr><td>best_model/source_test/accuracy_std</td><td>0.00337</td></tr><tr><td>best_model/source_test/f1</td><td>0.81352</td></tr><tr><td>best_model/source_test/f1_std</td><td>0.0033</td></tr><tr><td>best_model/source_test/loss</td><td>0.4923</td></tr><tr><td>best_model/source_test/loss_std</td><td>0.01261</td></tr><tr><td>best_model/target_test/accuracy</td><td>0.7253</td></tr><tr><td>best_model/target_test/accuracy_std</td><td>0.00855</td></tr><tr><td>best_model/target_test/f1</td><td>0.72585</td></tr><tr><td>best_model/target_test/f1_std</td><td>0.00876</td></tr><tr><td>best_model/target_test/loss</td><td>0.70645</td></tr><tr><td>best_model/target_test/loss_std</td><td>0.02125</td></tr><tr><td>epoch_saved/source_test/accuracy</td><td>0.81351</td></tr><tr><td>epoch_saved/source_test/accuracy_std</td><td>0.00337</td></tr><tr><td>epoch_saved/source_test/f1</td><td>0.81352</td></tr><tr><td>epoch_saved/source_test/f1_std</td><td>0.0033</td></tr><tr><td>epoch_saved/source_test/loss</td><td>0.4923</td></tr><tr><td>epoch_saved/source_test/loss_std</td><td>0.01261</td></tr><tr><td>epoch_saved/target_test/accuracy</td><td>0.7253</td></tr><tr><td>epoch_saved/target_test/accuracy_std</td><td>0.00855</td></tr><tr><td>epoch_saved/target_test/f1</td><td>0.72585</td></tr><tr><td>epoch_saved/target_test/f1_std</td><td>0.00876</td></tr><tr><td>epoch_saved/target_test/loss</td><td>0.70645</td></tr><tr><td>epoch_saved/target_test/loss_std</td><td>0.02125</td></tr><tr><td>last_epoch/source_test/accuracy</td><td>0.81166</td></tr><tr><td>last_epoch/source_test/accuracy_std</td><td>0.00406</td></tr><tr><td>last_epoch/source_test/f1</td><td>0.81258</td></tr><tr><td>last_epoch/source_test/f1_std</td><td>0.00372</td></tr><tr><td>last_epoch/source_test/loss</td><td>0.54684</td></tr><tr><td>last_epoch/source_test/loss_std</td><td>0.01206</td></tr><tr><td>last_epoch/target_test/accuracy</td><td>0.72614</td></tr><tr><td>last_epoch/target_test/accuracy_std</td><td>0.00737</td></tr><tr><td>last_epoch/target_test/f1</td><td>0.72972</td></tr><tr><td>last_epoch/target_test/f1_std</td><td>0.00632</td></tr><tr><td>last_epoch/target_test/loss</td><td>0.8112</td></tr><tr><td>last_epoch/target_test/loss_std</td><td>0.01408</td></tr></table><br/></div></div>"
      ],
      "text/plain": [
       "<IPython.core.display.HTML object>"
      ]
     },
     "metadata": {},
     "output_type": "display_data"
    },
    {
     "data": {
      "text/html": [
       " View run <strong style=\"color:#cdcd00\">TRS_mean_results</strong> at: <a href='https://wandb.ai/mrawhani/ablations/runs/u3so3iqb' target=\"_blank\">https://wandb.ai/mrawhani/ablations/runs/u3so3iqb</a><br/> View project at: <a href='https://wandb.ai/mrawhani/ablations' target=\"_blank\">https://wandb.ai/mrawhani/ablations</a><br/>Synced 4 W&B file(s), 0 media file(s), 0 artifact file(s) and 0 other file(s)"
      ],
      "text/plain": [
       "<IPython.core.display.HTML object>"
      ]
     },
     "metadata": {},
     "output_type": "display_data"
    },
    {
     "data": {
      "text/html": [
       "Find logs at: <code>./wandb/run-20240707_115708-u3so3iqb/logs</code>"
      ],
      "text/plain": [
       "<IPython.core.display.HTML object>"
      ]
     },
     "metadata": {},
     "output_type": "display_data"
    },
    {
     "name": "stdout",
     "output_type": "stream",
     "text": [
      "Mean Results: {'last_epoch': {'source_test/loss': 0.5468449592590332, 'source_test/accuracy': 0.8116599122683207, 'source_test/f1': 0.8125828305880228, 'target_test/loss': 0.8112008372942606, 'target_test/accuracy': 0.7261424462000529, 'target_test/f1': 0.729719857374827}, 'best_model': {'source_test/loss': 0.49230403701464337, 'source_test/accuracy': 0.8135080337524414, 'source_test/f1': 0.8135230938593546, 'target_test/loss': 0.7064501841862997, 'target_test/accuracy': 0.7253023982048035, 'target_test/f1': 0.7258464296658834}, 'epoch_saved': {'source_test/loss': 0.49230403701464337, 'source_test/accuracy': 0.8135080337524414, 'source_test/f1': 0.8135230938593546, 'target_test/loss': 0.7064501841862997, 'target_test/accuracy': 0.7253023982048035, 'target_test/f1': 0.7258464296658834}}\n",
      "Standard Deviation Results: {'last_epoch': {'source_test/loss': 0.012061866352659111, 'source_test/accuracy': 0.00406016764704718, 'source_test/f1': 0.003722420395166346, 'target_test/loss': 0.01408391233571934, 'target_test/accuracy': 0.00736569971612232, 'target_test/f1': 0.006321757854438327}, 'best_model': {'source_test/loss': 0.01260691051527423, 'source_test/accuracy': 0.003368597445192296, 'source_test/f1': 0.0032954874921439703, 'target_test/loss': 0.02125331640334063, 'target_test/accuracy': 0.008553702905285943, 'target_test/f1': 0.008764307474345315}, 'epoch_saved': {'source_test/loss': 0.01260691051527423, 'source_test/accuracy': 0.003368597445192296, 'source_test/f1': 0.0032954874921439703, 'target_test/loss': 0.02125331640334063, 'target_test/accuracy': 0.008553702905285943, 'target_test/f1': 0.008764307474345315}}\n"
     ]
    }
   ],
   "source": [
    "# Calculate mean and standard deviation for each scenario\n",
    "mean_results = {scenario: {key: np.mean(values) for key, values in metrics.items()} for scenario, metrics in results.items()}\n",
    "std_results = {scenario: {key: np.std(values) for key, values in metrics.items()} for scenario, metrics in results.items()}\n",
    "\n",
    "# Log mean and standard deviation results to wandb\n",
    "wandb.init(project=project_name, name=f'{domain}_mean_results')\n",
    "for scenario in mean_results:\n",
    "    for key, value in mean_results[scenario].items():\n",
    "        wandb.log({f\"{scenario}/{key}\": value})\n",
    "        wandb.log({f\"{scenario}/{key}_std\": std_results[scenario][key]})\n",
    "wandb.finish()\n",
    "\n",
    "print(\"Mean Results:\", mean_results)\n",
    "print(\"Standard Deviation Results:\", std_results)\n",
    "\n",
    "# # Save the best model's adapter\n",
    "# if model:\n",
    "#     adapter_save_path = f\"../../saved/adapter_after_run/{hparams['task_adapter_name']}\"\n",
    "#     model.save_adapter(adapter_save_path, hparams['task_adapter_name'])\n",
    "#     print(f\"Adapter saved to {adapter_save_path}\")\n",
    "# else:\n",
    "#     print(\"No best model to save.\")"
   ]
  },
  {
   "cell_type": "code",
   "execution_count": null,
   "metadata": {},
   "outputs": [],
   "source": []
  },
  {
   "cell_type": "code",
   "execution_count": 8,
   "metadata": {},
   "outputs": [
    {
     "name": "stdout",
     "output_type": "stream",
     "text": [
      "dones\n"
     ]
    }
   ],
   "source": [
    "print('dones')"
   ]
  },
  {
   "cell_type": "code",
   "execution_count": 9,
   "metadata": {},
   "outputs": [
    {
     "data": {
      "text/plain": [
       "inf"
      ]
     },
     "execution_count": 9,
     "metadata": {},
     "output_type": "execute_result"
    }
   ],
   "source": [
    "best_val_loss"
   ]
  },
  {
   "cell_type": "code",
   "execution_count": null,
   "metadata": {},
   "outputs": [],
   "source": []
  }
 ],
 "metadata": {
  "kernelspec": {
   "display_name": ".venv",
   "language": "python",
   "name": "python3"
  },
  "language_info": {
   "codemirror_mode": {
    "name": "ipython",
    "version": 3
   },
   "file_extension": ".py",
   "mimetype": "text/x-python",
   "name": "python",
   "nbconvert_exporter": "python",
   "pygments_lexer": "ipython3",
   "version": "3.8.10"
  }
 },
 "nbformat": 4,
 "nbformat_minor": 2
}
