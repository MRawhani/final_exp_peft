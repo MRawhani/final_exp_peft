{
 "cells": [
  {
   "cell_type": "code",
   "execution_count": 1,
   "metadata": {},
   "outputs": [
    {
     "name": "stdout",
     "output_type": "stream",
     "text": [
      "Requirement already satisfied: nbconvert in /home/guest/.cache/pypoetry/virtualenvs/fourth-experments-OVNdUUAn-py3.8/lib/python3.8/site-packages (7.16.4)\n",
      "Requirement already satisfied: beautifulsoup4 in /home/guest/.cache/pypoetry/virtualenvs/fourth-experments-OVNdUUAn-py3.8/lib/python3.8/site-packages (from nbconvert) (4.12.3)\n",
      "Requirement already satisfied: bleach!=5.0.0 in /home/guest/.cache/pypoetry/virtualenvs/fourth-experments-OVNdUUAn-py3.8/lib/python3.8/site-packages (from nbconvert) (6.1.0)\n",
      "Requirement already satisfied: defusedxml in /home/guest/.cache/pypoetry/virtualenvs/fourth-experments-OVNdUUAn-py3.8/lib/python3.8/site-packages (from nbconvert) (0.7.1)\n",
      "Requirement already satisfied: importlib-metadata>=3.6 in /home/guest/.cache/pypoetry/virtualenvs/fourth-experments-OVNdUUAn-py3.8/lib/python3.8/site-packages (from nbconvert) (7.1.0)\n",
      "Requirement already satisfied: jinja2>=3.0 in /home/guest/.cache/pypoetry/virtualenvs/fourth-experments-OVNdUUAn-py3.8/lib/python3.8/site-packages (from nbconvert) (3.1.4)\n",
      "Requirement already satisfied: jupyter-core>=4.7 in /home/guest/.cache/pypoetry/virtualenvs/fourth-experments-OVNdUUAn-py3.8/lib/python3.8/site-packages (from nbconvert) (5.7.2)\n",
      "Requirement already satisfied: jupyterlab-pygments in /home/guest/.cache/pypoetry/virtualenvs/fourth-experments-OVNdUUAn-py3.8/lib/python3.8/site-packages (from nbconvert) (0.3.0)\n",
      "Requirement already satisfied: markupsafe>=2.0 in /home/guest/.cache/pypoetry/virtualenvs/fourth-experments-OVNdUUAn-py3.8/lib/python3.8/site-packages (from nbconvert) (2.1.5)\n",
      "Requirement already satisfied: mistune<4,>=2.0.3 in /home/guest/.cache/pypoetry/virtualenvs/fourth-experments-OVNdUUAn-py3.8/lib/python3.8/site-packages (from nbconvert) (3.0.2)\n",
      "Requirement already satisfied: nbclient>=0.5.0 in /home/guest/.cache/pypoetry/virtualenvs/fourth-experments-OVNdUUAn-py3.8/lib/python3.8/site-packages (from nbconvert) (0.10.0)\n",
      "Requirement already satisfied: nbformat>=5.7 in /home/guest/.cache/pypoetry/virtualenvs/fourth-experments-OVNdUUAn-py3.8/lib/python3.8/site-packages (from nbconvert) (5.10.4)\n",
      "Requirement already satisfied: packaging in /home/guest/.cache/pypoetry/virtualenvs/fourth-experments-OVNdUUAn-py3.8/lib/python3.8/site-packages (from nbconvert) (24.0)\n",
      "Requirement already satisfied: pandocfilters>=1.4.1 in /home/guest/.cache/pypoetry/virtualenvs/fourth-experments-OVNdUUAn-py3.8/lib/python3.8/site-packages (from nbconvert) (1.5.1)\n",
      "Requirement already satisfied: pygments>=2.4.1 in /home/guest/.cache/pypoetry/virtualenvs/fourth-experments-OVNdUUAn-py3.8/lib/python3.8/site-packages (from nbconvert) (2.18.0)\n",
      "Requirement already satisfied: tinycss2 in /home/guest/.cache/pypoetry/virtualenvs/fourth-experments-OVNdUUAn-py3.8/lib/python3.8/site-packages (from nbconvert) (1.3.0)\n",
      "Requirement already satisfied: traitlets>=5.1 in /home/guest/.cache/pypoetry/virtualenvs/fourth-experments-OVNdUUAn-py3.8/lib/python3.8/site-packages (from nbconvert) (5.14.3)\n",
      "Requirement already satisfied: six>=1.9.0 in /home/guest/.cache/pypoetry/virtualenvs/fourth-experments-OVNdUUAn-py3.8/lib/python3.8/site-packages (from bleach!=5.0.0->nbconvert) (1.16.0)\n",
      "Requirement already satisfied: webencodings in /home/guest/.cache/pypoetry/virtualenvs/fourth-experments-OVNdUUAn-py3.8/lib/python3.8/site-packages (from bleach!=5.0.0->nbconvert) (0.5.1)\n",
      "Requirement already satisfied: zipp>=0.5 in /home/guest/.cache/pypoetry/virtualenvs/fourth-experments-OVNdUUAn-py3.8/lib/python3.8/site-packages (from importlib-metadata>=3.6->nbconvert) (3.18.2)\n",
      "Requirement already satisfied: platformdirs>=2.5 in /home/guest/.cache/pypoetry/virtualenvs/fourth-experments-OVNdUUAn-py3.8/lib/python3.8/site-packages (from jupyter-core>=4.7->nbconvert) (4.2.2)\n",
      "Requirement already satisfied: jupyter-client>=6.1.12 in /home/guest/.cache/pypoetry/virtualenvs/fourth-experments-OVNdUUAn-py3.8/lib/python3.8/site-packages (from nbclient>=0.5.0->nbconvert) (8.6.2)\n",
      "Requirement already satisfied: fastjsonschema>=2.15 in /home/guest/.cache/pypoetry/virtualenvs/fourth-experments-OVNdUUAn-py3.8/lib/python3.8/site-packages (from nbformat>=5.7->nbconvert) (2.19.1)\n",
      "Requirement already satisfied: jsonschema>=2.6 in /home/guest/.cache/pypoetry/virtualenvs/fourth-experments-OVNdUUAn-py3.8/lib/python3.8/site-packages (from nbformat>=5.7->nbconvert) (4.22.0)\n",
      "Requirement already satisfied: soupsieve>1.2 in /home/guest/.cache/pypoetry/virtualenvs/fourth-experments-OVNdUUAn-py3.8/lib/python3.8/site-packages (from beautifulsoup4->nbconvert) (2.5)\n",
      "Requirement already satisfied: attrs>=22.2.0 in /home/guest/.cache/pypoetry/virtualenvs/fourth-experments-OVNdUUAn-py3.8/lib/python3.8/site-packages (from jsonschema>=2.6->nbformat>=5.7->nbconvert) (23.2.0)\n",
      "Requirement already satisfied: importlib-resources>=1.4.0 in /home/guest/.cache/pypoetry/virtualenvs/fourth-experments-OVNdUUAn-py3.8/lib/python3.8/site-packages (from jsonschema>=2.6->nbformat>=5.7->nbconvert) (6.4.0)\n",
      "Requirement already satisfied: jsonschema-specifications>=2023.03.6 in /home/guest/.cache/pypoetry/virtualenvs/fourth-experments-OVNdUUAn-py3.8/lib/python3.8/site-packages (from jsonschema>=2.6->nbformat>=5.7->nbconvert) (2023.12.1)\n",
      "Requirement already satisfied: pkgutil-resolve-name>=1.3.10 in /home/guest/.cache/pypoetry/virtualenvs/fourth-experments-OVNdUUAn-py3.8/lib/python3.8/site-packages (from jsonschema>=2.6->nbformat>=5.7->nbconvert) (1.3.10)\n",
      "Requirement already satisfied: referencing>=0.28.4 in /home/guest/.cache/pypoetry/virtualenvs/fourth-experments-OVNdUUAn-py3.8/lib/python3.8/site-packages (from jsonschema>=2.6->nbformat>=5.7->nbconvert) (0.35.1)\n",
      "Requirement already satisfied: rpds-py>=0.7.1 in /home/guest/.cache/pypoetry/virtualenvs/fourth-experments-OVNdUUAn-py3.8/lib/python3.8/site-packages (from jsonschema>=2.6->nbformat>=5.7->nbconvert) (0.18.1)\n",
      "Requirement already satisfied: python-dateutil>=2.8.2 in /home/guest/.cache/pypoetry/virtualenvs/fourth-experments-OVNdUUAn-py3.8/lib/python3.8/site-packages (from jupyter-client>=6.1.12->nbclient>=0.5.0->nbconvert) (2.9.0.post0)\n",
      "Requirement already satisfied: pyzmq>=23.0 in /home/guest/.cache/pypoetry/virtualenvs/fourth-experments-OVNdUUAn-py3.8/lib/python3.8/site-packages (from jupyter-client>=6.1.12->nbclient>=0.5.0->nbconvert) (26.0.3)\n",
      "Requirement already satisfied: tornado>=6.2 in /home/guest/.cache/pypoetry/virtualenvs/fourth-experments-OVNdUUAn-py3.8/lib/python3.8/site-packages (from jupyter-client>=6.1.12->nbclient>=0.5.0->nbconvert) (6.4)\n",
      "\n",
      "\u001b[1m[\u001b[0m\u001b[34;49mnotice\u001b[0m\u001b[1;39;49m]\u001b[0m\u001b[39;49m A new release of pip is available: \u001b[0m\u001b[31;49m23.3.2\u001b[0m\u001b[39;49m -> \u001b[0m\u001b[32;49m24.1.2\u001b[0m\n",
      "\u001b[1m[\u001b[0m\u001b[34;49mnotice\u001b[0m\u001b[1;39;49m]\u001b[0m\u001b[39;49m To update, run: \u001b[0m\u001b[32;49mpip install --upgrade pip\u001b[0m\n"
     ]
    }
   ],
   "source": [
    "!pip install nbconvert\n"
   ]
  },
  {
   "cell_type": "code",
   "execution_count": 1,
   "metadata": {},
   "outputs": [
    {
     "name": "stderr",
     "output_type": "stream",
     "text": [
      "2024-07-14 04:28:34.968031: I tensorflow/core/util/port.cc:110] oneDNN custom operations are on. You may see slightly different numerical results due to floating-point round-off errors from different computation orders. To turn them off, set the environment variable `TF_ENABLE_ONEDNN_OPTS=0`.\n",
      "2024-07-14 04:28:35.002121: I tensorflow/core/platform/cpu_feature_guard.cc:182] This TensorFlow binary is optimized to use available CPU instructions in performance-critical operations.\n",
      "To enable the following instructions: AVX2 AVX512F AVX512_VNNI FMA, in other operations, rebuild TensorFlow with the appropriate compiler flags.\n",
      "2024-07-14 04:28:35.765146: W tensorflow/compiler/tf2tensorrt/utils/py_utils.cc:38] TF-TRT Warning: Could not find TensorRT\n"
     ]
    },
    {
     "name": "stdout",
     "output_type": "stream",
     "text": [
      "2.12.0\n",
      "2.2.2+cu118\n"
     ]
    }
   ],
   "source": [
    "import tensorflow as tf\n",
    "import torch\n",
    "print(tf.__version__)\n",
    "print(torch.__version__)\n"
   ]
  },
  {
   "cell_type": "code",
   "execution_count": 2,
   "metadata": {},
   "outputs": [
    {
     "name": "stdout",
     "output_type": "stream",
     "text": [
      "TensorFlow Version: 2.12.0\n"
     ]
    }
   ],
   "source": [
    "import tensorflow as tf\n",
    "print(\"TensorFlow Version:\", tf.__version__)\n"
   ]
  },
  {
   "cell_type": "code",
   "execution_count": 1,
   "metadata": {},
   "outputs": [
    {
     "name": "stdout",
     "output_type": "stream",
     "text": [
      "Collecting papermill\n",
      "  Downloading papermill-2.6.0-py3-none-any.whl.metadata (13 kB)\n",
      "Requirement already satisfied: click in /home/guest/.cache/pypoetry/virtualenvs/fourth-experments-OVNdUUAn-py3.8/lib/python3.8/site-packages (from papermill) (8.1.7)\n",
      "Requirement already satisfied: pyyaml in /home/guest/.cache/pypoetry/virtualenvs/fourth-experments-OVNdUUAn-py3.8/lib/python3.8/site-packages (from papermill) (6.0.1)\n",
      "Requirement already satisfied: nbformat>=5.2.0 in /home/guest/.cache/pypoetry/virtualenvs/fourth-experments-OVNdUUAn-py3.8/lib/python3.8/site-packages (from papermill) (5.10.4)\n",
      "Requirement already satisfied: nbclient>=0.2.0 in /home/guest/.cache/pypoetry/virtualenvs/fourth-experments-OVNdUUAn-py3.8/lib/python3.8/site-packages (from papermill) (0.10.0)\n",
      "Requirement already satisfied: tqdm>=4.32.2 in /home/guest/.cache/pypoetry/virtualenvs/fourth-experments-OVNdUUAn-py3.8/lib/python3.8/site-packages (from papermill) (4.66.4)\n",
      "Requirement already satisfied: requests in /home/guest/.cache/pypoetry/virtualenvs/fourth-experments-OVNdUUAn-py3.8/lib/python3.8/site-packages (from papermill) (2.32.2)\n",
      "Collecting entrypoints (from papermill)\n",
      "  Downloading entrypoints-0.4-py3-none-any.whl.metadata (2.6 kB)\n",
      "Collecting tenacity>=5.0.2 (from papermill)\n",
      "  Downloading tenacity-8.5.0-py3-none-any.whl.metadata (1.2 kB)\n",
      "Collecting ansicolors (from papermill)\n",
      "  Downloading ansicolors-1.1.8-py2.py3-none-any.whl.metadata (9.0 kB)\n",
      "Requirement already satisfied: jupyter-client>=6.1.12 in /home/guest/.cache/pypoetry/virtualenvs/fourth-experments-OVNdUUAn-py3.8/lib/python3.8/site-packages (from nbclient>=0.2.0->papermill) (8.6.2)\n",
      "Requirement already satisfied: jupyter-core!=5.0.*,>=4.12 in /home/guest/.cache/pypoetry/virtualenvs/fourth-experments-OVNdUUAn-py3.8/lib/python3.8/site-packages (from nbclient>=0.2.0->papermill) (5.7.2)\n",
      "Requirement already satisfied: traitlets>=5.4 in /home/guest/.cache/pypoetry/virtualenvs/fourth-experments-OVNdUUAn-py3.8/lib/python3.8/site-packages (from nbclient>=0.2.0->papermill) (5.14.3)\n",
      "Requirement already satisfied: fastjsonschema>=2.15 in /home/guest/.cache/pypoetry/virtualenvs/fourth-experments-OVNdUUAn-py3.8/lib/python3.8/site-packages (from nbformat>=5.2.0->papermill) (2.19.1)\n",
      "Requirement already satisfied: jsonschema>=2.6 in /home/guest/.cache/pypoetry/virtualenvs/fourth-experments-OVNdUUAn-py3.8/lib/python3.8/site-packages (from nbformat>=5.2.0->papermill) (4.22.0)\n",
      "Requirement already satisfied: charset-normalizer<4,>=2 in /home/guest/.cache/pypoetry/virtualenvs/fourth-experments-OVNdUUAn-py3.8/lib/python3.8/site-packages (from requests->papermill) (3.3.2)\n",
      "Requirement already satisfied: idna<4,>=2.5 in /home/guest/.cache/pypoetry/virtualenvs/fourth-experments-OVNdUUAn-py3.8/lib/python3.8/site-packages (from requests->papermill) (3.7)\n",
      "Requirement already satisfied: urllib3<3,>=1.21.1 in /home/guest/.cache/pypoetry/virtualenvs/fourth-experments-OVNdUUAn-py3.8/lib/python3.8/site-packages (from requests->papermill) (2.2.1)\n",
      "Requirement already satisfied: certifi>=2017.4.17 in /home/guest/.cache/pypoetry/virtualenvs/fourth-experments-OVNdUUAn-py3.8/lib/python3.8/site-packages (from requests->papermill) (2024.2.2)\n",
      "Requirement already satisfied: attrs>=22.2.0 in /home/guest/.cache/pypoetry/virtualenvs/fourth-experments-OVNdUUAn-py3.8/lib/python3.8/site-packages (from jsonschema>=2.6->nbformat>=5.2.0->papermill) (23.2.0)\n",
      "Requirement already satisfied: importlib-resources>=1.4.0 in /home/guest/.cache/pypoetry/virtualenvs/fourth-experments-OVNdUUAn-py3.8/lib/python3.8/site-packages (from jsonschema>=2.6->nbformat>=5.2.0->papermill) (6.4.0)\n",
      "Requirement already satisfied: jsonschema-specifications>=2023.03.6 in /home/guest/.cache/pypoetry/virtualenvs/fourth-experments-OVNdUUAn-py3.8/lib/python3.8/site-packages (from jsonschema>=2.6->nbformat>=5.2.0->papermill) (2023.12.1)\n",
      "Requirement already satisfied: pkgutil-resolve-name>=1.3.10 in /home/guest/.cache/pypoetry/virtualenvs/fourth-experments-OVNdUUAn-py3.8/lib/python3.8/site-packages (from jsonschema>=2.6->nbformat>=5.2.0->papermill) (1.3.10)\n",
      "Requirement already satisfied: referencing>=0.28.4 in /home/guest/.cache/pypoetry/virtualenvs/fourth-experments-OVNdUUAn-py3.8/lib/python3.8/site-packages (from jsonschema>=2.6->nbformat>=5.2.0->papermill) (0.35.1)\n",
      "Requirement already satisfied: rpds-py>=0.7.1 in /home/guest/.cache/pypoetry/virtualenvs/fourth-experments-OVNdUUAn-py3.8/lib/python3.8/site-packages (from jsonschema>=2.6->nbformat>=5.2.0->papermill) (0.18.1)\n",
      "Requirement already satisfied: importlib-metadata>=4.8.3 in /home/guest/.cache/pypoetry/virtualenvs/fourth-experments-OVNdUUAn-py3.8/lib/python3.8/site-packages (from jupyter-client>=6.1.12->nbclient>=0.2.0->papermill) (7.1.0)\n",
      "Requirement already satisfied: python-dateutil>=2.8.2 in /home/guest/.cache/pypoetry/virtualenvs/fourth-experments-OVNdUUAn-py3.8/lib/python3.8/site-packages (from jupyter-client>=6.1.12->nbclient>=0.2.0->papermill) (2.9.0.post0)\n",
      "Requirement already satisfied: pyzmq>=23.0 in /home/guest/.cache/pypoetry/virtualenvs/fourth-experments-OVNdUUAn-py3.8/lib/python3.8/site-packages (from jupyter-client>=6.1.12->nbclient>=0.2.0->papermill) (26.0.3)\n",
      "Requirement already satisfied: tornado>=6.2 in /home/guest/.cache/pypoetry/virtualenvs/fourth-experments-OVNdUUAn-py3.8/lib/python3.8/site-packages (from jupyter-client>=6.1.12->nbclient>=0.2.0->papermill) (6.4)\n",
      "Requirement already satisfied: platformdirs>=2.5 in /home/guest/.cache/pypoetry/virtualenvs/fourth-experments-OVNdUUAn-py3.8/lib/python3.8/site-packages (from jupyter-core!=5.0.*,>=4.12->nbclient>=0.2.0->papermill) (4.2.2)\n",
      "Requirement already satisfied: zipp>=0.5 in /home/guest/.cache/pypoetry/virtualenvs/fourth-experments-OVNdUUAn-py3.8/lib/python3.8/site-packages (from importlib-metadata>=4.8.3->jupyter-client>=6.1.12->nbclient>=0.2.0->papermill) (3.18.2)\n",
      "Requirement already satisfied: six>=1.5 in /home/guest/.cache/pypoetry/virtualenvs/fourth-experments-OVNdUUAn-py3.8/lib/python3.8/site-packages (from python-dateutil>=2.8.2->jupyter-client>=6.1.12->nbclient>=0.2.0->papermill) (1.16.0)\n",
      "Downloading papermill-2.6.0-py3-none-any.whl (38 kB)\n",
      "Downloading tenacity-8.5.0-py3-none-any.whl (28 kB)\n",
      "Downloading ansicolors-1.1.8-py2.py3-none-any.whl (13 kB)\n",
      "Downloading entrypoints-0.4-py3-none-any.whl (5.3 kB)\n",
      "Installing collected packages: ansicolors, tenacity, entrypoints, papermill\n",
      "Successfully installed ansicolors-1.1.8 entrypoints-0.4 papermill-2.6.0 tenacity-8.5.0\n",
      "\n",
      "\u001b[1m[\u001b[0m\u001b[34;49mnotice\u001b[0m\u001b[1;39;49m]\u001b[0m\u001b[39;49m A new release of pip is available: \u001b[0m\u001b[31;49m23.3.2\u001b[0m\u001b[39;49m -> \u001b[0m\u001b[32;49m24.1.2\u001b[0m\n",
      "\u001b[1m[\u001b[0m\u001b[34;49mnotice\u001b[0m\u001b[1;39;49m]\u001b[0m\u001b[39;49m To update, run: \u001b[0m\u001b[32;49mpip install --upgrade pip\u001b[0m\n"
     ]
    }
   ],
   "source": [
    "!pip install papermill\n"
   ]
  },
  {
   "cell_type": "code",
   "execution_count": 2,
   "metadata": {},
   "outputs": [
    {
     "name": "stdout",
     "output_type": "stream",
     "text": [
      "Error running fiction/notebook1.ipynb: No kernel name found in notebook and no override provided.\n"
     ]
    },
    {
     "data": {
      "application/vnd.jupyter.widget-view+json": {
       "model_id": "0f1c4b0d4f52461381d1a3451dca0676",
       "version_major": 2,
       "version_minor": 0
      },
      "text/plain": [
       "Executing:   0%|          | 0/15 [00:00<?, ?cell/s]"
      ]
     },
     "metadata": {},
     "output_type": "display_data"
    },
    {
     "name": "stdout",
     "output_type": "stream",
     "text": [
      "Error running fiction/TRTE_union_macro.ipynb: \n",
      "---------------------------------------------------------------------------\n",
      "Exception encountered at \"In [3]\":\n",
      "\n",
      "\n"
     ]
    }
   ],
   "source": []
  },
  {
   "cell_type": "code",
   "execution_count": 3,
   "metadata": {},
   "outputs": [
    {
     "name": "stderr",
     "output_type": "stream",
     "text": [
      "[NbConvertApp] Converting notebook fiction/notebook1.ipynb to notebook\n",
      "[NbConvertApp] Writing 2670 bytes to fiction/notebook1.ipynb\n",
      "[NbConvertApp] Converting notebook fiction/SF_union_macro.ipynb to notebook\n",
      "2024-07-14 14:05:37.250934: W tensorflow/compiler/tf2tensorrt/utils/py_utils.cc:38] TF-TRT Warning: Could not find TensorRT\n"
     ]
    }
   ],
   "source": [
    "import os\n",
    "\n",
    "# List of notebooks to be executed\n",
    "\n",
    "for notebook in notebooks:\n",
    "    command = f'jupyter nbconvert --to notebook --execute {notebook} --inplace'\n",
    "    subprocess.run(command, shell=True, check=True)"
   ]
  },
  {
   "cell_type": "code",
   "execution_count": null,
   "metadata": {},
   "outputs": [],
   "source": []
  }
 ],
 "metadata": {
  "kernelspec": {
   "display_name": "fourth-experments-OVNdUUAn-py3.8",
   "language": "python",
   "name": "python3"
  },
  "language_info": {
   "codemirror_mode": {
    "name": "ipython",
    "version": 3
   },
   "file_extension": ".py",
   "mimetype": "text/x-python",
   "name": "python",
   "nbconvert_exporter": "python",
   "pygments_lexer": "ipython3",
   "version": "3.8.10"
  }
 },
 "nbformat": 4,
 "nbformat_minor": 2
}
