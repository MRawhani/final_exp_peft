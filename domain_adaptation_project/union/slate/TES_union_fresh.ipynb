{
 "cells": [
  {
   "cell_type": "code",
   "execution_count": 1,
   "metadata": {},
   "outputs": [
    {
     "data": {
      "text/plain": [
       "0"
      ]
     },
     "execution_count": 1,
     "metadata": {},
     "output_type": "execute_result"
    }
   ],
   "source": [
    "\n",
    "import torch\n",
    "import gc   \n",
    "torch.cuda.empty_cache()\n",
    "gc.collect()\n"
   ]
  },
  {
   "cell_type": "code",
   "execution_count": 2,
   "metadata": {},
   "outputs": [
    {
     "name": "stdout",
     "output_type": "stream",
     "text": [
      "['/home/guest/Desktop/projects/fourth-expeiments/domain_adaptation_project/union/slate', '/usr/lib/python38.zip', '/usr/lib/python3.8', '/usr/lib/python3.8/lib-dynload', '', '/home/guest/.cache/pypoetry/virtualenvs/fourth-experments-OVNdUUAn-py3.8/lib/python3.8/site-packages', '/tmp/tmpxkcri_kv', '/home/guest/Desktop/projects/fourth-expeiments/domain_adaptation_project/modules']\n"
     ]
    },
    {
     "name": "stderr",
     "output_type": "stream",
     "text": [
      "2024-07-13 20:41:15.723877: I tensorflow/core/util/port.cc:110] oneDNN custom operations are on. You may see slightly different numerical results due to floating-point round-off errors from different computation orders. To turn them off, set the environment variable `TF_ENABLE_ONEDNN_OPTS=0`.\n",
      "2024-07-13 20:41:15.915885: I tensorflow/core/platform/cpu_feature_guard.cc:182] This TensorFlow binary is optimized to use available CPU instructions in performance-critical operations.\n",
      "To enable the following instructions: AVX2 AVX512F AVX512_VNNI FMA, in other operations, rebuild TensorFlow with the appropriate compiler flags.\n",
      "2024-07-13 20:41:16.658813: W tensorflow/compiler/tf2tensorrt/utils/py_utils.cc:38] TF-TRT Warning: Could not find TensorRT\n"
     ]
    },
    {
     "name": "stdout",
     "output_type": "stream",
     "text": [
      "./text-files/\n",
      "./hp-model-\n"
     ]
    }
   ],
   "source": [
    "import os\n",
    "os.environ[\"TOKENIZERS_PARALLELISM\"] = \"false\"\n",
    "os.environ[\"OMP_NUM_THREADS\"] = \"1\"\n",
    "\n",
    "# Step 2: Import necessary libraries\n",
    "from typing import Optional, Dict, Any\n",
    "import os\n",
    "import torch\n",
    "import pytorch_lightning as pl\n",
    "import pandas as pd\n",
    "from transformers import AutoTokenizer\n",
    "from torch.utils.data import Dataset, DataLoader\n",
    "from rich.traceback import install\n",
    "from pytorch_lightning.loggers import WandbLogger\n",
    "import torch.nn as nn\n",
    "import torch.optim as optim\n",
    "from transformers import AutoConfig, get_cosine_schedule_with_warmup\n",
    "from adapters import AutoAdapterModel, AdapterConfig\n",
    "from adapters.composition import Stack\n",
    "from pytorch_lightning import seed_everything, Trainer\n",
    "from pytorch_lightning.callbacks import ModelCheckpoint, EarlyStopping\n",
    "import torchmetrics\n",
    "from sklearn.metrics import confusion_matrix, ConfusionMatrixDisplay\n",
    "from sklearn.manifold import TSNE\n",
    "import matplotlib.pyplot as plt\n",
    "import numpy as np\n",
    "\n",
    "install(show_locals=True)\n",
    "\n",
    "from setup import setup_src_path\n",
    "print(setup_src_path())\n",
    "import data.processed as processed\n",
    "import config.config as config\n",
    "import utils.setup as setup\n",
    "import utils.functions as fn\n",
    "from importlib import reload\n",
    "\n",
    "from datasets import load_from_disk\n",
    "\n",
    "print(config.Config.TXT_SAVE_PATH)\n",
    "print(config.Config.MODEL_SAVE_PATH)\n",
    "\n",
    "dataset = load_from_disk(f\"../{config.Config.DATASETS_SAVE_PATH}/datasets\")\n"
   ]
  },
  {
   "cell_type": "code",
   "execution_count": 3,
   "metadata": {},
   "outputs": [],
   "source": [
    "# Step 4: Define the DomainTaskAdapter class\n",
    "from adapters import ConfigUnion, LoRAConfig, PrefixTuningConfig, SeqBnConfig,SeqBnInvConfig,AdapterConfig,LoRAConfig\n",
    "\n",
    "\n",
    "\n",
    "class DomainTaskAdapter(pl.LightningModule):\n",
    "    def __init__(self, hparams):\n",
    "        super(DomainTaskAdapter, self).__init__()\n",
    "        self.save_hyperparameters(hparams)\n",
    "        self.config = AutoConfig.from_pretrained(self.hparams[\"pretrained_model_name\"])\n",
    "        self.config.output_hidden_states = True\n",
    "        self.model = AutoAdapterModel.from_pretrained(self.hparams[\"pretrained_model_name\"], config=self.config)\n",
    "        \n",
    "        self.reduction_factor = self.hparams.get(\"reduction_factor\", 16)\n",
    "        if self.reduction_factor == \"None\":\n",
    "            self.reduction_factor = 16\n",
    "        self.leave_out = self.hparams.get(\"leave_out\", [])\n",
    "       \n",
    "        self.saved_adapter_dir = self.hparams[\"saved_adapter_dir\"]\n",
    "        self.domain_adapter_name = self.hparams[\"domain_adapter_name\"]\n",
    "                \n",
    "        union_config = ConfigUnion(\n",
    "            SeqBnInvConfig(reduction_factor=2),\n",
    "            LoRAConfig(r=8, alpha=16),\n",
    "        )\n",
    "        \n",
    "        self.task_adapter_name = self.hparams[\"task_adapter_name\"]\n",
    "        self.model.add_adapter(self.task_adapter_name, config=union_config)\n",
    "\n",
    "        #self.model.load_adapter(f\"{self.saved_adapter_dir}/{self.domain_adapter_name}\", with_head=False)\n",
    "        self.model.add_classification_head(self.task_adapter_name, num_labels=self.hparams[\"num_classes\"])\n",
    "        self.model.active_adapters = self.task_adapter_name\n",
    "\n",
    "        self.model.train_adapter(self.task_adapter_name)\n",
    "        print(self.model.adapter_summary())\n",
    "        print(fn.print_trainable_parameters(self.model))\n",
    "\n",
    "        self.training_outputs = []\n",
    "        self.validation_outputs = []\n",
    "        self.test_outputs = []\n",
    "        self.criterion = nn.CrossEntropyLoss()\n",
    "        self.accuracy = torchmetrics.Accuracy(task='multiclass',                                           \n",
    "                                     num_classes=self.hparams[\"num_classes\"])\n",
    "        self.f1 = torchmetrics.F1Score(task='multiclass',num_classes=self.hparams[\"num_classes\"], average=\"weighted\")\n",
    "        self.f1_macro = torchmetrics.F1Score(task='multiclass',num_classes=self.hparams[\"num_classes\"], average=\"macro\")\n",
    "        self.softmax = nn.Softmax(dim=1)\n",
    "        self.entropy_values = []  # For entropy minimization\n",
    "    def forward(self, input_ids, attention_mask):\n",
    "        outputs = self.model(input_ids=input_ids, attention_mask=attention_mask)\n",
    "        return outputs.logits\n",
    "\n",
    "    def training_step(self, batch, batch_idx):\n",
    "        input_ids, attention_mask = batch[\"source_input_ids\"], batch[\"source_attention_mask\"]\n",
    "        labels = batch[\"label_source\"]\n",
    "        logits = self(input_ids=input_ids, attention_mask=attention_mask)\n",
    "        loss = self.criterion(logits, labels)\n",
    "        accuracy = self.accuracy(labels, torch.argmax(self.softmax(logits), dim=1))\n",
    "        f1 = self.f1(labels, torch.argmax(self.softmax(logits), dim=1))\n",
    "        # self.training_outputs.append({\n",
    "        #     \"train_loss\": loss,\n",
    "        #     \"train_accuracy\":accuracy,\n",
    "        #     \"train_f1\":f1,\n",
    "        #     })\n",
    "        self.log(\"train_loss\", loss)\n",
    "        self.log(\"train_accuracy\", accuracy)\n",
    "        self.log(\"train_f1\", f1)\n",
    "        \n",
    "        return loss\n",
    "   \n",
    "    def validation_step(self, batch, batch_idx):\n",
    "        \"\"\"validation step of DomainTaskAdapter\"\"\"\n",
    "        # get the input ids and attention mask for source data\n",
    "        input_ids, attention_mask = batch[\"source_input_ids\"], batch[\"source_attention_mask\"]\n",
    "        logits = self(input_ids=input_ids, attention_mask=attention_mask)\n",
    "        labels = batch[\"label_source\"]\n",
    "        source_loss = self.criterion(logits, labels)\n",
    "        source_accuracy = self.accuracy(labels, torch.argmax(self.softmax(logits), dim=1))\n",
    "        source_f1 = self.f1(labels, torch.argmax(self.softmax(logits), dim=1))\n",
    "\n",
    "\n",
    "        # get the input ids and attention mask for target data\n",
    "        input_ids, attention_mask = batch[\"target_input_ids\"], batch[\"target_attention_mask\"]\n",
    "        logits  = self(input_ids=input_ids, attention_mask=attention_mask)\n",
    "        labels = batch[\"label_target\"]\n",
    "        target_loss = self.criterion(logits, labels)\n",
    "        target_accuracy = self.accuracy(labels, torch.argmax(self.softmax(logits), dim=1))\n",
    "        target_f1 = self.f1(labels, torch.argmax(self.softmax(logits), dim=1))\n",
    "        # # Entropy minimization - calculate and log entropy\n",
    "        # probs = self.softmax(logits).cpu().numpy()\n",
    "        # entropy = -np.sum(probs * np.log(probs + 1e-10), axis=1)\n",
    "        # avg_entropy = np.mean(entropy)\n",
    "        # self.entropy_values.append(avg_entropy)\n",
    "     \n",
    "        # this will log the mean div value across epoch\n",
    "        self.log(name=\"source_val/loss\", value=source_loss, prog_bar=True, logger=True)\n",
    "        self.log(name=\"source_val/accuracy\", value=source_accuracy, prog_bar=True, logger=True)\n",
    "        self.log(name=\"source_val/f1\", value=source_f1, prog_bar=True, logger=True)\n",
    "        self.log(name=\"target_val/loss\", value=target_loss, prog_bar=True, logger=True)\n",
    "        self.log(name=\"target_val/accuracy\", value=target_accuracy, prog_bar=True, logger=True)\n",
    "        self.log(name=\"target_val/f1\", value=target_f1, prog_bar=True, logger=True)\n",
    "        \n",
    "        self.validation_outputs.append({\n",
    "            \"source_val/loss\": source_loss,\n",
    "            \"source_val/accuracy\": source_accuracy,\n",
    "            \"source_val/f1\": source_f1,\n",
    "            \"target_val/loss\": target_loss,\n",
    "            \"target_val/accuracy\": target_accuracy,\n",
    "            \"target_val/f1\": target_f1,\n",
    "            # \"features\": target_features.cpu(),  # Collect features for t-SNE\n",
    "            # \"logits\": logits.cpu(),  # Collect logits for confusion matrix\n",
    "            # \"labels\": labels.cpu()  # Collect labels for confusion matrix   \n",
    "                })\n",
    "        return {\n",
    "            \"source_val/loss\": source_loss,\n",
    "            \"source_val/accuracy\": source_accuracy,\n",
    "            \"source_val/f1\": source_f1,\n",
    "            \"target_val/loss\": target_loss,\n",
    "            \"target_val/accuracy\": target_accuracy,\n",
    "            \"target_val/f1\": target_f1,\n",
    "            # \"features\": target_features.cpu(),  # Collect features for t-SNE\n",
    "            # \"logits\": logits.cpu(),  # Collect logits for confusion matrix\n",
    "            # \"labels\": labels.cpu()  # Collect labels for confusion matrix   \n",
    "                            }\n",
    "    def on_validation_epoch_start(self):\n",
    "        self.validation_outputs = []\n",
    "    \n",
    "    def on_validation_epoch_end(self):\n",
    "        try:\n",
    "            outputs= self.validation_outputs\n",
    "            mean_source_loss = torch.stack([x[\"source_val/loss\"] for x in outputs]).mean()\n",
    "            mean_source_accuracy = torch.stack([x[\"source_val/accuracy\"] for x in outputs]).mean()\n",
    "            mean_source_f1 = torch.stack([x[\"source_val/f1\"] for x in outputs]).mean()\n",
    "\n",
    "            mean_target_loss = torch.stack([x[\"target_val/loss\"] for x in outputs]).mean()\n",
    "            mean_target_accuracy = torch.stack([x[\"target_val/accuracy\"] for x in outputs]).mean()\n",
    "            mean_target_f1 = torch.stack([x[\"target_val/f1\"] for x in outputs]).mean()\n",
    "            print(f\"target_val/loss: {mean_target_loss}\")\n",
    "            print(f\"target_val/accuracy: {mean_target_accuracy}\")\n",
    "            print(f\"target_val/f1: {mean_target_f1}\")\n",
    "            print(f\"source_val/loss: {mean_source_loss}\")\n",
    "            print(f\"source_val/accuracy: {mean_source_accuracy}\")\n",
    "            print(f\"source_val/f1: {mean_source_f1}\")\n",
    "\n",
    "            self.log(name=\"source_val/loss\", value=mean_source_loss, prog_bar=True, logger=True)\n",
    "            self.log(name=\"source_val/accuracy\", value=mean_source_accuracy, prog_bar=True, logger=True)\n",
    "            self.log(name=\"target_val/loss\", value=mean_target_loss, prog_bar=True, logger=True)\n",
    "            self.log(name=\"target_val/accuracy\", value=mean_target_accuracy, prog_bar=True, logger=True)\n",
    "            self.log(name=\"target_val/f1\", value=mean_target_f1, prog_bar=True, logger=True)\n",
    "            self.log(name=\"source_val/f1\", value=mean_source_f1, prog_bar=True, logger=True)\n",
    "        \n",
    "        \n",
    "            self.log(\"val_loss\", mean_source_loss)\n",
    "            # Generate and log visualizations\n",
    "            # if hasattr(self.trainer, 'current_epoch'):\n",
    "            #     self.plot_tsne(outputs, epoch=self.trainer.current_epoch, phase='validation')\n",
    "            #     self.plot_confusion_matrix(outputs, phase='validation')\n",
    "        except Exception as e:\n",
    "            print(f\"Error during on_validation_epoch_end: {e}\")\n",
    "            raise\n",
    "\n",
    "    def test_step(self, batch, batch_idx):\n",
    "        \"\"\"validation step of DomainTaskAdapter\"\"\"\n",
    "        # get the input ids and attention mask for source data\n",
    "        input_ids, attention_mask = batch[\"source_input_ids\"], batch[\"source_attention_mask\"]\n",
    "        logits  = self(input_ids=input_ids, attention_mask=attention_mask)\n",
    "        labels = batch[\"label_source\"]\n",
    "        source_loss = self.criterion(logits, labels)\n",
    "        source_accuracy = self.accuracy(labels, torch.argmax(self.softmax(logits), dim=1))\n",
    "        source_f1 = self.f1(labels, torch.argmax(self.softmax(logits), dim=1))\n",
    "        source_f1_macro = self.f1_macro(labels, torch.argmax(self.softmax(logits), dim=1))\n",
    "\n",
    "        # get the input ids and attention mask for target data\n",
    "        input_ids, attention_mask = batch[\"target_input_ids\"], batch[\"target_attention_mask\"]\n",
    "        logits = self(input_ids=input_ids, attention_mask=attention_mask)\n",
    "        labels = batch[\"label_target\"]\n",
    "        target_loss = self.criterion(logits, labels)\n",
    "        target_accuracy = self.accuracy(labels, torch.argmax(self.softmax(logits), dim=1))\n",
    "        target_f1 = self.f1(labels, torch.argmax(self.softmax(logits), dim=1))\n",
    "        target_f1_macro = self.f1_macro(labels, torch.argmax(self.softmax(logits), dim=1))\n",
    "\n",
    "       \n",
    "\n",
    "        self.log(name=\"source_test/loss\", value=source_loss, logger=True)\n",
    "        self.log(name=\"source_test/accuracy\", value=source_accuracy, logger=True)\n",
    "        self.log(name=\"source_test/f1\", value=source_f1, logger=True)\n",
    "        self.log(name=\"source_test/f1_macro\", value=source_f1_macro, logger=True)\n",
    "        self.log(name=\"target_test/loss\", value=target_loss, logger=True)\n",
    "        self.log(name=\"target_test/accuracy\", value=target_accuracy, logger=True)\n",
    "        self.log(name=\"target_test/f1\", value=target_f1, logger=True)\n",
    "        self.log(name=\"target_test/f1_macro\", value=target_f1_macro, logger=True)\n",
    "        \n",
    "        self.test_outputs.append({\n",
    "            \"source_test/loss\": source_loss,\n",
    "            \"source_test/accuracy\": source_accuracy,\n",
    "            \"source_test/f1\": source_f1,\n",
    "            \"source_test/f1_macro\": source_f1_macro,\n",
    "            \"target_test/loss\": target_loss,\n",
    "            \"target_test/accuracy\": target_accuracy,\n",
    "            \"target_test/f1\": target_f1,\n",
    "            \"target_test/f1_macro\": target_f1_macro,\n",
    "\n",
    "            # \"features\": target_features.cpu(),  # Collect features for t-SNE\n",
    "            # \"logits\": logits.cpu(),  # Collect logits for confusion matrix\n",
    "            # \"labels\": labels.cpu()  # Collect labels for confusion matrix   \n",
    "        })\n",
    "        return {\n",
    "            \"source_test/loss\": source_loss,\n",
    "            \"source_test/accuracy\": source_accuracy,\n",
    "            \"source_test/f1\": source_f1,\n",
    "            \"source_test/f1_macro\": source_f1_macro,\n",
    "\n",
    "            \"target_test/loss\": target_loss,\n",
    "            \"target_test/accuracy\": target_accuracy,\n",
    "            \"target_test/f1\": target_f1,\n",
    "            \"target_test/f1_macro\": target_f1_macro,\n",
    "\n",
    "            # \"features\": target_features.cpu(),  # Collect features for t-SNE\n",
    "            # \"logits\": logits.cpu(),  # Collect logits for confusion matrix\n",
    "            # \"labels\": labels.cpu()  # Collect labels for confusion matrix   \n",
    "        }\n",
    "    def on_test_epoch_start(self):\n",
    "        self.test_outputs = []\n",
    "    def on_test_epoch_end(self):\n",
    "        try:\n",
    "            outputs=  self.test_outputs\n",
    "            mean_source_loss = torch.stack([x[\"source_test/loss\"] for x in outputs]).mean()\n",
    "            mean_source_accuracy = torch.stack([x[\"source_test/accuracy\"] for x in outputs]).mean()\n",
    "            mean_source_f1 = torch.stack([x[\"source_test/f1\"] for x in outputs]).mean()\n",
    "            mean_source_f1_macro = torch.stack([x[\"source_test/f1_macro\"] for x in outputs]).mean()\n",
    "\n",
    "            mean_target_loss = torch.stack([x[\"target_test/loss\"] for x in outputs]).mean()\n",
    "            mean_target_accuracy = torch.stack([x[\"target_test/accuracy\"] for x in outputs]).mean()\n",
    "            mean_target_f1 = torch.stack([x[\"target_test/f1\"] for x in outputs]).mean()\n",
    "            mean_target_f1_macro = torch.stack([x[\"target_test/f1_macro\"] for x in outputs]).mean()\n",
    "\n",
    "            self.log(name=\"source_test/loss\", value=mean_source_loss)\n",
    "            self.log(name=\"source_test/accuracy\", value=mean_source_accuracy)\n",
    "            self.log(name=\"source_test/f1\", value=mean_source_f1)\n",
    "            self.log(name=\"source_test/f1_macro\", value=mean_source_f1_macro)\n",
    "            self.log(name=\"target_test/loss\", value=mean_target_loss)\n",
    "            self.log(name=\"target_test/accuracy\", value=mean_target_accuracy)\n",
    "            self.log(name=\"target_test/f1\", value=mean_target_f1)\n",
    "            self.log(name=\"target_test/f1_macro\", value=mean_target_f1_macro)\n",
    "\n",
    "\n",
    "            # # Generate and log visualizations\n",
    "            # if hasattr(self.trainer, 'current_epoch'):\n",
    "            #     self.plot_tsne(outputs, epoch=self.trainer.current_epoch, phase='test')\n",
    "            #     self.plot_confusion_matrix(outputs, phase='test')\n",
    "        except Exception as e:\n",
    "            print(f\"Error during on_test_epoch_end: {e}\")\n",
    "            raise\n",
    "    def save_adapter(self, location, adapter_name):\n",
    "        self.model.save_adapter(location, adapter_name)\n",
    "    def configure_optimizers(self):\n",
    "        optimizer = optim.AdamW(self.parameters(), lr=self.hparams[\"learning_rate\"])\n",
    "        lr_scheduler = {\n",
    "            'scheduler': optim.lr_scheduler.ReduceLROnPlateau(optimizer, mode='min', factor=0.1, patience=2, threshold=0.0001, cooldown=0, min_lr=1e-8),\n",
    "            'monitor': 'val_loss'\n",
    "        }\n",
    "        return [optimizer], [lr_scheduler]\n",
    "    def plot_tsne(self, outputs, epoch, phase):\n",
    "        try:\n",
    "            features = []\n",
    "            labels = []\n",
    "            for output in outputs:\n",
    "                features.extend(output[\"features\"].numpy())  # Use target features\n",
    "                labels.extend(output[\"labels\"].numpy())  # Use target labels\n",
    "\n",
    "            features = np.array(features)\n",
    "            labels = np.array(labels)\n",
    "            print(f\"Features shape: {features.shape}\")\n",
    "            print(f\"Labels shape: {labels.shape}\")\n",
    "\n",
    "            # Flatten features if necessary\n",
    "            if features.ndim > 2:\n",
    "                features = features.reshape(features.shape[0], -1)\n",
    "                print(f\"Flattened features shape: {features.shape}\")\n",
    "\n",
    "            tsne = TSNE(n_components=2)\n",
    "            tsne_results = tsne.fit_transform(features)\n",
    "            plt.figure(figsize=(10, 6))\n",
    "            for i in range(self.hparams[\"num_classes\"]):\n",
    "                idxs = np.where(labels == i)\n",
    "                plt.scatter(tsne_results[idxs, 0], tsne_results[idxs, 1], label=f'Class {i}')\n",
    "            plt.legend()\n",
    "            plt.title(f't-SNE plot {phase} Epoch {epoch}')\n",
    "            plt.show()  # Display the plot inline\n",
    "        except Exception as e:\n",
    "            print(f\"Error during t-SNE plotting: {e}\")\n",
    "            raise\n",
    "\n",
    "    def plot_confusion_matrix(self, outputs, phase):\n",
    "        try:\n",
    "            y_true = []\n",
    "            y_pred = []\n",
    "            for output in outputs:\n",
    "                y_true.extend(output[\"labels\"].numpy())  # Use target labels\n",
    "                y_pred.extend(torch.argmax(output[\"logits\"], dim=1).numpy())  # Use predicted labels from logits\n",
    "\n",
    "            y_true = np.array(y_true)\n",
    "            y_pred = np.array(y_pred)\n",
    "            print(f\"y_true shape: {y_true.shape}\")\n",
    "            print(f\"y_pred shape: {y_pred.shape}\")\n",
    "\n",
    "            cm = confusion_matrix(y_true, y_pred)\n",
    "            disp = ConfusionMatrixDisplay(confusion_matrix=cm)\n",
    "            disp.plot()\n",
    "            plt.title(f'Confusion Matrix {phase}')\n",
    "            plt.show()  # Display the plot inline\n",
    "        except Exception as e:\n",
    "            print(f\"Error during confusion matrix plotting: {e}\")\n",
    "            raise"
   ]
  },
  {
   "cell_type": "code",
   "execution_count": 4,
   "metadata": {},
   "outputs": [
    {
     "name": "stderr",
     "output_type": "stream",
     "text": [
      "Failed to detect the name of this notebook, you can set it manually with the WANDB_NOTEBOOK_NAME environment variable to enable code saving.\n",
      "\u001b[34m\u001b[1mwandb\u001b[0m: Currently logged in as: \u001b[33mmrawhani5\u001b[0m (\u001b[33mmrawhani\u001b[0m). Use \u001b[1m`wandb login --relogin`\u001b[0m to force relogin\n"
     ]
    }
   ],
   "source": [
    "# Step 5: Training and Evaluation Loop with Wandb logging\n",
    "import wandb\n",
    "wandb.login()\n",
    "# Wandb setup and training loop\n",
    "seeds = [42,10,100]  # List of seeds\n",
    "project_name = 'ablations'  # Replace with your wandb project name\n",
    "domain = 'TES'  # Replace with the specific domain for this notebook\n",
    "type = 'union_fresh'  # Replace with the specific type for this notebook\n",
    "domain_aprev ='TES'\n",
    "\n",
    "# Initialize results dictionary\n",
    "results = {\n",
    "    \"last_epoch\": {\n",
    "        \n",
    "        \"source_test/loss\": [],\n",
    "        \"source_test/accuracy\": [],\n",
    "        \"source_test/f1\": [],        \n",
    "        \"source_test/f1_macro\": [],\n",
    "        \"target_test/loss\": [],\n",
    "        \"target_test/accuracy\": [],\n",
    "        \"target_test/f1\": [],\n",
    "        \"target_test/f1_macro\": [],\n",
    "    },\n",
    "    \"best_model\": {\n",
    "        \n",
    "        \"source_test/loss\": [],\n",
    "        \"source_test/accuracy\": [],\n",
    "        \"source_test/f1\": [],        \n",
    "        \"source_test/f1_macro\": [],\n",
    "        \"target_test/loss\": [],\n",
    "        \"target_test/accuracy\": [],\n",
    "        \"target_test/f1\": [],\n",
    "        \"target_test/f1_macro\": [],\n",
    "    },\n",
    "    \"epoch_saved\": {\n",
    "        \n",
    "        \"source_test/loss\": [],\n",
    "        \"source_test/accuracy\": [],\n",
    "        \"source_test/f1\": [],        \n",
    "        \"source_test/f1_macro\": [],\n",
    "        \"target_test/loss\": [],\n",
    "        \"target_test/accuracy\": [],\n",
    "        \"target_test/f1\": [],\n",
    "        \"target_test/f1_macro\": [],\n",
    "    }\n",
    "}\n",
    "\n",
    "best_val_loss = float('inf')\n",
    "best_model = None\n",
    "best_model_path = \"\"\n"
   ]
  },
  {
   "cell_type": "code",
   "execution_count": 5,
   "metadata": {},
   "outputs": [
    {
     "data": {
      "text/html": [
       "wandb version 0.17.4 is available!  To upgrade, please run:\n",
       " $ pip install wandb --upgrade"
      ],
      "text/plain": [
       "<IPython.core.display.HTML object>"
      ]
     },
     "metadata": {},
     "output_type": "display_data"
    },
    {
     "data": {
      "text/html": [
       "Tracking run with wandb version 0.17.0"
      ],
      "text/plain": [
       "<IPython.core.display.HTML object>"
      ]
     },
     "metadata": {},
     "output_type": "display_data"
    },
    {
     "data": {
      "text/html": [
       "Run data is saved locally in <code>/home/guest/Desktop/projects/fourth-expeiments/domain_adaptation_project/union/slate/wandb/run-20240713_204119-vlr6i0k7</code>"
      ],
      "text/plain": [
       "<IPython.core.display.HTML object>"
      ]
     },
     "metadata": {},
     "output_type": "display_data"
    },
    {
     "data": {
      "text/html": [
       "Syncing run <strong><a href='https://wandb.ai/mrawhani/ablations/runs/vlr6i0k7' target=\"_blank\">TES_union_fresh_run_with_seed_42</a></strong> to <a href='https://wandb.ai/mrawhani/ablations' target=\"_blank\">Weights & Biases</a> (<a href='https://wandb.me/run' target=\"_blank\">docs</a>)<br/>"
      ],
      "text/plain": [
       "<IPython.core.display.HTML object>"
      ]
     },
     "metadata": {},
     "output_type": "display_data"
    },
    {
     "data": {
      "text/html": [
       " View project at <a href='https://wandb.ai/mrawhani/ablations' target=\"_blank\">https://wandb.ai/mrawhani/ablations</a>"
      ],
      "text/plain": [
       "<IPython.core.display.HTML object>"
      ]
     },
     "metadata": {},
     "output_type": "display_data"
    },
    {
     "data": {
      "text/html": [
       " View run at <a href='https://wandb.ai/mrawhani/ablations/runs/vlr6i0k7' target=\"_blank\">https://wandb.ai/mrawhani/ablations/runs/vlr6i0k7</a>"
      ],
      "text/plain": [
       "<IPython.core.display.HTML object>"
      ]
     },
     "metadata": {},
     "output_type": "display_data"
    },
    {
     "name": "stderr",
     "output_type": "stream",
     "text": [
      "Seed set to 42\n",
      "/home/guest/.cache/pypoetry/virtualenvs/fourth-experments-OVNdUUAn-py3.8/lib/python3.8/site-packages/huggingface_hub/file_download.py:1132: FutureWarning: `resume_download` is deprecated and will be removed in version 1.0.0. Downloads always resume when possible. If you want to force a new download, use `force_download=True`.\n",
      "  warnings.warn(\n"
     ]
    },
    {
     "name": "stdout",
     "output_type": "stream",
     "text": [
      "prinssst: telephone\n",
      "print: slate\n",
      "print: 69575\n",
      "prinssst: telephone\n",
      "print: slate\n",
      "print: 69575\n"
     ]
    },
    {
     "name": "stderr",
     "output_type": "stream",
     "text": [
      "Some weights of BertAdapterModel were not initialized from the model checkpoint at bert-base-uncased and are newly initialized: ['heads.default.3.bias']\n",
      "You should probably TRAIN this model on a down-stream task to be able to use it for predictions and inference.\n",
      "/home/guest/.cache/pypoetry/virtualenvs/fourth-experments-OVNdUUAn-py3.8/lib/python3.8/site-packages/torch/utils/data/dataloader.py:558: UserWarning: This DataLoader will create 16 worker processes in total. Our suggested max number of worker in current system is 12, which is smaller than what this DataLoader is going to create. Please be aware that excessive worker creation might get DataLoader running slow or even freeze, lower the worker number to avoid potential slowness/freeze if necessary.\n",
      "  warnings.warn(_create_warning_msg(\n",
      "GPU available: True (cuda), used: True\n",
      "TPU available: False, using: 0 TPU cores\n",
      "IPU available: False, using: 0 IPUs\n",
      "HPU available: False, using: 0 HPUs\n",
      "`Trainer(limit_train_batches=1.0)` was configured so 100% of the batches per epoch will be used..\n",
      "`Trainer(limit_val_batches=1.0)` was configured so 100% of the batches will be used..\n",
      "`Trainer(limit_test_batches=1.0)` was configured so 100% of the batches will be used..\n",
      "/home/guest/.cache/pypoetry/virtualenvs/fourth-experments-OVNdUUAn-py3.8/lib/python3.8/site-packages/pytorch_lightning/loggers/wandb.py:396: There is a wandb run already in progress and newly created instances of `WandbLogger` will reuse this run. If this is not desired, call `wandb.finish()` before instantiating `WandbLogger`.\n",
      "LOCAL_RANK: 0 - CUDA_VISIBLE_DEVICES: [0]\n"
     ]
    },
    {
     "name": "stdout",
     "output_type": "stream",
     "text": [
      "================================================================================\n",
      "Name                     Architecture         #Param      %Param  Active   Train\n",
      "--------------------------------------------------------------------------------\n",
      "task_fresh_TES           union             7,682,688       7.017       1       1\n",
      "--------------------------------------------------------------------------------\n",
      "Full model                               109,482,240     100.000               0\n",
      "================================================================================\n",
      "trainable params: 8898237 || all params: 118380477 || trainable%: 7.5166422922928415\n",
      "None\n"
     ]
    },
    {
     "name": "stderr",
     "output_type": "stream",
     "text": [
      "\n",
      "  | Name      | Type               | Params\n",
      "-------------------------------------------------\n",
      "0 | model     | BertAdapterModel   | 118 M \n",
      "1 | criterion | CrossEntropyLoss   | 0     \n",
      "2 | accuracy  | MulticlassAccuracy | 0     \n",
      "3 | f1        | MulticlassF1Score  | 0     \n",
      "4 | f1_macro  | MulticlassF1Score  | 0     \n",
      "5 | softmax   | Softmax            | 0     \n",
      "-------------------------------------------------\n",
      "8.9 M     Trainable params\n",
      "109 M     Non-trainable params\n",
      "118 M     Total params\n",
      "473.522   Total estimated model params size (MB)\n"
     ]
    },
    {
     "data": {
      "application/vnd.jupyter.widget-view+json": {
       "model_id": "40e6a357724b4c24ab3b3462a7875d47",
       "version_major": 2,
       "version_minor": 0
      },
      "text/plain": [
       "Sanity Checking: |          | 0/? [00:00<?, ?it/s]"
      ]
     },
     "metadata": {},
     "output_type": "display_data"
    },
    {
     "name": "stdout",
     "output_type": "stream",
     "text": [
      "target_val/loss: 1.0941898822784424\n",
      "target_val/accuracy: 0.359375\n",
      "target_val/f1: 0.4956129789352417\n",
      "source_val/loss: 1.1207531690597534\n",
      "source_val/accuracy: 0.328125\n",
      "source_val/f1: 0.46339553594589233\n"
     ]
    },
    {
     "data": {
      "application/vnd.jupyter.widget-view+json": {
       "model_id": "117ac53e1bbf4f78b9e39b95d831b405",
       "version_major": 2,
       "version_minor": 0
      },
      "text/plain": [
       "Training: |          | 0/? [00:00<?, ?it/s]"
      ]
     },
     "metadata": {},
     "output_type": "display_data"
    },
    {
     "data": {
      "application/vnd.jupyter.widget-view+json": {
       "model_id": "1b4b6ed041bd4c6eae9ee5fe3f31edd7",
       "version_major": 2,
       "version_minor": 0
      },
      "text/plain": [
       "Validation: |          | 0/? [00:00<?, ?it/s]"
      ]
     },
     "metadata": {},
     "output_type": "display_data"
    },
    {
     "name": "stdout",
     "output_type": "stream",
     "text": [
      "target_val/loss: 0.7373952269554138\n",
      "target_val/accuracy: 0.6891650557518005\n",
      "target_val/f1: 0.6905012130737305\n",
      "source_val/loss: 0.5669988393783569\n",
      "source_val/accuracy: 0.7654890418052673\n",
      "source_val/f1: 0.7643799185752869\n"
     ]
    },
    {
     "data": {
      "application/vnd.jupyter.widget-view+json": {
       "model_id": "a26c8ccf8b474eb1b9cbc56f5acb446c",
       "version_major": 2,
       "version_minor": 0
      },
      "text/plain": [
       "Validation: |          | 0/? [00:00<?, ?it/s]"
      ]
     },
     "metadata": {},
     "output_type": "display_data"
    },
    {
     "name": "stdout",
     "output_type": "stream",
     "text": [
      "target_val/loss: 0.7258471250534058\n",
      "target_val/accuracy: 0.710254430770874\n",
      "target_val/f1: 0.7101296782493591\n",
      "source_val/loss: 0.5459501147270203\n",
      "source_val/accuracy: 0.7821471095085144\n",
      "source_val/f1: 0.7813758254051208\n"
     ]
    },
    {
     "data": {
      "application/vnd.jupyter.widget-view+json": {
       "model_id": "1da35a5bcdfa48c7afeb424b9c0b0b4d",
       "version_major": 2,
       "version_minor": 0
      },
      "text/plain": [
       "Validation: |          | 0/? [00:00<?, ?it/s]"
      ]
     },
     "metadata": {},
     "output_type": "display_data"
    },
    {
     "name": "stdout",
     "output_type": "stream",
     "text": [
      "target_val/loss: 0.7203827500343323\n",
      "target_val/accuracy: 0.7283329367637634\n",
      "target_val/f1: 0.7280293107032776\n",
      "source_val/loss: 0.5359348654747009\n",
      "source_val/accuracy: 0.7966098785400391\n",
      "source_val/f1: 0.7965471148490906\n"
     ]
    },
    {
     "data": {
      "application/vnd.jupyter.widget-view+json": {
       "model_id": "3e82bac3846a42d68a2c7a006cb182a6",
       "version_major": 2,
       "version_minor": 0
      },
      "text/plain": [
       "Validation: |          | 0/? [00:00<?, ?it/s]"
      ]
     },
     "metadata": {},
     "output_type": "display_data"
    },
    {
     "name": "stdout",
     "output_type": "stream",
     "text": [
      "target_val/loss: 0.8661603331565857\n",
      "target_val/accuracy: 0.7174450159072876\n",
      "target_val/f1: 0.717316210269928\n",
      "source_val/loss: 0.6196344494819641\n",
      "source_val/accuracy: 0.7851579189300537\n",
      "source_val/f1: 0.7837991118431091\n"
     ]
    },
    {
     "data": {
      "application/vnd.jupyter.widget-view+json": {
       "model_id": "300599ac241a443280d0713df5262f97",
       "version_major": 2,
       "version_minor": 0
      },
      "text/plain": [
       "Validation: |          | 0/? [00:00<?, ?it/s]"
      ]
     },
     "metadata": {},
     "output_type": "display_data"
    },
    {
     "name": "stderr",
     "output_type": "stream",
     "text": [
      "`Trainer.fit` stopped: `max_epochs=5` reached.\n"
     ]
    },
    {
     "name": "stdout",
     "output_type": "stream",
     "text": [
      "target_val/loss: 0.9033375382423401\n",
      "target_val/accuracy: 0.7226034998893738\n",
      "target_val/f1: 0.722327470779419\n",
      "source_val/loss: 0.6385127305984497\n",
      "source_val/accuracy: 0.790928065776825\n",
      "source_val/f1: 0.7908462285995483\n",
      "Best checkpoint path: ./lightning_logs/vlr6i0k7/checkpoints/task-TES-fresh-epoch=02-val_loss=0.54.ckpt\n",
      "Saved epoch checkpoint path: ./lightning_logs/vlr6i0k7/checkpoints/TES-fresh-epoch=02.ckpt\n"
     ]
    },
    {
     "name": "stderr",
     "output_type": "stream",
     "text": [
      "LOCAL_RANK: 0 - CUDA_VISIBLE_DEVICES: [0]\n"
     ]
    },
    {
     "name": "stdout",
     "output_type": "stream",
     "text": [
      "prinssst: telephone\n",
      "print: slate\n",
      "print: 69575\n"
     ]
    },
    {
     "data": {
      "application/vnd.jupyter.widget-view+json": {
       "model_id": "4ec78147a91444998ea932a11b25e6b3",
       "version_major": 2,
       "version_minor": 0
      },
      "text/plain": [
       "Testing: |          | 0/? [00:00<?, ?it/s]"
      ]
     },
     "metadata": {},
     "output_type": "display_data"
    },
    {
     "data": {
      "text/html": [
       "<pre style=\"white-space:pre;overflow-x:auto;line-height:normal;font-family:Menlo,'DejaVu Sans Mono',consolas,'Courier New',monospace\">┏━━━━━━━━━━━━━━━━━━━━━━━━━━━┳━━━━━━━━━━━━━━━━━━━━━━━━━━━┓\n",
       "┃<span style=\"font-weight: bold\">        Test metric        </span>┃<span style=\"font-weight: bold\">       DataLoader 0        </span>┃\n",
       "┡━━━━━━━━━━━━━━━━━━━━━━━━━━━╇━━━━━━━━━━━━━━━━━━━━━━━━━━━┩\n",
       "│<span style=\"color: #008080; text-decoration-color: #008080\">   source_test/accuracy    </span>│<span style=\"color: #800080; text-decoration-color: #800080\">    0.8014112710952759     </span>│\n",
       "│<span style=\"color: #008080; text-decoration-color: #008080\">      source_test/f1       </span>│<span style=\"color: #800080; text-decoration-color: #800080\">    0.8000502586364746     </span>│\n",
       "│<span style=\"color: #008080; text-decoration-color: #008080\">   source_test/f1_macro    </span>│<span style=\"color: #800080; text-decoration-color: #800080\">    0.7938739657402039     </span>│\n",
       "│<span style=\"color: #008080; text-decoration-color: #008080\">     source_test/loss      </span>│<span style=\"color: #800080; text-decoration-color: #800080\">    0.6368054151535034     </span>│\n",
       "│<span style=\"color: #008080; text-decoration-color: #008080\">   target_test/accuracy    </span>│<span style=\"color: #800080; text-decoration-color: #800080\">    0.7177419066429138     </span>│\n",
       "│<span style=\"color: #008080; text-decoration-color: #008080\">      target_test/f1       </span>│<span style=\"color: #800080; text-decoration-color: #800080\">    0.7176938056945801     </span>│\n",
       "│<span style=\"color: #008080; text-decoration-color: #008080\">   target_test/f1_macro    </span>│<span style=\"color: #800080; text-decoration-color: #800080\">    0.7080252170562744     </span>│\n",
       "│<span style=\"color: #008080; text-decoration-color: #008080\">     target_test/loss      </span>│<span style=\"color: #800080; text-decoration-color: #800080\">    0.9260020852088928     </span>│\n",
       "└───────────────────────────┴───────────────────────────┘\n",
       "</pre>\n"
      ],
      "text/plain": [
       "┏━━━━━━━━━━━━━━━━━━━━━━━━━━━┳━━━━━━━━━━━━━━━━━━━━━━━━━━━┓\n",
       "┃\u001b[1m \u001b[0m\u001b[1m       Test metric       \u001b[0m\u001b[1m \u001b[0m┃\u001b[1m \u001b[0m\u001b[1m      DataLoader 0       \u001b[0m\u001b[1m \u001b[0m┃\n",
       "┡━━━━━━━━━━━━━━━━━━━━━━━━━━━╇━━━━━━━━━━━━━━━━━━━━━━━━━━━┩\n",
       "│\u001b[36m \u001b[0m\u001b[36m  source_test/accuracy   \u001b[0m\u001b[36m \u001b[0m│\u001b[35m \u001b[0m\u001b[35m   0.8014112710952759    \u001b[0m\u001b[35m \u001b[0m│\n",
       "│\u001b[36m \u001b[0m\u001b[36m     source_test/f1      \u001b[0m\u001b[36m \u001b[0m│\u001b[35m \u001b[0m\u001b[35m   0.8000502586364746    \u001b[0m\u001b[35m \u001b[0m│\n",
       "│\u001b[36m \u001b[0m\u001b[36m  source_test/f1_macro   \u001b[0m\u001b[36m \u001b[0m│\u001b[35m \u001b[0m\u001b[35m   0.7938739657402039    \u001b[0m\u001b[35m \u001b[0m│\n",
       "│\u001b[36m \u001b[0m\u001b[36m    source_test/loss     \u001b[0m\u001b[36m \u001b[0m│\u001b[35m \u001b[0m\u001b[35m   0.6368054151535034    \u001b[0m\u001b[35m \u001b[0m│\n",
       "│\u001b[36m \u001b[0m\u001b[36m  target_test/accuracy   \u001b[0m\u001b[36m \u001b[0m│\u001b[35m \u001b[0m\u001b[35m   0.7177419066429138    \u001b[0m\u001b[35m \u001b[0m│\n",
       "│\u001b[36m \u001b[0m\u001b[36m     target_test/f1      \u001b[0m\u001b[36m \u001b[0m│\u001b[35m \u001b[0m\u001b[35m   0.7176938056945801    \u001b[0m\u001b[35m \u001b[0m│\n",
       "│\u001b[36m \u001b[0m\u001b[36m  target_test/f1_macro   \u001b[0m\u001b[36m \u001b[0m│\u001b[35m \u001b[0m\u001b[35m   0.7080252170562744    \u001b[0m\u001b[35m \u001b[0m│\n",
       "│\u001b[36m \u001b[0m\u001b[36m    target_test/loss     \u001b[0m\u001b[36m \u001b[0m│\u001b[35m \u001b[0m\u001b[35m   0.9260020852088928    \u001b[0m\u001b[35m \u001b[0m│\n",
       "└───────────────────────────┴───────────────────────────┘\n"
      ]
     },
     "metadata": {},
     "output_type": "display_data"
    },
    {
     "name": "stdout",
     "output_type": "stream",
     "text": [
      "Test Results Last Epoch: [{'source_test/loss': 0.6368054151535034, 'source_test/accuracy': 0.8014112710952759, 'source_test/f1': 0.8000502586364746, 'source_test/f1_macro': 0.7938739657402039, 'target_test/loss': 0.9260020852088928, 'target_test/accuracy': 0.7177419066429138, 'target_test/f1': 0.7176938056945801, 'target_test/f1_macro': 0.7080252170562744}]\n",
      "Best checkpoint path: ./lightning_logs/vlr6i0k7/checkpoints/task-TES-fresh-epoch=02-val_loss=0.54.ckpt\n",
      "Saved epoch checkpoint path: ./lightning_logs/vlr6i0k7/checkpoints/TES-fresh-epoch=02.ckpt\n"
     ]
    },
    {
     "name": "stderr",
     "output_type": "stream",
     "text": [
      "Some weights of BertAdapterModel were not initialized from the model checkpoint at bert-base-uncased and are newly initialized: ['heads.default.3.bias']\n",
      "You should probably TRAIN this model on a down-stream task to be able to use it for predictions and inference.\n"
     ]
    },
    {
     "name": "stdout",
     "output_type": "stream",
     "text": [
      "================================================================================\n",
      "Name                     Architecture         #Param      %Param  Active   Train\n",
      "--------------------------------------------------------------------------------\n",
      "task_fresh_TES           union             7,682,688       7.017       1       1\n",
      "--------------------------------------------------------------------------------\n",
      "Full model                               109,482,240     100.000               0\n",
      "================================================================================\n",
      "trainable params: 8898237 || all params: 118380477 || trainable%: 7.5166422922928415\n",
      "None\n"
     ]
    },
    {
     "name": "stderr",
     "output_type": "stream",
     "text": [
      "LOCAL_RANK: 0 - CUDA_VISIBLE_DEVICES: [0]\n"
     ]
    },
    {
     "data": {
      "application/vnd.jupyter.widget-view+json": {
       "model_id": "fef0d534255b4a6aac19eeaf2d66d9d0",
       "version_major": 2,
       "version_minor": 0
      },
      "text/plain": [
       "Testing: |          | 0/? [00:00<?, ?it/s]"
      ]
     },
     "metadata": {},
     "output_type": "display_data"
    },
    {
     "data": {
      "text/html": [
       "<pre style=\"white-space:pre;overflow-x:auto;line-height:normal;font-family:Menlo,'DejaVu Sans Mono',consolas,'Courier New',monospace\">┏━━━━━━━━━━━━━━━━━━━━━━━━━━━┳━━━━━━━━━━━━━━━━━━━━━━━━━━━┓\n",
       "┃<span style=\"font-weight: bold\">        Test metric        </span>┃<span style=\"font-weight: bold\">       DataLoader 0        </span>┃\n",
       "┡━━━━━━━━━━━━━━━━━━━━━━━━━━━╇━━━━━━━━━━━━━━━━━━━━━━━━━━━┩\n",
       "│<span style=\"color: #008080; text-decoration-color: #008080\">   source_test/accuracy    </span>│<span style=\"color: #800080; text-decoration-color: #800080\">    0.7940188050270081     </span>│\n",
       "│<span style=\"color: #008080; text-decoration-color: #008080\">      source_test/f1       </span>│<span style=\"color: #800080; text-decoration-color: #800080\">    0.7920864820480347     </span>│\n",
       "│<span style=\"color: #008080; text-decoration-color: #008080\">   source_test/f1_macro    </span>│<span style=\"color: #800080; text-decoration-color: #800080\">     0.786285400390625     </span>│\n",
       "│<span style=\"color: #008080; text-decoration-color: #008080\">     source_test/loss      </span>│<span style=\"color: #800080; text-decoration-color: #800080\">    0.5557180643081665     </span>│\n",
       "│<span style=\"color: #008080; text-decoration-color: #008080\">   target_test/accuracy    </span>│<span style=\"color: #800080; text-decoration-color: #800080\">    0.7222781777381897     </span>│\n",
       "│<span style=\"color: #008080; text-decoration-color: #008080\">      target_test/f1       </span>│<span style=\"color: #800080; text-decoration-color: #800080\">    0.7209819555282593     </span>│\n",
       "│<span style=\"color: #008080; text-decoration-color: #008080\">   target_test/f1_macro    </span>│<span style=\"color: #800080; text-decoration-color: #800080\">    0.7126691341400146     </span>│\n",
       "│<span style=\"color: #008080; text-decoration-color: #008080\">     target_test/loss      </span>│<span style=\"color: #800080; text-decoration-color: #800080\">    0.7194926142692566     </span>│\n",
       "└───────────────────────────┴───────────────────────────┘\n",
       "</pre>\n"
      ],
      "text/plain": [
       "┏━━━━━━━━━━━━━━━━━━━━━━━━━━━┳━━━━━━━━━━━━━━━━━━━━━━━━━━━┓\n",
       "┃\u001b[1m \u001b[0m\u001b[1m       Test metric       \u001b[0m\u001b[1m \u001b[0m┃\u001b[1m \u001b[0m\u001b[1m      DataLoader 0       \u001b[0m\u001b[1m \u001b[0m┃\n",
       "┡━━━━━━━━━━━━━━━━━━━━━━━━━━━╇━━━━━━━━━━━━━━━━━━━━━━━━━━━┩\n",
       "│\u001b[36m \u001b[0m\u001b[36m  source_test/accuracy   \u001b[0m\u001b[36m \u001b[0m│\u001b[35m \u001b[0m\u001b[35m   0.7940188050270081    \u001b[0m\u001b[35m \u001b[0m│\n",
       "│\u001b[36m \u001b[0m\u001b[36m     source_test/f1      \u001b[0m\u001b[36m \u001b[0m│\u001b[35m \u001b[0m\u001b[35m   0.7920864820480347    \u001b[0m\u001b[35m \u001b[0m│\n",
       "│\u001b[36m \u001b[0m\u001b[36m  source_test/f1_macro   \u001b[0m\u001b[36m \u001b[0m│\u001b[35m \u001b[0m\u001b[35m    0.786285400390625    \u001b[0m\u001b[35m \u001b[0m│\n",
       "│\u001b[36m \u001b[0m\u001b[36m    source_test/loss     \u001b[0m\u001b[36m \u001b[0m│\u001b[35m \u001b[0m\u001b[35m   0.5557180643081665    \u001b[0m\u001b[35m \u001b[0m│\n",
       "│\u001b[36m \u001b[0m\u001b[36m  target_test/accuracy   \u001b[0m\u001b[36m \u001b[0m│\u001b[35m \u001b[0m\u001b[35m   0.7222781777381897    \u001b[0m\u001b[35m \u001b[0m│\n",
       "│\u001b[36m \u001b[0m\u001b[36m     target_test/f1      \u001b[0m\u001b[36m \u001b[0m│\u001b[35m \u001b[0m\u001b[35m   0.7209819555282593    \u001b[0m\u001b[35m \u001b[0m│\n",
       "│\u001b[36m \u001b[0m\u001b[36m  target_test/f1_macro   \u001b[0m\u001b[36m \u001b[0m│\u001b[35m \u001b[0m\u001b[35m   0.7126691341400146    \u001b[0m\u001b[35m \u001b[0m│\n",
       "│\u001b[36m \u001b[0m\u001b[36m    target_test/loss     \u001b[0m\u001b[36m \u001b[0m│\u001b[35m \u001b[0m\u001b[35m   0.7194926142692566    \u001b[0m\u001b[35m \u001b[0m│\n",
       "└───────────────────────────┴───────────────────────────┘\n"
      ]
     },
     "metadata": {},
     "output_type": "display_data"
    },
    {
     "name": "stdout",
     "output_type": "stream",
     "text": [
      "Test Results on Best Model: [{'source_test/loss': 0.5557180643081665, 'source_test/accuracy': 0.7940188050270081, 'source_test/f1': 0.7920864820480347, 'source_test/f1_macro': 0.786285400390625, 'target_test/loss': 0.7194926142692566, 'target_test/accuracy': 0.7222781777381897, 'target_test/f1': 0.7209819555282593, 'target_test/f1_macro': 0.7126691341400146}]\n"
     ]
    },
    {
     "name": "stderr",
     "output_type": "stream",
     "text": [
      "Some weights of BertAdapterModel were not initialized from the model checkpoint at bert-base-uncased and are newly initialized: ['heads.default.3.bias']\n",
      "You should probably TRAIN this model on a down-stream task to be able to use it for predictions and inference.\n"
     ]
    },
    {
     "name": "stdout",
     "output_type": "stream",
     "text": [
      "================================================================================\n",
      "Name                     Architecture         #Param      %Param  Active   Train\n",
      "--------------------------------------------------------------------------------\n",
      "task_fresh_TES           union             7,682,688       7.017       1       1\n",
      "--------------------------------------------------------------------------------\n",
      "Full model                               109,482,240     100.000               0\n",
      "================================================================================\n",
      "trainable params: 8898237 || all params: 118380477 || trainable%: 7.5166422922928415\n",
      "None\n"
     ]
    },
    {
     "name": "stderr",
     "output_type": "stream",
     "text": [
      "LOCAL_RANK: 0 - CUDA_VISIBLE_DEVICES: [0]\n"
     ]
    },
    {
     "data": {
      "application/vnd.jupyter.widget-view+json": {
       "model_id": "6e89c800ef2c42ce97b1146c9b28349d",
       "version_major": 2,
       "version_minor": 0
      },
      "text/plain": [
       "Testing: |          | 0/? [00:00<?, ?it/s]"
      ]
     },
     "metadata": {},
     "output_type": "display_data"
    },
    {
     "data": {
      "text/html": [
       "<pre style=\"white-space:pre;overflow-x:auto;line-height:normal;font-family:Menlo,'DejaVu Sans Mono',consolas,'Courier New',monospace\">┏━━━━━━━━━━━━━━━━━━━━━━━━━━━┳━━━━━━━━━━━━━━━━━━━━━━━━━━━┓\n",
       "┃<span style=\"font-weight: bold\">        Test metric        </span>┃<span style=\"font-weight: bold\">       DataLoader 0        </span>┃\n",
       "┡━━━━━━━━━━━━━━━━━━━━━━━━━━━╇━━━━━━━━━━━━━━━━━━━━━━━━━━━┩\n",
       "│<span style=\"color: #008080; text-decoration-color: #008080\">   source_test/accuracy    </span>│<span style=\"color: #800080; text-decoration-color: #800080\">    0.7940188050270081     </span>│\n",
       "│<span style=\"color: #008080; text-decoration-color: #008080\">      source_test/f1       </span>│<span style=\"color: #800080; text-decoration-color: #800080\">    0.7920864820480347     </span>│\n",
       "│<span style=\"color: #008080; text-decoration-color: #008080\">   source_test/f1_macro    </span>│<span style=\"color: #800080; text-decoration-color: #800080\">     0.786285400390625     </span>│\n",
       "│<span style=\"color: #008080; text-decoration-color: #008080\">     source_test/loss      </span>│<span style=\"color: #800080; text-decoration-color: #800080\">    0.5557180643081665     </span>│\n",
       "│<span style=\"color: #008080; text-decoration-color: #008080\">   target_test/accuracy    </span>│<span style=\"color: #800080; text-decoration-color: #800080\">    0.7222781777381897     </span>│\n",
       "│<span style=\"color: #008080; text-decoration-color: #008080\">      target_test/f1       </span>│<span style=\"color: #800080; text-decoration-color: #800080\">    0.7209819555282593     </span>│\n",
       "│<span style=\"color: #008080; text-decoration-color: #008080\">   target_test/f1_macro    </span>│<span style=\"color: #800080; text-decoration-color: #800080\">    0.7126691341400146     </span>│\n",
       "│<span style=\"color: #008080; text-decoration-color: #008080\">     target_test/loss      </span>│<span style=\"color: #800080; text-decoration-color: #800080\">    0.7194926142692566     </span>│\n",
       "└───────────────────────────┴───────────────────────────┘\n",
       "</pre>\n"
      ],
      "text/plain": [
       "┏━━━━━━━━━━━━━━━━━━━━━━━━━━━┳━━━━━━━━━━━━━━━━━━━━━━━━━━━┓\n",
       "┃\u001b[1m \u001b[0m\u001b[1m       Test metric       \u001b[0m\u001b[1m \u001b[0m┃\u001b[1m \u001b[0m\u001b[1m      DataLoader 0       \u001b[0m\u001b[1m \u001b[0m┃\n",
       "┡━━━━━━━━━━━━━━━━━━━━━━━━━━━╇━━━━━━━━━━━━━━━━━━━━━━━━━━━┩\n",
       "│\u001b[36m \u001b[0m\u001b[36m  source_test/accuracy   \u001b[0m\u001b[36m \u001b[0m│\u001b[35m \u001b[0m\u001b[35m   0.7940188050270081    \u001b[0m\u001b[35m \u001b[0m│\n",
       "│\u001b[36m \u001b[0m\u001b[36m     source_test/f1      \u001b[0m\u001b[36m \u001b[0m│\u001b[35m \u001b[0m\u001b[35m   0.7920864820480347    \u001b[0m\u001b[35m \u001b[0m│\n",
       "│\u001b[36m \u001b[0m\u001b[36m  source_test/f1_macro   \u001b[0m\u001b[36m \u001b[0m│\u001b[35m \u001b[0m\u001b[35m    0.786285400390625    \u001b[0m\u001b[35m \u001b[0m│\n",
       "│\u001b[36m \u001b[0m\u001b[36m    source_test/loss     \u001b[0m\u001b[36m \u001b[0m│\u001b[35m \u001b[0m\u001b[35m   0.5557180643081665    \u001b[0m\u001b[35m \u001b[0m│\n",
       "│\u001b[36m \u001b[0m\u001b[36m  target_test/accuracy   \u001b[0m\u001b[36m \u001b[0m│\u001b[35m \u001b[0m\u001b[35m   0.7222781777381897    \u001b[0m\u001b[35m \u001b[0m│\n",
       "│\u001b[36m \u001b[0m\u001b[36m     target_test/f1      \u001b[0m\u001b[36m \u001b[0m│\u001b[35m \u001b[0m\u001b[35m   0.7209819555282593    \u001b[0m\u001b[35m \u001b[0m│\n",
       "│\u001b[36m \u001b[0m\u001b[36m  target_test/f1_macro   \u001b[0m\u001b[36m \u001b[0m│\u001b[35m \u001b[0m\u001b[35m   0.7126691341400146    \u001b[0m\u001b[35m \u001b[0m│\n",
       "│\u001b[36m \u001b[0m\u001b[36m    target_test/loss     \u001b[0m\u001b[36m \u001b[0m│\u001b[35m \u001b[0m\u001b[35m   0.7194926142692566    \u001b[0m\u001b[35m \u001b[0m│\n",
       "└───────────────────────────┴───────────────────────────┘\n"
      ]
     },
     "metadata": {},
     "output_type": "display_data"
    },
    {
     "name": "stdout",
     "output_type": "stream",
     "text": [
      "Test Results on saved epoch: [{'source_test/loss': 0.5557180643081665, 'source_test/accuracy': 0.7940188050270081, 'source_test/f1': 0.7920864820480347, 'source_test/f1_macro': 0.786285400390625, 'target_test/loss': 0.7194926142692566, 'target_test/accuracy': 0.7222781777381897, 'target_test/f1': 0.7209819555282593, 'target_test/f1_macro': 0.7126691341400146}]\n"
     ]
    },
    {
     "data": {
      "application/vnd.jupyter.widget-view+json": {
       "model_id": "3d9970105515464dadfd34a545f3f56e",
       "version_major": 2,
       "version_minor": 0
      },
      "text/plain": [
       "VBox(children=(Label(value='0.002 MB of 0.002 MB uploaded\\r'), FloatProgress(value=1.0, max=1.0)))"
      ]
     },
     "metadata": {},
     "output_type": "display_data"
    },
    {
     "data": {
      "text/html": [
       "<style>\n",
       "    table.wandb td:nth-child(1) { padding: 0 10px; text-align: left ; width: auto;} td:nth-child(2) {text-align: left ; width: 100%}\n",
       "    .wandb-row { display: flex; flex-direction: row; flex-wrap: wrap; justify-content: flex-start; width: 100% }\n",
       "    .wandb-col { display: flex; flex-direction: column; flex-basis: 100%; flex: 1; padding: 10px; }\n",
       "    </style>\n",
       "<div class=\"wandb-row\"><div class=\"wandb-col\"><h3>Run history:</h3><br/><table class=\"wandb\"><tr><td>epoch</td><td>▁▁▁▁▁▁▁▁▂▂▂▂▂▂▂▂▄▄▄▄▄▄▄▄▅▅▅▅▅▅▅▅▇▇▇▇▇▇▇█</td></tr><tr><td>source_test/accuracy</td><td>█▁▁</td></tr><tr><td>source_test/f1</td><td>█▁▁</td></tr><tr><td>source_test/f1_macro</td><td>█▁▁</td></tr><tr><td>source_test/loss</td><td>█▁▁</td></tr><tr><td>source_val/accuracy</td><td>▁▅█▅▇</td></tr><tr><td>source_val/f1</td><td>▁▅█▅▇</td></tr><tr><td>source_val/loss</td><td>▃▂▁▇█</td></tr><tr><td>target_test/accuracy</td><td>▁██</td></tr><tr><td>target_test/f1</td><td>▁██</td></tr><tr><td>target_test/f1_macro</td><td>▁██</td></tr><tr><td>target_test/loss</td><td>█▁▁</td></tr><tr><td>target_val/accuracy</td><td>▁▅█▆▇</td></tr><tr><td>target_val/f1</td><td>▁▅█▆▇</td></tr><tr><td>target_val/loss</td><td>▂▁▁▇█</td></tr><tr><td>train_accuracy</td><td>▁▂▄▄▃▆▂▅▅▆█▇▅▅▇▄▅▄▅▅▆▇▅▆▅▄▅▇█▇▇▇▆▆▇▆▆▆▇█</td></tr><tr><td>train_f1</td><td>▁▁▄▄▃▆▂▅▅▆█▇▅▄▇▄▅▄▅▅▆▇▅▆▅▃▅▇█▇▇▇▆▆▇▆▆▆▇█</td></tr><tr><td>train_loss</td><td>█▇▆▅▅▃▇▄▅▃▄▂▆▄▂▄▅▆▄▇▃▄▃▄▅▇▃▁▂▂▃▂▄▃▂▃▃▃▁▁</td></tr><tr><td>trainer/global_step</td><td>▁▁▁▂▂▂▂▂▂▃▃▃▃▃▄▄▄▄▄▄▅▅▅▅▅▆▆▆▆▆▆▇▇▇▇▇▇███</td></tr><tr><td>val_loss</td><td>▃▂▁▇█</td></tr></table><br/></div><div class=\"wandb-col\"><h3>Run summary:</h3><br/><table class=\"wandb\"><tr><td>epoch</td><td>5</td></tr><tr><td>source_test/accuracy</td><td>0.79402</td></tr><tr><td>source_test/f1</td><td>0.79209</td></tr><tr><td>source_test/f1_macro</td><td>0.78629</td></tr><tr><td>source_test/loss</td><td>0.55572</td></tr><tr><td>source_val/accuracy</td><td>0.79093</td></tr><tr><td>source_val/f1</td><td>0.79085</td></tr><tr><td>source_val/loss</td><td>0.63851</td></tr><tr><td>target_test/accuracy</td><td>0.72228</td></tr><tr><td>target_test/f1</td><td>0.72098</td></tr><tr><td>target_test/f1_macro</td><td>0.71267</td></tr><tr><td>target_test/loss</td><td>0.71949</td></tr><tr><td>target_val/accuracy</td><td>0.7226</td></tr><tr><td>target_val/f1</td><td>0.72233</td></tr><tr><td>target_val/loss</td><td>0.90334</td></tr><tr><td>train_accuracy</td><td>0.875</td></tr><tr><td>train_f1</td><td>0.875</td></tr><tr><td>train_loss</td><td>0.35136</td></tr><tr><td>trainer/global_step</td><td>10875</td></tr><tr><td>val_loss</td><td>0.63851</td></tr></table><br/></div></div>"
      ],
      "text/plain": [
       "<IPython.core.display.HTML object>"
      ]
     },
     "metadata": {},
     "output_type": "display_data"
    },
    {
     "data": {
      "text/html": [
       " View run <strong style=\"color:#cdcd00\">TES_union_fresh_run_with_seed_42</strong> at: <a href='https://wandb.ai/mrawhani/ablations/runs/vlr6i0k7' target=\"_blank\">https://wandb.ai/mrawhani/ablations/runs/vlr6i0k7</a><br/> View project at: <a href='https://wandb.ai/mrawhani/ablations' target=\"_blank\">https://wandb.ai/mrawhani/ablations</a><br/>Synced 5 W&B file(s), 0 media file(s), 0 artifact file(s) and 0 other file(s)"
      ],
      "text/plain": [
       "<IPython.core.display.HTML object>"
      ]
     },
     "metadata": {},
     "output_type": "display_data"
    },
    {
     "data": {
      "text/html": [
       "Find logs at: <code>./wandb/run-20240713_204119-vlr6i0k7/logs</code>"
      ],
      "text/plain": [
       "<IPython.core.display.HTML object>"
      ]
     },
     "metadata": {},
     "output_type": "display_data"
    },
    {
     "data": {
      "application/vnd.jupyter.widget-view+json": {
       "model_id": "7cbd0d7b735c4c22a958a8c73816e91a",
       "version_major": 2,
       "version_minor": 0
      },
      "text/plain": [
       "VBox(children=(Label(value='Waiting for wandb.init()...\\r'), FloatProgress(value=0.011112506055562537, max=1.0…"
      ]
     },
     "metadata": {},
     "output_type": "display_data"
    },
    {
     "data": {
      "text/html": [
       "wandb version 0.17.4 is available!  To upgrade, please run:\n",
       " $ pip install wandb --upgrade"
      ],
      "text/plain": [
       "<IPython.core.display.HTML object>"
      ]
     },
     "metadata": {},
     "output_type": "display_data"
    },
    {
     "data": {
      "text/html": [
       "Tracking run with wandb version 0.17.0"
      ],
      "text/plain": [
       "<IPython.core.display.HTML object>"
      ]
     },
     "metadata": {},
     "output_type": "display_data"
    },
    {
     "data": {
      "text/html": [
       "Run data is saved locally in <code>/home/guest/Desktop/projects/fourth-expeiments/domain_adaptation_project/union/slate/wandb/run-20240713_212646-vqt7i5zk</code>"
      ],
      "text/plain": [
       "<IPython.core.display.HTML object>"
      ]
     },
     "metadata": {},
     "output_type": "display_data"
    },
    {
     "data": {
      "text/html": [
       "Syncing run <strong><a href='https://wandb.ai/mrawhani/ablations/runs/vqt7i5zk' target=\"_blank\">TES_union_fresh_run_with_seed_10</a></strong> to <a href='https://wandb.ai/mrawhani/ablations' target=\"_blank\">Weights & Biases</a> (<a href='https://wandb.me/run' target=\"_blank\">docs</a>)<br/>"
      ],
      "text/plain": [
       "<IPython.core.display.HTML object>"
      ]
     },
     "metadata": {},
     "output_type": "display_data"
    },
    {
     "data": {
      "text/html": [
       " View project at <a href='https://wandb.ai/mrawhani/ablations' target=\"_blank\">https://wandb.ai/mrawhani/ablations</a>"
      ],
      "text/plain": [
       "<IPython.core.display.HTML object>"
      ]
     },
     "metadata": {},
     "output_type": "display_data"
    },
    {
     "data": {
      "text/html": [
       " View run at <a href='https://wandb.ai/mrawhani/ablations/runs/vqt7i5zk' target=\"_blank\">https://wandb.ai/mrawhani/ablations/runs/vqt7i5zk</a>"
      ],
      "text/plain": [
       "<IPython.core.display.HTML object>"
      ]
     },
     "metadata": {},
     "output_type": "display_data"
    },
    {
     "name": "stderr",
     "output_type": "stream",
     "text": [
      "Seed set to 10\n",
      "/home/guest/.cache/pypoetry/virtualenvs/fourth-experments-OVNdUUAn-py3.8/lib/python3.8/site-packages/huggingface_hub/file_download.py:1132: FutureWarning: `resume_download` is deprecated and will be removed in version 1.0.0. Downloads always resume when possible. If you want to force a new download, use `force_download=True`.\n",
      "  warnings.warn(\n"
     ]
    },
    {
     "name": "stdout",
     "output_type": "stream",
     "text": [
      "prinssst: telephone\n",
      "print: slate\n",
      "print: 69575\n",
      "prinssst: telephone\n",
      "print: slate\n",
      "print: 69575\n"
     ]
    },
    {
     "name": "stderr",
     "output_type": "stream",
     "text": [
      "Some weights of BertAdapterModel were not initialized from the model checkpoint at bert-base-uncased and are newly initialized: ['heads.default.3.bias']\n",
      "You should probably TRAIN this model on a down-stream task to be able to use it for predictions and inference.\n",
      "/home/guest/.cache/pypoetry/virtualenvs/fourth-experments-OVNdUUAn-py3.8/lib/python3.8/site-packages/torch/utils/data/dataloader.py:558: UserWarning: This DataLoader will create 16 worker processes in total. Our suggested max number of worker in current system is 12, which is smaller than what this DataLoader is going to create. Please be aware that excessive worker creation might get DataLoader running slow or even freeze, lower the worker number to avoid potential slowness/freeze if necessary.\n",
      "  warnings.warn(_create_warning_msg(\n",
      "GPU available: True (cuda), used: True\n",
      "TPU available: False, using: 0 TPU cores\n",
      "IPU available: False, using: 0 IPUs\n",
      "HPU available: False, using: 0 HPUs\n",
      "`Trainer(limit_train_batches=1.0)` was configured so 100% of the batches per epoch will be used..\n",
      "`Trainer(limit_val_batches=1.0)` was configured so 100% of the batches will be used..\n",
      "`Trainer(limit_test_batches=1.0)` was configured so 100% of the batches will be used..\n",
      "/home/guest/.cache/pypoetry/virtualenvs/fourth-experments-OVNdUUAn-py3.8/lib/python3.8/site-packages/pytorch_lightning/loggers/wandb.py:396: There is a wandb run already in progress and newly created instances of `WandbLogger` will reuse this run. If this is not desired, call `wandb.finish()` before instantiating `WandbLogger`.\n",
      "LOCAL_RANK: 0 - CUDA_VISIBLE_DEVICES: [0]\n"
     ]
    },
    {
     "name": "stdout",
     "output_type": "stream",
     "text": [
      "================================================================================\n",
      "Name                     Architecture         #Param      %Param  Active   Train\n",
      "--------------------------------------------------------------------------------\n",
      "task_fresh_TES           union             7,682,688       7.017       1       1\n",
      "--------------------------------------------------------------------------------\n",
      "Full model                               109,482,240     100.000               0\n",
      "================================================================================\n",
      "trainable params: 8898237 || all params: 118380477 || trainable%: 7.5166422922928415\n",
      "None\n"
     ]
    },
    {
     "name": "stderr",
     "output_type": "stream",
     "text": [
      "\n",
      "  | Name      | Type               | Params\n",
      "-------------------------------------------------\n",
      "0 | model     | BertAdapterModel   | 118 M \n",
      "1 | criterion | CrossEntropyLoss   | 0     \n",
      "2 | accuracy  | MulticlassAccuracy | 0     \n",
      "3 | f1        | MulticlassF1Score  | 0     \n",
      "4 | f1_macro  | MulticlassF1Score  | 0     \n",
      "5 | softmax   | Softmax            | 0     \n",
      "-------------------------------------------------\n",
      "8.9 M     Trainable params\n",
      "109 M     Non-trainable params\n",
      "118 M     Total params\n",
      "473.522   Total estimated model params size (MB)\n"
     ]
    },
    {
     "data": {
      "application/vnd.jupyter.widget-view+json": {
       "model_id": "7f101aa080e2447faf8c3db80eafe87a",
       "version_major": 2,
       "version_minor": 0
      },
      "text/plain": [
       "Sanity Checking: |          | 0/? [00:00<?, ?it/s]"
      ]
     },
     "metadata": {},
     "output_type": "display_data"
    },
    {
     "name": "stdout",
     "output_type": "stream",
     "text": [
      "target_val/loss: 1.1030588150024414\n",
      "target_val/accuracy: 0.328125\n",
      "target_val/f1: 0.484375\n",
      "source_val/loss: 1.0870012044906616\n",
      "source_val/accuracy: 0.40625\n",
      "source_val/f1: 0.5174063444137573\n"
     ]
    },
    {
     "data": {
      "application/vnd.jupyter.widget-view+json": {
       "model_id": "9966c8d2edef4d3783a3a5a142069ca2",
       "version_major": 2,
       "version_minor": 0
      },
      "text/plain": [
       "Training: |          | 0/? [00:00<?, ?it/s]"
      ]
     },
     "metadata": {},
     "output_type": "display_data"
    },
    {
     "data": {
      "application/vnd.jupyter.widget-view+json": {
       "model_id": "5a6f3f279b3049e6b32c4b6bd3295ee6",
       "version_major": 2,
       "version_minor": 0
      },
      "text/plain": [
       "Validation: |          | 0/? [00:00<?, ?it/s]"
      ]
     },
     "metadata": {},
     "output_type": "display_data"
    },
    {
     "name": "stdout",
     "output_type": "stream",
     "text": [
      "target_val/loss: 0.7750447988510132\n",
      "target_val/accuracy: 0.6790927648544312\n",
      "target_val/f1: 0.6810765862464905\n",
      "source_val/loss: 0.5784294605255127\n",
      "source_val/accuracy: 0.7605820298194885\n",
      "source_val/f1: 0.7591447234153748\n"
     ]
    },
    {
     "data": {
      "application/vnd.jupyter.widget-view+json": {
       "model_id": "51c4bd72acf642c08aa7b6a031d2c543",
       "version_major": 2,
       "version_minor": 0
      },
      "text/plain": [
       "Validation: |          | 0/? [00:00<?, ?it/s]"
      ]
     },
     "metadata": {},
     "output_type": "display_data"
    },
    {
     "name": "stdout",
     "output_type": "stream",
     "text": [
      "target_val/loss: 0.703750729560852\n",
      "target_val/accuracy: 0.719817042350769\n",
      "target_val/f1: 0.7198407649993896\n",
      "source_val/loss: 0.5283408761024475\n",
      "source_val/accuracy: 0.7831394076347351\n",
      "source_val/f1: 0.7831526398658752\n"
     ]
    },
    {
     "data": {
      "application/vnd.jupyter.widget-view+json": {
       "model_id": "9bf8434976fb4ef4bc60655dd35cdecc",
       "version_major": 2,
       "version_minor": 0
      },
      "text/plain": [
       "Validation: |          | 0/? [00:00<?, ?it/s]"
      ]
     },
     "metadata": {},
     "output_type": "display_data"
    },
    {
     "name": "stdout",
     "output_type": "stream",
     "text": [
      "target_val/loss: 0.772409200668335\n",
      "target_val/accuracy: 0.7139584422111511\n",
      "target_val/f1: 0.7142577171325684\n",
      "source_val/loss: 0.5531426072120667\n",
      "source_val/accuracy: 0.7884745597839355\n",
      "source_val/f1: 0.7875555157661438\n"
     ]
    },
    {
     "data": {
      "application/vnd.jupyter.widget-view+json": {
       "model_id": "1a0512d86b824686a31def719697643d",
       "version_major": 2,
       "version_minor": 0
      },
      "text/plain": [
       "Validation: |          | 0/? [00:00<?, ?it/s]"
      ]
     },
     "metadata": {},
     "output_type": "display_data"
    },
    {
     "name": "stdout",
     "output_type": "stream",
     "text": [
      "target_val/loss: 0.8129997253417969\n",
      "target_val/accuracy: 0.7219239473342896\n",
      "target_val/f1: 0.7213104963302612\n",
      "source_val/loss: 0.5774232745170593\n",
      "source_val/accuracy: 0.7932116985321045\n",
      "source_val/f1: 0.7931469082832336\n"
     ]
    },
    {
     "data": {
      "application/vnd.jupyter.widget-view+json": {
       "model_id": "f3ee66e95e9a46e6bf6dbb19ba0870b5",
       "version_major": 2,
       "version_minor": 0
      },
      "text/plain": [
       "Validation: |          | 0/? [00:00<?, ?it/s]"
      ]
     },
     "metadata": {},
     "output_type": "display_data"
    },
    {
     "name": "stderr",
     "output_type": "stream",
     "text": [
      "`Trainer.fit` stopped: `max_epochs=5` reached.\n"
     ]
    },
    {
     "name": "stdout",
     "output_type": "stream",
     "text": [
      "target_val/loss: 0.9738712906837463\n",
      "target_val/accuracy: 0.7186480164527893\n",
      "target_val/f1: 0.717880368232727\n",
      "source_val/loss: 0.688793420791626\n",
      "source_val/accuracy: 0.7893784642219543\n",
      "source_val/f1: 0.788918137550354\n",
      "Best checkpoint path: ./lightning_logs/vqt7i5zk/checkpoints/task-TES-fresh-epoch=01-val_loss=0.53.ckpt\n",
      "Saved epoch checkpoint path: ./lightning_logs/vqt7i5zk/checkpoints/TES-fresh-epoch=02.ckpt\n"
     ]
    },
    {
     "name": "stderr",
     "output_type": "stream",
     "text": [
      "LOCAL_RANK: 0 - CUDA_VISIBLE_DEVICES: [0]\n"
     ]
    },
    {
     "name": "stdout",
     "output_type": "stream",
     "text": [
      "prinssst: telephone\n",
      "print: slate\n",
      "print: 69575\n"
     ]
    },
    {
     "data": {
      "application/vnd.jupyter.widget-view+json": {
       "model_id": "0e7aa805caf348819f13970624dbbb7b",
       "version_major": 2,
       "version_minor": 0
      },
      "text/plain": [
       "Testing: |          | 0/? [00:00<?, ?it/s]"
      ]
     },
     "metadata": {},
     "output_type": "display_data"
    },
    {
     "data": {
      "text/html": [
       "<pre style=\"white-space:pre;overflow-x:auto;line-height:normal;font-family:Menlo,'DejaVu Sans Mono',consolas,'Courier New',monospace\">┏━━━━━━━━━━━━━━━━━━━━━━━━━━━┳━━━━━━━━━━━━━━━━━━━━━━━━━━━┓\n",
       "┃<span style=\"font-weight: bold\">        Test metric        </span>┃<span style=\"font-weight: bold\">       DataLoader 0        </span>┃\n",
       "┡━━━━━━━━━━━━━━━━━━━━━━━━━━━╇━━━━━━━━━━━━━━━━━━━━━━━━━━━┩\n",
       "│<span style=\"color: #008080; text-decoration-color: #008080\">   source_test/accuracy    </span>│<span style=\"color: #800080; text-decoration-color: #800080\">    0.7869623899459839     </span>│\n",
       "│<span style=\"color: #008080; text-decoration-color: #008080\">      source_test/f1       </span>│<span style=\"color: #800080; text-decoration-color: #800080\">    0.7859156131744385     </span>│\n",
       "│<span style=\"color: #008080; text-decoration-color: #008080\">   source_test/f1_macro    </span>│<span style=\"color: #800080; text-decoration-color: #800080\">    0.7775411605834961     </span>│\n",
       "│<span style=\"color: #008080; text-decoration-color: #008080\">     source_test/loss      </span>│<span style=\"color: #800080; text-decoration-color: #800080\">    0.7119206190109253     </span>│\n",
       "│<span style=\"color: #008080; text-decoration-color: #008080\">   target_test/accuracy    </span>│<span style=\"color: #800080; text-decoration-color: #800080\">     0.711693525314331     </span>│\n",
       "│<span style=\"color: #008080; text-decoration-color: #008080\">      target_test/f1       </span>│<span style=\"color: #800080; text-decoration-color: #800080\">    0.7105153799057007     </span>│\n",
       "│<span style=\"color: #008080; text-decoration-color: #008080\">   target_test/f1_macro    </span>│<span style=\"color: #800080; text-decoration-color: #800080\">    0.7044723033905029     </span>│\n",
       "│<span style=\"color: #008080; text-decoration-color: #008080\">     target_test/loss      </span>│<span style=\"color: #800080; text-decoration-color: #800080\">    0.9865659475326538     </span>│\n",
       "└───────────────────────────┴───────────────────────────┘\n",
       "</pre>\n"
      ],
      "text/plain": [
       "┏━━━━━━━━━━━━━━━━━━━━━━━━━━━┳━━━━━━━━━━━━━━━━━━━━━━━━━━━┓\n",
       "┃\u001b[1m \u001b[0m\u001b[1m       Test metric       \u001b[0m\u001b[1m \u001b[0m┃\u001b[1m \u001b[0m\u001b[1m      DataLoader 0       \u001b[0m\u001b[1m \u001b[0m┃\n",
       "┡━━━━━━━━━━━━━━━━━━━━━━━━━━━╇━━━━━━━━━━━━━━━━━━━━━━━━━━━┩\n",
       "│\u001b[36m \u001b[0m\u001b[36m  source_test/accuracy   \u001b[0m\u001b[36m \u001b[0m│\u001b[35m \u001b[0m\u001b[35m   0.7869623899459839    \u001b[0m\u001b[35m \u001b[0m│\n",
       "│\u001b[36m \u001b[0m\u001b[36m     source_test/f1      \u001b[0m\u001b[36m \u001b[0m│\u001b[35m \u001b[0m\u001b[35m   0.7859156131744385    \u001b[0m\u001b[35m \u001b[0m│\n",
       "│\u001b[36m \u001b[0m\u001b[36m  source_test/f1_macro   \u001b[0m\u001b[36m \u001b[0m│\u001b[35m \u001b[0m\u001b[35m   0.7775411605834961    \u001b[0m\u001b[35m \u001b[0m│\n",
       "│\u001b[36m \u001b[0m\u001b[36m    source_test/loss     \u001b[0m\u001b[36m \u001b[0m│\u001b[35m \u001b[0m\u001b[35m   0.7119206190109253    \u001b[0m\u001b[35m \u001b[0m│\n",
       "│\u001b[36m \u001b[0m\u001b[36m  target_test/accuracy   \u001b[0m\u001b[36m \u001b[0m│\u001b[35m \u001b[0m\u001b[35m    0.711693525314331    \u001b[0m\u001b[35m \u001b[0m│\n",
       "│\u001b[36m \u001b[0m\u001b[36m     target_test/f1      \u001b[0m\u001b[36m \u001b[0m│\u001b[35m \u001b[0m\u001b[35m   0.7105153799057007    \u001b[0m\u001b[35m \u001b[0m│\n",
       "│\u001b[36m \u001b[0m\u001b[36m  target_test/f1_macro   \u001b[0m\u001b[36m \u001b[0m│\u001b[35m \u001b[0m\u001b[35m   0.7044723033905029    \u001b[0m\u001b[35m \u001b[0m│\n",
       "│\u001b[36m \u001b[0m\u001b[36m    target_test/loss     \u001b[0m\u001b[36m \u001b[0m│\u001b[35m \u001b[0m\u001b[35m   0.9865659475326538    \u001b[0m\u001b[35m \u001b[0m│\n",
       "└───────────────────────────┴───────────────────────────┘\n"
      ]
     },
     "metadata": {},
     "output_type": "display_data"
    },
    {
     "name": "stdout",
     "output_type": "stream",
     "text": [
      "Test Results Last Epoch: [{'source_test/loss': 0.7119206190109253, 'source_test/accuracy': 0.7869623899459839, 'source_test/f1': 0.7859156131744385, 'source_test/f1_macro': 0.7775411605834961, 'target_test/loss': 0.9865659475326538, 'target_test/accuracy': 0.711693525314331, 'target_test/f1': 0.7105153799057007, 'target_test/f1_macro': 0.7044723033905029}]\n",
      "Best checkpoint path: ./lightning_logs/vqt7i5zk/checkpoints/task-TES-fresh-epoch=01-val_loss=0.53.ckpt\n",
      "Saved epoch checkpoint path: ./lightning_logs/vqt7i5zk/checkpoints/TES-fresh-epoch=02.ckpt\n"
     ]
    },
    {
     "name": "stderr",
     "output_type": "stream",
     "text": [
      "Some weights of BertAdapterModel were not initialized from the model checkpoint at bert-base-uncased and are newly initialized: ['heads.default.3.bias']\n",
      "You should probably TRAIN this model on a down-stream task to be able to use it for predictions and inference.\n"
     ]
    },
    {
     "name": "stdout",
     "output_type": "stream",
     "text": [
      "================================================================================\n",
      "Name                     Architecture         #Param      %Param  Active   Train\n",
      "--------------------------------------------------------------------------------\n",
      "task_fresh_TES           union             7,682,688       7.017       1       1\n",
      "--------------------------------------------------------------------------------\n",
      "Full model                               109,482,240     100.000               0\n",
      "================================================================================\n",
      "trainable params: 8898237 || all params: 118380477 || trainable%: 7.5166422922928415\n",
      "None\n"
     ]
    },
    {
     "name": "stderr",
     "output_type": "stream",
     "text": [
      "LOCAL_RANK: 0 - CUDA_VISIBLE_DEVICES: [0]\n"
     ]
    },
    {
     "data": {
      "application/vnd.jupyter.widget-view+json": {
       "model_id": "a165e07f2be543a9b36bc55aa2e31ce6",
       "version_major": 2,
       "version_minor": 0
      },
      "text/plain": [
       "Testing: |          | 0/? [00:00<?, ?it/s]"
      ]
     },
     "metadata": {},
     "output_type": "display_data"
    },
    {
     "data": {
      "text/html": [
       "<pre style=\"white-space:pre;overflow-x:auto;line-height:normal;font-family:Menlo,'DejaVu Sans Mono',consolas,'Courier New',monospace\">┏━━━━━━━━━━━━━━━━━━━━━━━━━━━┳━━━━━━━━━━━━━━━━━━━━━━━━━━━┓\n",
       "┃<span style=\"font-weight: bold\">        Test metric        </span>┃<span style=\"font-weight: bold\">       DataLoader 0        </span>┃\n",
       "┡━━━━━━━━━━━━━━━━━━━━━━━━━━━╇━━━━━━━━━━━━━━━━━━━━━━━━━━━┩\n",
       "│<span style=\"color: #008080; text-decoration-color: #008080\">   source_test/accuracy    </span>│<span style=\"color: #800080; text-decoration-color: #800080\">     0.785450279712677     </span>│\n",
       "│<span style=\"color: #008080; text-decoration-color: #008080\">      source_test/f1       </span>│<span style=\"color: #800080; text-decoration-color: #800080\">     0.784373939037323     </span>│\n",
       "│<span style=\"color: #008080; text-decoration-color: #008080\">   source_test/f1_macro    </span>│<span style=\"color: #800080; text-decoration-color: #800080\">    0.7768076658248901     </span>│\n",
       "│<span style=\"color: #008080; text-decoration-color: #008080\">     source_test/loss      </span>│<span style=\"color: #800080; text-decoration-color: #800080\">    0.5493257641792297     </span>│\n",
       "│<span style=\"color: #008080; text-decoration-color: #008080\">   target_test/accuracy    </span>│<span style=\"color: #800080; text-decoration-color: #800080\">    0.7101814150810242     </span>│\n",
       "│<span style=\"color: #008080; text-decoration-color: #008080\">      target_test/f1       </span>│<span style=\"color: #800080; text-decoration-color: #800080\">    0.7082035541534424     </span>│\n",
       "│<span style=\"color: #008080; text-decoration-color: #008080\">   target_test/f1_macro    </span>│<span style=\"color: #800080; text-decoration-color: #800080\">    0.7026647329330444     </span>│\n",
       "│<span style=\"color: #008080; text-decoration-color: #008080\">     target_test/loss      </span>│<span style=\"color: #800080; text-decoration-color: #800080\">    0.7121257781982422     </span>│\n",
       "└───────────────────────────┴───────────────────────────┘\n",
       "</pre>\n"
      ],
      "text/plain": [
       "┏━━━━━━━━━━━━━━━━━━━━━━━━━━━┳━━━━━━━━━━━━━━━━━━━━━━━━━━━┓\n",
       "┃\u001b[1m \u001b[0m\u001b[1m       Test metric       \u001b[0m\u001b[1m \u001b[0m┃\u001b[1m \u001b[0m\u001b[1m      DataLoader 0       \u001b[0m\u001b[1m \u001b[0m┃\n",
       "┡━━━━━━━━━━━━━━━━━━━━━━━━━━━╇━━━━━━━━━━━━━━━━━━━━━━━━━━━┩\n",
       "│\u001b[36m \u001b[0m\u001b[36m  source_test/accuracy   \u001b[0m\u001b[36m \u001b[0m│\u001b[35m \u001b[0m\u001b[35m    0.785450279712677    \u001b[0m\u001b[35m \u001b[0m│\n",
       "│\u001b[36m \u001b[0m\u001b[36m     source_test/f1      \u001b[0m\u001b[36m \u001b[0m│\u001b[35m \u001b[0m\u001b[35m    0.784373939037323    \u001b[0m\u001b[35m \u001b[0m│\n",
       "│\u001b[36m \u001b[0m\u001b[36m  source_test/f1_macro   \u001b[0m\u001b[36m \u001b[0m│\u001b[35m \u001b[0m\u001b[35m   0.7768076658248901    \u001b[0m\u001b[35m \u001b[0m│\n",
       "│\u001b[36m \u001b[0m\u001b[36m    source_test/loss     \u001b[0m\u001b[36m \u001b[0m│\u001b[35m \u001b[0m\u001b[35m   0.5493257641792297    \u001b[0m\u001b[35m \u001b[0m│\n",
       "│\u001b[36m \u001b[0m\u001b[36m  target_test/accuracy   \u001b[0m\u001b[36m \u001b[0m│\u001b[35m \u001b[0m\u001b[35m   0.7101814150810242    \u001b[0m\u001b[35m \u001b[0m│\n",
       "│\u001b[36m \u001b[0m\u001b[36m     target_test/f1      \u001b[0m\u001b[36m \u001b[0m│\u001b[35m \u001b[0m\u001b[35m   0.7082035541534424    \u001b[0m\u001b[35m \u001b[0m│\n",
       "│\u001b[36m \u001b[0m\u001b[36m  target_test/f1_macro   \u001b[0m\u001b[36m \u001b[0m│\u001b[35m \u001b[0m\u001b[35m   0.7026647329330444    \u001b[0m\u001b[35m \u001b[0m│\n",
       "│\u001b[36m \u001b[0m\u001b[36m    target_test/loss     \u001b[0m\u001b[36m \u001b[0m│\u001b[35m \u001b[0m\u001b[35m   0.7121257781982422    \u001b[0m\u001b[35m \u001b[0m│\n",
       "└───────────────────────────┴───────────────────────────┘\n"
      ]
     },
     "metadata": {},
     "output_type": "display_data"
    },
    {
     "name": "stdout",
     "output_type": "stream",
     "text": [
      "Test Results on Best Model: [{'source_test/loss': 0.5493257641792297, 'source_test/accuracy': 0.785450279712677, 'source_test/f1': 0.784373939037323, 'source_test/f1_macro': 0.7768076658248901, 'target_test/loss': 0.7121257781982422, 'target_test/accuracy': 0.7101814150810242, 'target_test/f1': 0.7082035541534424, 'target_test/f1_macro': 0.7026647329330444}]\n"
     ]
    },
    {
     "name": "stderr",
     "output_type": "stream",
     "text": [
      "Some weights of BertAdapterModel were not initialized from the model checkpoint at bert-base-uncased and are newly initialized: ['heads.default.3.bias']\n",
      "You should probably TRAIN this model on a down-stream task to be able to use it for predictions and inference.\n"
     ]
    },
    {
     "name": "stdout",
     "output_type": "stream",
     "text": [
      "================================================================================\n",
      "Name                     Architecture         #Param      %Param  Active   Train\n",
      "--------------------------------------------------------------------------------\n",
      "task_fresh_TES           union             7,682,688       7.017       1       1\n",
      "--------------------------------------------------------------------------------\n",
      "Full model                               109,482,240     100.000               0\n",
      "================================================================================\n",
      "trainable params: 8898237 || all params: 118380477 || trainable%: 7.5166422922928415\n",
      "None\n"
     ]
    },
    {
     "name": "stderr",
     "output_type": "stream",
     "text": [
      "LOCAL_RANK: 0 - CUDA_VISIBLE_DEVICES: [0]\n"
     ]
    },
    {
     "data": {
      "application/vnd.jupyter.widget-view+json": {
       "model_id": "db3862e720444adea909fceecfd1ec53",
       "version_major": 2,
       "version_minor": 0
      },
      "text/plain": [
       "Testing: |          | 0/? [00:00<?, ?it/s]"
      ]
     },
     "metadata": {},
     "output_type": "display_data"
    },
    {
     "data": {
      "text/html": [
       "<pre style=\"white-space:pre;overflow-x:auto;line-height:normal;font-family:Menlo,'DejaVu Sans Mono',consolas,'Courier New',monospace\">┏━━━━━━━━━━━━━━━━━━━━━━━━━━━┳━━━━━━━━━━━━━━━━━━━━━━━━━━━┓\n",
       "┃<span style=\"font-weight: bold\">        Test metric        </span>┃<span style=\"font-weight: bold\">       DataLoader 0        </span>┃\n",
       "┡━━━━━━━━━━━━━━━━━━━━━━━━━━━╇━━━━━━━━━━━━━━━━━━━━━━━━━━━┩\n",
       "│<span style=\"color: #008080; text-decoration-color: #008080\">   source_test/accuracy    </span>│<span style=\"color: #800080; text-decoration-color: #800080\">    0.7920026779174805     </span>│\n",
       "│<span style=\"color: #008080; text-decoration-color: #008080\">      source_test/f1       </span>│<span style=\"color: #800080; text-decoration-color: #800080\">    0.7900815606117249     </span>│\n",
       "│<span style=\"color: #008080; text-decoration-color: #008080\">   source_test/f1_macro    </span>│<span style=\"color: #800080; text-decoration-color: #800080\">    0.7833946943283081     </span>│\n",
       "│<span style=\"color: #008080; text-decoration-color: #008080\">     source_test/loss      </span>│<span style=\"color: #800080; text-decoration-color: #800080\">     0.585716724395752     </span>│\n",
       "│<span style=\"color: #008080; text-decoration-color: #008080\">   target_test/accuracy    </span>│<span style=\"color: #800080; text-decoration-color: #800080\">    0.7111895084381104     </span>│\n",
       "│<span style=\"color: #008080; text-decoration-color: #008080\">      target_test/f1       </span>│<span style=\"color: #800080; text-decoration-color: #800080\">    0.7104335427284241     </span>│\n",
       "│<span style=\"color: #008080; text-decoration-color: #008080\">   target_test/f1_macro    </span>│<span style=\"color: #800080; text-decoration-color: #800080\">    0.7028177380561829     </span>│\n",
       "│<span style=\"color: #008080; text-decoration-color: #008080\">     target_test/loss      </span>│<span style=\"color: #800080; text-decoration-color: #800080\">    0.7709631323814392     </span>│\n",
       "└───────────────────────────┴───────────────────────────┘\n",
       "</pre>\n"
      ],
      "text/plain": [
       "┏━━━━━━━━━━━━━━━━━━━━━━━━━━━┳━━━━━━━━━━━━━━━━━━━━━━━━━━━┓\n",
       "┃\u001b[1m \u001b[0m\u001b[1m       Test metric       \u001b[0m\u001b[1m \u001b[0m┃\u001b[1m \u001b[0m\u001b[1m      DataLoader 0       \u001b[0m\u001b[1m \u001b[0m┃\n",
       "┡━━━━━━━━━━━━━━━━━━━━━━━━━━━╇━━━━━━━━━━━━━━━━━━━━━━━━━━━┩\n",
       "│\u001b[36m \u001b[0m\u001b[36m  source_test/accuracy   \u001b[0m\u001b[36m \u001b[0m│\u001b[35m \u001b[0m\u001b[35m   0.7920026779174805    \u001b[0m\u001b[35m \u001b[0m│\n",
       "│\u001b[36m \u001b[0m\u001b[36m     source_test/f1      \u001b[0m\u001b[36m \u001b[0m│\u001b[35m \u001b[0m\u001b[35m   0.7900815606117249    \u001b[0m\u001b[35m \u001b[0m│\n",
       "│\u001b[36m \u001b[0m\u001b[36m  source_test/f1_macro   \u001b[0m\u001b[36m \u001b[0m│\u001b[35m \u001b[0m\u001b[35m   0.7833946943283081    \u001b[0m\u001b[35m \u001b[0m│\n",
       "│\u001b[36m \u001b[0m\u001b[36m    source_test/loss     \u001b[0m\u001b[36m \u001b[0m│\u001b[35m \u001b[0m\u001b[35m    0.585716724395752    \u001b[0m\u001b[35m \u001b[0m│\n",
       "│\u001b[36m \u001b[0m\u001b[36m  target_test/accuracy   \u001b[0m\u001b[36m \u001b[0m│\u001b[35m \u001b[0m\u001b[35m   0.7111895084381104    \u001b[0m\u001b[35m \u001b[0m│\n",
       "│\u001b[36m \u001b[0m\u001b[36m     target_test/f1      \u001b[0m\u001b[36m \u001b[0m│\u001b[35m \u001b[0m\u001b[35m   0.7104335427284241    \u001b[0m\u001b[35m \u001b[0m│\n",
       "│\u001b[36m \u001b[0m\u001b[36m  target_test/f1_macro   \u001b[0m\u001b[36m \u001b[0m│\u001b[35m \u001b[0m\u001b[35m   0.7028177380561829    \u001b[0m\u001b[35m \u001b[0m│\n",
       "│\u001b[36m \u001b[0m\u001b[36m    target_test/loss     \u001b[0m\u001b[36m \u001b[0m│\u001b[35m \u001b[0m\u001b[35m   0.7709631323814392    \u001b[0m\u001b[35m \u001b[0m│\n",
       "└───────────────────────────┴───────────────────────────┘\n"
      ]
     },
     "metadata": {},
     "output_type": "display_data"
    },
    {
     "name": "stdout",
     "output_type": "stream",
     "text": [
      "Test Results on saved epoch: [{'source_test/loss': 0.585716724395752, 'source_test/accuracy': 0.7920026779174805, 'source_test/f1': 0.7900815606117249, 'source_test/f1_macro': 0.7833946943283081, 'target_test/loss': 0.7709631323814392, 'target_test/accuracy': 0.7111895084381104, 'target_test/f1': 0.7104335427284241, 'target_test/f1_macro': 0.7028177380561829}]\n"
     ]
    },
    {
     "data": {
      "application/vnd.jupyter.widget-view+json": {
       "model_id": "3d4865aefc0a44139ee20468effc1a20",
       "version_major": 2,
       "version_minor": 0
      },
      "text/plain": [
       "VBox(children=(Label(value='0.002 MB of 0.002 MB uploaded\\r'), FloatProgress(value=1.0, max=1.0)))"
      ]
     },
     "metadata": {},
     "output_type": "display_data"
    },
    {
     "data": {
      "text/html": [
       "<style>\n",
       "    table.wandb td:nth-child(1) { padding: 0 10px; text-align: left ; width: auto;} td:nth-child(2) {text-align: left ; width: 100%}\n",
       "    .wandb-row { display: flex; flex-direction: row; flex-wrap: wrap; justify-content: flex-start; width: 100% }\n",
       "    .wandb-col { display: flex; flex-direction: column; flex-basis: 100%; flex: 1; padding: 10px; }\n",
       "    </style>\n",
       "<div class=\"wandb-row\"><div class=\"wandb-col\"><h3>Run history:</h3><br/><table class=\"wandb\"><tr><td>epoch</td><td>▁▁▁▁▁▁▁▁▂▂▂▂▂▂▂▂▄▄▄▄▄▄▄▄▅▅▅▅▅▅▅▅▇▇▇▇▇▇▇█</td></tr><tr><td>source_test/accuracy</td><td>▃▁█</td></tr><tr><td>source_test/f1</td><td>▃▁█</td></tr><tr><td>source_test/f1_macro</td><td>▂▁█</td></tr><tr><td>source_test/loss</td><td>█▁▃</td></tr><tr><td>source_val/accuracy</td><td>▁▆▇█▇</td></tr><tr><td>source_val/f1</td><td>▁▆▇█▇</td></tr><tr><td>source_val/loss</td><td>▃▁▂▃█</td></tr><tr><td>target_test/accuracy</td><td>█▁▆</td></tr><tr><td>target_test/f1</td><td>█▁█</td></tr><tr><td>target_test/f1_macro</td><td>█▁▂</td></tr><tr><td>target_test/loss</td><td>█▁▃</td></tr><tr><td>target_val/accuracy</td><td>▁█▇█▇</td></tr><tr><td>target_val/f1</td><td>▁█▇█▇</td></tr><tr><td>target_val/loss</td><td>▃▁▃▄█</td></tr><tr><td>train_accuracy</td><td>▁▃▄▅▄▆▃▅▅▅▄▆▄▄▇▄▄▄▅▅▆▅▇▅▅▄▆█▆▇▆▅▅▇▆▅▆▅█▇</td></tr><tr><td>train_f1</td><td>▁▃▄▅▄▆▃▅▄▅▃▆▄▄▇▄▄▄▅▄▆▅▇▅▅▄▆█▆▇▆▅▅▇▆▅▆▅█▇</td></tr><tr><td>train_loss</td><td>█▇▅▄▆▄▇▅▆▄▅▃▅▄▃▅▆▅▄▆▄▅▂▅▄▆▃▁▃▂▂▃▄▃▂▄▃▄▁▂</td></tr><tr><td>trainer/global_step</td><td>▁▁▁▂▂▂▂▂▂▃▃▃▃▃▄▄▄▄▄▄▅▅▅▅▅▆▆▆▆▆▆▇▇▇▇▇▇███</td></tr><tr><td>val_loss</td><td>▃▁▂▃█</td></tr></table><br/></div><div class=\"wandb-col\"><h3>Run summary:</h3><br/><table class=\"wandb\"><tr><td>epoch</td><td>5</td></tr><tr><td>source_test/accuracy</td><td>0.792</td></tr><tr><td>source_test/f1</td><td>0.79008</td></tr><tr><td>source_test/f1_macro</td><td>0.78339</td></tr><tr><td>source_test/loss</td><td>0.58572</td></tr><tr><td>source_val/accuracy</td><td>0.78938</td></tr><tr><td>source_val/f1</td><td>0.78892</td></tr><tr><td>source_val/loss</td><td>0.68879</td></tr><tr><td>target_test/accuracy</td><td>0.71119</td></tr><tr><td>target_test/f1</td><td>0.71043</td></tr><tr><td>target_test/f1_macro</td><td>0.70282</td></tr><tr><td>target_test/loss</td><td>0.77096</td></tr><tr><td>target_val/accuracy</td><td>0.71865</td></tr><tr><td>target_val/f1</td><td>0.71788</td></tr><tr><td>target_val/loss</td><td>0.97387</td></tr><tr><td>train_accuracy</td><td>0.96875</td></tr><tr><td>train_f1</td><td>0.96861</td></tr><tr><td>train_loss</td><td>0.24254</td></tr><tr><td>trainer/global_step</td><td>10875</td></tr><tr><td>val_loss</td><td>0.68879</td></tr></table><br/></div></div>"
      ],
      "text/plain": [
       "<IPython.core.display.HTML object>"
      ]
     },
     "metadata": {},
     "output_type": "display_data"
    },
    {
     "data": {
      "text/html": [
       " View run <strong style=\"color:#cdcd00\">TES_union_fresh_run_with_seed_10</strong> at: <a href='https://wandb.ai/mrawhani/ablations/runs/vqt7i5zk' target=\"_blank\">https://wandb.ai/mrawhani/ablations/runs/vqt7i5zk</a><br/> View project at: <a href='https://wandb.ai/mrawhani/ablations' target=\"_blank\">https://wandb.ai/mrawhani/ablations</a><br/>Synced 5 W&B file(s), 0 media file(s), 0 artifact file(s) and 0 other file(s)"
      ],
      "text/plain": [
       "<IPython.core.display.HTML object>"
      ]
     },
     "metadata": {},
     "output_type": "display_data"
    },
    {
     "data": {
      "text/html": [
       "Find logs at: <code>./wandb/run-20240713_212646-vqt7i5zk/logs</code>"
      ],
      "text/plain": [
       "<IPython.core.display.HTML object>"
      ]
     },
     "metadata": {},
     "output_type": "display_data"
    },
    {
     "data": {
      "application/vnd.jupyter.widget-view+json": {
       "model_id": "51b002f847ac4bd89c0262e50a976d30",
       "version_major": 2,
       "version_minor": 0
      },
      "text/plain": [
       "VBox(children=(Label(value='Waiting for wandb.init()...\\r'), FloatProgress(value=0.01111328365558519, max=1.0)…"
      ]
     },
     "metadata": {},
     "output_type": "display_data"
    },
    {
     "data": {
      "text/html": [
       "wandb version 0.17.4 is available!  To upgrade, please run:\n",
       " $ pip install wandb --upgrade"
      ],
      "text/plain": [
       "<IPython.core.display.HTML object>"
      ]
     },
     "metadata": {},
     "output_type": "display_data"
    },
    {
     "data": {
      "text/html": [
       "Tracking run with wandb version 0.17.0"
      ],
      "text/plain": [
       "<IPython.core.display.HTML object>"
      ]
     },
     "metadata": {},
     "output_type": "display_data"
    },
    {
     "data": {
      "text/html": [
       "Run data is saved locally in <code>/home/guest/Desktop/projects/fourth-expeiments/domain_adaptation_project/union/slate/wandb/run-20240713_221229-2xg806dw</code>"
      ],
      "text/plain": [
       "<IPython.core.display.HTML object>"
      ]
     },
     "metadata": {},
     "output_type": "display_data"
    },
    {
     "data": {
      "text/html": [
       "Syncing run <strong><a href='https://wandb.ai/mrawhani/ablations/runs/2xg806dw' target=\"_blank\">TES_union_fresh_run_with_seed_100</a></strong> to <a href='https://wandb.ai/mrawhani/ablations' target=\"_blank\">Weights & Biases</a> (<a href='https://wandb.me/run' target=\"_blank\">docs</a>)<br/>"
      ],
      "text/plain": [
       "<IPython.core.display.HTML object>"
      ]
     },
     "metadata": {},
     "output_type": "display_data"
    },
    {
     "data": {
      "text/html": [
       " View project at <a href='https://wandb.ai/mrawhani/ablations' target=\"_blank\">https://wandb.ai/mrawhani/ablations</a>"
      ],
      "text/plain": [
       "<IPython.core.display.HTML object>"
      ]
     },
     "metadata": {},
     "output_type": "display_data"
    },
    {
     "data": {
      "text/html": [
       " View run at <a href='https://wandb.ai/mrawhani/ablations/runs/2xg806dw' target=\"_blank\">https://wandb.ai/mrawhani/ablations/runs/2xg806dw</a>"
      ],
      "text/plain": [
       "<IPython.core.display.HTML object>"
      ]
     },
     "metadata": {},
     "output_type": "display_data"
    },
    {
     "name": "stderr",
     "output_type": "stream",
     "text": [
      "Seed set to 100\n",
      "/home/guest/.cache/pypoetry/virtualenvs/fourth-experments-OVNdUUAn-py3.8/lib/python3.8/site-packages/huggingface_hub/file_download.py:1132: FutureWarning: `resume_download` is deprecated and will be removed in version 1.0.0. Downloads always resume when possible. If you want to force a new download, use `force_download=True`.\n",
      "  warnings.warn(\n"
     ]
    },
    {
     "name": "stdout",
     "output_type": "stream",
     "text": [
      "prinssst: telephone\n",
      "print: slate\n",
      "print: 69575\n",
      "prinssst: telephone\n",
      "print: slate\n",
      "print: 69575\n"
     ]
    },
    {
     "name": "stderr",
     "output_type": "stream",
     "text": [
      "Some weights of BertAdapterModel were not initialized from the model checkpoint at bert-base-uncased and are newly initialized: ['heads.default.3.bias']\n",
      "You should probably TRAIN this model on a down-stream task to be able to use it for predictions and inference.\n",
      "/home/guest/.cache/pypoetry/virtualenvs/fourth-experments-OVNdUUAn-py3.8/lib/python3.8/site-packages/torch/utils/data/dataloader.py:558: UserWarning: This DataLoader will create 16 worker processes in total. Our suggested max number of worker in current system is 12, which is smaller than what this DataLoader is going to create. Please be aware that excessive worker creation might get DataLoader running slow or even freeze, lower the worker number to avoid potential slowness/freeze if necessary.\n",
      "  warnings.warn(_create_warning_msg(\n",
      "GPU available: True (cuda), used: True\n",
      "TPU available: False, using: 0 TPU cores\n",
      "IPU available: False, using: 0 IPUs\n",
      "HPU available: False, using: 0 HPUs\n",
      "`Trainer(limit_train_batches=1.0)` was configured so 100% of the batches per epoch will be used..\n",
      "`Trainer(limit_val_batches=1.0)` was configured so 100% of the batches will be used..\n",
      "`Trainer(limit_test_batches=1.0)` was configured so 100% of the batches will be used..\n",
      "/home/guest/.cache/pypoetry/virtualenvs/fourth-experments-OVNdUUAn-py3.8/lib/python3.8/site-packages/pytorch_lightning/loggers/wandb.py:396: There is a wandb run already in progress and newly created instances of `WandbLogger` will reuse this run. If this is not desired, call `wandb.finish()` before instantiating `WandbLogger`.\n",
      "LOCAL_RANK: 0 - CUDA_VISIBLE_DEVICES: [0]\n"
     ]
    },
    {
     "name": "stdout",
     "output_type": "stream",
     "text": [
      "================================================================================\n",
      "Name                     Architecture         #Param      %Param  Active   Train\n",
      "--------------------------------------------------------------------------------\n",
      "task_fresh_TES           union             7,682,688       7.017       1       1\n",
      "--------------------------------------------------------------------------------\n",
      "Full model                               109,482,240     100.000               0\n",
      "================================================================================\n",
      "trainable params: 8898237 || all params: 118380477 || trainable%: 7.5166422922928415\n",
      "None\n"
     ]
    },
    {
     "name": "stderr",
     "output_type": "stream",
     "text": [
      "\n",
      "  | Name      | Type               | Params\n",
      "-------------------------------------------------\n",
      "0 | model     | BertAdapterModel   | 118 M \n",
      "1 | criterion | CrossEntropyLoss   | 0     \n",
      "2 | accuracy  | MulticlassAccuracy | 0     \n",
      "3 | f1        | MulticlassF1Score  | 0     \n",
      "4 | f1_macro  | MulticlassF1Score  | 0     \n",
      "5 | softmax   | Softmax            | 0     \n",
      "-------------------------------------------------\n",
      "8.9 M     Trainable params\n",
      "109 M     Non-trainable params\n",
      "118 M     Total params\n",
      "473.522   Total estimated model params size (MB)\n"
     ]
    },
    {
     "data": {
      "application/vnd.jupyter.widget-view+json": {
       "model_id": "3ce4029c2bac474d94516ccbdac39873",
       "version_major": 2,
       "version_minor": 0
      },
      "text/plain": [
       "Sanity Checking: |          | 0/? [00:00<?, ?it/s]"
      ]
     },
     "metadata": {},
     "output_type": "display_data"
    },
    {
     "name": "stdout",
     "output_type": "stream",
     "text": [
      "target_val/loss: 1.1026997566223145\n",
      "target_val/accuracy: 0.4375\n",
      "target_val/f1: 0.5297340154647827\n",
      "source_val/loss: 1.0839998722076416\n",
      "source_val/accuracy: 0.40625\n",
      "source_val/f1: 0.5008223652839661\n"
     ]
    },
    {
     "data": {
      "application/vnd.jupyter.widget-view+json": {
       "model_id": "195264afc0b04c04812b86f1987aca7c",
       "version_major": 2,
       "version_minor": 0
      },
      "text/plain": [
       "Training: |          | 0/? [00:00<?, ?it/s]"
      ]
     },
     "metadata": {},
     "output_type": "display_data"
    },
    {
     "data": {
      "application/vnd.jupyter.widget-view+json": {
       "model_id": "cd5b534e9191420c8123eec0063b6989",
       "version_major": 2,
       "version_minor": 0
      },
      "text/plain": [
       "Validation: |          | 0/? [00:00<?, ?it/s]"
      ]
     },
     "metadata": {},
     "output_type": "display_data"
    },
    {
     "name": "stdout",
     "output_type": "stream",
     "text": [
      "target_val/loss: 0.7337588667869568\n",
      "target_val/accuracy: 0.6919176578521729\n",
      "target_val/f1: 0.6927406787872314\n",
      "source_val/loss: 0.5662187337875366\n",
      "source_val/accuracy: 0.7678133845329285\n",
      "source_val/f1: 0.7671310305595398\n"
     ]
    },
    {
     "data": {
      "application/vnd.jupyter.widget-view+json": {
       "model_id": "0172520a696a45a7abc5d8b5006e2a63",
       "version_major": 2,
       "version_minor": 0
      },
      "text/plain": [
       "Validation: |          | 0/? [00:00<?, ?it/s]"
      ]
     },
     "metadata": {},
     "output_type": "display_data"
    },
    {
     "name": "stdout",
     "output_type": "stream",
     "text": [
      "target_val/loss: 0.7030266523361206\n",
      "target_val/accuracy: 0.7180023789405823\n",
      "target_val/f1: 0.7175511121749878\n",
      "source_val/loss: 0.5310021638870239\n",
      "source_val/accuracy: 0.7900241613388062\n",
      "source_val/f1: 0.7896174788475037\n"
     ]
    },
    {
     "data": {
      "application/vnd.jupyter.widget-view+json": {
       "model_id": "eb932c2d90ad4a668b8c42c08a198e4f",
       "version_major": 2,
       "version_minor": 0
      },
      "text/plain": [
       "Validation: |          | 0/? [00:00<?, ?it/s]"
      ]
     },
     "metadata": {},
     "output_type": "display_data"
    },
    {
     "name": "stdout",
     "output_type": "stream",
     "text": [
      "target_val/loss: 0.7756885290145874\n",
      "target_val/accuracy: 0.7171392440795898\n",
      "target_val/f1: 0.7166525721549988\n",
      "source_val/loss: 0.5562924146652222\n",
      "source_val/accuracy: 0.7960118651390076\n",
      "source_val/f1: 0.7954069972038269\n"
     ]
    },
    {
     "data": {
      "application/vnd.jupyter.widget-view+json": {
       "model_id": "77a642324ef7468a8ba610c5f914ea89",
       "version_major": 2,
       "version_minor": 0
      },
      "text/plain": [
       "Validation: |          | 0/? [00:00<?, ?it/s]"
      ]
     },
     "metadata": {},
     "output_type": "display_data"
    },
    {
     "name": "stdout",
     "output_type": "stream",
     "text": [
      "target_val/loss: 0.863984227180481\n",
      "target_val/accuracy: 0.7142983078956604\n",
      "target_val/f1: 0.713810920715332\n",
      "source_val/loss: 0.6135557293891907\n",
      "source_val/accuracy: 0.7929126620292664\n",
      "source_val/f1: 0.7921543121337891\n"
     ]
    },
    {
     "data": {
      "application/vnd.jupyter.widget-view+json": {
       "model_id": "1fb795154d3342339db8fd7d8b2856c6",
       "version_major": 2,
       "version_minor": 0
      },
      "text/plain": [
       "Validation: |          | 0/? [00:00<?, ?it/s]"
      ]
     },
     "metadata": {},
     "output_type": "display_data"
    },
    {
     "name": "stderr",
     "output_type": "stream",
     "text": [
      "`Trainer.fit` stopped: `max_epochs=5` reached.\n"
     ]
    },
    {
     "name": "stdout",
     "output_type": "stream",
     "text": [
      "target_val/loss: 0.930433452129364\n",
      "target_val/accuracy: 0.7219646573066711\n",
      "target_val/f1: 0.7216551899909973\n",
      "source_val/loss: 0.6460338234901428\n",
      "source_val/accuracy: 0.7943263053894043\n",
      "source_val/f1: 0.7940921187400818\n",
      "Best checkpoint path: ./lightning_logs/2xg806dw/checkpoints/task-TES-fresh-epoch=01-val_loss=0.53.ckpt\n",
      "Saved epoch checkpoint path: ./lightning_logs/2xg806dw/checkpoints/TES-fresh-epoch=02.ckpt\n"
     ]
    },
    {
     "name": "stderr",
     "output_type": "stream",
     "text": [
      "LOCAL_RANK: 0 - CUDA_VISIBLE_DEVICES: [0]\n"
     ]
    },
    {
     "name": "stdout",
     "output_type": "stream",
     "text": [
      "prinssst: telephone\n",
      "print: slate\n",
      "print: 69575\n"
     ]
    },
    {
     "data": {
      "application/vnd.jupyter.widget-view+json": {
       "model_id": "a7caca72b7d848a7a80faebe9c877986",
       "version_major": 2,
       "version_minor": 0
      },
      "text/plain": [
       "Testing: |          | 0/? [00:00<?, ?it/s]"
      ]
     },
     "metadata": {},
     "output_type": "display_data"
    },
    {
     "data": {
      "text/html": [
       "<pre style=\"white-space:pre;overflow-x:auto;line-height:normal;font-family:Menlo,'DejaVu Sans Mono',consolas,'Courier New',monospace\">┏━━━━━━━━━━━━━━━━━━━━━━━━━━━┳━━━━━━━━━━━━━━━━━━━━━━━━━━━┓\n",
       "┃<span style=\"font-weight: bold\">        Test metric        </span>┃<span style=\"font-weight: bold\">       DataLoader 0        </span>┃\n",
       "┡━━━━━━━━━━━━━━━━━━━━━━━━━━━╇━━━━━━━━━━━━━━━━━━━━━━━━━━━┩\n",
       "│<span style=\"color: #008080; text-decoration-color: #008080\">   source_test/accuracy    </span>│<span style=\"color: #800080; text-decoration-color: #800080\">    0.7983870506286621     </span>│\n",
       "│<span style=\"color: #008080; text-decoration-color: #008080\">      source_test/f1       </span>│<span style=\"color: #800080; text-decoration-color: #800080\">    0.7973731756210327     </span>│\n",
       "│<span style=\"color: #008080; text-decoration-color: #008080\">   source_test/f1_macro    </span>│<span style=\"color: #800080; text-decoration-color: #800080\">    0.7902255654335022     </span>│\n",
       "│<span style=\"color: #008080; text-decoration-color: #008080\">     source_test/loss      </span>│<span style=\"color: #800080; text-decoration-color: #800080\">    0.6783116459846497     </span>│\n",
       "│<span style=\"color: #008080; text-decoration-color: #008080\">   target_test/accuracy    </span>│<span style=\"color: #800080; text-decoration-color: #800080\">    0.7247983813285828     </span>│\n",
       "│<span style=\"color: #008080; text-decoration-color: #008080\">      target_test/f1       </span>│<span style=\"color: #800080; text-decoration-color: #800080\">    0.7245998978614807     </span>│\n",
       "│<span style=\"color: #008080; text-decoration-color: #008080\">   target_test/f1_macro    </span>│<span style=\"color: #800080; text-decoration-color: #800080\">     0.715985894203186     </span>│\n",
       "│<span style=\"color: #008080; text-decoration-color: #008080\">     target_test/loss      </span>│<span style=\"color: #800080; text-decoration-color: #800080\">    0.9215119481086731     </span>│\n",
       "└───────────────────────────┴───────────────────────────┘\n",
       "</pre>\n"
      ],
      "text/plain": [
       "┏━━━━━━━━━━━━━━━━━━━━━━━━━━━┳━━━━━━━━━━━━━━━━━━━━━━━━━━━┓\n",
       "┃\u001b[1m \u001b[0m\u001b[1m       Test metric       \u001b[0m\u001b[1m \u001b[0m┃\u001b[1m \u001b[0m\u001b[1m      DataLoader 0       \u001b[0m\u001b[1m \u001b[0m┃\n",
       "┡━━━━━━━━━━━━━━━━━━━━━━━━━━━╇━━━━━━━━━━━━━━━━━━━━━━━━━━━┩\n",
       "│\u001b[36m \u001b[0m\u001b[36m  source_test/accuracy   \u001b[0m\u001b[36m \u001b[0m│\u001b[35m \u001b[0m\u001b[35m   0.7983870506286621    \u001b[0m\u001b[35m \u001b[0m│\n",
       "│\u001b[36m \u001b[0m\u001b[36m     source_test/f1      \u001b[0m\u001b[36m \u001b[0m│\u001b[35m \u001b[0m\u001b[35m   0.7973731756210327    \u001b[0m\u001b[35m \u001b[0m│\n",
       "│\u001b[36m \u001b[0m\u001b[36m  source_test/f1_macro   \u001b[0m\u001b[36m \u001b[0m│\u001b[35m \u001b[0m\u001b[35m   0.7902255654335022    \u001b[0m\u001b[35m \u001b[0m│\n",
       "│\u001b[36m \u001b[0m\u001b[36m    source_test/loss     \u001b[0m\u001b[36m \u001b[0m│\u001b[35m \u001b[0m\u001b[35m   0.6783116459846497    \u001b[0m\u001b[35m \u001b[0m│\n",
       "│\u001b[36m \u001b[0m\u001b[36m  target_test/accuracy   \u001b[0m\u001b[36m \u001b[0m│\u001b[35m \u001b[0m\u001b[35m   0.7247983813285828    \u001b[0m\u001b[35m \u001b[0m│\n",
       "│\u001b[36m \u001b[0m\u001b[36m     target_test/f1      \u001b[0m\u001b[36m \u001b[0m│\u001b[35m \u001b[0m\u001b[35m   0.7245998978614807    \u001b[0m\u001b[35m \u001b[0m│\n",
       "│\u001b[36m \u001b[0m\u001b[36m  target_test/f1_macro   \u001b[0m\u001b[36m \u001b[0m│\u001b[35m \u001b[0m\u001b[35m    0.715985894203186    \u001b[0m\u001b[35m \u001b[0m│\n",
       "│\u001b[36m \u001b[0m\u001b[36m    target_test/loss     \u001b[0m\u001b[36m \u001b[0m│\u001b[35m \u001b[0m\u001b[35m   0.9215119481086731    \u001b[0m\u001b[35m \u001b[0m│\n",
       "└───────────────────────────┴───────────────────────────┘\n"
      ]
     },
     "metadata": {},
     "output_type": "display_data"
    },
    {
     "name": "stdout",
     "output_type": "stream",
     "text": [
      "Test Results Last Epoch: [{'source_test/loss': 0.6783116459846497, 'source_test/accuracy': 0.7983870506286621, 'source_test/f1': 0.7973731756210327, 'source_test/f1_macro': 0.7902255654335022, 'target_test/loss': 0.9215119481086731, 'target_test/accuracy': 0.7247983813285828, 'target_test/f1': 0.7245998978614807, 'target_test/f1_macro': 0.715985894203186}]\n",
      "Best checkpoint path: ./lightning_logs/2xg806dw/checkpoints/task-TES-fresh-epoch=01-val_loss=0.53.ckpt\n",
      "Saved epoch checkpoint path: ./lightning_logs/2xg806dw/checkpoints/TES-fresh-epoch=02.ckpt\n"
     ]
    },
    {
     "name": "stderr",
     "output_type": "stream",
     "text": [
      "Some weights of BertAdapterModel were not initialized from the model checkpoint at bert-base-uncased and are newly initialized: ['heads.default.3.bias']\n",
      "You should probably TRAIN this model on a down-stream task to be able to use it for predictions and inference.\n"
     ]
    },
    {
     "name": "stdout",
     "output_type": "stream",
     "text": [
      "================================================================================\n",
      "Name                     Architecture         #Param      %Param  Active   Train\n",
      "--------------------------------------------------------------------------------\n",
      "task_fresh_TES           union             7,682,688       7.017       1       1\n",
      "--------------------------------------------------------------------------------\n",
      "Full model                               109,482,240     100.000               0\n",
      "================================================================================\n",
      "trainable params: 8898237 || all params: 118380477 || trainable%: 7.5166422922928415\n",
      "None\n"
     ]
    },
    {
     "name": "stderr",
     "output_type": "stream",
     "text": [
      "LOCAL_RANK: 0 - CUDA_VISIBLE_DEVICES: [0]\n"
     ]
    },
    {
     "data": {
      "application/vnd.jupyter.widget-view+json": {
       "model_id": "ad7a63967f2a406da136ec63408f4212",
       "version_major": 2,
       "version_minor": 0
      },
      "text/plain": [
       "Testing: |          | 0/? [00:00<?, ?it/s]"
      ]
     },
     "metadata": {},
     "output_type": "display_data"
    },
    {
     "data": {
      "text/html": [
       "<pre style=\"white-space:pre;overflow-x:auto;line-height:normal;font-family:Menlo,'DejaVu Sans Mono',consolas,'Courier New',monospace\">┏━━━━━━━━━━━━━━━━━━━━━━━━━━━┳━━━━━━━━━━━━━━━━━━━━━━━━━━━┓\n",
       "┃<span style=\"font-weight: bold\">        Test metric        </span>┃<span style=\"font-weight: bold\">       DataLoader 0        </span>┃\n",
       "┡━━━━━━━━━━━━━━━━━━━━━━━━━━━╇━━━━━━━━━━━━━━━━━━━━━━━━━━━┩\n",
       "│<span style=\"color: #008080; text-decoration-color: #008080\">   source_test/accuracy    </span>│<span style=\"color: #800080; text-decoration-color: #800080\">    0.7899865508079529     </span>│\n",
       "│<span style=\"color: #008080; text-decoration-color: #008080\">      source_test/f1       </span>│<span style=\"color: #800080; text-decoration-color: #800080\">    0.7889070510864258     </span>│\n",
       "│<span style=\"color: #008080; text-decoration-color: #008080\">   source_test/f1_macro    </span>│<span style=\"color: #800080; text-decoration-color: #800080\">    0.7798333764076233     </span>│\n",
       "│<span style=\"color: #008080; text-decoration-color: #008080\">     source_test/loss      </span>│<span style=\"color: #800080; text-decoration-color: #800080\">    0.5549103617668152     </span>│\n",
       "│<span style=\"color: #008080; text-decoration-color: #008080\">   target_test/accuracy    </span>│<span style=\"color: #800080; text-decoration-color: #800080\">    0.7096773982048035     </span>│\n",
       "│<span style=\"color: #008080; text-decoration-color: #008080\">      target_test/f1       </span>│<span style=\"color: #800080; text-decoration-color: #800080\">    0.7089929580688477     </span>│\n",
       "│<span style=\"color: #008080; text-decoration-color: #008080\">   target_test/f1_macro    </span>│<span style=\"color: #800080; text-decoration-color: #800080\">    0.7018832564353943     </span>│\n",
       "│<span style=\"color: #008080; text-decoration-color: #008080\">     target_test/loss      </span>│<span style=\"color: #800080; text-decoration-color: #800080\">    0.7264171242713928     </span>│\n",
       "└───────────────────────────┴───────────────────────────┘\n",
       "</pre>\n"
      ],
      "text/plain": [
       "┏━━━━━━━━━━━━━━━━━━━━━━━━━━━┳━━━━━━━━━━━━━━━━━━━━━━━━━━━┓\n",
       "┃\u001b[1m \u001b[0m\u001b[1m       Test metric       \u001b[0m\u001b[1m \u001b[0m┃\u001b[1m \u001b[0m\u001b[1m      DataLoader 0       \u001b[0m\u001b[1m \u001b[0m┃\n",
       "┡━━━━━━━━━━━━━━━━━━━━━━━━━━━╇━━━━━━━━━━━━━━━━━━━━━━━━━━━┩\n",
       "│\u001b[36m \u001b[0m\u001b[36m  source_test/accuracy   \u001b[0m\u001b[36m \u001b[0m│\u001b[35m \u001b[0m\u001b[35m   0.7899865508079529    \u001b[0m\u001b[35m \u001b[0m│\n",
       "│\u001b[36m \u001b[0m\u001b[36m     source_test/f1      \u001b[0m\u001b[36m \u001b[0m│\u001b[35m \u001b[0m\u001b[35m   0.7889070510864258    \u001b[0m\u001b[35m \u001b[0m│\n",
       "│\u001b[36m \u001b[0m\u001b[36m  source_test/f1_macro   \u001b[0m\u001b[36m \u001b[0m│\u001b[35m \u001b[0m\u001b[35m   0.7798333764076233    \u001b[0m\u001b[35m \u001b[0m│\n",
       "│\u001b[36m \u001b[0m\u001b[36m    source_test/loss     \u001b[0m\u001b[36m \u001b[0m│\u001b[35m \u001b[0m\u001b[35m   0.5549103617668152    \u001b[0m\u001b[35m \u001b[0m│\n",
       "│\u001b[36m \u001b[0m\u001b[36m  target_test/accuracy   \u001b[0m\u001b[36m \u001b[0m│\u001b[35m \u001b[0m\u001b[35m   0.7096773982048035    \u001b[0m\u001b[35m \u001b[0m│\n",
       "│\u001b[36m \u001b[0m\u001b[36m     target_test/f1      \u001b[0m\u001b[36m \u001b[0m│\u001b[35m \u001b[0m\u001b[35m   0.7089929580688477    \u001b[0m\u001b[35m \u001b[0m│\n",
       "│\u001b[36m \u001b[0m\u001b[36m  target_test/f1_macro   \u001b[0m\u001b[36m \u001b[0m│\u001b[35m \u001b[0m\u001b[35m   0.7018832564353943    \u001b[0m\u001b[35m \u001b[0m│\n",
       "│\u001b[36m \u001b[0m\u001b[36m    target_test/loss     \u001b[0m\u001b[36m \u001b[0m│\u001b[35m \u001b[0m\u001b[35m   0.7264171242713928    \u001b[0m\u001b[35m \u001b[0m│\n",
       "└───────────────────────────┴───────────────────────────┘\n"
      ]
     },
     "metadata": {},
     "output_type": "display_data"
    },
    {
     "name": "stdout",
     "output_type": "stream",
     "text": [
      "Test Results on Best Model: [{'source_test/loss': 0.5549103617668152, 'source_test/accuracy': 0.7899865508079529, 'source_test/f1': 0.7889070510864258, 'source_test/f1_macro': 0.7798333764076233, 'target_test/loss': 0.7264171242713928, 'target_test/accuracy': 0.7096773982048035, 'target_test/f1': 0.7089929580688477, 'target_test/f1_macro': 0.7018832564353943}]\n"
     ]
    },
    {
     "name": "stderr",
     "output_type": "stream",
     "text": [
      "Some weights of BertAdapterModel were not initialized from the model checkpoint at bert-base-uncased and are newly initialized: ['heads.default.3.bias']\n",
      "You should probably TRAIN this model on a down-stream task to be able to use it for predictions and inference.\n"
     ]
    },
    {
     "name": "stdout",
     "output_type": "stream",
     "text": [
      "================================================================================\n",
      "Name                     Architecture         #Param      %Param  Active   Train\n",
      "--------------------------------------------------------------------------------\n",
      "task_fresh_TES           union             7,682,688       7.017       1       1\n",
      "--------------------------------------------------------------------------------\n",
      "Full model                               109,482,240     100.000               0\n",
      "================================================================================\n",
      "trainable params: 8898237 || all params: 118380477 || trainable%: 7.5166422922928415\n",
      "None\n"
     ]
    },
    {
     "name": "stderr",
     "output_type": "stream",
     "text": [
      "LOCAL_RANK: 0 - CUDA_VISIBLE_DEVICES: [0]\n"
     ]
    },
    {
     "data": {
      "application/vnd.jupyter.widget-view+json": {
       "model_id": "2bd1cc31061442cab05ac9c144f84c5a",
       "version_major": 2,
       "version_minor": 0
      },
      "text/plain": [
       "Testing: |          | 0/? [00:00<?, ?it/s]"
      ]
     },
     "metadata": {},
     "output_type": "display_data"
    },
    {
     "data": {
      "text/html": [
       "<pre style=\"white-space:pre;overflow-x:auto;line-height:normal;font-family:Menlo,'DejaVu Sans Mono',consolas,'Courier New',monospace\">┏━━━━━━━━━━━━━━━━━━━━━━━━━━━┳━━━━━━━━━━━━━━━━━━━━━━━━━━━┓\n",
       "┃<span style=\"font-weight: bold\">        Test metric        </span>┃<span style=\"font-weight: bold\">       DataLoader 0        </span>┃\n",
       "┡━━━━━━━━━━━━━━━━━━━━━━━━━━━╇━━━━━━━━━━━━━━━━━━━━━━━━━━━┩\n",
       "│<span style=\"color: #008080; text-decoration-color: #008080\">   source_test/accuracy    </span>│<span style=\"color: #800080; text-decoration-color: #800080\">    0.7945228219032288     </span>│\n",
       "│<span style=\"color: #008080; text-decoration-color: #008080\">      source_test/f1       </span>│<span style=\"color: #800080; text-decoration-color: #800080\">    0.7932097315788269     </span>│\n",
       "│<span style=\"color: #008080; text-decoration-color: #008080\">   source_test/f1_macro    </span>│<span style=\"color: #800080; text-decoration-color: #800080\">    0.7852053046226501     </span>│\n",
       "│<span style=\"color: #008080; text-decoration-color: #008080\">     source_test/loss      </span>│<span style=\"color: #800080; text-decoration-color: #800080\">    0.5856009125709534     </span>│\n",
       "│<span style=\"color: #008080; text-decoration-color: #008080\">   target_test/accuracy    </span>│<span style=\"color: #800080; text-decoration-color: #800080\">    0.7162297964096069     </span>│\n",
       "│<span style=\"color: #008080; text-decoration-color: #008080\">      target_test/f1       </span>│<span style=\"color: #800080; text-decoration-color: #800080\">    0.7159163951873779     </span>│\n",
       "│<span style=\"color: #008080; text-decoration-color: #008080\">   target_test/f1_macro    </span>│<span style=\"color: #800080; text-decoration-color: #800080\">    0.7081139087677002     </span>│\n",
       "│<span style=\"color: #008080; text-decoration-color: #008080\">     target_test/loss      </span>│<span style=\"color: #800080; text-decoration-color: #800080\">    0.7859230041503906     </span>│\n",
       "└───────────────────────────┴───────────────────────────┘\n",
       "</pre>\n"
      ],
      "text/plain": [
       "┏━━━━━━━━━━━━━━━━━━━━━━━━━━━┳━━━━━━━━━━━━━━━━━━━━━━━━━━━┓\n",
       "┃\u001b[1m \u001b[0m\u001b[1m       Test metric       \u001b[0m\u001b[1m \u001b[0m┃\u001b[1m \u001b[0m\u001b[1m      DataLoader 0       \u001b[0m\u001b[1m \u001b[0m┃\n",
       "┡━━━━━━━━━━━━━━━━━━━━━━━━━━━╇━━━━━━━━━━━━━━━━━━━━━━━━━━━┩\n",
       "│\u001b[36m \u001b[0m\u001b[36m  source_test/accuracy   \u001b[0m\u001b[36m \u001b[0m│\u001b[35m \u001b[0m\u001b[35m   0.7945228219032288    \u001b[0m\u001b[35m \u001b[0m│\n",
       "│\u001b[36m \u001b[0m\u001b[36m     source_test/f1      \u001b[0m\u001b[36m \u001b[0m│\u001b[35m \u001b[0m\u001b[35m   0.7932097315788269    \u001b[0m\u001b[35m \u001b[0m│\n",
       "│\u001b[36m \u001b[0m\u001b[36m  source_test/f1_macro   \u001b[0m\u001b[36m \u001b[0m│\u001b[35m \u001b[0m\u001b[35m   0.7852053046226501    \u001b[0m\u001b[35m \u001b[0m│\n",
       "│\u001b[36m \u001b[0m\u001b[36m    source_test/loss     \u001b[0m\u001b[36m \u001b[0m│\u001b[35m \u001b[0m\u001b[35m   0.5856009125709534    \u001b[0m\u001b[35m \u001b[0m│\n",
       "│\u001b[36m \u001b[0m\u001b[36m  target_test/accuracy   \u001b[0m\u001b[36m \u001b[0m│\u001b[35m \u001b[0m\u001b[35m   0.7162297964096069    \u001b[0m\u001b[35m \u001b[0m│\n",
       "│\u001b[36m \u001b[0m\u001b[36m     target_test/f1      \u001b[0m\u001b[36m \u001b[0m│\u001b[35m \u001b[0m\u001b[35m   0.7159163951873779    \u001b[0m\u001b[35m \u001b[0m│\n",
       "│\u001b[36m \u001b[0m\u001b[36m  target_test/f1_macro   \u001b[0m\u001b[36m \u001b[0m│\u001b[35m \u001b[0m\u001b[35m   0.7081139087677002    \u001b[0m\u001b[35m \u001b[0m│\n",
       "│\u001b[36m \u001b[0m\u001b[36m    target_test/loss     \u001b[0m\u001b[36m \u001b[0m│\u001b[35m \u001b[0m\u001b[35m   0.7859230041503906    \u001b[0m\u001b[35m \u001b[0m│\n",
       "└───────────────────────────┴───────────────────────────┘\n"
      ]
     },
     "metadata": {},
     "output_type": "display_data"
    },
    {
     "name": "stdout",
     "output_type": "stream",
     "text": [
      "Test Results on saved epoch: [{'source_test/loss': 0.5856009125709534, 'source_test/accuracy': 0.7945228219032288, 'source_test/f1': 0.7932097315788269, 'source_test/f1_macro': 0.7852053046226501, 'target_test/loss': 0.7859230041503906, 'target_test/accuracy': 0.7162297964096069, 'target_test/f1': 0.7159163951873779, 'target_test/f1_macro': 0.7081139087677002}]\n"
     ]
    },
    {
     "data": {
      "application/vnd.jupyter.widget-view+json": {
       "model_id": "3baf9bc7d866405da71e2e841b102eb9",
       "version_major": 2,
       "version_minor": 0
      },
      "text/plain": [
       "VBox(children=(Label(value='0.002 MB of 0.002 MB uploaded\\r'), FloatProgress(value=1.0, max=1.0)))"
      ]
     },
     "metadata": {},
     "output_type": "display_data"
    },
    {
     "data": {
      "text/html": [
       "<style>\n",
       "    table.wandb td:nth-child(1) { padding: 0 10px; text-align: left ; width: auto;} td:nth-child(2) {text-align: left ; width: 100%}\n",
       "    .wandb-row { display: flex; flex-direction: row; flex-wrap: wrap; justify-content: flex-start; width: 100% }\n",
       "    .wandb-col { display: flex; flex-direction: column; flex-basis: 100%; flex: 1; padding: 10px; }\n",
       "    </style>\n",
       "<div class=\"wandb-row\"><div class=\"wandb-col\"><h3>Run history:</h3><br/><table class=\"wandb\"><tr><td>epoch</td><td>▁▁▁▁▁▁▁▁▂▂▂▂▂▂▂▂▄▄▄▄▄▄▄▄▅▅▅▅▅▅▅▅▇▇▇▇▇▇▇█</td></tr><tr><td>source_test/accuracy</td><td>█▁▅</td></tr><tr><td>source_test/f1</td><td>█▁▅</td></tr><tr><td>source_test/f1_macro</td><td>█▁▅</td></tr><tr><td>source_test/loss</td><td>█▁▃</td></tr><tr><td>source_val/accuracy</td><td>▁▇█▇█</td></tr><tr><td>source_val/f1</td><td>▁▇█▇█</td></tr><tr><td>source_val/loss</td><td>▃▁▃▆█</td></tr><tr><td>target_test/accuracy</td><td>█▁▄</td></tr><tr><td>target_test/f1</td><td>█▁▄</td></tr><tr><td>target_test/f1_macro</td><td>█▁▄</td></tr><tr><td>target_test/loss</td><td>█▁▃</td></tr><tr><td>target_val/accuracy</td><td>▁▇▇▆█</td></tr><tr><td>target_val/f1</td><td>▁▇▇▆█</td></tr><tr><td>target_val/loss</td><td>▂▁▃▆█</td></tr><tr><td>train_accuracy</td><td>▁▃▃▅▃▇▃▅▅▆▅▆▄▃▆▅▅▅▅▃▅▅▇▅▅▅▆▇▇▇▇▇▆▅▇▅█▇▇█</td></tr><tr><td>train_f1</td><td>▁▂▃▅▃▆▂▅▅▆▄▆▄▃▆▄▄▅▅▂▅▅▆▅▅▄▆▇▇▇▇▆▆▅▇▅█▇▆█</td></tr><tr><td>train_loss</td><td>█▇▆▄▅▂▇▄▅▃▄▃▅▄▂▃▄▄▃▆▃▅▂▄▄▅▃▂▃▁▁▂▄▃▂▃▁▂▂▁</td></tr><tr><td>trainer/global_step</td><td>▁▁▁▂▂▂▂▂▂▃▃▃▃▃▄▄▄▄▄▄▅▅▅▅▅▆▆▆▆▆▆▇▇▇▇▇▇███</td></tr><tr><td>val_loss</td><td>▃▁▃▆█</td></tr></table><br/></div><div class=\"wandb-col\"><h3>Run summary:</h3><br/><table class=\"wandb\"><tr><td>epoch</td><td>5</td></tr><tr><td>source_test/accuracy</td><td>0.79452</td></tr><tr><td>source_test/f1</td><td>0.79321</td></tr><tr><td>source_test/f1_macro</td><td>0.78521</td></tr><tr><td>source_test/loss</td><td>0.5856</td></tr><tr><td>source_val/accuracy</td><td>0.79433</td></tr><tr><td>source_val/f1</td><td>0.79409</td></tr><tr><td>source_val/loss</td><td>0.64603</td></tr><tr><td>target_test/accuracy</td><td>0.71623</td></tr><tr><td>target_test/f1</td><td>0.71592</td></tr><tr><td>target_test/f1_macro</td><td>0.70811</td></tr><tr><td>target_test/loss</td><td>0.78592</td></tr><tr><td>target_val/accuracy</td><td>0.72196</td></tr><tr><td>target_val/f1</td><td>0.72166</td></tr><tr><td>target_val/loss</td><td>0.93043</td></tr><tr><td>train_accuracy</td><td>0.875</td></tr><tr><td>train_f1</td><td>0.87347</td></tr><tr><td>train_loss</td><td>0.25554</td></tr><tr><td>trainer/global_step</td><td>10875</td></tr><tr><td>val_loss</td><td>0.64603</td></tr></table><br/></div></div>"
      ],
      "text/plain": [
       "<IPython.core.display.HTML object>"
      ]
     },
     "metadata": {},
     "output_type": "display_data"
    },
    {
     "data": {
      "text/html": [
       " View run <strong style=\"color:#cdcd00\">TES_union_fresh_run_with_seed_100</strong> at: <a href='https://wandb.ai/mrawhani/ablations/runs/2xg806dw' target=\"_blank\">https://wandb.ai/mrawhani/ablations/runs/2xg806dw</a><br/> View project at: <a href='https://wandb.ai/mrawhani/ablations' target=\"_blank\">https://wandb.ai/mrawhani/ablations</a><br/>Synced 5 W&B file(s), 0 media file(s), 0 artifact file(s) and 0 other file(s)"
      ],
      "text/plain": [
       "<IPython.core.display.HTML object>"
      ]
     },
     "metadata": {},
     "output_type": "display_data"
    },
    {
     "data": {
      "text/html": [
       "Find logs at: <code>./wandb/run-20240713_221229-2xg806dw/logs</code>"
      ],
      "text/plain": [
       "<IPython.core.display.HTML object>"
      ]
     },
     "metadata": {},
     "output_type": "display_data"
    }
   ],
   "source": [
    "for seed in seeds:\n",
    "    wandb.init(project=project_name, name=f'{domain}_{type}_run_with_seed_{seed}', config={'seed': seed})\n",
    "\n",
    "    try:\n",
    "        seed_everything(seed)\n",
    "\n",
    "        hparams = {\n",
    "            \"source_target\": \"telephone_slate\",\n",
    "            \"source_domain\": \"telephone\",\n",
    "            \"target_domain\": \"slate\",\n",
    "            \"domain_adapter_name\": \"mlm_union_S\",\n",
    "            \"task_adapter_name\": \"task_fresh_TES\",\n",
    "            \"pretrained_model_name\": \"bert-base-uncased\",\n",
    "            \"padding\": \"max_length\",\n",
    "            \"max_seq_length\": 128,\n",
    "            \"bsz\": 32,\n",
    "            \"num_classes\": 3,\n",
    "            \"learning_rate\": 1e-4,\n",
    "            \"reduction_factor\": 16,\n",
    "            \"mode\": \"domain\",\n",
    "            \"saved_adapter_dir\": \"../../saved/adapters\",\n",
    "        }\n",
    "\n",
    "        save_dir = \"checkpoints\"\n",
    "        save_epoch_3 = 3  # Save model at the 3rd epoch\n",
    "        #save_model_callback_epoch = SaveModelAtEpochCallback(save_dir, save_epoch_3)\n",
    "        # Add a print statement to confirm the callback initialization\n",
    "        #print(f\"Initialized SaveModelAtEpochCallback with save_dir={save_dir} and save_epoch={save_epoch_3}\")\n",
    "        dm = processed.DataModuleSourceTarget(hparams)\n",
    "        dm.setup('fit')\n",
    "        dm.setup(\"test\")\n",
    "\n",
    "        model = DomainTaskAdapter(hparams)\n",
    "\n",
    "        checkpoint_callback = ModelCheckpoint(\n",
    "            filename=\"task-TES-fresh-{epoch:02d}-{val_loss:.2f}\",\n",
    "            save_top_k=1,\n",
    "            monitor=\"val_loss\",\n",
    "            mode=\"min\",\n",
    "        )\n",
    "        save_model_callback_epoch = ModelCheckpoint(\n",
    "                # dirpath=checkpoints_path, # <--- specify this on the trainer itself for version control\n",
    "                filename=\"TES-fresh-{epoch:02d}\",\n",
    "                every_n_epochs=save_epoch_3,\n",
    "                save_top_k=-1,  # <--- this is important!\n",
    "            )\n",
    "       \n",
    "        wandb_logger = WandbLogger()\n",
    "        \n",
    "    except Exception as e:\n",
    "        print(f\"Error during preprocessing : {e}\")   \n",
    "\n",
    "    try:\n",
    "        train_loader = dm.train_dataloader()\n",
    "        val_loader = dm.val_dataloader()\n",
    "        trainer = Trainer(\n",
    "            max_epochs=5,\n",
    "            accelerator=\"auto\",\n",
    "            default_root_dir=\"checkpoints\",\n",
    "            # precision=16,\n",
    "            logger=wandb_logger,\n",
    "            callbacks=[checkpoint_callback,save_model_callback_epoch],\n",
    "            limit_train_batches=1.0,\n",
    "            limit_val_batches=1.0,\n",
    "            limit_test_batches=1.0,\n",
    "            # log_every_n_TESps=10,\n",
    "        )\n",
    "      \n",
    "        trainer.fit(model, train_loader, val_loader)\n",
    "           # ATESr training, print the paths to verify\n",
    "        print(f\"Best checkpoint path: {checkpoint_callback.best_model_path}\")\n",
    "        print(f\"Saved epoch checkpoint path: {save_model_callback_epoch.best_model_path}\")\n",
    "    except Exception as e:\n",
    "        print(f\"Error during training : {e}\")\n",
    "\n",
    "    try:\n",
    "        \n",
    "        dm.setup(\"test\")\n",
    "        test_loader = dm.test_dataloader()\n",
    "        test_results_last = trainer.test(model, test_loader)\n",
    "        print(\"Test Results Last Epoch:\", test_results_last)\n",
    "\n",
    "        # Collect results for last epoch model\n",
    "        for key, value in test_results_last[0].items():\n",
    "            results[\"last_epoch\"][key].append(value)\n",
    "\n",
    "        # Paths to the saved checkpoints\n",
    "        best_checkpoint_path = checkpoint_callback.best_model_path\n",
    "        saved_epoch_checkpoint_path = save_model_callback_epoch.best_model_path\n",
    "        # Print the paths to verify\n",
    "        print(f\"Best checkpoint path: {best_checkpoint_path}\")\n",
    "        print(f\"Saved epoch checkpoint path: {saved_epoch_checkpoint_path}\")\n",
    "        \n",
    "        best_model = DomainTaskAdapter.load_from_checkpoint(best_checkpoint_path)\n",
    "        test_results_best = trainer.test(best_model, test_loader)\n",
    "        print(\"Test Results on Best Model:\", test_results_best)\n",
    "        # Collect results for best model\n",
    "        for key, value in test_results_best[0].items():\n",
    "            results[\"best_model\"][key].append(value)\n",
    "\n",
    "        saved_epoch_model = DomainTaskAdapter.load_from_checkpoint(saved_epoch_checkpoint_path)\n",
    "        test_results_saved_epoch = trainer.test(saved_epoch_model, test_loader)\n",
    "        print(\"Test Results on saved epoch:\", test_results_saved_epoch)\n",
    "        # Collect results for 3rd epoch model\n",
    "        for key, value in test_results_saved_epoch[0].items():\n",
    "            results[\"epoch_saved\"][key].append(value)\n",
    "        \n",
    "\n",
    "    except Exception as e:\n",
    "        print(f\"Error during testing: {e}\")\n",
    "\n",
    "    # Finish the wandb run\n",
    "    wandb.finish()"
   ]
  },
  {
   "cell_type": "code",
   "execution_count": 6,
   "metadata": {},
   "outputs": [
    {
     "data": {
      "text/plain": [
       "dict_items([('last_epoch', {'source_test/loss': [0.6368054151535034, 0.7119206190109253, 0.6783116459846497], 'source_test/accuracy': [0.8014112710952759, 0.7869623899459839, 0.7983870506286621], 'source_test/f1': [0.8000502586364746, 0.7859156131744385, 0.7973731756210327], 'source_test/f1_macro': [0.7938739657402039, 0.7775411605834961, 0.7902255654335022], 'target_test/loss': [0.9260020852088928, 0.9865659475326538, 0.9215119481086731], 'target_test/accuracy': [0.7177419066429138, 0.711693525314331, 0.7247983813285828], 'target_test/f1': [0.7176938056945801, 0.7105153799057007, 0.7245998978614807], 'target_test/f1_macro': [0.7080252170562744, 0.7044723033905029, 0.715985894203186]}), ('best_model', {'source_test/loss': [0.5557180643081665, 0.5493257641792297, 0.5549103617668152], 'source_test/accuracy': [0.7940188050270081, 0.785450279712677, 0.7899865508079529], 'source_test/f1': [0.7920864820480347, 0.784373939037323, 0.7889070510864258], 'source_test/f1_macro': [0.786285400390625, 0.7768076658248901, 0.7798333764076233], 'target_test/loss': [0.7194926142692566, 0.7121257781982422, 0.7264171242713928], 'target_test/accuracy': [0.7222781777381897, 0.7101814150810242, 0.7096773982048035], 'target_test/f1': [0.7209819555282593, 0.7082035541534424, 0.7089929580688477], 'target_test/f1_macro': [0.7126691341400146, 0.7026647329330444, 0.7018832564353943]}), ('epoch_saved', {'source_test/loss': [0.5557180643081665, 0.585716724395752, 0.5856009125709534], 'source_test/accuracy': [0.7940188050270081, 0.7920026779174805, 0.7945228219032288], 'source_test/f1': [0.7920864820480347, 0.7900815606117249, 0.7932097315788269], 'source_test/f1_macro': [0.786285400390625, 0.7833946943283081, 0.7852053046226501], 'target_test/loss': [0.7194926142692566, 0.7709631323814392, 0.7859230041503906], 'target_test/accuracy': [0.7222781777381897, 0.7111895084381104, 0.7162297964096069], 'target_test/f1': [0.7209819555282593, 0.7104335427284241, 0.7159163951873779], 'target_test/f1_macro': [0.7126691341400146, 0.7028177380561829, 0.7081139087677002]})])"
      ]
     },
     "execution_count": 6,
     "metadata": {},
     "output_type": "execute_result"
    }
   ],
   "source": [
    "results.items()"
   ]
  },
  {
   "cell_type": "code",
   "execution_count": 7,
   "metadata": {},
   "outputs": [
    {
     "data": {
      "application/vnd.jupyter.widget-view+json": {
       "model_id": "809d62937b7a4f65af56b66b92a3df75",
       "version_major": 2,
       "version_minor": 0
      },
      "text/plain": [
       "VBox(children=(Label(value='Waiting for wandb.init()...\\r'), FloatProgress(value=0.011113250488900423, max=1.0…"
      ]
     },
     "metadata": {},
     "output_type": "display_data"
    },
    {
     "data": {
      "text/html": [
       "wandb version 0.17.4 is available!  To upgrade, please run:\n",
       " $ pip install wandb --upgrade"
      ],
      "text/plain": [
       "<IPython.core.display.HTML object>"
      ]
     },
     "metadata": {},
     "output_type": "display_data"
    },
    {
     "data": {
      "text/html": [
       "Tracking run with wandb version 0.17.0"
      ],
      "text/plain": [
       "<IPython.core.display.HTML object>"
      ]
     },
     "metadata": {},
     "output_type": "display_data"
    },
    {
     "data": {
      "text/html": [
       "Run data is saved locally in <code>/home/guest/Desktop/projects/fourth-expeiments/domain_adaptation_project/union/slate/wandb/run-20240713_225802-m25cmii1</code>"
      ],
      "text/plain": [
       "<IPython.core.display.HTML object>"
      ]
     },
     "metadata": {},
     "output_type": "display_data"
    },
    {
     "data": {
      "text/html": [
       "Syncing run <strong><a href='https://wandb.ai/mrawhani/ablations/runs/m25cmii1' target=\"_blank\">TES_mean_results</a></strong> to <a href='https://wandb.ai/mrawhani/ablations' target=\"_blank\">Weights & Biases</a> (<a href='https://wandb.me/run' target=\"_blank\">docs</a>)<br/>"
      ],
      "text/plain": [
       "<IPython.core.display.HTML object>"
      ]
     },
     "metadata": {},
     "output_type": "display_data"
    },
    {
     "data": {
      "text/html": [
       " View project at <a href='https://wandb.ai/mrawhani/ablations' target=\"_blank\">https://wandb.ai/mrawhani/ablations</a>"
      ],
      "text/plain": [
       "<IPython.core.display.HTML object>"
      ]
     },
     "metadata": {},
     "output_type": "display_data"
    },
    {
     "data": {
      "text/html": [
       " View run at <a href='https://wandb.ai/mrawhani/ablations/runs/m25cmii1' target=\"_blank\">https://wandb.ai/mrawhani/ablations/runs/m25cmii1</a>"
      ],
      "text/plain": [
       "<IPython.core.display.HTML object>"
      ]
     },
     "metadata": {},
     "output_type": "display_data"
    },
    {
     "data": {
      "application/vnd.jupyter.widget-view+json": {
       "model_id": "853a0e25d8b347af961c01df645c23d0",
       "version_major": 2,
       "version_minor": 0
      },
      "text/plain": [
       "VBox(children=(Label(value='0.010 MB of 0.010 MB uploaded\\r'), FloatProgress(value=1.0, max=1.0)))"
      ]
     },
     "metadata": {},
     "output_type": "display_data"
    },
    {
     "data": {
      "text/html": [
       "<style>\n",
       "    table.wandb td:nth-child(1) { padding: 0 10px; text-align: left ; width: auto;} td:nth-child(2) {text-align: left ; width: 100%}\n",
       "    .wandb-row { display: flex; flex-direction: row; flex-wrap: wrap; justify-content: flex-start; width: 100% }\n",
       "    .wandb-col { display: flex; flex-direction: column; flex-basis: 100%; flex: 1; padding: 10px; }\n",
       "    </style>\n",
       "<div class=\"wandb-row\"><div class=\"wandb-col\"><h3>Run history:</h3><br/><table class=\"wandb\"><tr><td>best_model/source_test/accuracy</td><td>▁</td></tr><tr><td>best_model/source_test/accuracy_std</td><td>▁</td></tr><tr><td>best_model/source_test/f1</td><td>▁</td></tr><tr><td>best_model/source_test/f1_macro</td><td>▁</td></tr><tr><td>best_model/source_test/f1_macro_std</td><td>▁</td></tr><tr><td>best_model/source_test/f1_std</td><td>▁</td></tr><tr><td>best_model/source_test/loss</td><td>▁</td></tr><tr><td>best_model/source_test/loss_std</td><td>▁</td></tr><tr><td>best_model/target_test/accuracy</td><td>▁</td></tr><tr><td>best_model/target_test/accuracy_std</td><td>▁</td></tr><tr><td>best_model/target_test/f1</td><td>▁</td></tr><tr><td>best_model/target_test/f1_macro</td><td>▁</td></tr><tr><td>best_model/target_test/f1_macro_std</td><td>▁</td></tr><tr><td>best_model/target_test/f1_std</td><td>▁</td></tr><tr><td>best_model/target_test/loss</td><td>▁</td></tr><tr><td>best_model/target_test/loss_std</td><td>▁</td></tr><tr><td>epoch_saved/source_test/accuracy</td><td>▁</td></tr><tr><td>epoch_saved/source_test/accuracy_std</td><td>▁</td></tr><tr><td>epoch_saved/source_test/f1</td><td>▁</td></tr><tr><td>epoch_saved/source_test/f1_macro</td><td>▁</td></tr><tr><td>epoch_saved/source_test/f1_macro_std</td><td>▁</td></tr><tr><td>epoch_saved/source_test/f1_std</td><td>▁</td></tr><tr><td>epoch_saved/source_test/loss</td><td>▁</td></tr><tr><td>epoch_saved/source_test/loss_std</td><td>▁</td></tr><tr><td>epoch_saved/target_test/accuracy</td><td>▁</td></tr><tr><td>epoch_saved/target_test/accuracy_std</td><td>▁</td></tr><tr><td>epoch_saved/target_test/f1</td><td>▁</td></tr><tr><td>epoch_saved/target_test/f1_macro</td><td>▁</td></tr><tr><td>epoch_saved/target_test/f1_macro_std</td><td>▁</td></tr><tr><td>epoch_saved/target_test/f1_std</td><td>▁</td></tr><tr><td>epoch_saved/target_test/loss</td><td>▁</td></tr><tr><td>epoch_saved/target_test/loss_std</td><td>▁</td></tr><tr><td>last_epoch/source_test/accuracy</td><td>▁</td></tr><tr><td>last_epoch/source_test/accuracy_std</td><td>▁</td></tr><tr><td>last_epoch/source_test/f1</td><td>▁</td></tr><tr><td>last_epoch/source_test/f1_macro</td><td>▁</td></tr><tr><td>last_epoch/source_test/f1_macro_std</td><td>▁</td></tr><tr><td>last_epoch/source_test/f1_std</td><td>▁</td></tr><tr><td>last_epoch/source_test/loss</td><td>▁</td></tr><tr><td>last_epoch/source_test/loss_std</td><td>▁</td></tr><tr><td>last_epoch/target_test/accuracy</td><td>▁</td></tr><tr><td>last_epoch/target_test/accuracy_std</td><td>▁</td></tr><tr><td>last_epoch/target_test/f1</td><td>▁</td></tr><tr><td>last_epoch/target_test/f1_macro</td><td>▁</td></tr><tr><td>last_epoch/target_test/f1_macro_std</td><td>▁</td></tr><tr><td>last_epoch/target_test/f1_std</td><td>▁</td></tr><tr><td>last_epoch/target_test/loss</td><td>▁</td></tr><tr><td>last_epoch/target_test/loss_std</td><td>▁</td></tr></table><br/></div><div class=\"wandb-col\"><h3>Run summary:</h3><br/><table class=\"wandb\"><tr><td>best_model/source_test/accuracy</td><td>0.78982</td></tr><tr><td>best_model/source_test/accuracy_std</td><td>0.0035</td></tr><tr><td>best_model/source_test/f1</td><td>0.78846</td></tr><tr><td>best_model/source_test/f1_macro</td><td>0.78098</td></tr><tr><td>best_model/source_test/f1_macro_std</td><td>0.00395</td></tr><tr><td>best_model/source_test/f1_std</td><td>0.00316</td></tr><tr><td>best_model/source_test/loss</td><td>0.55332</td></tr><tr><td>best_model/source_test/loss_std</td><td>0.00284</td></tr><tr><td>best_model/target_test/accuracy</td><td>0.71405</td></tr><tr><td>best_model/target_test/accuracy_std</td><td>0.00582</td></tr><tr><td>best_model/target_test/f1</td><td>0.71273</td></tr><tr><td>best_model/target_test/f1_macro</td><td>0.70574</td></tr><tr><td>best_model/target_test/f1_macro_std</td><td>0.00491</td></tr><tr><td>best_model/target_test/f1_std</td><td>0.00585</td></tr><tr><td>best_model/target_test/loss</td><td>0.71935</td></tr><tr><td>best_model/target_test/loss_std</td><td>0.00584</td></tr><tr><td>epoch_saved/source_test/accuracy</td><td>0.79351</td></tr><tr><td>epoch_saved/source_test/accuracy_std</td><td>0.00109</td></tr><tr><td>epoch_saved/source_test/f1</td><td>0.79179</td></tr><tr><td>epoch_saved/source_test/f1_macro</td><td>0.78496</td></tr><tr><td>epoch_saved/source_test/f1_macro_std</td><td>0.00119</td></tr><tr><td>epoch_saved/source_test/f1_std</td><td>0.00129</td></tr><tr><td>epoch_saved/source_test/loss</td><td>0.57568</td></tr><tr><td>epoch_saved/source_test/loss_std</td><td>0.01411</td></tr><tr><td>epoch_saved/target_test/accuracy</td><td>0.71657</td></tr><tr><td>epoch_saved/target_test/accuracy_std</td><td>0.00453</td></tr><tr><td>epoch_saved/target_test/f1</td><td>0.71578</td></tr><tr><td>epoch_saved/target_test/f1_macro</td><td>0.70787</td></tr><tr><td>epoch_saved/target_test/f1_macro_std</td><td>0.00403</td></tr><tr><td>epoch_saved/target_test/f1_std</td><td>0.00431</td></tr><tr><td>epoch_saved/target_test/loss</td><td>0.75879</td></tr><tr><td>epoch_saved/target_test/loss_std</td><td>0.02845</td></tr><tr><td>last_epoch/source_test/accuracy</td><td>0.79559</td></tr><tr><td>last_epoch/source_test/accuracy_std</td><td>0.00622</td></tr><tr><td>last_epoch/source_test/f1</td><td>0.79445</td></tr><tr><td>last_epoch/source_test/f1_macro</td><td>0.78721</td></tr><tr><td>last_epoch/source_test/f1_macro_std</td><td>0.007</td></tr><tr><td>last_epoch/source_test/f1_std</td><td>0.00613</td></tr><tr><td>last_epoch/source_test/loss</td><td>0.67568</td></tr><tr><td>last_epoch/source_test/loss_std</td><td>0.03072</td></tr><tr><td>last_epoch/target_test/accuracy</td><td>0.71808</td></tr><tr><td>last_epoch/target_test/accuracy_std</td><td>0.00536</td></tr><tr><td>last_epoch/target_test/f1</td><td>0.7176</td></tr><tr><td>last_epoch/target_test/f1_macro</td><td>0.70949</td></tr><tr><td>last_epoch/target_test/f1_macro_std</td><td>0.00481</td></tr><tr><td>last_epoch/target_test/f1_std</td><td>0.00575</td></tr><tr><td>last_epoch/target_test/loss</td><td>0.94469</td></tr><tr><td>last_epoch/target_test/loss_std</td><td>0.02967</td></tr></table><br/></div></div>"
      ],
      "text/plain": [
       "<IPython.core.display.HTML object>"
      ]
     },
     "metadata": {},
     "output_type": "display_data"
    },
    {
     "data": {
      "text/html": [
       " View run <strong style=\"color:#cdcd00\">TES_mean_results</strong> at: <a href='https://wandb.ai/mrawhani/ablations/runs/m25cmii1' target=\"_blank\">https://wandb.ai/mrawhani/ablations/runs/m25cmii1</a><br/> View project at: <a href='https://wandb.ai/mrawhani/ablations' target=\"_blank\">https://wandb.ai/mrawhani/ablations</a><br/>Synced 4 W&B file(s), 0 media file(s), 0 artifact file(s) and 0 other file(s)"
      ],
      "text/plain": [
       "<IPython.core.display.HTML object>"
      ]
     },
     "metadata": {},
     "output_type": "display_data"
    },
    {
     "data": {
      "text/html": [
       "Find logs at: <code>./wandb/run-20240713_225802-m25cmii1/logs</code>"
      ],
      "text/plain": [
       "<IPython.core.display.HTML object>"
      ]
     },
     "metadata": {},
     "output_type": "display_data"
    },
    {
     "name": "stdout",
     "output_type": "stream",
     "text": [
      "Mean Results: {'last_epoch': {'source_test/loss': 0.6756792267163595, 'source_test/accuracy': 0.795586903889974, 'source_test/f1': 0.7944463491439819, 'source_test/f1_macro': 0.7872135639190674, 'target_test/loss': 0.9446933269500732, 'target_test/accuracy': 0.7180779377619425, 'target_test/f1': 0.7176030278205872, 'target_test/f1_macro': 0.7094944715499878}, 'best_model': {'source_test/loss': 0.5533180634180704, 'source_test/accuracy': 0.789818545182546, 'source_test/f1': 0.7884558240572611, 'source_test/f1_macro': 0.7809754808743795, 'target_test/loss': 0.7193451722462972, 'target_test/accuracy': 0.7140456636746725, 'target_test/f1': 0.7127261559168497, 'target_test/f1_macro': 0.7057390411694845}, 'epoch_saved': {'source_test/loss': 0.5756785670916239, 'source_test/accuracy': 0.7935147682825724, 'source_test/f1': 0.7917925914128622, 'source_test/f1_macro': 0.7849617997805277, 'target_test/loss': 0.7587929169336954, 'target_test/accuracy': 0.7165658275286356, 'target_test/f1': 0.7157772978146871, 'target_test/f1_macro': 0.7078669269879659}}\n",
      "Standard Deviation Results: {'last_epoch': {'source_test/loss': 0.030722095046166808, 'source_test/accuracy': 0.006222173143162056, 'source_test/f1': 0.006130349935875808, 'source_test/f1_macro': 0.006999725990540065, 'target_test/loss': 0.029665104063351995, 'target_test/accuracy': 0.005355308921888264, 'target_test/f1': 0.005750338655446159, 'target_test/f1_macro': 0.004813849805574738}, 'best_model': {'source_test/loss': 0.0028421747258232386, 'source_test/accuracy': 0.0035001024683294917, 'source_test/f1': 0.003164757420604399, 'source_test/f1_macro': 0.003952650172932053, 'target_test/loss': 0.005835349033162186, 'target_test/accuracy': 0.005824901950956533, 'target_test/f1': 0.00584662067940255, 'target_test/f1_macro': 0.004910690230795047}, 'epoch_saved': {'source_test/loss': 0.014114286063441771, 'source_test/accuracy': 0.0010888284857380037, 'source_test/f1': 0.0012938681485985162, 'source_test/f1_macro': 0.001192620739039784, 'target_test/loss': 0.028452706760204075, 'target_test/accuracy': 0.0045331618396249156, 'target_test/f1': 0.004307494570184151, 'target_test/f1_macro': 0.004025605643856554}}\n"
     ]
    }
   ],
   "source": [
    "# Calculate mean and standard deviation for each scenario\n",
    "mean_results = {scenario: {key: np.mean(values) for key, values in metrics.items()} for scenario, metrics in results.items()}\n",
    "std_results = {scenario: {key: np.std(values) for key, values in metrics.items()} for scenario, metrics in results.items()}\n",
    "\n",
    "# Log mean and standard deviation results to wandb\n",
    "wandb.init(project=project_name, name=f'{domain}_mean_results')\n",
    "for scenario in mean_results:\n",
    "    for key, value in mean_results[scenario].items():\n",
    "        wandb.log({f\"{scenario}/{key}\": value})\n",
    "        wandb.log({f\"{scenario}/{key}_std\": std_results[scenario][key]})\n",
    "wandb.finish()\n",
    "\n",
    "print(\"Mean Results:\", mean_results)\n",
    "print(\"Standard Deviation Results:\", std_results)\n",
    "\n",
    "# # Save the best model's adapter\n",
    "# if model:\n",
    "#     adapter_save_path = f\"../../saved/adapter_after_run/{hparams['task_adapter_name']}\"\n",
    "#     model.save_adapter(adapter_save_path, hparams['task_adapter_name'])\n",
    "#     print(f\"Adapter saved to {adapter_save_path}\")\n",
    "# else:\n",
    "#     print(\"No best model to save.\")"
   ]
  },
  {
   "cell_type": "code",
   "execution_count": null,
   "metadata": {},
   "outputs": [],
   "source": []
  },
  {
   "cell_type": "code",
   "execution_count": 8,
   "metadata": {},
   "outputs": [
    {
     "name": "stdout",
     "output_type": "stream",
     "text": [
      "dones\n"
     ]
    }
   ],
   "source": [
    "print('dones')"
   ]
  },
  {
   "cell_type": "code",
   "execution_count": 9,
   "metadata": {},
   "outputs": [
    {
     "data": {
      "text/plain": [
       "inf"
      ]
     },
     "execution_count": 9,
     "metadata": {},
     "output_type": "execute_result"
    }
   ],
   "source": [
    "best_val_loss"
   ]
  },
  {
   "cell_type": "code",
   "execution_count": null,
   "metadata": {},
   "outputs": [],
   "source": []
  }
 ],
 "metadata": {
  "kernelspec": {
   "display_name": ".venv",
   "language": "python",
   "name": "python3"
  },
  "language_info": {
   "codemirror_mode": {
    "name": "ipython",
    "version": 3
   },
   "file_extension": ".py",
   "mimetype": "text/x-python",
   "name": "python",
   "nbconvert_exporter": "python",
   "pygments_lexer": "ipython3",
   "version": "3.8.10"
  }
 },
 "nbformat": 4,
 "nbformat_minor": 2
}
