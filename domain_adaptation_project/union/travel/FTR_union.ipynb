{
 "cells": [
  {
   "cell_type": "code",
   "execution_count": 1,
   "metadata": {},
   "outputs": [
    {
     "data": {
      "text/plain": [
       "0"
      ]
     },
     "execution_count": 1,
     "metadata": {},
     "output_type": "execute_result"
    }
   ],
   "source": [
    "\n",
    "import torch\n",
    "import gc   \n",
    "torch.cuda.empty_cache()\n",
    "gc.collect()\n"
   ]
  },
  {
   "cell_type": "code",
   "execution_count": 2,
   "metadata": {},
   "outputs": [
    {
     "name": "stdout",
     "output_type": "stream",
     "text": [
      "['/home/guest/Desktop/projects/fourth-expeiments/domain_adaptation_project/union/travel', '/usr/lib/python38.zip', '/usr/lib/python3.8', '/usr/lib/python3.8/lib-dynload', '', '/home/guest/.cache/pypoetry/virtualenvs/fourth-experments-OVNdUUAn-py3.8/lib/python3.8/site-packages', '/tmp/tmpovtyg8_0', '/home/guest/Desktop/projects/fourth-expeiments/domain_adaptation_project/modules']\n"
     ]
    },
    {
     "name": "stderr",
     "output_type": "stream",
     "text": [
      "2024-07-11 18:38:12.030702: I tensorflow/core/util/port.cc:110] oneDNN custom operations are on. You may see slightly different numerical results due to floating-point round-off errors from different computation orders. To turn them off, set the environment variable `TF_ENABLE_ONEDNN_OPTS=0`.\n",
      "2024-07-11 18:38:12.199205: I tensorflow/core/platform/cpu_feature_guard.cc:182] This TensorFlow binary is optimized to use available CPU instructions in performance-critical operations.\n",
      "To enable the following instructions: AVX2 AVX512F AVX512_VNNI FMA, in other operations, rebuild TensorFlow with the appropriate compiler flags.\n",
      "2024-07-11 18:38:12.974606: W tensorflow/compiler/tf2tensorrt/utils/py_utils.cc:38] TF-TRT Warning: Could not find TensorRT\n"
     ]
    },
    {
     "name": "stdout",
     "output_type": "stream",
     "text": [
      "./text-files/\n",
      "./hp-model-\n"
     ]
    }
   ],
   "source": [
    "import os\n",
    "os.environ[\"TOKENIZERS_PARALLELISM\"] = \"false\"\n",
    "os.environ[\"OMP_NUM_THREADS\"] = \"1\"\n",
    "\n",
    "# Step 2: Import necessary libraries\n",
    "from typing import Optional, Dict, Any\n",
    "import os\n",
    "import torch\n",
    "import pytorch_lightning as pl\n",
    "import pandas as pd\n",
    "from transformers import AutoTokenizer\n",
    "from torch.utils.data import Dataset, DataLoader\n",
    "from rich.traceback import install\n",
    "from pytorch_lightning.loggers import WandbLogger\n",
    "import torch.nn as nn\n",
    "import torch.optim as optim\n",
    "from transformers import AutoConfig, get_cosine_schedule_with_warmup\n",
    "from adapters import AutoAdapterModel, AdapterConfig\n",
    "from adapters.composition import Stack\n",
    "from pytorch_lightning import seed_everything, Trainer\n",
    "from pytorch_lightning.callbacks import ModelCheckpoint, EarlyStopping\n",
    "import torchmetrics\n",
    "from sklearn.metrics import confusion_matrix, ConfusionMatrixDisplay\n",
    "from sklearn.manifold import TSNE\n",
    "import matplotlib.pyplot as plt\n",
    "import numpy as np\n",
    "\n",
    "install(show_locals=True)\n",
    "\n",
    "from setup import setup_src_path\n",
    "print(setup_src_path())\n",
    "import data.processed as processed\n",
    "import config.config as config\n",
    "import utils.setup as setup\n",
    "import utils.functions as fn\n",
    "from importlib import reload\n",
    "\n",
    "from datasets import load_from_disk\n",
    "\n",
    "print(config.Config.TXT_SAVE_PATH)\n",
    "print(config.Config.MODEL_SAVE_PATH)\n",
    "\n",
    "dataset = load_from_disk(f\"../{config.Config.DATASETS_SAVE_PATH}/datasets\")\n"
   ]
  },
  {
   "cell_type": "code",
   "execution_count": 3,
   "metadata": {},
   "outputs": [],
   "source": [
    "# Step 4: Define the DomainTaskAdapter class\n",
    "\n",
    "\n",
    "\n",
    "class DomainTaskAdapter(pl.LightningModule):\n",
    "    def __init__(self, hparams):\n",
    "        super(DomainTaskAdapter, self).__init__()\n",
    "        self.save_hyperparameters(hparams)\n",
    "        self.config = AutoConfig.from_pretrained(self.hparams[\"pretrained_model_name\"])\n",
    "        self.config.output_hidden_states = True\n",
    "        self.model = AutoAdapterModel.from_pretrained(self.hparams[\"pretrained_model_name\"], config=self.config)\n",
    "        \n",
    "        self.reduction_factor = self.hparams.get(\"reduction_factor\", 16)\n",
    "        if self.reduction_factor == \"None\":\n",
    "            self.reduction_factor = 16\n",
    "        self.leave_out = self.hparams.get(\"leave_out\", [])\n",
    "       \n",
    "        self.saved_adapter_dir = self.hparams[\"saved_adapter_dir\"]\n",
    "        self.domain_adapter_name = self.hparams[\"domain_adapter_name\"]\n",
    "        \n",
    "        adapter_config = AdapterConfig.load(\"seq_bn\")\n",
    "        \n",
    "        self.task_adapter_name = self.hparams[\"task_adapter_name\"]\n",
    "        #self.model.add_adapter(self.task_adapter_name, config=adapter_config)\n",
    "\n",
    "        self.model.load_adapter(f\"{self.saved_adapter_dir}/{self.domain_adapter_name}\", with_head=False)\n",
    "        self.model.add_classification_head(self.task_adapter_name, num_labels=self.hparams[\"num_classes\"])\n",
    "        self.model.active_adapters = self.domain_adapter_name\n",
    "\n",
    "        self.model.train_adapter(self.domain_adapter_name)\n",
    "        print(self.model.adapter_summary())\n",
    "        print(fn.print_trainable_parameters(self.model))\n",
    "\n",
    "        self.training_outputs = []\n",
    "        self.validation_outputs = []\n",
    "        self.test_outputs = []\n",
    "        self.criterion = nn.CrossEntropyLoss()\n",
    "        self.accuracy = torchmetrics.Accuracy(task='multiclass',                                           \n",
    "                                     num_classes=self.hparams[\"num_classes\"])\n",
    "        self.f1 = torchmetrics.F1Score(task='multiclass',num_classes=self.hparams[\"num_classes\"], average=\"weighted\")\n",
    "        self.f1_macro = torchmetrics.F1Score(task='multiclass',num_classes=self.hparams[\"num_classes\"], average=\"macro\")\n",
    "        self.softmax = nn.Softmax(dim=1)\n",
    "        self.entropy_values = []  # For entropy minimization\n",
    "    def forward(self, input_ids, attention_mask):\n",
    "        outputs = self.model(input_ids=input_ids, attention_mask=attention_mask)\n",
    "        return outputs.logits\n",
    "\n",
    "    def training_step(self, batch, batch_idx):\n",
    "        input_ids, attention_mask = batch[\"source_input_ids\"], batch[\"source_attention_mask\"]\n",
    "        labels = batch[\"label_source\"]\n",
    "        logits = self(input_ids=input_ids, attention_mask=attention_mask)\n",
    "        loss = self.criterion(logits, labels)\n",
    "        accuracy = self.accuracy(labels, torch.argmax(self.softmax(logits), dim=1))\n",
    "        f1 = self.f1(labels, torch.argmax(self.softmax(logits), dim=1))\n",
    "        # self.training_outputs.append({\n",
    "        #     \"train_loss\": loss,\n",
    "        #     \"train_accuracy\":accuracy,\n",
    "        #     \"train_f1\":f1,\n",
    "        #     })\n",
    "        self.log(\"train_loss\", loss)\n",
    "        self.log(\"train_accuracy\", accuracy)\n",
    "        self.log(\"train_f1\", f1)\n",
    "        \n",
    "        return loss\n",
    "   \n",
    "    def validation_step(self, batch, batch_idx):\n",
    "        \"\"\"validation step of DomainTaskAdapter\"\"\"\n",
    "        # get the input ids and attention mask for source data\n",
    "        input_ids, attention_mask = batch[\"source_input_ids\"], batch[\"source_attention_mask\"]\n",
    "        logits = self(input_ids=input_ids, attention_mask=attention_mask)\n",
    "        labels = batch[\"label_source\"]\n",
    "        source_loss = self.criterion(logits, labels)\n",
    "        source_accuracy = self.accuracy(labels, torch.argmax(self.softmax(logits), dim=1))\n",
    "        source_f1 = self.f1(labels, torch.argmax(self.softmax(logits), dim=1))\n",
    "\n",
    "\n",
    "        # get the input ids and attention mask for target data\n",
    "        input_ids, attention_mask = batch[\"target_input_ids\"], batch[\"target_attention_mask\"]\n",
    "        logits  = self(input_ids=input_ids, attention_mask=attention_mask)\n",
    "        labels = batch[\"label_target\"]\n",
    "        target_loss = self.criterion(logits, labels)\n",
    "        target_accuracy = self.accuracy(labels, torch.argmax(self.softmax(logits), dim=1))\n",
    "        target_f1 = self.f1(labels, torch.argmax(self.softmax(logits), dim=1))\n",
    "        # # Entropy minimization - calculate and log entropy\n",
    "        # probs = self.softmax(logits).cpu().numpy()\n",
    "        # entropy = -np.sum(probs * np.log(probs + 1e-10), axis=1)\n",
    "        # avg_entropy = np.mean(entropy)\n",
    "        # self.entropy_values.append(avg_entropy)\n",
    "     \n",
    "        # this will log the mean div value across epoch\n",
    "        self.log(name=\"source_val/loss\", value=source_loss, prog_bar=True, logger=True)\n",
    "        self.log(name=\"source_val/accuracy\", value=source_accuracy, prog_bar=True, logger=True)\n",
    "        self.log(name=\"source_val/f1\", value=source_f1, prog_bar=True, logger=True)\n",
    "        self.log(name=\"target_val/loss\", value=target_loss, prog_bar=True, logger=True)\n",
    "        self.log(name=\"target_val/accuracy\", value=target_accuracy, prog_bar=True, logger=True)\n",
    "        self.log(name=\"target_val/f1\", value=target_f1, prog_bar=True, logger=True)\n",
    "        \n",
    "        self.validation_outputs.append({\n",
    "            \"source_val/loss\": source_loss,\n",
    "            \"source_val/accuracy\": source_accuracy,\n",
    "            \"source_val/f1\": source_f1,\n",
    "            \"target_val/loss\": target_loss,\n",
    "            \"target_val/accuracy\": target_accuracy,\n",
    "            \"target_val/f1\": target_f1,\n",
    "            # \"features\": target_features.cpu(),  # Collect features for t-SNE\n",
    "            # \"logits\": logits.cpu(),  # Collect logits for confusion matrix\n",
    "            # \"labels\": labels.cpu()  # Collect labels for confusion matrix   \n",
    "                })\n",
    "        return {\n",
    "            \"source_val/loss\": source_loss,\n",
    "            \"source_val/accuracy\": source_accuracy,\n",
    "            \"source_val/f1\": source_f1,\n",
    "            \"target_val/loss\": target_loss,\n",
    "            \"target_val/accuracy\": target_accuracy,\n",
    "            \"target_val/f1\": target_f1,\n",
    "            # \"features\": target_features.cpu(),  # Collect features for t-SNE\n",
    "            # \"logits\": logits.cpu(),  # Collect logits for confusion matrix\n",
    "            # \"labels\": labels.cpu()  # Collect labels for confusion matrix   \n",
    "                            }\n",
    "    def on_validation_epoch_start(self):\n",
    "        self.validation_outputs = []\n",
    "    \n",
    "    def on_validation_epoch_end(self):\n",
    "        try:\n",
    "            outputs= self.validation_outputs\n",
    "            mean_source_loss = torch.stack([x[\"source_val/loss\"] for x in outputs]).mean()\n",
    "            mean_source_accuracy = torch.stack([x[\"source_val/accuracy\"] for x in outputs]).mean()\n",
    "            mean_source_f1 = torch.stack([x[\"source_val/f1\"] for x in outputs]).mean()\n",
    "\n",
    "            mean_target_loss = torch.stack([x[\"target_val/loss\"] for x in outputs]).mean()\n",
    "            mean_target_accuracy = torch.stack([x[\"target_val/accuracy\"] for x in outputs]).mean()\n",
    "            mean_target_f1 = torch.stack([x[\"target_val/f1\"] for x in outputs]).mean()\n",
    "            print(f\"target_val/loss: {mean_target_loss}\")\n",
    "            print(f\"target_val/accuracy: {mean_target_accuracy}\")\n",
    "            print(f\"target_val/f1: {mean_target_f1}\")\n",
    "            print(f\"source_val/loss: {mean_source_loss}\")\n",
    "            print(f\"source_val/accuracy: {mean_source_accuracy}\")\n",
    "            print(f\"source_val/f1: {mean_source_f1}\")\n",
    "\n",
    "            self.log(name=\"source_val/loss\", value=mean_source_loss, prog_bar=True, logger=True)\n",
    "            self.log(name=\"source_val/accuracy\", value=mean_source_accuracy, prog_bar=True, logger=True)\n",
    "            self.log(name=\"target_val/loss\", value=mean_target_loss, prog_bar=True, logger=True)\n",
    "            self.log(name=\"target_val/accuracy\", value=mean_target_accuracy, prog_bar=True, logger=True)\n",
    "            self.log(name=\"target_val/f1\", value=mean_target_f1, prog_bar=True, logger=True)\n",
    "            self.log(name=\"source_val/f1\", value=mean_source_f1, prog_bar=True, logger=True)\n",
    "        \n",
    "        \n",
    "            self.log(\"val_loss\", mean_source_loss)\n",
    "            # Generate and log visualizations\n",
    "            # if hasattr(self.trainer, 'current_epoch'):\n",
    "            #     self.plot_tsne(outputs, epoch=self.trainer.current_epoch, phase='validation')\n",
    "            #     self.plot_confusion_matrix(outputs, phase='validation')\n",
    "        except Exception as e:\n",
    "            print(f\"Error during on_validation_epoch_end: {e}\")\n",
    "            raise\n",
    "\n",
    "    def test_step(self, batch, batch_idx):\n",
    "        \"\"\"validation step of DomainTaskAdapter\"\"\"\n",
    "        # get the input ids and attention mask for source data\n",
    "        input_ids, attention_mask = batch[\"source_input_ids\"], batch[\"source_attention_mask\"]\n",
    "        logits  = self(input_ids=input_ids, attention_mask=attention_mask)\n",
    "        labels = batch[\"label_source\"]\n",
    "        source_loss = self.criterion(logits, labels)\n",
    "        source_accuracy = self.accuracy(labels, torch.argmax(self.softmax(logits), dim=1))\n",
    "        source_f1 = self.f1(labels, torch.argmax(self.softmax(logits), dim=1))\n",
    "        source_f1_macro = self.f1_macro(labels, torch.argmax(self.softmax(logits), dim=1))\n",
    "\n",
    "        # get the input ids and attention mask for target data\n",
    "        input_ids, attention_mask = batch[\"target_input_ids\"], batch[\"target_attention_mask\"]\n",
    "        logits = self(input_ids=input_ids, attention_mask=attention_mask)\n",
    "        labels = batch[\"label_target\"]\n",
    "        target_loss = self.criterion(logits, labels)\n",
    "        target_accuracy = self.accuracy(labels, torch.argmax(self.softmax(logits), dim=1))\n",
    "        target_f1 = self.f1(labels, torch.argmax(self.softmax(logits), dim=1))\n",
    "        target_f1_macro = self.f1_macro(labels, torch.argmax(self.softmax(logits), dim=1))\n",
    "\n",
    "       \n",
    "\n",
    "        self.log(name=\"source_test/loss\", value=source_loss, logger=True)\n",
    "        self.log(name=\"source_test/accuracy\", value=source_accuracy, logger=True)\n",
    "        self.log(name=\"source_test/f1\", value=source_f1, logger=True)\n",
    "        self.log(name=\"source_test/f1_macro\", value=source_f1_macro, logger=True)\n",
    "        self.log(name=\"target_test/loss\", value=target_loss, logger=True)\n",
    "        self.log(name=\"target_test/accuracy\", value=target_accuracy, logger=True)\n",
    "        self.log(name=\"target_test/f1\", value=target_f1, logger=True)\n",
    "        self.log(name=\"target_test/f1_macro\", value=target_f1_macro, logger=True)\n",
    "        \n",
    "        self.test_outputs.append({\n",
    "            \"source_test/loss\": source_loss,\n",
    "            \"source_test/accuracy\": source_accuracy,\n",
    "            \"source_test/f1\": source_f1,\n",
    "            \"source_test/f1_macro\": source_f1_macro,\n",
    "            \"target_test/loss\": target_loss,\n",
    "            \"target_test/accuracy\": target_accuracy,\n",
    "            \"target_test/f1\": target_f1,\n",
    "            \"target_test/f1_macro\": target_f1_macro,\n",
    "\n",
    "            # \"features\": target_features.cpu(),  # Collect features for t-SNE\n",
    "            # \"logits\": logits.cpu(),  # Collect logits for confusion matrix\n",
    "            # \"labels\": labels.cpu()  # Collect labels for confusion matrix   \n",
    "        })\n",
    "        return {\n",
    "            \"source_test/loss\": source_loss,\n",
    "            \"source_test/accuracy\": source_accuracy,\n",
    "            \"source_test/f1\": source_f1,\n",
    "            \"source_test/f1_macro\": source_f1_macro,\n",
    "\n",
    "            \"target_test/loss\": target_loss,\n",
    "            \"target_test/accuracy\": target_accuracy,\n",
    "            \"target_test/f1\": target_f1,\n",
    "            \"target_test/f1_macro\": target_f1_macro,\n",
    "\n",
    "            # \"features\": target_features.cpu(),  # Collect features for t-SNE\n",
    "            # \"logits\": logits.cpu(),  # Collect logits for confusion matrix\n",
    "            # \"labels\": labels.cpu()  # Collect labels for confusion matrix   \n",
    "        }\n",
    "    def on_test_epoch_start(self):\n",
    "        self.test_outputs = []\n",
    "    def on_test_epoch_end(self):\n",
    "        try:\n",
    "            outputs=  self.test_outputs\n",
    "            mean_source_loss = torch.stack([x[\"source_test/loss\"] for x in outputs]).mean()\n",
    "            mean_source_accuracy = torch.stack([x[\"source_test/accuracy\"] for x in outputs]).mean()\n",
    "            mean_source_f1 = torch.stack([x[\"source_test/f1\"] for x in outputs]).mean()\n",
    "            mean_source_f1_macro = torch.stack([x[\"source_test/f1_macro\"] for x in outputs]).mean()\n",
    "\n",
    "            mean_target_loss = torch.stack([x[\"target_test/loss\"] for x in outputs]).mean()\n",
    "            mean_target_accuracy = torch.stack([x[\"target_test/accuracy\"] for x in outputs]).mean()\n",
    "            mean_target_f1 = torch.stack([x[\"target_test/f1\"] for x in outputs]).mean()\n",
    "            mean_target_f1_macro = torch.stack([x[\"target_test/f1_macro\"] for x in outputs]).mean()\n",
    "\n",
    "            self.log(name=\"source_test/loss\", value=mean_source_loss)\n",
    "            self.log(name=\"source_test/accuracy\", value=mean_source_accuracy)\n",
    "            self.log(name=\"source_test/f1\", value=mean_source_f1)\n",
    "            self.log(name=\"source_test/f1_macro\", value=mean_source_f1_macro)\n",
    "            self.log(name=\"target_test/loss\", value=mean_target_loss)\n",
    "            self.log(name=\"target_test/accuracy\", value=mean_target_accuracy)\n",
    "            self.log(name=\"target_test/f1\", value=mean_target_f1)\n",
    "            self.log(name=\"target_test/f1_macro\", value=mean_target_f1_macro)\n",
    "\n",
    "\n",
    "            # # Generate and log visualizations\n",
    "            # if hasattr(self.trainer, 'current_epoch'):\n",
    "            #     self.plot_tsne(outputs, epoch=self.trainer.current_epoch, phase='test')\n",
    "            #     self.plot_confusion_matrix(outputs, phase='test')\n",
    "        except Exception as e:\n",
    "            print(f\"Error during on_test_epoch_end: {e}\")\n",
    "            raise\n",
    "    def save_adapter(self, location, adapter_name):\n",
    "        self.model.save_adapter(location, adapter_name)\n",
    "    def configure_optimizers(self):\n",
    "        optimizer = optim.AdamW(self.parameters(), lr=self.hparams[\"learning_rate\"])\n",
    "        lr_scheduler = {\n",
    "            'scheduler': optim.lr_scheduler.ReduceLROnPlateau(optimizer, mode='min', factor=0.1, patience=2, threshold=0.0001, cooldown=0, min_lr=1e-8),\n",
    "            'monitor': 'val_loss'\n",
    "        }\n",
    "        return [optimizer], [lr_scheduler]\n",
    "    def plot_tsne(self, outputs, epoch, phase):\n",
    "        try:\n",
    "            features = []\n",
    "            labels = []\n",
    "            for output in outputs:\n",
    "                features.extend(output[\"features\"].numpy())  # Use target features\n",
    "                labels.extend(output[\"labels\"].numpy())  # Use target labels\n",
    "\n",
    "            features = np.array(features)\n",
    "            labels = np.array(labels)\n",
    "            print(f\"Features shape: {features.shape}\")\n",
    "            print(f\"Labels shape: {labels.shape}\")\n",
    "\n",
    "            # Flatten features if necessary\n",
    "            if features.ndim > 2:\n",
    "                features = features.reshape(features.shape[0], -1)\n",
    "                print(f\"Flattened features shape: {features.shape}\")\n",
    "\n",
    "            tsne = TSNE(n_components=2)\n",
    "            tsne_results = tsne.fit_transform(features)\n",
    "            plt.figure(figsize=(10, 6))\n",
    "            for i in range(self.hparams[\"num_classes\"]):\n",
    "                idxs = np.where(labels == i)\n",
    "                plt.scatter(tsne_results[idxs, 0], tsne_results[idxs, 1], label=f'Class {i}')\n",
    "            plt.legend()\n",
    "            plt.title(f't-SNE plot {phase} Epoch {epoch}')\n",
    "            plt.show()  # Display the plot inline\n",
    "        except Exception as e:\n",
    "            print(f\"Error during t-SNE plotting: {e}\")\n",
    "            raise\n",
    "\n",
    "    def plot_confusion_matrix(self, outputs, phase):\n",
    "        try:\n",
    "            y_true = []\n",
    "            y_pred = []\n",
    "            for output in outputs:\n",
    "                y_true.extend(output[\"labels\"].numpy())  # Use target labels\n",
    "                y_pred.extend(torch.argmax(output[\"logits\"], dim=1).numpy())  # Use predicted labels from logits\n",
    "\n",
    "            y_true = np.array(y_true)\n",
    "            y_pred = np.array(y_pred)\n",
    "            print(f\"y_true shape: {y_true.shape}\")\n",
    "            print(f\"y_pred shape: {y_pred.shape}\")\n",
    "\n",
    "            cm = confusion_matrix(y_true, y_pred)\n",
    "            disp = ConfusionMatrixDisplay(confusion_matrix=cm)\n",
    "            disp.plot()\n",
    "            plt.title(f'Confusion Matrix {phase}')\n",
    "            plt.show()  # Display the plot inline\n",
    "        except Exception as e:\n",
    "            print(f\"Error during confusion matrix plotting: {e}\")\n",
    "            raise"
   ]
  },
  {
   "cell_type": "code",
   "execution_count": 4,
   "metadata": {},
   "outputs": [
    {
     "name": "stderr",
     "output_type": "stream",
     "text": [
      "Failed to detect the name of this notebook, you can set it manually with the WANDB_NOTEBOOK_NAME environment variable to enable code saving.\n",
      "\u001b[34m\u001b[1mwandb\u001b[0m: Currently logged in as: \u001b[33mmrawhani5\u001b[0m (\u001b[33mmrawhani\u001b[0m). Use \u001b[1m`wandb login --relogin`\u001b[0m to force relogin\n"
     ]
    }
   ],
   "source": [
    "# Step 5: Training and Evaluation Loop with Wandb logging\n",
    "import wandb\n",
    "wandb.login()\n",
    "# Wandb setup and training loop\n",
    "seeds = [10,100]  # List of seeds\n",
    "project_name = 'ablations'  # Replace with your wandb project name\n",
    "domain = 'FTR'  # Replace with the specific domain for this notebook\n",
    "type = 'union'  # Replace with the specific type for this notebook\n",
    "domain_aprev ='FTR'\n",
    "\n",
    "# Initialize results dictionary\n",
    "results = {\n",
    "    \"last_epoch\": {\n",
    "        \n",
    "        \"source_test/loss\": [],\n",
    "        \"source_test/accuracy\": [],\n",
    "        \"source_test/f1\": [],        \n",
    "        \"source_test/f1_macro\": [],\n",
    "        \"target_test/loss\": [],\n",
    "        \"target_test/accuracy\": [],\n",
    "        \"target_test/f1\": [],\n",
    "        \"target_test/f1_macro\": [],\n",
    "    },\n",
    "    \"best_model\": {\n",
    "        \n",
    "        \"source_test/loss\": [],\n",
    "        \"source_test/accuracy\": [],\n",
    "        \"source_test/f1\": [],        \n",
    "        \"source_test/f1_macro\": [],\n",
    "        \"target_test/loss\": [],\n",
    "        \"target_test/accuracy\": [],\n",
    "        \"target_test/f1\": [],\n",
    "        \"target_test/f1_macro\": [],\n",
    "    },\n",
    "    \"epoch_saved\": {\n",
    "        \n",
    "        \"source_test/loss\": [],\n",
    "        \"source_test/accuracy\": [],\n",
    "        \"source_test/f1\": [],        \n",
    "        \"source_test/f1_macro\": [],\n",
    "        \"target_test/loss\": [],\n",
    "        \"target_test/accuracy\": [],\n",
    "        \"target_test/f1\": [],\n",
    "        \"target_test/f1_macro\": [],\n",
    "    }\n",
    "}\n",
    "\n",
    "best_val_loss = float('inf')\n",
    "best_model = None\n",
    "best_model_path = \"\"\n"
   ]
  },
  {
   "cell_type": "code",
   "execution_count": 5,
   "metadata": {},
   "outputs": [
    {
     "data": {
      "text/html": [
       "wandb version 0.17.4 is available!  To upgrade, please run:\n",
       " $ pip install wandb --upgrade"
      ],
      "text/plain": [
       "<IPython.core.display.HTML object>"
      ]
     },
     "metadata": {},
     "output_type": "display_data"
    },
    {
     "data": {
      "text/html": [
       "Tracking run with wandb version 0.17.0"
      ],
      "text/plain": [
       "<IPython.core.display.HTML object>"
      ]
     },
     "metadata": {},
     "output_type": "display_data"
    },
    {
     "data": {
      "text/html": [
       "Run data is saved locally in <code>/home/guest/Desktop/projects/fourth-expeiments/domain_adaptation_project/union/travel/wandb/run-20240711_183815-563gn7z0</code>"
      ],
      "text/plain": [
       "<IPython.core.display.HTML object>"
      ]
     },
     "metadata": {},
     "output_type": "display_data"
    },
    {
     "data": {
      "text/html": [
       "Syncing run <strong><a href='https://wandb.ai/mrawhani/ablations/runs/563gn7z0' target=\"_blank\">FTR_union_run_with_seed_10</a></strong> to <a href='https://wandb.ai/mrawhani/ablations' target=\"_blank\">Weights & Biases</a> (<a href='https://wandb.me/run' target=\"_blank\">docs</a>)<br/>"
      ],
      "text/plain": [
       "<IPython.core.display.HTML object>"
      ]
     },
     "metadata": {},
     "output_type": "display_data"
    },
    {
     "data": {
      "text/html": [
       " View project at <a href='https://wandb.ai/mrawhani/ablations' target=\"_blank\">https://wandb.ai/mrawhani/ablations</a>"
      ],
      "text/plain": [
       "<IPython.core.display.HTML object>"
      ]
     },
     "metadata": {},
     "output_type": "display_data"
    },
    {
     "data": {
      "text/html": [
       " View run at <a href='https://wandb.ai/mrawhani/ablations/runs/563gn7z0' target=\"_blank\">https://wandb.ai/mrawhani/ablations/runs/563gn7z0</a>"
      ],
      "text/plain": [
       "<IPython.core.display.HTML object>"
      ]
     },
     "metadata": {},
     "output_type": "display_data"
    },
    {
     "name": "stderr",
     "output_type": "stream",
     "text": [
      "Seed set to 10\n",
      "/home/guest/.cache/pypoetry/virtualenvs/fourth-experments-OVNdUUAn-py3.8/lib/python3.8/site-packages/huggingface_hub/file_download.py:1132: FutureWarning: `resume_download` is deprecated and will be removed in version 1.0.0. Downloads always resume when possible. If you want to force a new download, use `force_download=True`.\n",
      "  warnings.warn(\n"
     ]
    },
    {
     "name": "stdout",
     "output_type": "stream",
     "text": [
      "prinssst: fiction\n",
      "print: travel\n",
      "print: 69615\n",
      "prinssst: fiction\n",
      "print: travel\n",
      "print: 69615\n"
     ]
    },
    {
     "name": "stderr",
     "output_type": "stream",
     "text": [
      "Some weights of BertAdapterModel were not initialized from the model checkpoint at bert-base-uncased and are newly initialized: ['heads.default.3.bias']\n",
      "You should probably TRAIN this model on a down-stream task to be able to use it for predictions and inference.\n",
      "/home/guest/.cache/pypoetry/virtualenvs/fourth-experments-OVNdUUAn-py3.8/lib/python3.8/site-packages/torch/utils/data/dataloader.py:558: UserWarning: This DataLoader will create 16 worker processes in total. Our suggested max number of worker in current system is 12, which is smaller than what this DataLoader is going to create. Please be aware that excessive worker creation might get DataLoader running slow or even freeze, lower the worker number to avoid potential slowness/freeze if necessary.\n",
      "  warnings.warn(_create_warning_msg(\n",
      "GPU available: True (cuda), used: True\n",
      "TPU available: False, using: 0 TPU cores\n",
      "IPU available: False, using: 0 IPUs\n",
      "HPU available: False, using: 0 HPUs\n",
      "`Trainer(limit_train_batches=1.0)` was configured so 100% of the batches per epoch will be used..\n",
      "`Trainer(limit_val_batches=1.0)` was configured so 100% of the batches will be used..\n",
      "`Trainer(limit_test_batches=1.0)` was configured so 100% of the batches will be used..\n",
      "/home/guest/.cache/pypoetry/virtualenvs/fourth-experments-OVNdUUAn-py3.8/lib/python3.8/site-packages/pytorch_lightning/loggers/wandb.py:396: There is a wandb run already in progress and newly created instances of `WandbLogger` will reuse this run. If this is not desired, call `wandb.finish()` before instantiating `WandbLogger`.\n",
      "LOCAL_RANK: 0 - CUDA_VISIBLE_DEVICES: [0]\n"
     ]
    },
    {
     "name": "stdout",
     "output_type": "stream",
     "text": [
      "================================================================================\n",
      "Name                     Architecture         #Param      %Param  Active   Train\n",
      "--------------------------------------------------------------------------------\n",
      "mlm_union_TR             union             7,682,688       7.017       1       1\n",
      "--------------------------------------------------------------------------------\n",
      "Full model                               109,482,240     100.000               0\n",
      "================================================================================\n",
      "trainable params: 8898237 || all params: 118380477 || trainable%: 7.5166422922928415\n",
      "None\n"
     ]
    },
    {
     "name": "stderr",
     "output_type": "stream",
     "text": [
      "\n",
      "  | Name      | Type               | Params\n",
      "-------------------------------------------------\n",
      "0 | model     | BertAdapterModel   | 118 M \n",
      "1 | criterion | CrossEntropyLoss   | 0     \n",
      "2 | accuracy  | MulticlassAccuracy | 0     \n",
      "3 | f1        | MulticlassF1Score  | 0     \n",
      "4 | f1_macro  | MulticlassF1Score  | 0     \n",
      "5 | softmax   | Softmax            | 0     \n",
      "-------------------------------------------------\n",
      "8.9 M     Trainable params\n",
      "109 M     Non-trainable params\n",
      "118 M     Total params\n",
      "473.522   Total estimated model params size (MB)\n"
     ]
    },
    {
     "data": {
      "application/vnd.jupyter.widget-view+json": {
       "model_id": "c47f1676e7264f1396617d71b4465a8f",
       "version_major": 2,
       "version_minor": 0
      },
      "text/plain": [
       "Sanity Checking: |          | 0/? [00:00<?, ?it/s]"
      ]
     },
     "metadata": {},
     "output_type": "display_data"
    },
    {
     "name": "stdout",
     "output_type": "stream",
     "text": [
      "target_val/loss: 1.105468511581421\n",
      "target_val/accuracy: 0.25\n",
      "target_val/f1: 0.28569459915161133\n",
      "source_val/loss: 1.1116678714752197\n",
      "source_val/accuracy: 0.234375\n",
      "source_val/f1: 0.3060155212879181\n"
     ]
    },
    {
     "data": {
      "application/vnd.jupyter.widget-view+json": {
       "model_id": "e877781ba0444defbff85070b960a0f2",
       "version_major": 2,
       "version_minor": 0
      },
      "text/plain": [
       "Training: |          | 0/? [00:00<?, ?it/s]"
      ]
     },
     "metadata": {},
     "output_type": "display_data"
    },
    {
     "data": {
      "application/vnd.jupyter.widget-view+json": {
       "model_id": "732da4cf700b4610bc201001236e33a6",
       "version_major": 2,
       "version_minor": 0
      },
      "text/plain": [
       "Validation: |          | 0/? [00:00<?, ?it/s]"
      ]
     },
     "metadata": {},
     "output_type": "display_data"
    },
    {
     "name": "stdout",
     "output_type": "stream",
     "text": [
      "target_val/loss: 0.6270995140075684\n",
      "target_val/accuracy: 0.7414323687553406\n",
      "target_val/f1: 0.74513840675354\n",
      "source_val/loss: 0.5816985368728638\n",
      "source_val/accuracy: 0.7638227343559265\n",
      "source_val/f1: 0.7644509077072144\n"
     ]
    },
    {
     "data": {
      "application/vnd.jupyter.widget-view+json": {
       "model_id": "df8233db58d040868ef83ba856fcca0e",
       "version_major": 2,
       "version_minor": 0
      },
      "text/plain": [
       "Validation: |          | 0/? [00:00<?, ?it/s]"
      ]
     },
     "metadata": {},
     "output_type": "display_data"
    },
    {
     "name": "stdout",
     "output_type": "stream",
     "text": [
      "target_val/loss: 0.5860393643379211\n",
      "target_val/accuracy: 0.7655295133590698\n",
      "target_val/f1: 0.7673827409744263\n",
      "source_val/loss: 0.5393029451370239\n",
      "source_val/accuracy: 0.7822381258010864\n",
      "source_val/f1: 0.7824329733848572\n"
     ]
    },
    {
     "data": {
      "application/vnd.jupyter.widget-view+json": {
       "model_id": "c40f2a8a9b534b519abff0bd3da5b213",
       "version_major": 2,
       "version_minor": 0
      },
      "text/plain": [
       "Validation: |          | 0/? [00:00<?, ?it/s]"
      ]
     },
     "metadata": {},
     "output_type": "display_data"
    },
    {
     "name": "stdout",
     "output_type": "stream",
     "text": [
      "target_val/loss: 0.6048532128334045\n",
      "target_val/accuracy: 0.7677472233772278\n",
      "target_val/f1: 0.7704256772994995\n",
      "source_val/loss: 0.5584620833396912\n",
      "source_val/accuracy: 0.7866791486740112\n",
      "source_val/f1: 0.786972165107727\n"
     ]
    },
    {
     "data": {
      "application/vnd.jupyter.widget-view+json": {
       "model_id": "d3ebcee262874791a816cb5473034ff6",
       "version_major": 2,
       "version_minor": 0
      },
      "text/plain": [
       "Validation: |          | 0/? [00:00<?, ?it/s]"
      ]
     },
     "metadata": {},
     "output_type": "display_data"
    },
    {
     "name": "stdout",
     "output_type": "stream",
     "text": [
      "target_val/loss: 0.6446573734283447\n",
      "target_val/accuracy: 0.7696336507797241\n",
      "target_val/f1: 0.7714061737060547\n",
      "source_val/loss: 0.5909169912338257\n",
      "source_val/accuracy: 0.7940396666526794\n",
      "source_val/f1: 0.7938088178634644\n"
     ]
    },
    {
     "data": {
      "application/vnd.jupyter.widget-view+json": {
       "model_id": "e9fc497a26644c0e935bc076057d712e",
       "version_major": 2,
       "version_minor": 0
      },
      "text/plain": [
       "Validation: |          | 0/? [00:00<?, ?it/s]"
      ]
     },
     "metadata": {},
     "output_type": "display_data"
    },
    {
     "name": "stderr",
     "output_type": "stream",
     "text": [
      "`Trainer.fit` stopped: `max_epochs=5` reached.\n"
     ]
    },
    {
     "name": "stdout",
     "output_type": "stream",
     "text": [
      "target_val/loss: 0.705456018447876\n",
      "target_val/accuracy: 0.7738950252532959\n",
      "target_val/f1: 0.7754043340682983\n",
      "source_val/loss: 0.6346074342727661\n",
      "source_val/accuracy: 0.7918949127197266\n",
      "source_val/f1: 0.7923024892807007\n",
      "Best checkpoint path: ./lightning_logs/563gn7z0/checkpoints/task-FTR-epoch=01-val_loss=0.54.ckpt\n",
      "Saved epoch checkpoint path: ./lightning_logs/563gn7z0/checkpoints/FTR-epoch=02.ckpt\n"
     ]
    },
    {
     "name": "stderr",
     "output_type": "stream",
     "text": [
      "LOCAL_RANK: 0 - CUDA_VISIBLE_DEVICES: [0]\n"
     ]
    },
    {
     "name": "stdout",
     "output_type": "stream",
     "text": [
      "prinssst: fiction\n",
      "print: travel\n",
      "print: 69615\n"
     ]
    },
    {
     "data": {
      "application/vnd.jupyter.widget-view+json": {
       "model_id": "d8429c44634d4ab49ad0572971b99628",
       "version_major": 2,
       "version_minor": 0
      },
      "text/plain": [
       "Testing: |          | 0/? [00:00<?, ?it/s]"
      ]
     },
     "metadata": {},
     "output_type": "display_data"
    },
    {
     "data": {
      "text/html": [
       "<pre style=\"white-space:pre;overflow-x:auto;line-height:normal;font-family:Menlo,'DejaVu Sans Mono',consolas,'Courier New',monospace\">┏━━━━━━━━━━━━━━━━━━━━━━━━━━━┳━━━━━━━━━━━━━━━━━━━━━━━━━━━┓\n",
       "┃<span style=\"font-weight: bold\">        Test metric        </span>┃<span style=\"font-weight: bold\">       DataLoader 0        </span>┃\n",
       "┡━━━━━━━━━━━━━━━━━━━━━━━━━━━╇━━━━━━━━━━━━━━━━━━━━━━━━━━━┩\n",
       "│<span style=\"color: #008080; text-decoration-color: #008080\">   source_test/accuracy    </span>│<span style=\"color: #800080; text-decoration-color: #800080\">    0.7892665266990662     </span>│\n",
       "│<span style=\"color: #008080; text-decoration-color: #008080\">      source_test/f1       </span>│<span style=\"color: #800080; text-decoration-color: #800080\">    0.7898013591766357     </span>│\n",
       "│<span style=\"color: #008080; text-decoration-color: #008080\">   source_test/f1_macro    </span>│<span style=\"color: #800080; text-decoration-color: #800080\">     0.778823971748352     </span>│\n",
       "│<span style=\"color: #008080; text-decoration-color: #008080\">     source_test/loss      </span>│<span style=\"color: #800080; text-decoration-color: #800080\">    0.6415935158729553     </span>│\n",
       "│<span style=\"color: #008080; text-decoration-color: #008080\">   target_test/accuracy    </span>│<span style=\"color: #800080; text-decoration-color: #800080\">    0.7783697843551636     </span>│\n",
       "│<span style=\"color: #008080; text-decoration-color: #008080\">      target_test/f1       </span>│<span style=\"color: #800080; text-decoration-color: #800080\">    0.7803763747215271     </span>│\n",
       "│<span style=\"color: #008080; text-decoration-color: #008080\">   target_test/f1_macro    </span>│<span style=\"color: #800080; text-decoration-color: #800080\">    0.7651748657226562     </span>│\n",
       "│<span style=\"color: #008080; text-decoration-color: #008080\">     target_test/loss      </span>│<span style=\"color: #800080; text-decoration-color: #800080\">    0.6994483470916748     </span>│\n",
       "└───────────────────────────┴───────────────────────────┘\n",
       "</pre>\n"
      ],
      "text/plain": [
       "┏━━━━━━━━━━━━━━━━━━━━━━━━━━━┳━━━━━━━━━━━━━━━━━━━━━━━━━━━┓\n",
       "┃\u001b[1m \u001b[0m\u001b[1m       Test metric       \u001b[0m\u001b[1m \u001b[0m┃\u001b[1m \u001b[0m\u001b[1m      DataLoader 0       \u001b[0m\u001b[1m \u001b[0m┃\n",
       "┡━━━━━━━━━━━━━━━━━━━━━━━━━━━╇━━━━━━━━━━━━━━━━━━━━━━━━━━━┩\n",
       "│\u001b[36m \u001b[0m\u001b[36m  source_test/accuracy   \u001b[0m\u001b[36m \u001b[0m│\u001b[35m \u001b[0m\u001b[35m   0.7892665266990662    \u001b[0m\u001b[35m \u001b[0m│\n",
       "│\u001b[36m \u001b[0m\u001b[36m     source_test/f1      \u001b[0m\u001b[36m \u001b[0m│\u001b[35m \u001b[0m\u001b[35m   0.7898013591766357    \u001b[0m\u001b[35m \u001b[0m│\n",
       "│\u001b[36m \u001b[0m\u001b[36m  source_test/f1_macro   \u001b[0m\u001b[36m \u001b[0m│\u001b[35m \u001b[0m\u001b[35m    0.778823971748352    \u001b[0m\u001b[35m \u001b[0m│\n",
       "│\u001b[36m \u001b[0m\u001b[36m    source_test/loss     \u001b[0m\u001b[36m \u001b[0m│\u001b[35m \u001b[0m\u001b[35m   0.6415935158729553    \u001b[0m\u001b[35m \u001b[0m│\n",
       "│\u001b[36m \u001b[0m\u001b[36m  target_test/accuracy   \u001b[0m\u001b[36m \u001b[0m│\u001b[35m \u001b[0m\u001b[35m   0.7783697843551636    \u001b[0m\u001b[35m \u001b[0m│\n",
       "│\u001b[36m \u001b[0m\u001b[36m     target_test/f1      \u001b[0m\u001b[36m \u001b[0m│\u001b[35m \u001b[0m\u001b[35m   0.7803763747215271    \u001b[0m\u001b[35m \u001b[0m│\n",
       "│\u001b[36m \u001b[0m\u001b[36m  target_test/f1_macro   \u001b[0m\u001b[36m \u001b[0m│\u001b[35m \u001b[0m\u001b[35m   0.7651748657226562    \u001b[0m\u001b[35m \u001b[0m│\n",
       "│\u001b[36m \u001b[0m\u001b[36m    target_test/loss     \u001b[0m\u001b[36m \u001b[0m│\u001b[35m \u001b[0m\u001b[35m   0.6994483470916748    \u001b[0m\u001b[35m \u001b[0m│\n",
       "└───────────────────────────┴───────────────────────────┘\n"
      ]
     },
     "metadata": {},
     "output_type": "display_data"
    },
    {
     "name": "stdout",
     "output_type": "stream",
     "text": [
      "Test Results Last Epoch: [{'source_test/loss': 0.6415935158729553, 'source_test/accuracy': 0.7892665266990662, 'source_test/f1': 0.7898013591766357, 'source_test/f1_macro': 0.778823971748352, 'target_test/loss': 0.6994483470916748, 'target_test/accuracy': 0.7783697843551636, 'target_test/f1': 0.7803763747215271, 'target_test/f1_macro': 0.7651748657226562}]\n",
      "Best checkpoint path: ./lightning_logs/563gn7z0/checkpoints/task-FTR-epoch=01-val_loss=0.54.ckpt\n",
      "Saved epoch checkpoint path: ./lightning_logs/563gn7z0/checkpoints/FTR-epoch=02.ckpt\n"
     ]
    },
    {
     "name": "stderr",
     "output_type": "stream",
     "text": [
      "Some weights of BertAdapterModel were not initialized from the model checkpoint at bert-base-uncased and are newly initialized: ['heads.default.3.bias']\n",
      "You should probably TRAIN this model on a down-stream task to be able to use it for predictions and inference.\n"
     ]
    },
    {
     "name": "stdout",
     "output_type": "stream",
     "text": [
      "================================================================================\n",
      "Name                     Architecture         #Param      %Param  Active   Train\n",
      "--------------------------------------------------------------------------------\n",
      "mlm_union_TR             union             7,682,688       7.017       1       1\n",
      "--------------------------------------------------------------------------------\n",
      "Full model                               109,482,240     100.000               0\n",
      "================================================================================\n",
      "trainable params: 8898237 || all params: 118380477 || trainable%: 7.5166422922928415\n",
      "None\n"
     ]
    },
    {
     "name": "stderr",
     "output_type": "stream",
     "text": [
      "LOCAL_RANK: 0 - CUDA_VISIBLE_DEVICES: [0]\n"
     ]
    },
    {
     "data": {
      "application/vnd.jupyter.widget-view+json": {
       "model_id": "b0b9f55ae43e4566b9f3cb054cc4f974",
       "version_major": 2,
       "version_minor": 0
      },
      "text/plain": [
       "Testing: |          | 0/? [00:00<?, ?it/s]"
      ]
     },
     "metadata": {},
     "output_type": "display_data"
    },
    {
     "data": {
      "text/html": [
       "<pre style=\"white-space:pre;overflow-x:auto;line-height:normal;font-family:Menlo,'DejaVu Sans Mono',consolas,'Courier New',monospace\">┏━━━━━━━━━━━━━━━━━━━━━━━━━━━┳━━━━━━━━━━━━━━━━━━━━━━━━━━━┓\n",
       "┃<span style=\"font-weight: bold\">        Test metric        </span>┃<span style=\"font-weight: bold\">       DataLoader 0        </span>┃\n",
       "┡━━━━━━━━━━━━━━━━━━━━━━━━━━━╇━━━━━━━━━━━━━━━━━━━━━━━━━━━┩\n",
       "│<span style=\"color: #008080; text-decoration-color: #008080\">   source_test/accuracy    </span>│<span style=\"color: #800080; text-decoration-color: #800080\">     0.79176265001297      </span>│\n",
       "│<span style=\"color: #008080; text-decoration-color: #008080\">      source_test/f1       </span>│<span style=\"color: #800080; text-decoration-color: #800080\">     0.792596161365509     </span>│\n",
       "│<span style=\"color: #008080; text-decoration-color: #008080\">   source_test/f1_macro    </span>│<span style=\"color: #800080; text-decoration-color: #800080\">    0.7822555899620056     </span>│\n",
       "│<span style=\"color: #008080; text-decoration-color: #008080\">     source_test/loss      </span>│<span style=\"color: #800080; text-decoration-color: #800080\">    0.5462371706962585     </span>│\n",
       "│<span style=\"color: #008080; text-decoration-color: #008080\">   target_test/accuracy    </span>│<span style=\"color: #800080; text-decoration-color: #800080\">    0.7703292965888977     </span>│\n",
       "│<span style=\"color: #008080; text-decoration-color: #008080\">      target_test/f1       </span>│<span style=\"color: #800080; text-decoration-color: #800080\">    0.7722317576408386     </span>│\n",
       "│<span style=\"color: #008080; text-decoration-color: #008080\">   target_test/f1_macro    </span>│<span style=\"color: #800080; text-decoration-color: #800080\">    0.7581506371498108     </span>│\n",
       "│<span style=\"color: #008080; text-decoration-color: #008080\">     target_test/loss      </span>│<span style=\"color: #800080; text-decoration-color: #800080\">    0.5821220278739929     </span>│\n",
       "└───────────────────────────┴───────────────────────────┘\n",
       "</pre>\n"
      ],
      "text/plain": [
       "┏━━━━━━━━━━━━━━━━━━━━━━━━━━━┳━━━━━━━━━━━━━━━━━━━━━━━━━━━┓\n",
       "┃\u001b[1m \u001b[0m\u001b[1m       Test metric       \u001b[0m\u001b[1m \u001b[0m┃\u001b[1m \u001b[0m\u001b[1m      DataLoader 0       \u001b[0m\u001b[1m \u001b[0m┃\n",
       "┡━━━━━━━━━━━━━━━━━━━━━━━━━━━╇━━━━━━━━━━━━━━━━━━━━━━━━━━━┩\n",
       "│\u001b[36m \u001b[0m\u001b[36m  source_test/accuracy   \u001b[0m\u001b[36m \u001b[0m│\u001b[35m \u001b[0m\u001b[35m    0.79176265001297     \u001b[0m\u001b[35m \u001b[0m│\n",
       "│\u001b[36m \u001b[0m\u001b[36m     source_test/f1      \u001b[0m\u001b[36m \u001b[0m│\u001b[35m \u001b[0m\u001b[35m    0.792596161365509    \u001b[0m\u001b[35m \u001b[0m│\n",
       "│\u001b[36m \u001b[0m\u001b[36m  source_test/f1_macro   \u001b[0m\u001b[36m \u001b[0m│\u001b[35m \u001b[0m\u001b[35m   0.7822555899620056    \u001b[0m\u001b[35m \u001b[0m│\n",
       "│\u001b[36m \u001b[0m\u001b[36m    source_test/loss     \u001b[0m\u001b[36m \u001b[0m│\u001b[35m \u001b[0m\u001b[35m   0.5462371706962585    \u001b[0m\u001b[35m \u001b[0m│\n",
       "│\u001b[36m \u001b[0m\u001b[36m  target_test/accuracy   \u001b[0m\u001b[36m \u001b[0m│\u001b[35m \u001b[0m\u001b[35m   0.7703292965888977    \u001b[0m\u001b[35m \u001b[0m│\n",
       "│\u001b[36m \u001b[0m\u001b[36m     target_test/f1      \u001b[0m\u001b[36m \u001b[0m│\u001b[35m \u001b[0m\u001b[35m   0.7722317576408386    \u001b[0m\u001b[35m \u001b[0m│\n",
       "│\u001b[36m \u001b[0m\u001b[36m  target_test/f1_macro   \u001b[0m\u001b[36m \u001b[0m│\u001b[35m \u001b[0m\u001b[35m   0.7581506371498108    \u001b[0m\u001b[35m \u001b[0m│\n",
       "│\u001b[36m \u001b[0m\u001b[36m    target_test/loss     \u001b[0m\u001b[36m \u001b[0m│\u001b[35m \u001b[0m\u001b[35m   0.5821220278739929    \u001b[0m\u001b[35m \u001b[0m│\n",
       "└───────────────────────────┴───────────────────────────┘\n"
      ]
     },
     "metadata": {},
     "output_type": "display_data"
    },
    {
     "name": "stdout",
     "output_type": "stream",
     "text": [
      "Test Results on Best Model: [{'source_test/loss': 0.5462371706962585, 'source_test/accuracy': 0.79176265001297, 'source_test/f1': 0.792596161365509, 'source_test/f1_macro': 0.7822555899620056, 'target_test/loss': 0.5821220278739929, 'target_test/accuracy': 0.7703292965888977, 'target_test/f1': 0.7722317576408386, 'target_test/f1_macro': 0.7581506371498108}]\n"
     ]
    },
    {
     "name": "stderr",
     "output_type": "stream",
     "text": [
      "Some weights of BertAdapterModel were not initialized from the model checkpoint at bert-base-uncased and are newly initialized: ['heads.default.3.bias']\n",
      "You should probably TRAIN this model on a down-stream task to be able to use it for predictions and inference.\n"
     ]
    },
    {
     "name": "stdout",
     "output_type": "stream",
     "text": [
      "================================================================================\n",
      "Name                     Architecture         #Param      %Param  Active   Train\n",
      "--------------------------------------------------------------------------------\n",
      "mlm_union_TR             union             7,682,688       7.017       1       1\n",
      "--------------------------------------------------------------------------------\n",
      "Full model                               109,482,240     100.000               0\n",
      "================================================================================\n",
      "trainable params: 8898237 || all params: 118380477 || trainable%: 7.5166422922928415\n",
      "None\n"
     ]
    },
    {
     "name": "stderr",
     "output_type": "stream",
     "text": [
      "LOCAL_RANK: 0 - CUDA_VISIBLE_DEVICES: [0]\n"
     ]
    },
    {
     "data": {
      "application/vnd.jupyter.widget-view+json": {
       "model_id": "3c8a39fae92f4c9c9951b4c1894fb718",
       "version_major": 2,
       "version_minor": 0
      },
      "text/plain": [
       "Testing: |          | 0/? [00:00<?, ?it/s]"
      ]
     },
     "metadata": {},
     "output_type": "display_data"
    },
    {
     "data": {
      "text/html": [
       "<pre style=\"white-space:pre;overflow-x:auto;line-height:normal;font-family:Menlo,'DejaVu Sans Mono',consolas,'Courier New',monospace\">┏━━━━━━━━━━━━━━━━━━━━━━━━━━━┳━━━━━━━━━━━━━━━━━━━━━━━━━━━┓\n",
       "┃<span style=\"font-weight: bold\">        Test metric        </span>┃<span style=\"font-weight: bold\">       DataLoader 0        </span>┃\n",
       "┡━━━━━━━━━━━━━━━━━━━━━━━━━━━╇━━━━━━━━━━━━━━━━━━━━━━━━━━━┩\n",
       "│<span style=\"color: #008080; text-decoration-color: #008080\">   source_test/accuracy    </span>│<span style=\"color: #800080; text-decoration-color: #800080\">    0.7869863510131836     </span>│\n",
       "│<span style=\"color: #008080; text-decoration-color: #008080\">      source_test/f1       </span>│<span style=\"color: #800080; text-decoration-color: #800080\">    0.7884212136268616     </span>│\n",
       "│<span style=\"color: #008080; text-decoration-color: #008080\">   source_test/f1_macro    </span>│<span style=\"color: #800080; text-decoration-color: #800080\">    0.7764995098114014     </span>│\n",
       "│<span style=\"color: #008080; text-decoration-color: #008080\">     source_test/loss      </span>│<span style=\"color: #800080; text-decoration-color: #800080\">    0.5554109215736389     </span>│\n",
       "│<span style=\"color: #008080; text-decoration-color: #008080\">   target_test/accuracy    </span>│<span style=\"color: #800080; text-decoration-color: #800080\">    0.7781537771224976     </span>│\n",
       "│<span style=\"color: #008080; text-decoration-color: #008080\">      target_test/f1       </span>│<span style=\"color: #800080; text-decoration-color: #800080\">    0.7802265286445618     </span>│\n",
       "│<span style=\"color: #008080; text-decoration-color: #008080\">   target_test/f1_macro    </span>│<span style=\"color: #800080; text-decoration-color: #800080\">    0.7661070823669434     </span>│\n",
       "│<span style=\"color: #008080; text-decoration-color: #008080\">     target_test/loss      </span>│<span style=\"color: #800080; text-decoration-color: #800080\">     0.587221086025238     </span>│\n",
       "└───────────────────────────┴───────────────────────────┘\n",
       "</pre>\n"
      ],
      "text/plain": [
       "┏━━━━━━━━━━━━━━━━━━━━━━━━━━━┳━━━━━━━━━━━━━━━━━━━━━━━━━━━┓\n",
       "┃\u001b[1m \u001b[0m\u001b[1m       Test metric       \u001b[0m\u001b[1m \u001b[0m┃\u001b[1m \u001b[0m\u001b[1m      DataLoader 0       \u001b[0m\u001b[1m \u001b[0m┃\n",
       "┡━━━━━━━━━━━━━━━━━━━━━━━━━━━╇━━━━━━━━━━━━━━━━━━━━━━━━━━━┩\n",
       "│\u001b[36m \u001b[0m\u001b[36m  source_test/accuracy   \u001b[0m\u001b[36m \u001b[0m│\u001b[35m \u001b[0m\u001b[35m   0.7869863510131836    \u001b[0m\u001b[35m \u001b[0m│\n",
       "│\u001b[36m \u001b[0m\u001b[36m     source_test/f1      \u001b[0m\u001b[36m \u001b[0m│\u001b[35m \u001b[0m\u001b[35m   0.7884212136268616    \u001b[0m\u001b[35m \u001b[0m│\n",
       "│\u001b[36m \u001b[0m\u001b[36m  source_test/f1_macro   \u001b[0m\u001b[36m \u001b[0m│\u001b[35m \u001b[0m\u001b[35m   0.7764995098114014    \u001b[0m\u001b[35m \u001b[0m│\n",
       "│\u001b[36m \u001b[0m\u001b[36m    source_test/loss     \u001b[0m\u001b[36m \u001b[0m│\u001b[35m \u001b[0m\u001b[35m   0.5554109215736389    \u001b[0m\u001b[35m \u001b[0m│\n",
       "│\u001b[36m \u001b[0m\u001b[36m  target_test/accuracy   \u001b[0m\u001b[36m \u001b[0m│\u001b[35m \u001b[0m\u001b[35m   0.7781537771224976    \u001b[0m\u001b[35m \u001b[0m│\n",
       "│\u001b[36m \u001b[0m\u001b[36m     target_test/f1      \u001b[0m\u001b[36m \u001b[0m│\u001b[35m \u001b[0m\u001b[35m   0.7802265286445618    \u001b[0m\u001b[35m \u001b[0m│\n",
       "│\u001b[36m \u001b[0m\u001b[36m  target_test/f1_macro   \u001b[0m\u001b[36m \u001b[0m│\u001b[35m \u001b[0m\u001b[35m   0.7661070823669434    \u001b[0m\u001b[35m \u001b[0m│\n",
       "│\u001b[36m \u001b[0m\u001b[36m    target_test/loss     \u001b[0m\u001b[36m \u001b[0m│\u001b[35m \u001b[0m\u001b[35m    0.587221086025238    \u001b[0m\u001b[35m \u001b[0m│\n",
       "└───────────────────────────┴───────────────────────────┘\n"
      ]
     },
     "metadata": {},
     "output_type": "display_data"
    },
    {
     "name": "stdout",
     "output_type": "stream",
     "text": [
      "Test Results on saved epoch: [{'source_test/loss': 0.5554109215736389, 'source_test/accuracy': 0.7869863510131836, 'source_test/f1': 0.7884212136268616, 'source_test/f1_macro': 0.7764995098114014, 'target_test/loss': 0.587221086025238, 'target_test/accuracy': 0.7781537771224976, 'target_test/f1': 0.7802265286445618, 'target_test/f1_macro': 0.7661070823669434}]\n"
     ]
    },
    {
     "data": {
      "application/vnd.jupyter.widget-view+json": {
       "model_id": "a07d77d0c67f4f2ab7b6e0c6e2b8b050",
       "version_major": 2,
       "version_minor": 0
      },
      "text/plain": [
       "VBox(children=(Label(value='0.002 MB of 0.002 MB uploaded\\r'), FloatProgress(value=1.0, max=1.0)))"
      ]
     },
     "metadata": {},
     "output_type": "display_data"
    },
    {
     "data": {
      "text/html": [
       "<style>\n",
       "    table.wandb td:nth-child(1) { padding: 0 10px; text-align: left ; width: auto;} td:nth-child(2) {text-align: left ; width: 100%}\n",
       "    .wandb-row { display: flex; flex-direction: row; flex-wrap: wrap; justify-content: flex-start; width: 100% }\n",
       "    .wandb-col { display: flex; flex-direction: column; flex-basis: 100%; flex: 1; padding: 10px; }\n",
       "    </style>\n",
       "<div class=\"wandb-row\"><div class=\"wandb-col\"><h3>Run history:</h3><br/><table class=\"wandb\"><tr><td>epoch</td><td>▁▁▁▁▁▁▁▁▂▂▂▂▂▂▂▂▄▄▄▄▄▄▄▄▅▅▅▅▅▅▅▅▇▇▇▇▇▇▇█</td></tr><tr><td>source_test/accuracy</td><td>▄█▁</td></tr><tr><td>source_test/f1</td><td>▃█▁</td></tr><tr><td>source_test/f1_macro</td><td>▄█▁</td></tr><tr><td>source_test/loss</td><td>█▁▂</td></tr><tr><td>source_val/accuracy</td><td>▁▅▆██</td></tr><tr><td>source_val/f1</td><td>▁▅▆██</td></tr><tr><td>source_val/loss</td><td>▄▁▂▅█</td></tr><tr><td>target_test/accuracy</td><td>█▁█</td></tr><tr><td>target_test/f1</td><td>█▁█</td></tr><tr><td>target_test/f1_macro</td><td>▇▁█</td></tr><tr><td>target_test/loss</td><td>█▁▁</td></tr><tr><td>target_val/accuracy</td><td>▁▆▇▇█</td></tr><tr><td>target_val/f1</td><td>▁▆▇▇█</td></tr><tr><td>target_val/loss</td><td>▃▁▂▄█</td></tr><tr><td>train_accuracy</td><td>▁▃▄▄▆▃▄▄▄▆▆▇▆▆▅▆▆▆▆▆▇▆▆█▄▇▆█▇▇▆▆▇▆▇█▇█▇█</td></tr><tr><td>train_f1</td><td>▁▃▄▄▅▃▄▃▃▅▆▇▆▆▄▆▅▆▆▆▇▆▆█▄▇▆█▇▇▆▆▇▆▇█▆█▇█</td></tr><tr><td>train_loss</td><td>██▆▅▅▇▆▅▅▅▃▃▄▃▆▄▄▄▂▄▃▃▃▂▅▂▃▁▁▂▄▂▂▃▂▂▃▁▂▁</td></tr><tr><td>trainer/global_step</td><td>▁▁▁▂▂▂▂▂▂▃▃▃▃▃▃▄▄▄▄▄▅▅▅▅▅▆▆▆▆▆▆▇▇▇▇▇▇███</td></tr><tr><td>val_loss</td><td>▄▁▂▅█</td></tr></table><br/></div><div class=\"wandb-col\"><h3>Run summary:</h3><br/><table class=\"wandb\"><tr><td>epoch</td><td>5</td></tr><tr><td>source_test/accuracy</td><td>0.78699</td></tr><tr><td>source_test/f1</td><td>0.78842</td></tr><tr><td>source_test/f1_macro</td><td>0.7765</td></tr><tr><td>source_test/loss</td><td>0.55541</td></tr><tr><td>source_val/accuracy</td><td>0.79189</td></tr><tr><td>source_val/f1</td><td>0.7923</td></tr><tr><td>source_val/loss</td><td>0.63461</td></tr><tr><td>target_test/accuracy</td><td>0.77815</td></tr><tr><td>target_test/f1</td><td>0.78023</td></tr><tr><td>target_test/f1_macro</td><td>0.76611</td></tr><tr><td>target_test/loss</td><td>0.58722</td></tr><tr><td>target_val/accuracy</td><td>0.7739</td></tr><tr><td>target_val/f1</td><td>0.7754</td></tr><tr><td>target_val/loss</td><td>0.70546</td></tr><tr><td>train_accuracy</td><td>0.9375</td></tr><tr><td>train_f1</td><td>0.93749</td></tr><tr><td>train_loss</td><td>0.21819</td></tr><tr><td>trainer/global_step</td><td>10880</td></tr><tr><td>val_loss</td><td>0.63461</td></tr></table><br/></div></div>"
      ],
      "text/plain": [
       "<IPython.core.display.HTML object>"
      ]
     },
     "metadata": {},
     "output_type": "display_data"
    },
    {
     "data": {
      "text/html": [
       " View run <strong style=\"color:#cdcd00\">FTR_union_run_with_seed_10</strong> at: <a href='https://wandb.ai/mrawhani/ablations/runs/563gn7z0' target=\"_blank\">https://wandb.ai/mrawhani/ablations/runs/563gn7z0</a><br/> View project at: <a href='https://wandb.ai/mrawhani/ablations' target=\"_blank\">https://wandb.ai/mrawhani/ablations</a><br/>Synced 5 W&B file(s), 0 media file(s), 0 artifact file(s) and 0 other file(s)"
      ],
      "text/plain": [
       "<IPython.core.display.HTML object>"
      ]
     },
     "metadata": {},
     "output_type": "display_data"
    },
    {
     "data": {
      "text/html": [
       "Find logs at: <code>./wandb/run-20240711_183815-563gn7z0/logs</code>"
      ],
      "text/plain": [
       "<IPython.core.display.HTML object>"
      ]
     },
     "metadata": {},
     "output_type": "display_data"
    },
    {
     "data": {
      "application/vnd.jupyter.widget-view+json": {
       "model_id": "fbf21ddfb7804b27b47af7a4ee45ffe7",
       "version_major": 2,
       "version_minor": 0
      },
      "text/plain": [
       "VBox(children=(Label(value='Waiting for wandb.init()...\\r'), FloatProgress(value=0.011112217133308554, max=1.0…"
      ]
     },
     "metadata": {},
     "output_type": "display_data"
    },
    {
     "data": {
      "text/html": [
       "wandb version 0.17.4 is available!  To upgrade, please run:\n",
       " $ pip install wandb --upgrade"
      ],
      "text/plain": [
       "<IPython.core.display.HTML object>"
      ]
     },
     "metadata": {},
     "output_type": "display_data"
    },
    {
     "data": {
      "text/html": [
       "Tracking run with wandb version 0.17.0"
      ],
      "text/plain": [
       "<IPython.core.display.HTML object>"
      ]
     },
     "metadata": {},
     "output_type": "display_data"
    },
    {
     "data": {
      "text/html": [
       "Run data is saved locally in <code>/home/guest/Desktop/projects/fourth-expeiments/domain_adaptation_project/union/travel/wandb/run-20240711_192314-sa8ev9wd</code>"
      ],
      "text/plain": [
       "<IPython.core.display.HTML object>"
      ]
     },
     "metadata": {},
     "output_type": "display_data"
    },
    {
     "data": {
      "text/html": [
       "Syncing run <strong><a href='https://wandb.ai/mrawhani/ablations/runs/sa8ev9wd' target=\"_blank\">FTR_union_run_with_seed_100</a></strong> to <a href='https://wandb.ai/mrawhani/ablations' target=\"_blank\">Weights & Biases</a> (<a href='https://wandb.me/run' target=\"_blank\">docs</a>)<br/>"
      ],
      "text/plain": [
       "<IPython.core.display.HTML object>"
      ]
     },
     "metadata": {},
     "output_type": "display_data"
    },
    {
     "data": {
      "text/html": [
       " View project at <a href='https://wandb.ai/mrawhani/ablations' target=\"_blank\">https://wandb.ai/mrawhani/ablations</a>"
      ],
      "text/plain": [
       "<IPython.core.display.HTML object>"
      ]
     },
     "metadata": {},
     "output_type": "display_data"
    },
    {
     "data": {
      "text/html": [
       " View run at <a href='https://wandb.ai/mrawhani/ablations/runs/sa8ev9wd' target=\"_blank\">https://wandb.ai/mrawhani/ablations/runs/sa8ev9wd</a>"
      ],
      "text/plain": [
       "<IPython.core.display.HTML object>"
      ]
     },
     "metadata": {},
     "output_type": "display_data"
    },
    {
     "name": "stderr",
     "output_type": "stream",
     "text": [
      "Seed set to 100\n",
      "/home/guest/.cache/pypoetry/virtualenvs/fourth-experments-OVNdUUAn-py3.8/lib/python3.8/site-packages/huggingface_hub/file_download.py:1132: FutureWarning: `resume_download` is deprecated and will be removed in version 1.0.0. Downloads always resume when possible. If you want to force a new download, use `force_download=True`.\n",
      "  warnings.warn(\n"
     ]
    },
    {
     "name": "stdout",
     "output_type": "stream",
     "text": [
      "prinssst: fiction\n",
      "print: travel\n",
      "print: 69615\n",
      "prinssst: fiction\n",
      "print: travel\n",
      "print: 69615\n"
     ]
    },
    {
     "name": "stderr",
     "output_type": "stream",
     "text": [
      "Some weights of BertAdapterModel were not initialized from the model checkpoint at bert-base-uncased and are newly initialized: ['heads.default.3.bias']\n",
      "You should probably TRAIN this model on a down-stream task to be able to use it for predictions and inference.\n",
      "/home/guest/.cache/pypoetry/virtualenvs/fourth-experments-OVNdUUAn-py3.8/lib/python3.8/site-packages/torch/utils/data/dataloader.py:558: UserWarning: This DataLoader will create 16 worker processes in total. Our suggested max number of worker in current system is 12, which is smaller than what this DataLoader is going to create. Please be aware that excessive worker creation might get DataLoader running slow or even freeze, lower the worker number to avoid potential slowness/freeze if necessary.\n",
      "  warnings.warn(_create_warning_msg(\n",
      "GPU available: True (cuda), used: True\n",
      "TPU available: False, using: 0 TPU cores\n",
      "IPU available: False, using: 0 IPUs\n",
      "HPU available: False, using: 0 HPUs\n",
      "`Trainer(limit_train_batches=1.0)` was configured so 100% of the batches per epoch will be used..\n",
      "`Trainer(limit_val_batches=1.0)` was configured so 100% of the batches will be used..\n",
      "`Trainer(limit_test_batches=1.0)` was configured so 100% of the batches will be used..\n",
      "/home/guest/.cache/pypoetry/virtualenvs/fourth-experments-OVNdUUAn-py3.8/lib/python3.8/site-packages/pytorch_lightning/loggers/wandb.py:396: There is a wandb run already in progress and newly created instances of `WandbLogger` will reuse this run. If this is not desired, call `wandb.finish()` before instantiating `WandbLogger`.\n",
      "LOCAL_RANK: 0 - CUDA_VISIBLE_DEVICES: [0]\n"
     ]
    },
    {
     "name": "stdout",
     "output_type": "stream",
     "text": [
      "================================================================================\n",
      "Name                     Architecture         #Param      %Param  Active   Train\n",
      "--------------------------------------------------------------------------------\n",
      "mlm_union_TR             union             7,682,688       7.017       1       1\n",
      "--------------------------------------------------------------------------------\n",
      "Full model                               109,482,240     100.000               0\n",
      "================================================================================\n",
      "trainable params: 8898237 || all params: 118380477 || trainable%: 7.5166422922928415\n",
      "None\n"
     ]
    },
    {
     "name": "stderr",
     "output_type": "stream",
     "text": [
      "\n",
      "  | Name      | Type               | Params\n",
      "-------------------------------------------------\n",
      "0 | model     | BertAdapterModel   | 118 M \n",
      "1 | criterion | CrossEntropyLoss   | 0     \n",
      "2 | accuracy  | MulticlassAccuracy | 0     \n",
      "3 | f1        | MulticlassF1Score  | 0     \n",
      "4 | f1_macro  | MulticlassF1Score  | 0     \n",
      "5 | softmax   | Softmax            | 0     \n",
      "-------------------------------------------------\n",
      "8.9 M     Trainable params\n",
      "109 M     Non-trainable params\n",
      "118 M     Total params\n",
      "473.522   Total estimated model params size (MB)\n"
     ]
    },
    {
     "data": {
      "application/vnd.jupyter.widget-view+json": {
       "model_id": "7fab3e976b6f4c638dcfb754ce8e3b21",
       "version_major": 2,
       "version_minor": 0
      },
      "text/plain": [
       "Sanity Checking: |          | 0/? [00:00<?, ?it/s]"
      ]
     },
     "metadata": {},
     "output_type": "display_data"
    },
    {
     "name": "stdout",
     "output_type": "stream",
     "text": [
      "target_val/loss: 1.09712815284729\n",
      "target_val/accuracy: 0.328125\n",
      "target_val/f1: 0.3574413061141968\n",
      "source_val/loss: 1.1114802360534668\n",
      "source_val/accuracy: 0.28125\n",
      "source_val/f1: 0.28656303882598877\n"
     ]
    },
    {
     "data": {
      "application/vnd.jupyter.widget-view+json": {
       "model_id": "68b13f53a7d34a6d8065f26b757520d2",
       "version_major": 2,
       "version_minor": 0
      },
      "text/plain": [
       "Training: |          | 0/? [00:00<?, ?it/s]"
      ]
     },
     "metadata": {},
     "output_type": "display_data"
    },
    {
     "data": {
      "application/vnd.jupyter.widget-view+json": {
       "model_id": "bce59822b3744f44b88295efe3a49bef",
       "version_major": 2,
       "version_minor": 0
      },
      "text/plain": [
       "Validation: |          | 0/? [00:00<?, ?it/s]"
      ]
     },
     "metadata": {},
     "output_type": "display_data"
    },
    {
     "name": "stdout",
     "output_type": "stream",
     "text": [
      "target_val/loss: 0.6239006519317627\n",
      "target_val/accuracy: 0.7394447922706604\n",
      "target_val/f1: 0.7433488368988037\n",
      "source_val/loss: 0.5826295614242554\n",
      "source_val/accuracy: 0.7600778937339783\n",
      "source_val/f1: 0.7606041431427002\n"
     ]
    },
    {
     "data": {
      "application/vnd.jupyter.widget-view+json": {
       "model_id": "6fe88bde55a348bc850c6bb203e9a054",
       "version_major": 2,
       "version_minor": 0
      },
      "text/plain": [
       "Validation: |          | 0/? [00:00<?, ?it/s]"
      ]
     },
     "metadata": {},
     "output_type": "display_data"
    },
    {
     "name": "stdout",
     "output_type": "stream",
     "text": [
      "target_val/loss: 0.5972340106964111\n",
      "target_val/accuracy: 0.7583486437797546\n",
      "target_val/f1: 0.7614099383354187\n",
      "source_val/loss: 0.5481324791908264\n",
      "source_val/accuracy: 0.779110848903656\n",
      "source_val/f1: 0.7794978618621826\n"
     ]
    },
    {
     "data": {
      "application/vnd.jupyter.widget-view+json": {
       "model_id": "97ad785233084f49b42754cc69fe9246",
       "version_major": 2,
       "version_minor": 0
      },
      "text/plain": [
       "Validation: |          | 0/? [00:00<?, ?it/s]"
      ]
     },
     "metadata": {},
     "output_type": "display_data"
    },
    {
     "name": "stdout",
     "output_type": "stream",
     "text": [
      "target_val/loss: 0.604279100894928\n",
      "target_val/accuracy: 0.7654509544372559\n",
      "target_val/f1: 0.7677999138832092\n",
      "source_val/loss: 0.5508334636688232\n",
      "source_val/accuracy: 0.7886666059494019\n",
      "source_val/f1: 0.7887099385261536\n"
     ]
    },
    {
     "data": {
      "application/vnd.jupyter.widget-view+json": {
       "model_id": "2cc71beea04d470dbf3fdd0a7de410b9",
       "version_major": 2,
       "version_minor": 0
      },
      "text/plain": [
       "Validation: |          | 0/? [00:00<?, ?it/s]"
      ]
     },
     "metadata": {},
     "output_type": "display_data"
    },
    {
     "name": "stdout",
     "output_type": "stream",
     "text": [
      "target_val/loss: 0.6259673237800598\n",
      "target_val/accuracy: 0.7727047801017761\n",
      "target_val/f1: 0.7750643491744995\n",
      "source_val/loss: 0.5651050806045532\n",
      "source_val/accuracy: 0.7928774952888489\n",
      "source_val/f1: 0.7932285070419312\n"
     ]
    },
    {
     "data": {
      "application/vnd.jupyter.widget-view+json": {
       "model_id": "da540b20fe134a53a5377f5df4e10ea1",
       "version_major": 2,
       "version_minor": 0
      },
      "text/plain": [
       "Validation: |          | 0/? [00:00<?, ?it/s]"
      ]
     },
     "metadata": {},
     "output_type": "display_data"
    },
    {
     "name": "stderr",
     "output_type": "stream",
     "text": [
      "`Trainer.fit` stopped: `max_epochs=5` reached.\n"
     ]
    },
    {
     "name": "stdout",
     "output_type": "stream",
     "text": [
      "target_val/loss: 0.694327712059021\n",
      "target_val/accuracy: 0.7727833390235901\n",
      "target_val/f1: 0.7752810120582581\n",
      "source_val/loss: 0.613405168056488\n",
      "source_val/accuracy: 0.7958194613456726\n",
      "source_val/f1: 0.7959487438201904\n",
      "Best checkpoint path: ./lightning_logs/sa8ev9wd/checkpoints/task-FTR-epoch=01-val_loss=0.55.ckpt\n",
      "Saved epoch checkpoint path: ./lightning_logs/sa8ev9wd/checkpoints/FTR-epoch=02.ckpt\n"
     ]
    },
    {
     "name": "stderr",
     "output_type": "stream",
     "text": [
      "LOCAL_RANK: 0 - CUDA_VISIBLE_DEVICES: [0]\n"
     ]
    },
    {
     "name": "stdout",
     "output_type": "stream",
     "text": [
      "prinssst: fiction\n",
      "print: travel\n",
      "print: 69615\n"
     ]
    },
    {
     "data": {
      "application/vnd.jupyter.widget-view+json": {
       "model_id": "f34d8286319e48158ea48ba9364c14af",
       "version_major": 2,
       "version_minor": 0
      },
      "text/plain": [
       "Testing: |          | 0/? [00:00<?, ?it/s]"
      ]
     },
     "metadata": {},
     "output_type": "display_data"
    },
    {
     "data": {
      "text/html": [
       "<pre style=\"white-space:pre;overflow-x:auto;line-height:normal;font-family:Menlo,'DejaVu Sans Mono',consolas,'Courier New',monospace\">┏━━━━━━━━━━━━━━━━━━━━━━━━━━━┳━━━━━━━━━━━━━━━━━━━━━━━━━━━┓\n",
       "┃<span style=\"font-weight: bold\">        Test metric        </span>┃<span style=\"font-weight: bold\">       DataLoader 0        </span>┃\n",
       "┡━━━━━━━━━━━━━━━━━━━━━━━━━━━╇━━━━━━━━━━━━━━━━━━━━━━━━━━━┩\n",
       "│<span style=\"color: #008080; text-decoration-color: #008080\">   source_test/accuracy    </span>│<span style=\"color: #800080; text-decoration-color: #800080\">     0.795050859451294     </span>│\n",
       "│<span style=\"color: #008080; text-decoration-color: #008080\">      source_test/f1       </span>│<span style=\"color: #800080; text-decoration-color: #800080\">    0.7960608601570129     </span>│\n",
       "│<span style=\"color: #008080; text-decoration-color: #008080\">   source_test/f1_macro    </span>│<span style=\"color: #800080; text-decoration-color: #800080\">    0.7833123803138733     </span>│\n",
       "│<span style=\"color: #008080; text-decoration-color: #008080\">     source_test/loss      </span>│<span style=\"color: #800080; text-decoration-color: #800080\">    0.6396905183792114     </span>│\n",
       "│<span style=\"color: #008080; text-decoration-color: #008080\">   target_test/accuracy    </span>│<span style=\"color: #800080; text-decoration-color: #800080\">    0.7783938050270081     </span>│\n",
       "│<span style=\"color: #008080; text-decoration-color: #008080\">      target_test/f1       </span>│<span style=\"color: #800080; text-decoration-color: #800080\">     0.78132563829422      </span>│\n",
       "│<span style=\"color: #008080; text-decoration-color: #008080\">   target_test/f1_macro    </span>│<span style=\"color: #800080; text-decoration-color: #800080\">    0.7643535137176514     </span>│\n",
       "│<span style=\"color: #008080; text-decoration-color: #008080\">     target_test/loss      </span>│<span style=\"color: #800080; text-decoration-color: #800080\">    0.6779762506484985     </span>│\n",
       "└───────────────────────────┴───────────────────────────┘\n",
       "</pre>\n"
      ],
      "text/plain": [
       "┏━━━━━━━━━━━━━━━━━━━━━━━━━━━┳━━━━━━━━━━━━━━━━━━━━━━━━━━━┓\n",
       "┃\u001b[1m \u001b[0m\u001b[1m       Test metric       \u001b[0m\u001b[1m \u001b[0m┃\u001b[1m \u001b[0m\u001b[1m      DataLoader 0       \u001b[0m\u001b[1m \u001b[0m┃\n",
       "┡━━━━━━━━━━━━━━━━━━━━━━━━━━━╇━━━━━━━━━━━━━━━━━━━━━━━━━━━┩\n",
       "│\u001b[36m \u001b[0m\u001b[36m  source_test/accuracy   \u001b[0m\u001b[36m \u001b[0m│\u001b[35m \u001b[0m\u001b[35m    0.795050859451294    \u001b[0m\u001b[35m \u001b[0m│\n",
       "│\u001b[36m \u001b[0m\u001b[36m     source_test/f1      \u001b[0m\u001b[36m \u001b[0m│\u001b[35m \u001b[0m\u001b[35m   0.7960608601570129    \u001b[0m\u001b[35m \u001b[0m│\n",
       "│\u001b[36m \u001b[0m\u001b[36m  source_test/f1_macro   \u001b[0m\u001b[36m \u001b[0m│\u001b[35m \u001b[0m\u001b[35m   0.7833123803138733    \u001b[0m\u001b[35m \u001b[0m│\n",
       "│\u001b[36m \u001b[0m\u001b[36m    source_test/loss     \u001b[0m\u001b[36m \u001b[0m│\u001b[35m \u001b[0m\u001b[35m   0.6396905183792114    \u001b[0m\u001b[35m \u001b[0m│\n",
       "│\u001b[36m \u001b[0m\u001b[36m  target_test/accuracy   \u001b[0m\u001b[36m \u001b[0m│\u001b[35m \u001b[0m\u001b[35m   0.7783938050270081    \u001b[0m\u001b[35m \u001b[0m│\n",
       "│\u001b[36m \u001b[0m\u001b[36m     target_test/f1      \u001b[0m\u001b[36m \u001b[0m│\u001b[35m \u001b[0m\u001b[35m    0.78132563829422     \u001b[0m\u001b[35m \u001b[0m│\n",
       "│\u001b[36m \u001b[0m\u001b[36m  target_test/f1_macro   \u001b[0m\u001b[36m \u001b[0m│\u001b[35m \u001b[0m\u001b[35m   0.7643535137176514    \u001b[0m\u001b[35m \u001b[0m│\n",
       "│\u001b[36m \u001b[0m\u001b[36m    target_test/loss     \u001b[0m\u001b[36m \u001b[0m│\u001b[35m \u001b[0m\u001b[35m   0.6779762506484985    \u001b[0m\u001b[35m \u001b[0m│\n",
       "└───────────────────────────┴───────────────────────────┘\n"
      ]
     },
     "metadata": {},
     "output_type": "display_data"
    },
    {
     "name": "stdout",
     "output_type": "stream",
     "text": [
      "Test Results Last Epoch: [{'source_test/loss': 0.6396905183792114, 'source_test/accuracy': 0.795050859451294, 'source_test/f1': 0.7960608601570129, 'source_test/f1_macro': 0.7833123803138733, 'target_test/loss': 0.6779762506484985, 'target_test/accuracy': 0.7783938050270081, 'target_test/f1': 0.78132563829422, 'target_test/f1_macro': 0.7643535137176514}]\n",
      "Best checkpoint path: ./lightning_logs/sa8ev9wd/checkpoints/task-FTR-epoch=01-val_loss=0.55.ckpt\n",
      "Saved epoch checkpoint path: ./lightning_logs/sa8ev9wd/checkpoints/FTR-epoch=02.ckpt\n"
     ]
    },
    {
     "name": "stderr",
     "output_type": "stream",
     "text": [
      "Some weights of BertAdapterModel were not initialized from the model checkpoint at bert-base-uncased and are newly initialized: ['heads.default.3.bias']\n",
      "You should probably TRAIN this model on a down-stream task to be able to use it for predictions and inference.\n"
     ]
    },
    {
     "name": "stdout",
     "output_type": "stream",
     "text": [
      "================================================================================\n",
      "Name                     Architecture         #Param      %Param  Active   Train\n",
      "--------------------------------------------------------------------------------\n",
      "mlm_union_TR             union             7,682,688       7.017       1       1\n",
      "--------------------------------------------------------------------------------\n",
      "Full model                               109,482,240     100.000               0\n",
      "================================================================================\n",
      "trainable params: 8898237 || all params: 118380477 || trainable%: 7.5166422922928415\n",
      "None\n"
     ]
    },
    {
     "name": "stderr",
     "output_type": "stream",
     "text": [
      "LOCAL_RANK: 0 - CUDA_VISIBLE_DEVICES: [0]\n"
     ]
    },
    {
     "data": {
      "application/vnd.jupyter.widget-view+json": {
       "model_id": "acb94d23802443b0996b40449d2031f5",
       "version_major": 2,
       "version_minor": 0
      },
      "text/plain": [
       "Testing: |          | 0/? [00:00<?, ?it/s]"
      ]
     },
     "metadata": {},
     "output_type": "display_data"
    },
    {
     "data": {
      "text/html": [
       "<pre style=\"white-space:pre;overflow-x:auto;line-height:normal;font-family:Menlo,'DejaVu Sans Mono',consolas,'Courier New',monospace\">┏━━━━━━━━━━━━━━━━━━━━━━━━━━━┳━━━━━━━━━━━━━━━━━━━━━━━━━━━┓\n",
       "┃<span style=\"font-weight: bold\">        Test metric        </span>┃<span style=\"font-weight: bold\">       DataLoader 0        </span>┃\n",
       "┡━━━━━━━━━━━━━━━━━━━━━━━━━━━╇━━━━━━━━━━━━━━━━━━━━━━━━━━━┩\n",
       "│<span style=\"color: #008080; text-decoration-color: #008080\">   source_test/accuracy    </span>│<span style=\"color: #800080; text-decoration-color: #800080\">    0.7869623899459839     </span>│\n",
       "│<span style=\"color: #008080; text-decoration-color: #008080\">      source_test/f1       </span>│<span style=\"color: #800080; text-decoration-color: #800080\">    0.7880273461341858     </span>│\n",
       "│<span style=\"color: #008080; text-decoration-color: #008080\">   source_test/f1_macro    </span>│<span style=\"color: #800080; text-decoration-color: #800080\">    0.7765557169914246     </span>│\n",
       "│<span style=\"color: #008080; text-decoration-color: #008080\">     source_test/loss      </span>│<span style=\"color: #800080; text-decoration-color: #800080\">    0.5349451899528503     </span>│\n",
       "│<span style=\"color: #008080; text-decoration-color: #008080\">   target_test/accuracy    </span>│<span style=\"color: #800080; text-decoration-color: #800080\">    0.7647849321365356     </span>│\n",
       "│<span style=\"color: #008080; text-decoration-color: #008080\">      target_test/f1       </span>│<span style=\"color: #800080; text-decoration-color: #800080\">    0.7679782509803772     </span>│\n",
       "│<span style=\"color: #008080; text-decoration-color: #008080\">   target_test/f1_macro    </span>│<span style=\"color: #800080; text-decoration-color: #800080\">     0.752879798412323     </span>│\n",
       "│<span style=\"color: #008080; text-decoration-color: #008080\">     target_test/loss      </span>│<span style=\"color: #800080; text-decoration-color: #800080\">    0.5800536870956421     </span>│\n",
       "└───────────────────────────┴───────────────────────────┘\n",
       "</pre>\n"
      ],
      "text/plain": [
       "┏━━━━━━━━━━━━━━━━━━━━━━━━━━━┳━━━━━━━━━━━━━━━━━━━━━━━━━━━┓\n",
       "┃\u001b[1m \u001b[0m\u001b[1m       Test metric       \u001b[0m\u001b[1m \u001b[0m┃\u001b[1m \u001b[0m\u001b[1m      DataLoader 0       \u001b[0m\u001b[1m \u001b[0m┃\n",
       "┡━━━━━━━━━━━━━━━━━━━━━━━━━━━╇━━━━━━━━━━━━━━━━━━━━━━━━━━━┩\n",
       "│\u001b[36m \u001b[0m\u001b[36m  source_test/accuracy   \u001b[0m\u001b[36m \u001b[0m│\u001b[35m \u001b[0m\u001b[35m   0.7869623899459839    \u001b[0m\u001b[35m \u001b[0m│\n",
       "│\u001b[36m \u001b[0m\u001b[36m     source_test/f1      \u001b[0m\u001b[36m \u001b[0m│\u001b[35m \u001b[0m\u001b[35m   0.7880273461341858    \u001b[0m\u001b[35m \u001b[0m│\n",
       "│\u001b[36m \u001b[0m\u001b[36m  source_test/f1_macro   \u001b[0m\u001b[36m \u001b[0m│\u001b[35m \u001b[0m\u001b[35m   0.7765557169914246    \u001b[0m\u001b[35m \u001b[0m│\n",
       "│\u001b[36m \u001b[0m\u001b[36m    source_test/loss     \u001b[0m\u001b[36m \u001b[0m│\u001b[35m \u001b[0m\u001b[35m   0.5349451899528503    \u001b[0m\u001b[35m \u001b[0m│\n",
       "│\u001b[36m \u001b[0m\u001b[36m  target_test/accuracy   \u001b[0m\u001b[36m \u001b[0m│\u001b[35m \u001b[0m\u001b[35m   0.7647849321365356    \u001b[0m\u001b[35m \u001b[0m│\n",
       "│\u001b[36m \u001b[0m\u001b[36m     target_test/f1      \u001b[0m\u001b[36m \u001b[0m│\u001b[35m \u001b[0m\u001b[35m   0.7679782509803772    \u001b[0m\u001b[35m \u001b[0m│\n",
       "│\u001b[36m \u001b[0m\u001b[36m  target_test/f1_macro   \u001b[0m\u001b[36m \u001b[0m│\u001b[35m \u001b[0m\u001b[35m    0.752879798412323    \u001b[0m\u001b[35m \u001b[0m│\n",
       "│\u001b[36m \u001b[0m\u001b[36m    target_test/loss     \u001b[0m\u001b[36m \u001b[0m│\u001b[35m \u001b[0m\u001b[35m   0.5800536870956421    \u001b[0m\u001b[35m \u001b[0m│\n",
       "└───────────────────────────┴───────────────────────────┘\n"
      ]
     },
     "metadata": {},
     "output_type": "display_data"
    },
    {
     "name": "stdout",
     "output_type": "stream",
     "text": [
      "Test Results on Best Model: [{'source_test/loss': 0.5349451899528503, 'source_test/accuracy': 0.7869623899459839, 'source_test/f1': 0.7880273461341858, 'source_test/f1_macro': 0.7765557169914246, 'target_test/loss': 0.5800536870956421, 'target_test/accuracy': 0.7647849321365356, 'target_test/f1': 0.7679782509803772, 'target_test/f1_macro': 0.752879798412323}]\n"
     ]
    },
    {
     "name": "stderr",
     "output_type": "stream",
     "text": [
      "Some weights of BertAdapterModel were not initialized from the model checkpoint at bert-base-uncased and are newly initialized: ['heads.default.3.bias']\n",
      "You should probably TRAIN this model on a down-stream task to be able to use it for predictions and inference.\n"
     ]
    },
    {
     "name": "stdout",
     "output_type": "stream",
     "text": [
      "================================================================================\n",
      "Name                     Architecture         #Param      %Param  Active   Train\n",
      "--------------------------------------------------------------------------------\n",
      "mlm_union_TR             union             7,682,688       7.017       1       1\n",
      "--------------------------------------------------------------------------------\n",
      "Full model                               109,482,240     100.000               0\n",
      "================================================================================\n",
      "trainable params: 8898237 || all params: 118380477 || trainable%: 7.5166422922928415\n",
      "None\n"
     ]
    },
    {
     "name": "stderr",
     "output_type": "stream",
     "text": [
      "LOCAL_RANK: 0 - CUDA_VISIBLE_DEVICES: [0]\n"
     ]
    },
    {
     "data": {
      "application/vnd.jupyter.widget-view+json": {
       "model_id": "674b02c5b4234f3894d86eabaa43ada1",
       "version_major": 2,
       "version_minor": 0
      },
      "text/plain": [
       "Testing: |          | 0/? [00:00<?, ?it/s]"
      ]
     },
     "metadata": {},
     "output_type": "display_data"
    },
    {
     "data": {
      "text/html": [
       "<pre style=\"white-space:pre;overflow-x:auto;line-height:normal;font-family:Menlo,'DejaVu Sans Mono',consolas,'Courier New',monospace\">┏━━━━━━━━━━━━━━━━━━━━━━━━━━━┳━━━━━━━━━━━━━━━━━━━━━━━━━━━┓\n",
       "┃<span style=\"font-weight: bold\">        Test metric        </span>┃<span style=\"font-weight: bold\">       DataLoader 0        </span>┃\n",
       "┡━━━━━━━━━━━━━━━━━━━━━━━━━━━╇━━━━━━━━━━━━━━━━━━━━━━━━━━━┩\n",
       "│<span style=\"color: #008080; text-decoration-color: #008080\">   source_test/accuracy    </span>│<span style=\"color: #800080; text-decoration-color: #800080\">    0.7864823341369629     </span>│\n",
       "│<span style=\"color: #008080; text-decoration-color: #008080\">      source_test/f1       </span>│<span style=\"color: #800080; text-decoration-color: #800080\">    0.7872293591499329     </span>│\n",
       "│<span style=\"color: #008080; text-decoration-color: #008080\">   source_test/f1_macro    </span>│<span style=\"color: #800080; text-decoration-color: #800080\">    0.7763157486915588     </span>│\n",
       "│<span style=\"color: #008080; text-decoration-color: #008080\">     source_test/loss      </span>│<span style=\"color: #800080; text-decoration-color: #800080\">     0.559710681438446     </span>│\n",
       "│<span style=\"color: #008080; text-decoration-color: #008080\">   target_test/accuracy    </span>│<span style=\"color: #800080; text-decoration-color: #800080\">    0.7771457433700562     </span>│\n",
       "│<span style=\"color: #008080; text-decoration-color: #008080\">      target_test/f1       </span>│<span style=\"color: #800080; text-decoration-color: #800080\">    0.7794585227966309     </span>│\n",
       "│<span style=\"color: #008080; text-decoration-color: #008080\">   target_test/f1_macro    </span>│<span style=\"color: #800080; text-decoration-color: #800080\">    0.7648963928222656     </span>│\n",
       "│<span style=\"color: #008080; text-decoration-color: #008080\">     target_test/loss      </span>│<span style=\"color: #800080; text-decoration-color: #800080\">    0.5817495584487915     </span>│\n",
       "└───────────────────────────┴───────────────────────────┘\n",
       "</pre>\n"
      ],
      "text/plain": [
       "┏━━━━━━━━━━━━━━━━━━━━━━━━━━━┳━━━━━━━━━━━━━━━━━━━━━━━━━━━┓\n",
       "┃\u001b[1m \u001b[0m\u001b[1m       Test metric       \u001b[0m\u001b[1m \u001b[0m┃\u001b[1m \u001b[0m\u001b[1m      DataLoader 0       \u001b[0m\u001b[1m \u001b[0m┃\n",
       "┡━━━━━━━━━━━━━━━━━━━━━━━━━━━╇━━━━━━━━━━━━━━━━━━━━━━━━━━━┩\n",
       "│\u001b[36m \u001b[0m\u001b[36m  source_test/accuracy   \u001b[0m\u001b[36m \u001b[0m│\u001b[35m \u001b[0m\u001b[35m   0.7864823341369629    \u001b[0m\u001b[35m \u001b[0m│\n",
       "│\u001b[36m \u001b[0m\u001b[36m     source_test/f1      \u001b[0m\u001b[36m \u001b[0m│\u001b[35m \u001b[0m\u001b[35m   0.7872293591499329    \u001b[0m\u001b[35m \u001b[0m│\n",
       "│\u001b[36m \u001b[0m\u001b[36m  source_test/f1_macro   \u001b[0m\u001b[36m \u001b[0m│\u001b[35m \u001b[0m\u001b[35m   0.7763157486915588    \u001b[0m\u001b[35m \u001b[0m│\n",
       "│\u001b[36m \u001b[0m\u001b[36m    source_test/loss     \u001b[0m\u001b[36m \u001b[0m│\u001b[35m \u001b[0m\u001b[35m    0.559710681438446    \u001b[0m\u001b[35m \u001b[0m│\n",
       "│\u001b[36m \u001b[0m\u001b[36m  target_test/accuracy   \u001b[0m\u001b[36m \u001b[0m│\u001b[35m \u001b[0m\u001b[35m   0.7771457433700562    \u001b[0m\u001b[35m \u001b[0m│\n",
       "│\u001b[36m \u001b[0m\u001b[36m     target_test/f1      \u001b[0m\u001b[36m \u001b[0m│\u001b[35m \u001b[0m\u001b[35m   0.7794585227966309    \u001b[0m\u001b[35m \u001b[0m│\n",
       "│\u001b[36m \u001b[0m\u001b[36m  target_test/f1_macro   \u001b[0m\u001b[36m \u001b[0m│\u001b[35m \u001b[0m\u001b[35m   0.7648963928222656    \u001b[0m\u001b[35m \u001b[0m│\n",
       "│\u001b[36m \u001b[0m\u001b[36m    target_test/loss     \u001b[0m\u001b[36m \u001b[0m│\u001b[35m \u001b[0m\u001b[35m   0.5817495584487915    \u001b[0m\u001b[35m \u001b[0m│\n",
       "└───────────────────────────┴───────────────────────────┘\n"
      ]
     },
     "metadata": {},
     "output_type": "display_data"
    },
    {
     "name": "stdout",
     "output_type": "stream",
     "text": [
      "Test Results on saved epoch: [{'source_test/loss': 0.559710681438446, 'source_test/accuracy': 0.7864823341369629, 'source_test/f1': 0.7872293591499329, 'source_test/f1_macro': 0.7763157486915588, 'target_test/loss': 0.5817495584487915, 'target_test/accuracy': 0.7771457433700562, 'target_test/f1': 0.7794585227966309, 'target_test/f1_macro': 0.7648963928222656}]\n"
     ]
    },
    {
     "data": {
      "application/vnd.jupyter.widget-view+json": {
       "model_id": "3ebf7816430c45fc83eaa1dc970750d8",
       "version_major": 2,
       "version_minor": 0
      },
      "text/plain": [
       "VBox(children=(Label(value='0.002 MB of 0.002 MB uploaded\\r'), FloatProgress(value=1.0, max=1.0)))"
      ]
     },
     "metadata": {},
     "output_type": "display_data"
    },
    {
     "data": {
      "text/html": [
       "<style>\n",
       "    table.wandb td:nth-child(1) { padding: 0 10px; text-align: left ; width: auto;} td:nth-child(2) {text-align: left ; width: 100%}\n",
       "    .wandb-row { display: flex; flex-direction: row; flex-wrap: wrap; justify-content: flex-start; width: 100% }\n",
       "    .wandb-col { display: flex; flex-direction: column; flex-basis: 100%; flex: 1; padding: 10px; }\n",
       "    </style>\n",
       "<div class=\"wandb-row\"><div class=\"wandb-col\"><h3>Run history:</h3><br/><table class=\"wandb\"><tr><td>epoch</td><td>▁▁▁▁▁▁▁▁▂▂▂▂▂▂▂▂▄▄▄▄▄▄▄▄▅▅▅▅▅▅▅▅▇▇▇▇▇▇▇█</td></tr><tr><td>source_test/accuracy</td><td>█▁▁</td></tr><tr><td>source_test/f1</td><td>█▂▁</td></tr><tr><td>source_test/f1_macro</td><td>█▁▁</td></tr><tr><td>source_test/loss</td><td>█▁▃</td></tr><tr><td>source_val/accuracy</td><td>▁▅▇▇█</td></tr><tr><td>source_val/f1</td><td>▁▅▇▇█</td></tr><tr><td>source_val/loss</td><td>▅▁▁▃█</td></tr><tr><td>target_test/accuracy</td><td>█▁▇</td></tr><tr><td>target_test/f1</td><td>█▁▇</td></tr><tr><td>target_test/f1_macro</td><td>█▁█</td></tr><tr><td>target_test/loss</td><td>█▁▁</td></tr><tr><td>target_val/accuracy</td><td>▁▅▆██</td></tr><tr><td>target_val/f1</td><td>▁▅▆██</td></tr><tr><td>target_val/loss</td><td>▃▁▂▃█</td></tr><tr><td>train_accuracy</td><td>▁▁▂▃▇▅▃▄▃▅█▅▇▇▅▆▅▅▇▇▆▇▇▇▅▇▇▇▇▇▆▆█▆▇█▇██▇</td></tr><tr><td>train_f1</td><td>▁▂▂▃▇▅▄▄▃▅█▅▇▇▅▆▆▆▆▇▆▇▆▇▆▇▇█▇▆▆▆█▆▇█▆██▇</td></tr><tr><td>train_loss</td><td>▇█▆▆▃▅▆▅▅▅▂▄▃▃▄▃▃▃▃▃▃▃▂▂▄▃▃▂▁▂▄▂▂▃▁▁▄▁▁▁</td></tr><tr><td>trainer/global_step</td><td>▁▁▁▂▂▂▂▂▂▃▃▃▃▃▃▄▄▄▄▄▅▅▅▅▅▆▆▆▆▆▆▇▇▇▇▇▇███</td></tr><tr><td>val_loss</td><td>▅▁▁▃█</td></tr></table><br/></div><div class=\"wandb-col\"><h3>Run summary:</h3><br/><table class=\"wandb\"><tr><td>epoch</td><td>5</td></tr><tr><td>source_test/accuracy</td><td>0.78648</td></tr><tr><td>source_test/f1</td><td>0.78723</td></tr><tr><td>source_test/f1_macro</td><td>0.77632</td></tr><tr><td>source_test/loss</td><td>0.55971</td></tr><tr><td>source_val/accuracy</td><td>0.79582</td></tr><tr><td>source_val/f1</td><td>0.79595</td></tr><tr><td>source_val/loss</td><td>0.61341</td></tr><tr><td>target_test/accuracy</td><td>0.77715</td></tr><tr><td>target_test/f1</td><td>0.77946</td></tr><tr><td>target_test/f1_macro</td><td>0.7649</td></tr><tr><td>target_test/loss</td><td>0.58175</td></tr><tr><td>target_val/accuracy</td><td>0.77278</td></tr><tr><td>target_val/f1</td><td>0.77528</td></tr><tr><td>target_val/loss</td><td>0.69433</td></tr><tr><td>train_accuracy</td><td>0.9375</td></tr><tr><td>train_f1</td><td>0.93749</td></tr><tr><td>train_loss</td><td>0.1334</td></tr><tr><td>trainer/global_step</td><td>10880</td></tr><tr><td>val_loss</td><td>0.61341</td></tr></table><br/></div></div>"
      ],
      "text/plain": [
       "<IPython.core.display.HTML object>"
      ]
     },
     "metadata": {},
     "output_type": "display_data"
    },
    {
     "data": {
      "text/html": [
       " View run <strong style=\"color:#cdcd00\">FTR_union_run_with_seed_100</strong> at: <a href='https://wandb.ai/mrawhani/ablations/runs/sa8ev9wd' target=\"_blank\">https://wandb.ai/mrawhani/ablations/runs/sa8ev9wd</a><br/> View project at: <a href='https://wandb.ai/mrawhani/ablations' target=\"_blank\">https://wandb.ai/mrawhani/ablations</a><br/>Synced 5 W&B file(s), 0 media file(s), 0 artifact file(s) and 0 other file(s)"
      ],
      "text/plain": [
       "<IPython.core.display.HTML object>"
      ]
     },
     "metadata": {},
     "output_type": "display_data"
    },
    {
     "data": {
      "text/html": [
       "Find logs at: <code>./wandb/run-20240711_192314-sa8ev9wd/logs</code>"
      ],
      "text/plain": [
       "<IPython.core.display.HTML object>"
      ]
     },
     "metadata": {},
     "output_type": "display_data"
    }
   ],
   "source": [
    "for seed in seeds:\n",
    "    wandb.init(project=project_name, name=f'{domain}_{type}_run_with_seed_{seed}', config={'seed': seed})\n",
    "\n",
    "    try:\n",
    "        seed_everything(seed)\n",
    "\n",
    "        hparams = {\n",
    "            \"source_target\": \"fiction_travel\",\n",
    "            \"source_domain\": \"fiction\",\n",
    "            \"target_domain\": \"travel\",\n",
    "            \"domain_adapter_name\": \"mlm_union_TR\",\n",
    "            \"task_adapter_name\": \"task_FTR\",\n",
    "            \"pretrained_model_name\": \"bert-base-uncased\",\n",
    "            \"padding\": \"max_length\",\n",
    "            \"max_seq_length\": 128,\n",
    "            \"bsz\": 32,\n",
    "            \"num_classes\": 3,\n",
    "            \"learning_rate\": 1e-4,\n",
    "            \"reduction_factor\": 16,\n",
    "            \"mode\": \"domain\",\n",
    "            \"saved_adapter_dir\": \"../../saved/adapters\",\n",
    "        }\n",
    "\n",
    "        save_dir = \"checkpoints\"\n",
    "        save_epoch_3 = 3  # Save model at the 3rd epoch\n",
    "        #save_model_callback_epoch = SaveModelAtEpochCallback(save_dir, save_epoch_3)\n",
    "        # Add a print statement to confirm the callback initialization\n",
    "        #print(f\"Initialized SaveModelAtEpochCallback with save_dir={save_dir} and save_epoch={save_epoch_3}\")\n",
    "        dm = processed.DataModuleSourceTarget(hparams)\n",
    "        dm.setup('fit')\n",
    "        dm.setup(\"test\")\n",
    "\n",
    "        model = DomainTaskAdapter(hparams)\n",
    "\n",
    "        checkpoint_callback = ModelCheckpoint(\n",
    "            filename=\"task-FTR-{epoch:02d}-{val_loss:.2f}\",\n",
    "            save_top_k=1,\n",
    "            monitor=\"val_loss\",\n",
    "            mode=\"min\",\n",
    "        )\n",
    "        save_model_callback_epoch = ModelCheckpoint(\n",
    "                # dirpath=checkpoints_path, # <--- specify this on the trainer itself for version control\n",
    "                filename=\"FTR-{epoch:02d}\",\n",
    "                every_n_epochs=save_epoch_3,\n",
    "                save_top_k=-1,  # <--- this is important!\n",
    "            )\n",
    "       \n",
    "        wandb_logger = WandbLogger()\n",
    "        \n",
    "    except Exception as e:\n",
    "        print(f\"Error during preprocessing : {e}\")   \n",
    "\n",
    "    try:\n",
    "        train_loader = dm.train_dataloader()\n",
    "        val_loader = dm.val_dataloader()\n",
    "        trainer = Trainer(\n",
    "            max_epochs=5,\n",
    "            accelerator=\"auto\",\n",
    "            default_root_dir=\"checkpoints\",\n",
    "            # precision=16,\n",
    "            logger=wandb_logger,\n",
    "            callbacks=[checkpoint_callback,save_model_callback_epoch],\n",
    "            limit_train_batches=1.0,\n",
    "            limit_val_batches=1.0,\n",
    "            limit_test_batches=1.0,\n",
    "            # log_every_n_FTRps=10,\n",
    "        )\n",
    "      \n",
    "        trainer.fit(model, train_loader, val_loader)\n",
    "           # ATESr training, print the paths to verify\n",
    "        print(f\"Best checkpoint path: {checkpoint_callback.best_model_path}\")\n",
    "        print(f\"Saved epoch checkpoint path: {save_model_callback_epoch.best_model_path}\")\n",
    "    except Exception as e:\n",
    "        print(f\"Error during training : {e}\")\n",
    "\n",
    "    try:\n",
    "        \n",
    "        dm.setup(\"test\")\n",
    "        test_loader = dm.test_dataloader()\n",
    "        test_results_last = trainer.test(model, test_loader)\n",
    "        print(\"Test Results Last Epoch:\", test_results_last)\n",
    "\n",
    "        # Collect results for last epoch model\n",
    "        for key, value in test_results_last[0].items():\n",
    "            results[\"last_epoch\"][key].append(value)\n",
    "\n",
    "        # Paths to the saved checkpoints\n",
    "        best_checkpoint_path = checkpoint_callback.best_model_path\n",
    "        saved_epoch_checkpoint_path = save_model_callback_epoch.best_model_path\n",
    "        # Print the paths to verify\n",
    "        print(f\"Best checkpoint path: {best_checkpoint_path}\")\n",
    "        print(f\"Saved epoch checkpoint path: {saved_epoch_checkpoint_path}\")\n",
    "        \n",
    "        best_model = DomainTaskAdapter.load_from_checkpoint(best_checkpoint_path)\n",
    "        test_results_best = trainer.test(best_model, test_loader)\n",
    "        print(\"Test Results on Best Model:\", test_results_best)\n",
    "        # Collect results for best model\n",
    "        for key, value in test_results_best[0].items():\n",
    "            results[\"best_model\"][key].append(value)\n",
    "\n",
    "        saved_epoch_model = DomainTaskAdapter.load_from_checkpoint(saved_epoch_checkpoint_path)\n",
    "        test_results_saved_epoch = trainer.test(saved_epoch_model, test_loader)\n",
    "        print(\"Test Results on saved epoch:\", test_results_saved_epoch)\n",
    "        # Collect results for 3rd epoch model\n",
    "        for key, value in test_results_saved_epoch[0].items():\n",
    "            results[\"epoch_saved\"][key].append(value)\n",
    "        \n",
    "\n",
    "    except Exception as e:\n",
    "        print(f\"Error during testing: {e}\")\n",
    "\n",
    "    # Finish the wandb run\n",
    "    wandb.finish()"
   ]
  },
  {
   "cell_type": "code",
   "execution_count": 5,
   "metadata": {},
   "outputs": [
    {
     "data": {
      "text/html": [
       "wandb version 0.17.4 is available!  To upgrade, please run:\n",
       " $ pip install wandb --upgrade"
      ],
      "text/plain": [
       "<IPython.core.display.HTML object>"
      ]
     },
     "metadata": {},
     "output_type": "display_data"
    },
    {
     "data": {
      "text/html": [
       "Tracking run with wandb version 0.17.0"
      ],
      "text/plain": [
       "<IPython.core.display.HTML object>"
      ]
     },
     "metadata": {},
     "output_type": "display_data"
    },
    {
     "data": {
      "text/html": [
       "Run data is saved locally in <code>/home/guest/Desktop/projects/fourth-expeiments/domain_adaptation_project/union/travel/wandb/run-20240711_165113-x86mxey1</code>"
      ],
      "text/plain": [
       "<IPython.core.display.HTML object>"
      ]
     },
     "metadata": {},
     "output_type": "display_data"
    },
    {
     "data": {
      "text/html": [
       "Syncing run <strong><a href='https://wandb.ai/mrawhani/ablations/runs/x86mxey1' target=\"_blank\">FTR_union_run_with_seed_42</a></strong> to <a href='https://wandb.ai/mrawhani/ablations' target=\"_blank\">Weights & Biases</a> (<a href='https://wandb.me/run' target=\"_blank\">docs</a>)<br/>"
      ],
      "text/plain": [
       "<IPython.core.display.HTML object>"
      ]
     },
     "metadata": {},
     "output_type": "display_data"
    },
    {
     "data": {
      "text/html": [
       " View project at <a href='https://wandb.ai/mrawhani/ablations' target=\"_blank\">https://wandb.ai/mrawhani/ablations</a>"
      ],
      "text/plain": [
       "<IPython.core.display.HTML object>"
      ]
     },
     "metadata": {},
     "output_type": "display_data"
    },
    {
     "data": {
      "text/html": [
       " View run at <a href='https://wandb.ai/mrawhani/ablations/runs/x86mxey1' target=\"_blank\">https://wandb.ai/mrawhani/ablations/runs/x86mxey1</a>"
      ],
      "text/plain": [
       "<IPython.core.display.HTML object>"
      ]
     },
     "metadata": {},
     "output_type": "display_data"
    },
    {
     "name": "stderr",
     "output_type": "stream",
     "text": [
      "Seed set to 42\n",
      "/home/guest/.cache/pypoetry/virtualenvs/fourth-experments-OVNdUUAn-py3.8/lib/python3.8/site-packages/huggingface_hub/file_download.py:1132: FutureWarning: `resume_download` is deprecated and will be removed in version 1.0.0. Downloads always resume when possible. If you want to force a new download, use `force_download=True`.\n",
      "  warnings.warn(\n"
     ]
    },
    {
     "name": "stdout",
     "output_type": "stream",
     "text": [
      "prinssst: fiction\n",
      "print: travel\n",
      "print: 69615\n",
      "prinssst: fiction\n",
      "print: travel\n",
      "print: 69615\n"
     ]
    },
    {
     "name": "stderr",
     "output_type": "stream",
     "text": [
      "Some weights of BertAdapterModel were not initialized from the model checkpoint at bert-base-uncased and are newly initialized: ['heads.default.3.bias']\n",
      "You should probably TRAIN this model on a down-stream task to be able to use it for predictions and inference.\n",
      "/home/guest/.cache/pypoetry/virtualenvs/fourth-experments-OVNdUUAn-py3.8/lib/python3.8/site-packages/torch/utils/data/dataloader.py:558: UserWarning: This DataLoader will create 16 worker processes in total. Our suggested max number of worker in current system is 12, which is smaller than what this DataLoader is going to create. Please be aware that excessive worker creation might get DataLoader running slow or even freeze, lower the worker number to avoid potential slowness/freeze if necessary.\n",
      "  warnings.warn(_create_warning_msg(\n",
      "GPU available: True (cuda), used: True\n",
      "TPU available: False, using: 0 TPU cores\n",
      "IPU available: False, using: 0 IPUs\n",
      "HPU available: False, using: 0 HPUs\n",
      "`Trainer(limit_train_batches=1.0)` was configured so 100% of the batches per epoch will be used..\n",
      "`Trainer(limit_val_batches=1.0)` was configured so 100% of the batches will be used..\n",
      "`Trainer(limit_test_batches=1.0)` was configured so 100% of the batches will be used..\n",
      "/home/guest/.cache/pypoetry/virtualenvs/fourth-experments-OVNdUUAn-py3.8/lib/python3.8/site-packages/pytorch_lightning/loggers/wandb.py:396: There is a wandb run already in progress and newly created instances of `WandbLogger` will reuse this run. If this is not desired, call `wandb.finish()` before instantiating `WandbLogger`.\n",
      "LOCAL_RANK: 0 - CUDA_VISIBLE_DEVICES: [0]\n"
     ]
    },
    {
     "name": "stdout",
     "output_type": "stream",
     "text": [
      "================================================================================\n",
      "Name                     Architecture         #Param      %Param  Active   Train\n",
      "--------------------------------------------------------------------------------\n",
      "mlm_union_TR             union             7,682,688       7.017       1       1\n",
      "--------------------------------------------------------------------------------\n",
      "Full model                               109,482,240     100.000               0\n",
      "================================================================================\n",
      "trainable params: 8898237 || all params: 118380477 || trainable%: 7.5166422922928415\n",
      "None\n"
     ]
    },
    {
     "name": "stderr",
     "output_type": "stream",
     "text": [
      "\n",
      "  | Name      | Type               | Params\n",
      "-------------------------------------------------\n",
      "0 | model     | BertAdapterModel   | 118 M \n",
      "1 | criterion | CrossEntropyLoss   | 0     \n",
      "2 | accuracy  | MulticlassAccuracy | 0     \n",
      "3 | f1        | MulticlassF1Score  | 0     \n",
      "4 | f1_macro  | MulticlassF1Score  | 0     \n",
      "5 | softmax   | Softmax            | 0     \n",
      "-------------------------------------------------\n",
      "8.9 M     Trainable params\n",
      "109 M     Non-trainable params\n",
      "118 M     Total params\n",
      "473.522   Total estimated model params size (MB)\n"
     ]
    },
    {
     "data": {
      "application/vnd.jupyter.widget-view+json": {
       "model_id": "4d1e4095ccfd4a32a8c626ff06f3b0b8",
       "version_major": 2,
       "version_minor": 0
      },
      "text/plain": [
       "Sanity Checking: |          | 0/? [00:00<?, ?it/s]"
      ]
     },
     "metadata": {},
     "output_type": "display_data"
    },
    {
     "name": "stdout",
     "output_type": "stream",
     "text": [
      "target_val/loss: 1.1154842376708984\n",
      "target_val/accuracy: 0.296875\n",
      "target_val/f1: 0.4258694052696228\n",
      "source_val/loss: 1.1031708717346191\n",
      "source_val/accuracy: 0.34375\n",
      "source_val/f1: 0.45090973377227783\n"
     ]
    },
    {
     "data": {
      "application/vnd.jupyter.widget-view+json": {
       "model_id": "d1dc5dddb6f24a17b2fd12b74b79a5ab",
       "version_major": 2,
       "version_minor": 0
      },
      "text/plain": [
       "Training: |          | 0/? [00:00<?, ?it/s]"
      ]
     },
     "metadata": {},
     "output_type": "display_data"
    },
    {
     "data": {
      "application/vnd.jupyter.widget-view+json": {
       "model_id": "36c46884afe04eaa86fd7bfb66b943f6",
       "version_major": 2,
       "version_minor": 0
      },
      "text/plain": [
       "Validation: |          | 0/? [00:00<?, ?it/s]"
      ]
     },
     "metadata": {},
     "output_type": "display_data"
    },
    {
     "name": "stdout",
     "output_type": "stream",
     "text": [
      "target_val/loss: 0.6329450011253357\n",
      "target_val/accuracy: 0.7345883250236511\n",
      "target_val/f1: 0.7392576932907104\n",
      "source_val/loss: 0.596802830696106\n",
      "source_val/accuracy: 0.7526668310165405\n",
      "source_val/f1: 0.7545127272605896\n"
     ]
    },
    {
     "data": {
      "application/vnd.jupyter.widget-view+json": {
       "model_id": "2112753ff67f4a438fc39d9bf79e1139",
       "version_major": 2,
       "version_minor": 0
      },
      "text/plain": [
       "Validation: |          | 0/? [00:00<?, ?it/s]"
      ]
     },
     "metadata": {},
     "output_type": "display_data"
    },
    {
     "name": "stdout",
     "output_type": "stream",
     "text": [
      "target_val/loss: 0.5829988718032837\n",
      "target_val/accuracy: 0.7591459155082703\n",
      "target_val/f1: 0.7614946365356445\n",
      "source_val/loss: 0.5464293360710144\n",
      "source_val/accuracy: 0.7809467911720276\n",
      "source_val/f1: 0.7815488576889038\n"
     ]
    },
    {
     "name": "stderr",
     "output_type": "stream",
     "text": [
      "wandb: Network error (ReadTimeout), entering retry loop.\n"
     ]
    },
    {
     "data": {
      "application/vnd.jupyter.widget-view+json": {
       "model_id": "4ec0c134a0a540f58a77d03a32ea96cf",
       "version_major": 2,
       "version_minor": 0
      },
      "text/plain": [
       "Validation: |          | 0/? [00:00<?, ?it/s]"
      ]
     },
     "metadata": {},
     "output_type": "display_data"
    },
    {
     "name": "stdout",
     "output_type": "stream",
     "text": [
      "target_val/loss: 0.6034703850746155\n",
      "target_val/accuracy: 0.768134593963623\n",
      "target_val/f1: 0.771506667137146\n",
      "source_val/loss: 0.5634050369262695\n",
      "source_val/accuracy: 0.783400297164917\n",
      "source_val/f1: 0.784537672996521\n"
     ]
    },
    {
     "data": {
      "application/vnd.jupyter.widget-view+json": {
       "model_id": "db4a2ba137814032a060793aed41f61b",
       "version_major": 2,
       "version_minor": 0
      },
      "text/plain": [
       "Validation: |          | 0/? [00:00<?, ?it/s]"
      ]
     },
     "metadata": {},
     "output_type": "display_data"
    },
    {
     "name": "stdout",
     "output_type": "stream",
     "text": [
      "target_val/loss: 0.6322782635688782\n",
      "target_val/accuracy: 0.7712843418121338\n",
      "target_val/f1: 0.7732316851615906\n",
      "source_val/loss: 0.5902108550071716\n",
      "source_val/accuracy: 0.7845625281333923\n",
      "source_val/f1: 0.7847421765327454\n"
     ]
    },
    {
     "data": {
      "application/vnd.jupyter.widget-view+json": {
       "model_id": "28073c6c5d164e4c945cd02cf09bde91",
       "version_major": 2,
       "version_minor": 0
      },
      "text/plain": [
       "Validation: |          | 0/? [00:00<?, ?it/s]"
      ]
     },
     "metadata": {},
     "output_type": "display_data"
    },
    {
     "name": "stderr",
     "output_type": "stream",
     "text": [
      "`Trainer.fit` stopped: `max_epochs=5` reached.\n"
     ]
    },
    {
     "name": "stdout",
     "output_type": "stream",
     "text": [
      "target_val/loss: 0.6672396063804626\n",
      "target_val/accuracy: 0.774175763130188\n",
      "target_val/f1: 0.77579665184021\n",
      "source_val/loss: 0.610432505607605\n",
      "source_val/accuracy: 0.7953590750694275\n",
      "source_val/f1: 0.7955551147460938\n",
      "Best checkpoint path: ./lightning_logs/x86mxey1/checkpoints/task-FTR-epoch=01-val_loss=0.55.ckpt\n",
      "Saved epoch checkpoint path: ./lightning_logs/x86mxey1/checkpoints/FTR-epoch=02.ckpt\n"
     ]
    },
    {
     "name": "stderr",
     "output_type": "stream",
     "text": [
      "LOCAL_RANK: 0 - CUDA_VISIBLE_DEVICES: [0]\n"
     ]
    },
    {
     "name": "stdout",
     "output_type": "stream",
     "text": [
      "prinssst: fiction\n",
      "print: travel\n",
      "print: 69615\n"
     ]
    },
    {
     "data": {
      "application/vnd.jupyter.widget-view+json": {
       "model_id": "c026ec48819f4c8a84ee286bb1ce5100",
       "version_major": 2,
       "version_minor": 0
      },
      "text/plain": [
       "Testing: |          | 0/? [00:00<?, ?it/s]"
      ]
     },
     "metadata": {},
     "output_type": "display_data"
    },
    {
     "data": {
      "text/html": [
       "<pre style=\"white-space:pre;overflow-x:auto;line-height:normal;font-family:Menlo,'DejaVu Sans Mono',consolas,'Courier New',monospace\">┏━━━━━━━━━━━━━━━━━━━━━━━━━━━┳━━━━━━━━━━━━━━━━━━━━━━━━━━━┓\n",
       "┃<span style=\"font-weight: bold\">        Test metric        </span>┃<span style=\"font-weight: bold\">       DataLoader 0        </span>┃\n",
       "┡━━━━━━━━━━━━━━━━━━━━━━━━━━━╇━━━━━━━━━━━━━━━━━━━━━━━━━━━┩\n",
       "│<span style=\"color: #008080; text-decoration-color: #008080\">   source_test/accuracy    </span>│<span style=\"color: #800080; text-decoration-color: #800080\">    0.7995871901512146     </span>│\n",
       "│<span style=\"color: #008080; text-decoration-color: #008080\">      source_test/f1       </span>│<span style=\"color: #800080; text-decoration-color: #800080\">    0.7998456358909607     </span>│\n",
       "│<span style=\"color: #008080; text-decoration-color: #008080\">   source_test/f1_macro    </span>│<span style=\"color: #800080; text-decoration-color: #800080\">    0.7889423966407776     </span>│\n",
       "│<span style=\"color: #008080; text-decoration-color: #008080\">     source_test/loss      </span>│<span style=\"color: #800080; text-decoration-color: #800080\">    0.6007943749427795     </span>│\n",
       "│<span style=\"color: #008080; text-decoration-color: #008080\">   target_test/accuracy    </span>│<span style=\"color: #800080; text-decoration-color: #800080\">     0.781682014465332     </span>│\n",
       "│<span style=\"color: #008080; text-decoration-color: #008080\">      target_test/f1       </span>│<span style=\"color: #800080; text-decoration-color: #800080\">    0.7834409475326538     </span>│\n",
       "│<span style=\"color: #008080; text-decoration-color: #008080\">   target_test/f1_macro    </span>│<span style=\"color: #800080; text-decoration-color: #800080\">    0.7700576782226562     </span>│\n",
       "│<span style=\"color: #008080; text-decoration-color: #008080\">     target_test/loss      </span>│<span style=\"color: #800080; text-decoration-color: #800080\">    0.6693516373634338     </span>│\n",
       "└───────────────────────────┴───────────────────────────┘\n",
       "</pre>\n"
      ],
      "text/plain": [
       "┏━━━━━━━━━━━━━━━━━━━━━━━━━━━┳━━━━━━━━━━━━━━━━━━━━━━━━━━━┓\n",
       "┃\u001b[1m \u001b[0m\u001b[1m       Test metric       \u001b[0m\u001b[1m \u001b[0m┃\u001b[1m \u001b[0m\u001b[1m      DataLoader 0       \u001b[0m\u001b[1m \u001b[0m┃\n",
       "┡━━━━━━━━━━━━━━━━━━━━━━━━━━━╇━━━━━━━━━━━━━━━━━━━━━━━━━━━┩\n",
       "│\u001b[36m \u001b[0m\u001b[36m  source_test/accuracy   \u001b[0m\u001b[36m \u001b[0m│\u001b[35m \u001b[0m\u001b[35m   0.7995871901512146    \u001b[0m\u001b[35m \u001b[0m│\n",
       "│\u001b[36m \u001b[0m\u001b[36m     source_test/f1      \u001b[0m\u001b[36m \u001b[0m│\u001b[35m \u001b[0m\u001b[35m   0.7998456358909607    \u001b[0m\u001b[35m \u001b[0m│\n",
       "│\u001b[36m \u001b[0m\u001b[36m  source_test/f1_macro   \u001b[0m\u001b[36m \u001b[0m│\u001b[35m \u001b[0m\u001b[35m   0.7889423966407776    \u001b[0m\u001b[35m \u001b[0m│\n",
       "│\u001b[36m \u001b[0m\u001b[36m    source_test/loss     \u001b[0m\u001b[36m \u001b[0m│\u001b[35m \u001b[0m\u001b[35m   0.6007943749427795    \u001b[0m\u001b[35m \u001b[0m│\n",
       "│\u001b[36m \u001b[0m\u001b[36m  target_test/accuracy   \u001b[0m\u001b[36m \u001b[0m│\u001b[35m \u001b[0m\u001b[35m    0.781682014465332    \u001b[0m\u001b[35m \u001b[0m│\n",
       "│\u001b[36m \u001b[0m\u001b[36m     target_test/f1      \u001b[0m\u001b[36m \u001b[0m│\u001b[35m \u001b[0m\u001b[35m   0.7834409475326538    \u001b[0m\u001b[35m \u001b[0m│\n",
       "│\u001b[36m \u001b[0m\u001b[36m  target_test/f1_macro   \u001b[0m\u001b[36m \u001b[0m│\u001b[35m \u001b[0m\u001b[35m   0.7700576782226562    \u001b[0m\u001b[35m \u001b[0m│\n",
       "│\u001b[36m \u001b[0m\u001b[36m    target_test/loss     \u001b[0m\u001b[36m \u001b[0m│\u001b[35m \u001b[0m\u001b[35m   0.6693516373634338    \u001b[0m\u001b[35m \u001b[0m│\n",
       "└───────────────────────────┴───────────────────────────┘\n"
      ]
     },
     "metadata": {},
     "output_type": "display_data"
    },
    {
     "name": "stdout",
     "output_type": "stream",
     "text": [
      "Test Results Last Epoch: [{'source_test/loss': 0.6007943749427795, 'source_test/accuracy': 0.7995871901512146, 'source_test/f1': 0.7998456358909607, 'source_test/f1_macro': 0.7889423966407776, 'target_test/loss': 0.6693516373634338, 'target_test/accuracy': 0.781682014465332, 'target_test/f1': 0.7834409475326538, 'target_test/f1_macro': 0.7700576782226562}]\n",
      "Best checkpoint path: ./lightning_logs/x86mxey1/checkpoints/task-FTR-epoch=01-val_loss=0.55.ckpt\n",
      "Saved epoch checkpoint path: ./lightning_logs/x86mxey1/checkpoints/FTR-epoch=02.ckpt\n"
     ]
    },
    {
     "name": "stderr",
     "output_type": "stream",
     "text": [
      "Some weights of BertAdapterModel were not initialized from the model checkpoint at bert-base-uncased and are newly initialized: ['heads.default.3.bias']\n",
      "You should probably TRAIN this model on a down-stream task to be able to use it for predictions and inference.\n"
     ]
    },
    {
     "name": "stdout",
     "output_type": "stream",
     "text": [
      "================================================================================\n",
      "Name                     Architecture         #Param      %Param  Active   Train\n",
      "--------------------------------------------------------------------------------\n",
      "mlm_union_TR             union             7,682,688       7.017       1       1\n",
      "--------------------------------------------------------------------------------\n",
      "Full model                               109,482,240     100.000               0\n",
      "================================================================================\n",
      "trainable params: 8898237 || all params: 118380477 || trainable%: 7.5166422922928415\n",
      "None\n"
     ]
    },
    {
     "name": "stderr",
     "output_type": "stream",
     "text": [
      "LOCAL_RANK: 0 - CUDA_VISIBLE_DEVICES: [0]\n"
     ]
    },
    {
     "data": {
      "application/vnd.jupyter.widget-view+json": {
       "model_id": "88bb932efc124363a11bf2205bad2220",
       "version_major": 2,
       "version_minor": 0
      },
      "text/plain": [
       "Testing: |          | 0/? [00:00<?, ?it/s]"
      ]
     },
     "metadata": {},
     "output_type": "display_data"
    },
    {
     "data": {
      "text/html": [
       "<pre style=\"white-space:pre;overflow-x:auto;line-height:normal;font-family:Menlo,'DejaVu Sans Mono',consolas,'Courier New',monospace\">┏━━━━━━━━━━━━━━━━━━━━━━━━━━━┳━━━━━━━━━━━━━━━━━━━━━━━━━━━┓\n",
       "┃<span style=\"font-weight: bold\">        Test metric        </span>┃<span style=\"font-weight: bold\">       DataLoader 0        </span>┃\n",
       "┡━━━━━━━━━━━━━━━━━━━━━━━━━━━╇━━━━━━━━━━━━━━━━━━━━━━━━━━━┩\n",
       "│<span style=\"color: #008080; text-decoration-color: #008080\">   source_test/accuracy    </span>│<span style=\"color: #800080; text-decoration-color: #800080\">    0.7894825339317322     </span>│\n",
       "│<span style=\"color: #008080; text-decoration-color: #008080\">      source_test/f1       </span>│<span style=\"color: #800080; text-decoration-color: #800080\">    0.7903174757957458     </span>│\n",
       "│<span style=\"color: #008080; text-decoration-color: #008080\">   source_test/f1_macro    </span>│<span style=\"color: #800080; text-decoration-color: #800080\">    0.7784430384635925     </span>│\n",
       "│<span style=\"color: #008080; text-decoration-color: #008080\">     source_test/loss      </span>│<span style=\"color: #800080; text-decoration-color: #800080\">    0.5334765315055847     </span>│\n",
       "│<span style=\"color: #008080; text-decoration-color: #008080\">   target_test/accuracy    </span>│<span style=\"color: #800080; text-decoration-color: #800080\">    0.7751055955886841     </span>│\n",
       "│<span style=\"color: #008080; text-decoration-color: #008080\">      target_test/f1       </span>│<span style=\"color: #800080; text-decoration-color: #800080\">    0.7779351472854614     </span>│\n",
       "│<span style=\"color: #008080; text-decoration-color: #008080\">   target_test/f1_macro    </span>│<span style=\"color: #800080; text-decoration-color: #800080\">    0.7628676891326904     </span>│\n",
       "│<span style=\"color: #008080; text-decoration-color: #008080\">     target_test/loss      </span>│<span style=\"color: #800080; text-decoration-color: #800080\">    0.5790554285049438     </span>│\n",
       "└───────────────────────────┴───────────────────────────┘\n",
       "</pre>\n"
      ],
      "text/plain": [
       "┏━━━━━━━━━━━━━━━━━━━━━━━━━━━┳━━━━━━━━━━━━━━━━━━━━━━━━━━━┓\n",
       "┃\u001b[1m \u001b[0m\u001b[1m       Test metric       \u001b[0m\u001b[1m \u001b[0m┃\u001b[1m \u001b[0m\u001b[1m      DataLoader 0       \u001b[0m\u001b[1m \u001b[0m┃\n",
       "┡━━━━━━━━━━━━━━━━━━━━━━━━━━━╇━━━━━━━━━━━━━━━━━━━━━━━━━━━┩\n",
       "│\u001b[36m \u001b[0m\u001b[36m  source_test/accuracy   \u001b[0m\u001b[36m \u001b[0m│\u001b[35m \u001b[0m\u001b[35m   0.7894825339317322    \u001b[0m\u001b[35m \u001b[0m│\n",
       "│\u001b[36m \u001b[0m\u001b[36m     source_test/f1      \u001b[0m\u001b[36m \u001b[0m│\u001b[35m \u001b[0m\u001b[35m   0.7903174757957458    \u001b[0m\u001b[35m \u001b[0m│\n",
       "│\u001b[36m \u001b[0m\u001b[36m  source_test/f1_macro   \u001b[0m\u001b[36m \u001b[0m│\u001b[35m \u001b[0m\u001b[35m   0.7784430384635925    \u001b[0m\u001b[35m \u001b[0m│\n",
       "│\u001b[36m \u001b[0m\u001b[36m    source_test/loss     \u001b[0m\u001b[36m \u001b[0m│\u001b[35m \u001b[0m\u001b[35m   0.5334765315055847    \u001b[0m\u001b[35m \u001b[0m│\n",
       "│\u001b[36m \u001b[0m\u001b[36m  target_test/accuracy   \u001b[0m\u001b[36m \u001b[0m│\u001b[35m \u001b[0m\u001b[35m   0.7751055955886841    \u001b[0m\u001b[35m \u001b[0m│\n",
       "│\u001b[36m \u001b[0m\u001b[36m     target_test/f1      \u001b[0m\u001b[36m \u001b[0m│\u001b[35m \u001b[0m\u001b[35m   0.7779351472854614    \u001b[0m\u001b[35m \u001b[0m│\n",
       "│\u001b[36m \u001b[0m\u001b[36m  target_test/f1_macro   \u001b[0m\u001b[36m \u001b[0m│\u001b[35m \u001b[0m\u001b[35m   0.7628676891326904    \u001b[0m\u001b[35m \u001b[0m│\n",
       "│\u001b[36m \u001b[0m\u001b[36m    target_test/loss     \u001b[0m\u001b[36m \u001b[0m│\u001b[35m \u001b[0m\u001b[35m   0.5790554285049438    \u001b[0m\u001b[35m \u001b[0m│\n",
       "└───────────────────────────┴───────────────────────────┘\n"
      ]
     },
     "metadata": {},
     "output_type": "display_data"
    },
    {
     "name": "stdout",
     "output_type": "stream",
     "text": [
      "Test Results on Best Model: [{'source_test/loss': 0.5334765315055847, 'source_test/accuracy': 0.7894825339317322, 'source_test/f1': 0.7903174757957458, 'source_test/f1_macro': 0.7784430384635925, 'target_test/loss': 0.5790554285049438, 'target_test/accuracy': 0.7751055955886841, 'target_test/f1': 0.7779351472854614, 'target_test/f1_macro': 0.7628676891326904}]\n"
     ]
    },
    {
     "name": "stderr",
     "output_type": "stream",
     "text": [
      "Some weights of BertAdapterModel were not initialized from the model checkpoint at bert-base-uncased and are newly initialized: ['heads.default.3.bias']\n",
      "You should probably TRAIN this model on a down-stream task to be able to use it for predictions and inference.\n"
     ]
    },
    {
     "name": "stdout",
     "output_type": "stream",
     "text": [
      "================================================================================\n",
      "Name                     Architecture         #Param      %Param  Active   Train\n",
      "--------------------------------------------------------------------------------\n",
      "mlm_union_TR             union             7,682,688       7.017       1       1\n",
      "--------------------------------------------------------------------------------\n",
      "Full model                               109,482,240     100.000               0\n",
      "================================================================================\n",
      "trainable params: 8898237 || all params: 118380477 || trainable%: 7.5166422922928415\n",
      "None\n"
     ]
    },
    {
     "name": "stderr",
     "output_type": "stream",
     "text": [
      "LOCAL_RANK: 0 - CUDA_VISIBLE_DEVICES: [0]\n"
     ]
    },
    {
     "data": {
      "application/vnd.jupyter.widget-view+json": {
       "model_id": "388da1d78f1d48b19fbfa7fdce7a1f08",
       "version_major": 2,
       "version_minor": 0
      },
      "text/plain": [
       "Testing: |          | 0/? [00:00<?, ?it/s]"
      ]
     },
     "metadata": {},
     "output_type": "display_data"
    },
    {
     "data": {
      "text/html": [
       "<pre style=\"white-space:pre;overflow-x:auto;line-height:normal;font-family:Menlo,'DejaVu Sans Mono',consolas,'Courier New',monospace\">┏━━━━━━━━━━━━━━━━━━━━━━━━━━━┳━━━━━━━━━━━━━━━━━━━━━━━━━━━┓\n",
       "┃<span style=\"font-weight: bold\">        Test metric        </span>┃<span style=\"font-weight: bold\">       DataLoader 0        </span>┃\n",
       "┡━━━━━━━━━━━━━━━━━━━━━━━━━━━╇━━━━━━━━━━━━━━━━━━━━━━━━━━━┩\n",
       "│<span style=\"color: #008080; text-decoration-color: #008080\">   source_test/accuracy    </span>│<span style=\"color: #800080; text-decoration-color: #800080\">    0.7861943244934082     </span>│\n",
       "│<span style=\"color: #008080; text-decoration-color: #008080\">      source_test/f1       </span>│<span style=\"color: #800080; text-decoration-color: #800080\">    0.7875419855117798     </span>│\n",
       "│<span style=\"color: #008080; text-decoration-color: #008080\">   source_test/f1_macro    </span>│<span style=\"color: #800080; text-decoration-color: #800080\">    0.7751455307006836     </span>│\n",
       "│<span style=\"color: #008080; text-decoration-color: #008080\">     source_test/loss      </span>│<span style=\"color: #800080; text-decoration-color: #800080\">    0.5526570677757263     </span>│\n",
       "│<span style=\"color: #008080; text-decoration-color: #008080\">   target_test/accuracy    </span>│<span style=\"color: #800080; text-decoration-color: #800080\">    0.7847062349319458     </span>│\n",
       "│<span style=\"color: #008080; text-decoration-color: #008080\">      target_test/f1       </span>│<span style=\"color: #800080; text-decoration-color: #800080\">    0.7874225974082947     </span>│\n",
       "│<span style=\"color: #008080; text-decoration-color: #008080\">   target_test/f1_macro    </span>│<span style=\"color: #800080; text-decoration-color: #800080\">     0.772620439529419     </span>│\n",
       "│<span style=\"color: #008080; text-decoration-color: #008080\">     target_test/loss      </span>│<span style=\"color: #800080; text-decoration-color: #800080\">    0.5966054797172546     </span>│\n",
       "└───────────────────────────┴───────────────────────────┘\n",
       "</pre>\n"
      ],
      "text/plain": [
       "┏━━━━━━━━━━━━━━━━━━━━━━━━━━━┳━━━━━━━━━━━━━━━━━━━━━━━━━━━┓\n",
       "┃\u001b[1m \u001b[0m\u001b[1m       Test metric       \u001b[0m\u001b[1m \u001b[0m┃\u001b[1m \u001b[0m\u001b[1m      DataLoader 0       \u001b[0m\u001b[1m \u001b[0m┃\n",
       "┡━━━━━━━━━━━━━━━━━━━━━━━━━━━╇━━━━━━━━━━━━━━━━━━━━━━━━━━━┩\n",
       "│\u001b[36m \u001b[0m\u001b[36m  source_test/accuracy   \u001b[0m\u001b[36m \u001b[0m│\u001b[35m \u001b[0m\u001b[35m   0.7861943244934082    \u001b[0m\u001b[35m \u001b[0m│\n",
       "│\u001b[36m \u001b[0m\u001b[36m     source_test/f1      \u001b[0m\u001b[36m \u001b[0m│\u001b[35m \u001b[0m\u001b[35m   0.7875419855117798    \u001b[0m\u001b[35m \u001b[0m│\n",
       "│\u001b[36m \u001b[0m\u001b[36m  source_test/f1_macro   \u001b[0m\u001b[36m \u001b[0m│\u001b[35m \u001b[0m\u001b[35m   0.7751455307006836    \u001b[0m\u001b[35m \u001b[0m│\n",
       "│\u001b[36m \u001b[0m\u001b[36m    source_test/loss     \u001b[0m\u001b[36m \u001b[0m│\u001b[35m \u001b[0m\u001b[35m   0.5526570677757263    \u001b[0m\u001b[35m \u001b[0m│\n",
       "│\u001b[36m \u001b[0m\u001b[36m  target_test/accuracy   \u001b[0m\u001b[36m \u001b[0m│\u001b[35m \u001b[0m\u001b[35m   0.7847062349319458    \u001b[0m\u001b[35m \u001b[0m│\n",
       "│\u001b[36m \u001b[0m\u001b[36m     target_test/f1      \u001b[0m\u001b[36m \u001b[0m│\u001b[35m \u001b[0m\u001b[35m   0.7874225974082947    \u001b[0m\u001b[35m \u001b[0m│\n",
       "│\u001b[36m \u001b[0m\u001b[36m  target_test/f1_macro   \u001b[0m\u001b[36m \u001b[0m│\u001b[35m \u001b[0m\u001b[35m    0.772620439529419    \u001b[0m\u001b[35m \u001b[0m│\n",
       "│\u001b[36m \u001b[0m\u001b[36m    target_test/loss     \u001b[0m\u001b[36m \u001b[0m│\u001b[35m \u001b[0m\u001b[35m   0.5966054797172546    \u001b[0m\u001b[35m \u001b[0m│\n",
       "└───────────────────────────┴───────────────────────────┘\n"
      ]
     },
     "metadata": {},
     "output_type": "display_data"
    },
    {
     "name": "stdout",
     "output_type": "stream",
     "text": [
      "Test Results on saved epoch: [{'source_test/loss': 0.5526570677757263, 'source_test/accuracy': 0.7861943244934082, 'source_test/f1': 0.7875419855117798, 'source_test/f1_macro': 0.7751455307006836, 'target_test/loss': 0.5966054797172546, 'target_test/accuracy': 0.7847062349319458, 'target_test/f1': 0.7874225974082947, 'target_test/f1_macro': 0.772620439529419}]\n"
     ]
    },
    {
     "data": {
      "application/vnd.jupyter.widget-view+json": {
       "model_id": "20c0c684797f4284a1e28eb8dc126e95",
       "version_major": 2,
       "version_minor": 0
      },
      "text/plain": [
       "VBox(children=(Label(value='0.002 MB of 0.002 MB uploaded\\r'), FloatProgress(value=1.0, max=1.0)))"
      ]
     },
     "metadata": {},
     "output_type": "display_data"
    },
    {
     "data": {
      "text/html": [
       "<style>\n",
       "    table.wandb td:nth-child(1) { padding: 0 10px; text-align: left ; width: auto;} td:nth-child(2) {text-align: left ; width: 100%}\n",
       "    .wandb-row { display: flex; flex-direction: row; flex-wrap: wrap; justify-content: flex-start; width: 100% }\n",
       "    .wandb-col { display: flex; flex-direction: column; flex-basis: 100%; flex: 1; padding: 10px; }\n",
       "    </style>\n",
       "<div class=\"wandb-row\"><div class=\"wandb-col\"><h3>Run history:</h3><br/><table class=\"wandb\"><tr><td>epoch</td><td>▁▁▁▁▁▁▁▁▂▂▂▂▂▂▂▂▄▄▄▄▄▄▄▄▅▅▅▅▅▅▅▅▇▇▇▇▇▇▇█</td></tr><tr><td>source_test/accuracy</td><td>█▃▁</td></tr><tr><td>source_test/f1</td><td>█▃▁</td></tr><tr><td>source_test/f1_macro</td><td>█▃▁</td></tr><tr><td>source_test/loss</td><td>█▁▃</td></tr><tr><td>source_val/accuracy</td><td>▁▆▆▆█</td></tr><tr><td>source_val/f1</td><td>▁▆▆▆█</td></tr><tr><td>source_val/loss</td><td>▇▁▃▆█</td></tr><tr><td>target_test/accuracy</td><td>▆▁█</td></tr><tr><td>target_test/f1</td><td>▅▁█</td></tr><tr><td>target_test/f1_macro</td><td>▆▁█</td></tr><tr><td>target_test/loss</td><td>█▁▂</td></tr><tr><td>target_val/accuracy</td><td>▁▅▇▇█</td></tr><tr><td>target_val/f1</td><td>▁▅▇██</td></tr><tr><td>target_val/loss</td><td>▅▁▃▅█</td></tr><tr><td>train_accuracy</td><td>▁▃▅▄▆▅▅▄▄▅▆▅▆▇▄▆▇▄▅▆▆▇▇█▅▇▆██▇▆▇▇▆▆▇▆▇▆▇</td></tr><tr><td>train_f1</td><td>▁▃▅▄▆▄▅▄▄▅▆▅▆▇▄▆▇▅▅▆▆▇▇█▅▇▆██▇▆▇▇▆▆▇▆▇▆▇</td></tr><tr><td>train_loss</td><td>██▆▆▄▆▆▆▆▆▃▅▄▃▅▄▄▅▂▄▃▃▃▂▅▂▃▁▁▁▅▁▃▃▄▂▂▄▄▂</td></tr><tr><td>trainer/global_step</td><td>▁▁▁▂▂▂▂▂▂▃▃▃▃▃▃▄▄▄▄▄▅▅▅▅▅▆▆▆▆▆▆▇▇▇▇▇▇███</td></tr><tr><td>val_loss</td><td>▇▁▃▆█</td></tr></table><br/></div><div class=\"wandb-col\"><h3>Run summary:</h3><br/><table class=\"wandb\"><tr><td>epoch</td><td>5</td></tr><tr><td>source_test/accuracy</td><td>0.78619</td></tr><tr><td>source_test/f1</td><td>0.78754</td></tr><tr><td>source_test/f1_macro</td><td>0.77515</td></tr><tr><td>source_test/loss</td><td>0.55266</td></tr><tr><td>source_val/accuracy</td><td>0.79536</td></tr><tr><td>source_val/f1</td><td>0.79556</td></tr><tr><td>source_val/loss</td><td>0.61043</td></tr><tr><td>target_test/accuracy</td><td>0.78471</td></tr><tr><td>target_test/f1</td><td>0.78742</td></tr><tr><td>target_test/f1_macro</td><td>0.77262</td></tr><tr><td>target_test/loss</td><td>0.59661</td></tr><tr><td>target_val/accuracy</td><td>0.77418</td></tr><tr><td>target_val/f1</td><td>0.7758</td></tr><tr><td>target_val/loss</td><td>0.66724</td></tr><tr><td>train_accuracy</td><td>0.90625</td></tr><tr><td>train_f1</td><td>0.90627</td></tr><tr><td>train_loss</td><td>0.27872</td></tr><tr><td>trainer/global_step</td><td>10880</td></tr><tr><td>val_loss</td><td>0.61043</td></tr></table><br/></div></div>"
      ],
      "text/plain": [
       "<IPython.core.display.HTML object>"
      ]
     },
     "metadata": {},
     "output_type": "display_data"
    },
    {
     "data": {
      "text/html": [
       " View run <strong style=\"color:#cdcd00\">FTR_union_run_with_seed_42</strong> at: <a href='https://wandb.ai/mrawhani/ablations/runs/x86mxey1' target=\"_blank\">https://wandb.ai/mrawhani/ablations/runs/x86mxey1</a><br/> View project at: <a href='https://wandb.ai/mrawhani/ablations' target=\"_blank\">https://wandb.ai/mrawhani/ablations</a><br/>Synced 5 W&B file(s), 0 media file(s), 0 artifact file(s) and 0 other file(s)"
      ],
      "text/plain": [
       "<IPython.core.display.HTML object>"
      ]
     },
     "metadata": {},
     "output_type": "display_data"
    },
    {
     "data": {
      "text/html": [
       "Find logs at: <code>./wandb/run-20240711_165113-x86mxey1/logs</code>"
      ],
      "text/plain": [
       "<IPython.core.display.HTML object>"
      ]
     },
     "metadata": {},
     "output_type": "display_data"
    },
    {
     "data": {
      "application/vnd.jupyter.widget-view+json": {
       "model_id": "d864ce17e4d943688016ac349d0fba5a",
       "version_major": 2,
       "version_minor": 0
      },
      "text/plain": [
       "VBox(children=(Label(value='Waiting for wandb.init()...\\r'), FloatProgress(value=0.011112680989026558, max=1.0…"
      ]
     },
     "metadata": {},
     "output_type": "display_data"
    },
    {
     "data": {
      "text/html": [
       "wandb version 0.17.4 is available!  To upgrade, please run:\n",
       " $ pip install wandb --upgrade"
      ],
      "text/plain": [
       "<IPython.core.display.HTML object>"
      ]
     },
     "metadata": {},
     "output_type": "display_data"
    },
    {
     "data": {
      "text/html": [
       "Tracking run with wandb version 0.17.0"
      ],
      "text/plain": [
       "<IPython.core.display.HTML object>"
      ]
     },
     "metadata": {},
     "output_type": "display_data"
    },
    {
     "data": {
      "text/html": [
       "Run data is saved locally in <code>/home/guest/Desktop/projects/fourth-expeiments/domain_adaptation_project/union/travel/wandb/run-20240711_173622-0ya5yqti</code>"
      ],
      "text/plain": [
       "<IPython.core.display.HTML object>"
      ]
     },
     "metadata": {},
     "output_type": "display_data"
    },
    {
     "data": {
      "text/html": [
       "Syncing run <strong><a href='https://wandb.ai/mrawhani/ablations/runs/0ya5yqti' target=\"_blank\">FTR_union_run_with_seed_10</a></strong> to <a href='https://wandb.ai/mrawhani/ablations' target=\"_blank\">Weights & Biases</a> (<a href='https://wandb.me/run' target=\"_blank\">docs</a>)<br/>"
      ],
      "text/plain": [
       "<IPython.core.display.HTML object>"
      ]
     },
     "metadata": {},
     "output_type": "display_data"
    },
    {
     "data": {
      "text/html": [
       " View project at <a href='https://wandb.ai/mrawhani/ablations' target=\"_blank\">https://wandb.ai/mrawhani/ablations</a>"
      ],
      "text/plain": [
       "<IPython.core.display.HTML object>"
      ]
     },
     "metadata": {},
     "output_type": "display_data"
    },
    {
     "data": {
      "text/html": [
       " View run at <a href='https://wandb.ai/mrawhani/ablations/runs/0ya5yqti' target=\"_blank\">https://wandb.ai/mrawhani/ablations/runs/0ya5yqti</a>"
      ],
      "text/plain": [
       "<IPython.core.display.HTML object>"
      ]
     },
     "metadata": {},
     "output_type": "display_data"
    },
    {
     "name": "stderr",
     "output_type": "stream",
     "text": [
      "Seed set to 10\n",
      "/home/guest/.cache/pypoetry/virtualenvs/fourth-experments-OVNdUUAn-py3.8/lib/python3.8/site-packages/huggingface_hub/file_download.py:1132: FutureWarning: `resume_download` is deprecated and will be removed in version 1.0.0. Downloads always resume when possible. If you want to force a new download, use `force_download=True`.\n",
      "  warnings.warn(\n"
     ]
    },
    {
     "name": "stdout",
     "output_type": "stream",
     "text": [
      "prinssst: fiction\n",
      "print: travel\n",
      "print: 69615\n",
      "prinssst: fiction\n",
      "print: travel\n",
      "print: 69615\n"
     ]
    },
    {
     "name": "stderr",
     "output_type": "stream",
     "text": [
      "Some weights of BertAdapterModel were not initialized from the model checkpoint at bert-base-uncased and are newly initialized: ['heads.default.3.bias']\n",
      "You should probably TRAIN this model on a down-stream task to be able to use it for predictions and inference.\n",
      "/home/guest/.cache/pypoetry/virtualenvs/fourth-experments-OVNdUUAn-py3.8/lib/python3.8/site-packages/torch/utils/data/dataloader.py:558: UserWarning: This DataLoader will create 16 worker processes in total. Our suggested max number of worker in current system is 12, which is smaller than what this DataLoader is going to create. Please be aware that excessive worker creation might get DataLoader running slow or even freeze, lower the worker number to avoid potential slowness/freeze if necessary.\n",
      "  warnings.warn(_create_warning_msg(\n",
      "GPU available: True (cuda), used: True\n",
      "TPU available: False, using: 0 TPU cores\n",
      "IPU available: False, using: 0 IPUs\n",
      "HPU available: False, using: 0 HPUs\n",
      "`Trainer(limit_train_batches=1.0)` was configured so 100% of the batches per epoch will be used..\n",
      "`Trainer(limit_val_batches=1.0)` was configured so 100% of the batches will be used..\n",
      "`Trainer(limit_test_batches=1.0)` was configured so 100% of the batches will be used..\n",
      "/home/guest/.cache/pypoetry/virtualenvs/fourth-experments-OVNdUUAn-py3.8/lib/python3.8/site-packages/pytorch_lightning/loggers/wandb.py:396: There is a wandb run already in progress and newly created instances of `WandbLogger` will reuse this run. If this is not desired, call `wandb.finish()` before instantiating `WandbLogger`.\n",
      "LOCAL_RANK: 0 - CUDA_VISIBLE_DEVICES: [0]\n"
     ]
    },
    {
     "name": "stdout",
     "output_type": "stream",
     "text": [
      "================================================================================\n",
      "Name                     Architecture         #Param      %Param  Active   Train\n",
      "--------------------------------------------------------------------------------\n",
      "mlm_union_TR             union             7,682,688       7.017       1       1\n",
      "--------------------------------------------------------------------------------\n",
      "Full model                               109,482,240     100.000               0\n",
      "================================================================================\n",
      "trainable params: 8898237 || all params: 118380477 || trainable%: 7.5166422922928415\n",
      "None\n"
     ]
    },
    {
     "name": "stderr",
     "output_type": "stream",
     "text": [
      "\n",
      "  | Name      | Type               | Params\n",
      "-------------------------------------------------\n",
      "0 | model     | BertAdapterModel   | 118 M \n",
      "1 | criterion | CrossEntropyLoss   | 0     \n",
      "2 | accuracy  | MulticlassAccuracy | 0     \n",
      "3 | f1        | MulticlassF1Score  | 0     \n",
      "4 | f1_macro  | MulticlassF1Score  | 0     \n",
      "5 | softmax   | Softmax            | 0     \n",
      "-------------------------------------------------\n",
      "8.9 M     Trainable params\n",
      "109 M     Non-trainable params\n",
      "118 M     Total params\n",
      "473.522   Total estimated model params size (MB)\n"
     ]
    },
    {
     "data": {
      "application/vnd.jupyter.widget-view+json": {
       "model_id": "03a758339d324298a6df757a529074a8",
       "version_major": 2,
       "version_minor": 0
      },
      "text/plain": [
       "Sanity Checking: |          | 0/? [00:00<?, ?it/s]"
      ]
     },
     "metadata": {},
     "output_type": "display_data"
    },
    {
     "name": "stdout",
     "output_type": "stream",
     "text": [
      "target_val/loss: 1.105468511581421\n",
      "target_val/accuracy: 0.25\n",
      "target_val/f1: 0.28569459915161133\n",
      "source_val/loss: 1.1116678714752197\n",
      "source_val/accuracy: 0.234375\n",
      "source_val/f1: 0.3060155212879181\n"
     ]
    },
    {
     "data": {
      "application/vnd.jupyter.widget-view+json": {
       "model_id": "3e6ce0710af144b1bb23dec68e1c4db4",
       "version_major": 2,
       "version_minor": 0
      },
      "text/plain": [
       "Training: |          | 0/? [00:00<?, ?it/s]"
      ]
     },
     "metadata": {},
     "output_type": "display_data"
    },
    {
     "data": {
      "application/vnd.jupyter.widget-view+json": {
       "model_id": "db69bd527a1d40b0aa6a98b54381283d",
       "version_major": 2,
       "version_minor": 0
      },
      "text/plain": [
       "Validation: |          | 0/? [00:00<?, ?it/s]"
      ]
     },
     "metadata": {},
     "output_type": "display_data"
    }
   ],
   "source": [
    "for seed in seeds:\n",
    "    wandb.init(project=project_name, name=f'{domain}_{type}_run_with_seed_{seed}', config={'seed': seed})\n",
    "\n",
    "    try:\n",
    "        seed_everything(seed)\n",
    "\n",
    "        hparams = {\n",
    "            \"source_target\": \"fiction_travel\",\n",
    "            \"source_domain\": \"fiction\",\n",
    "            \"target_domain\": \"travel\",\n",
    "            \"domain_adapter_name\": \"mlm_union_TR\",\n",
    "            \"task_adapter_name\": \"task_FTR\",\n",
    "            \"pretrained_model_name\": \"bert-base-uncased\",\n",
    "            \"padding\": \"max_length\",\n",
    "            \"max_seq_length\": 128,\n",
    "            \"bsz\": 32,\n",
    "            \"num_classes\": 3,\n",
    "            \"learning_rate\": 1e-4,\n",
    "            \"reduction_factor\": 16,\n",
    "            \"mode\": \"domain\",\n",
    "            \"saved_adapter_dir\": \"../../saved/adapters\",\n",
    "        }\n",
    "\n",
    "        save_dir = \"checkpoints\"\n",
    "        save_epoch_3 = 3  # Save model at the 3rd epoch\n",
    "        #save_model_callback_epoch = SaveModelAtEpochCallback(save_dir, save_epoch_3)\n",
    "        # Add a print statement to confirm the callback initialization\n",
    "        #print(f\"Initialized SaveModelAtEpochCallback with save_dir={save_dir} and save_epoch={save_epoch_3}\")\n",
    "        dm = processed.DataModuleSourceTarget(hparams)\n",
    "        dm.setup('fit')\n",
    "        dm.setup(\"test\")\n",
    "\n",
    "        model = DomainTaskAdapter(hparams)\n",
    "\n",
    "        checkpoint_callback = ModelCheckpoint(\n",
    "            filename=\"task-FTR-{epoch:02d}-{val_loss:.2f}\",\n",
    "            save_top_k=1,\n",
    "            monitor=\"val_loss\",\n",
    "            mode=\"min\",\n",
    "        )\n",
    "        save_model_callback_epoch = ModelCheckpoint(\n",
    "                # dirpath=checkpoints_path, # <--- specify this on the trainer itself for version control\n",
    "                filename=\"FTR-{epoch:02d}\",\n",
    "                every_n_epochs=save_epoch_3,\n",
    "                save_top_k=-1,  # <--- this is important!\n",
    "            )\n",
    "       \n",
    "        wandb_logger = WandbLogger()\n",
    "        \n",
    "    except Exception as e:\n",
    "        print(f\"Error during preprocessing : {e}\")   \n",
    "\n",
    "    try:\n",
    "        train_loader = dm.train_dataloader()\n",
    "        val_loader = dm.val_dataloader()\n",
    "        trainer = Trainer(\n",
    "            max_epochs=5,\n",
    "            accelerator=\"auto\",\n",
    "            default_root_dir=\"checkpoints\",\n",
    "            # precision=16,\n",
    "            logger=wandb_logger,\n",
    "            callbacks=[checkpoint_callback,save_model_callback_epoch],\n",
    "            limit_train_batches=1.0,\n",
    "            limit_val_batches=1.0,\n",
    "            limit_test_batches=1.0,\n",
    "            # log_every_n_FTRps=10,\n",
    "        )\n",
    "      \n",
    "        trainer.fit(model, train_loader, val_loader)\n",
    "           # ATESr training, print the paths to verify\n",
    "        print(f\"Best checkpoint path: {checkpoint_callback.best_model_path}\")\n",
    "        print(f\"Saved epoch checkpoint path: {save_model_callback_epoch.best_model_path}\")\n",
    "    except Exception as e:\n",
    "        print(f\"Error during training : {e}\")\n",
    "\n",
    "    try:\n",
    "        \n",
    "        dm.setup(\"test\")\n",
    "        test_loader = dm.test_dataloader()\n",
    "        test_results_last = trainer.test(model, test_loader)\n",
    "        print(\"Test Results Last Epoch:\", test_results_last)\n",
    "\n",
    "        # Collect results for last epoch model\n",
    "        for key, value in test_results_last[0].items():\n",
    "            results[\"last_epoch\"][key].append(value)\n",
    "\n",
    "        # Paths to the saved checkpoints\n",
    "        best_checkpoint_path = checkpoint_callback.best_model_path\n",
    "        saved_epoch_checkpoint_path = save_model_callback_epoch.best_model_path\n",
    "        # Print the paths to verify\n",
    "        print(f\"Best checkpoint path: {best_checkpoint_path}\")\n",
    "        print(f\"Saved epoch checkpoint path: {saved_epoch_checkpoint_path}\")\n",
    "        \n",
    "        best_model = DomainTaskAdapter.load_from_checkpoint(best_checkpoint_path)\n",
    "        test_results_best = trainer.test(best_model, test_loader)\n",
    "        print(\"Test Results on Best Model:\", test_results_best)\n",
    "        # Collect results for best model\n",
    "        for key, value in test_results_best[0].items():\n",
    "            results[\"best_model\"][key].append(value)\n",
    "\n",
    "        saved_epoch_model = DomainTaskAdapter.load_from_checkpoint(saved_epoch_checkpoint_path)\n",
    "        test_results_saved_epoch = trainer.test(saved_epoch_model, test_loader)\n",
    "        print(\"Test Results on saved epoch:\", test_results_saved_epoch)\n",
    "        # Collect results for 3rd epoch model\n",
    "        for key, value in test_results_saved_epoch[0].items():\n",
    "            results[\"epoch_saved\"][key].append(value)\n",
    "        \n",
    "\n",
    "    except Exception as e:\n",
    "        print(f\"Error during testing: {e}\")\n",
    "\n",
    "    # Finish the wandb run\n",
    "    wandb.finish()"
   ]
  },
  {
   "cell_type": "code",
   "execution_count": null,
   "metadata": {},
   "outputs": [
    {
     "data": {
      "text/plain": [
       "dict_items([('last_epoch', {'source_test/loss': [0.601629912853241, 0.6024503707885742, 0.6796300411224365], 'source_test/accuracy': [0.7946428060531616, 0.7929866909980774, 0.7885944247245789], 'source_test/f1': [0.794353187084198, 0.7939852476119995, 0.7887259125709534], 'source_test/f1_macro': [0.7843189835548401, 0.7811834812164307, 0.780561089515686], 'target_test/loss': [0.7032039761543274, 0.66837078332901, 0.7076526284217834], 'target_test/accuracy': [0.7740495800971985, 0.7769297361373901, 0.7725374698638916], 'target_test/f1': [0.7723581194877625, 0.7778350114822388, 0.7715708017349243], 'target_test/f1_macro': [0.7660746574401855, 0.7652673125267029, 0.7659355401992798]}), ('best_model', {'source_test/loss': [0.5251308083534241, 0.5261561274528503, 0.5323122143745422], 'source_test/accuracy': [0.7916186451911926, 0.7929866909980774, 0.7890984416007996], 'source_test/f1': [0.7936142683029175, 0.7949949502944946, 0.7907204627990723], 'source_test/f1_macro': [0.7796545624732971, 0.7829357981681824, 0.7773775458335876], 'target_test/loss': [0.5720297694206238, 0.5818458795547485, 0.5812770128250122], 'target_test/accuracy': [0.7700172662734985, 0.7685052156448364, 0.7715293765068054], 'target_test/f1': [0.7712912559509277, 0.7719045281410217, 0.7734691500663757], 'target_test/f1_macro': [0.7585015892982483, 0.7552995681762695, 0.7600387334823608]}), ('epoch_saved', {'source_test/loss': [0.5498383045196533, 0.5382346510887146, 0.5460832118988037], 'source_test/accuracy': [0.7924826741218567, 0.7981710433959961, 0.8016992807388306], 'source_test/f1': [0.7941239476203918, 0.798771321773529, 0.8026795983314514], 'source_test/f1_macro': [0.7809121012687683, 0.7888790965080261, 0.7923654913902283], 'target_test/loss': [0.5990045666694641, 0.6024355292320251, 0.6104661226272583], 'target_test/accuracy': [0.768865168094635, 0.780601978302002, 0.7695132493972778], 'target_test/f1': [0.7698489427566528, 0.7809398770332336, 0.7696295380592346], 'target_test/f1_macro': [0.7571345567703247, 0.770485520362854, 0.7610041499137878]})])"
      ]
     },
     "execution_count": 6,
     "metadata": {},
     "output_type": "execute_result"
    }
   ],
   "source": [
    "results.items()"
   ]
  },
  {
   "cell_type": "markdown",
   "metadata": {},
   "source": [
    "| Scenario   | Metric                   | Mean     | Std      |\n",
    "|------------|--------------------------|----------|----------|\n",
    "| Saved Epoch| Source Test Accuracy     | 0.78655  | 0.00032  |\n",
    "|            | Source Test F1           | 0.78706  | 0.00054  |\n",
    "|            | Source Test F1 Macro     | 0.77599  | 0.00075  |\n",
    "|            | Target Test Accuracy     | 0.78000  | 0.00370  |\n",
    "|            | Target Test F1           | 0.78237  | 0.00372  |\n",
    "|            | Target Test F1 Macro     | 0.76721  | 0.00557  |\n",
    "| Best Model | Source Test Accuracy     | 0.78939  | 0.00237  |\n",
    "|            | Source Test F1           | 0.79031  | 0.00196  |\n",
    "|            | Source Test F1 Macro     | 0.77975  | 0.00246  |\n",
    "|            | Target Test Accuracy     | 0.77007  | 0.00442  |\n",
    "|            | Target Test F1           | 0.77205  | 0.00475  |\n",
    "|            | Target Test F1 Macro     | 0.75730  | 0.00396  |\n",
    "| Last Epoch | Source Test Accuracy     | 0.79463  | 0.00394  |\n",
    "|            | Source Test F1           | 0.79557  | 0.00360  |\n",
    "|            | Source Test F1 Macro     | 0.78336  | 0.00465  |\n",
    "|            | Target Test Accuracy     | 0.77948  | 0.00151  |\n",
    "|            | Target Test F1           | 0.78171  | 0.00166  |\n",
    "|            | Target Test F1 Macro     | 0.76653  | 0.00214  |\n"
   ]
  },
  {
   "cell_type": "code",
   "execution_count": null,
   "metadata": {},
   "outputs": [
    {
     "data": {
      "text/html": [
       "wandb version 0.17.4 is available!  To upgrade, please run:\n",
       " $ pip install wandb --upgrade"
      ],
      "text/plain": [
       "<IPython.core.display.HTML object>"
      ]
     },
     "metadata": {},
     "output_type": "display_data"
    },
    {
     "data": {
      "text/html": [
       "Tracking run with wandb version 0.17.0"
      ],
      "text/plain": [
       "<IPython.core.display.HTML object>"
      ]
     },
     "metadata": {},
     "output_type": "display_data"
    },
    {
     "data": {
      "text/html": [
       "Run data is saved locally in <code>/home/guest/Desktop/projects/fourth-expeiments/domain_adaptation_project/union/telephone/wandb/run-20240711_142334-2yhrx7kr</code>"
      ],
      "text/plain": [
       "<IPython.core.display.HTML object>"
      ]
     },
     "metadata": {},
     "output_type": "display_data"
    },
    {
     "data": {
      "text/html": [
       "Syncing run <strong><a href='https://wandb.ai/mrawhani/ablations/runs/2yhrx7kr' target=\"_blank\">FTE_mean_results</a></strong> to <a href='https://wandb.ai/mrawhani/ablations' target=\"_blank\">Weights & Biases</a> (<a href='https://wandb.me/run' target=\"_blank\">docs</a>)<br/>"
      ],
      "text/plain": [
       "<IPython.core.display.HTML object>"
      ]
     },
     "metadata": {},
     "output_type": "display_data"
    },
    {
     "data": {
      "text/html": [
       " View project at <a href='https://wandb.ai/mrawhani/ablations' target=\"_blank\">https://wandb.ai/mrawhani/ablations</a>"
      ],
      "text/plain": [
       "<IPython.core.display.HTML object>"
      ]
     },
     "metadata": {},
     "output_type": "display_data"
    },
    {
     "data": {
      "text/html": [
       " View run at <a href='https://wandb.ai/mrawhani/ablations/runs/2yhrx7kr' target=\"_blank\">https://wandb.ai/mrawhani/ablations/runs/2yhrx7kr</a>"
      ],
      "text/plain": [
       "<IPython.core.display.HTML object>"
      ]
     },
     "metadata": {},
     "output_type": "display_data"
    },
    {
     "data": {
      "application/vnd.jupyter.widget-view+json": {
       "model_id": "17856b5ea4294e45b21e8ada91853982",
       "version_major": 2,
       "version_minor": 0
      },
      "text/plain": [
       "VBox(children=(Label(value='0.002 MB of 0.006 MB uploaded\\r'), FloatProgress(value=0.4232441471571906, max=1.0…"
      ]
     },
     "metadata": {},
     "output_type": "display_data"
    },
    {
     "data": {
      "text/html": [
       "<style>\n",
       "    table.wandb td:nth-child(1) { padding: 0 10px; text-align: left ; width: auto;} td:nth-child(2) {text-align: left ; width: 100%}\n",
       "    .wandb-row { display: flex; flex-direction: row; flex-wrap: wrap; justify-content: flex-start; width: 100% }\n",
       "    .wandb-col { display: flex; flex-direction: column; flex-basis: 100%; flex: 1; padding: 10px; }\n",
       "    </style>\n",
       "<div class=\"wandb-row\"><div class=\"wandb-col\"><h3>Run history:</h3><br/><table class=\"wandb\"><tr><td>best_model/source_test/accuracy</td><td>▁</td></tr><tr><td>best_model/source_test/accuracy_std</td><td>▁</td></tr><tr><td>best_model/source_test/f1</td><td>▁</td></tr><tr><td>best_model/source_test/f1_macro</td><td>▁</td></tr><tr><td>best_model/source_test/f1_macro_std</td><td>▁</td></tr><tr><td>best_model/source_test/f1_std</td><td>▁</td></tr><tr><td>best_model/source_test/loss</td><td>▁</td></tr><tr><td>best_model/source_test/loss_std</td><td>▁</td></tr><tr><td>best_model/target_test/accuracy</td><td>▁</td></tr><tr><td>best_model/target_test/accuracy_std</td><td>▁</td></tr><tr><td>best_model/target_test/f1</td><td>▁</td></tr><tr><td>best_model/target_test/f1_macro</td><td>▁</td></tr><tr><td>best_model/target_test/f1_macro_std</td><td>▁</td></tr><tr><td>best_model/target_test/f1_std</td><td>▁</td></tr><tr><td>best_model/target_test/loss</td><td>▁</td></tr><tr><td>best_model/target_test/loss_std</td><td>▁</td></tr><tr><td>epoch_saved/source_test/accuracy</td><td>▁</td></tr><tr><td>epoch_saved/source_test/accuracy_std</td><td>▁</td></tr><tr><td>epoch_saved/source_test/f1</td><td>▁</td></tr><tr><td>epoch_saved/source_test/f1_macro</td><td>▁</td></tr><tr><td>epoch_saved/source_test/f1_macro_std</td><td>▁</td></tr><tr><td>epoch_saved/source_test/f1_std</td><td>▁</td></tr><tr><td>epoch_saved/source_test/loss</td><td>▁</td></tr><tr><td>epoch_saved/source_test/loss_std</td><td>▁</td></tr><tr><td>epoch_saved/target_test/accuracy</td><td>▁</td></tr><tr><td>epoch_saved/target_test/accuracy_std</td><td>▁</td></tr><tr><td>epoch_saved/target_test/f1</td><td>▁</td></tr><tr><td>epoch_saved/target_test/f1_macro</td><td>▁</td></tr><tr><td>epoch_saved/target_test/f1_macro_std</td><td>▁</td></tr><tr><td>epoch_saved/target_test/f1_std</td><td>▁</td></tr><tr><td>epoch_saved/target_test/loss</td><td>▁</td></tr><tr><td>epoch_saved/target_test/loss_std</td><td>▁</td></tr><tr><td>last_epoch/source_test/accuracy</td><td>▁</td></tr><tr><td>last_epoch/source_test/accuracy_std</td><td>▁</td></tr><tr><td>last_epoch/source_test/f1</td><td>▁</td></tr><tr><td>last_epoch/source_test/f1_macro</td><td>▁</td></tr><tr><td>last_epoch/source_test/f1_macro_std</td><td>▁</td></tr><tr><td>last_epoch/source_test/f1_std</td><td>▁</td></tr><tr><td>last_epoch/source_test/loss</td><td>▁</td></tr><tr><td>last_epoch/source_test/loss_std</td><td>▁</td></tr><tr><td>last_epoch/target_test/accuracy</td><td>▁</td></tr><tr><td>last_epoch/target_test/accuracy_std</td><td>▁</td></tr><tr><td>last_epoch/target_test/f1</td><td>▁</td></tr><tr><td>last_epoch/target_test/f1_macro</td><td>▁</td></tr><tr><td>last_epoch/target_test/f1_macro_std</td><td>▁</td></tr><tr><td>last_epoch/target_test/f1_std</td><td>▁</td></tr><tr><td>last_epoch/target_test/loss</td><td>▁</td></tr><tr><td>last_epoch/target_test/loss_std</td><td>▁</td></tr></table><br/></div><div class=\"wandb-col\"><h3>Run summary:</h3><br/><table class=\"wandb\"><tr><td>best_model/source_test/accuracy</td><td>0.79123</td></tr><tr><td>best_model/source_test/accuracy_std</td><td>0.00161</td></tr><tr><td>best_model/source_test/f1</td><td>0.79311</td></tr><tr><td>best_model/source_test/f1_macro</td><td>0.77999</td></tr><tr><td>best_model/source_test/f1_macro_std</td><td>0.00228</td></tr><tr><td>best_model/source_test/f1_std</td><td>0.00178</td></tr><tr><td>best_model/source_test/loss</td><td>0.52787</td></tr><tr><td>best_model/source_test/loss_std</td><td>0.00317</td></tr><tr><td>best_model/target_test/accuracy</td><td>0.77002</td></tr><tr><td>best_model/target_test/accuracy_std</td><td>0.00123</td></tr><tr><td>best_model/target_test/f1</td><td>0.77222</td></tr><tr><td>best_model/target_test/f1_macro</td><td>0.75795</td></tr><tr><td>best_model/target_test/f1_macro_std</td><td>0.00197</td></tr><tr><td>best_model/target_test/f1_std</td><td>0.00092</td></tr><tr><td>best_model/target_test/loss</td><td>0.57838</td></tr><tr><td>best_model/target_test/loss_std</td><td>0.0045</td></tr><tr><td>epoch_saved/source_test/accuracy</td><td>0.79745</td></tr><tr><td>epoch_saved/source_test/accuracy_std</td><td>0.0038</td></tr><tr><td>epoch_saved/source_test/f1</td><td>0.79852</td></tr><tr><td>epoch_saved/source_test/f1_macro</td><td>0.78739</td></tr><tr><td>epoch_saved/source_test/f1_macro_std</td><td>0.00479</td></tr><tr><td>epoch_saved/source_test/f1_std</td><td>0.0035</td></tr><tr><td>epoch_saved/source_test/loss</td><td>0.54472</td></tr><tr><td>epoch_saved/source_test/loss_std</td><td>0.00483</td></tr><tr><td>epoch_saved/target_test/accuracy</td><td>0.77299</td></tr><tr><td>epoch_saved/target_test/accuracy_std</td><td>0.00539</td></tr><tr><td>epoch_saved/target_test/f1</td><td>0.77347</td></tr><tr><td>epoch_saved/target_test/f1_macro</td><td>0.76287</td></tr><tr><td>epoch_saved/target_test/f1_macro_std</td><td>0.00561</td></tr><tr><td>epoch_saved/target_test/f1_std</td><td>0.00528</td></tr><tr><td>epoch_saved/target_test/loss</td><td>0.60397</td></tr><tr><td>epoch_saved/target_test/loss_std</td><td>0.0048</td></tr><tr><td>last_epoch/source_test/accuracy</td><td>0.79207</td></tr><tr><td>last_epoch/source_test/accuracy_std</td><td>0.00255</td></tr><tr><td>last_epoch/source_test/f1</td><td>0.79235</td></tr><tr><td>last_epoch/source_test/f1_macro</td><td>0.78202</td></tr><tr><td>last_epoch/source_test/f1_macro_std</td><td>0.00164</td></tr><tr><td>last_epoch/source_test/f1_std</td><td>0.00257</td></tr><tr><td>last_epoch/source_test/loss</td><td>0.6279</td></tr><tr><td>last_epoch/source_test/loss_std</td><td>0.03658</td></tr><tr><td>last_epoch/target_test/accuracy</td><td>0.77451</td></tr><tr><td>last_epoch/target_test/accuracy_std</td><td>0.00182</td></tr><tr><td>last_epoch/target_test/f1</td><td>0.77392</td></tr><tr><td>last_epoch/target_test/f1_macro</td><td>0.76576</td></tr><tr><td>last_epoch/target_test/f1_macro_std</td><td>0.00035</td></tr><tr><td>last_epoch/target_test/f1_std</td><td>0.00279</td></tr><tr><td>last_epoch/target_test/loss</td><td>0.69308</td></tr><tr><td>last_epoch/target_test/loss_std</td><td>0.01756</td></tr></table><br/></div></div>"
      ],
      "text/plain": [
       "<IPython.core.display.HTML object>"
      ]
     },
     "metadata": {},
     "output_type": "display_data"
    },
    {
     "data": {
      "text/html": [
       " View run <strong style=\"color:#cdcd00\">FTE_mean_results</strong> at: <a href='https://wandb.ai/mrawhani/ablations/runs/2yhrx7kr' target=\"_blank\">https://wandb.ai/mrawhani/ablations/runs/2yhrx7kr</a><br/> View project at: <a href='https://wandb.ai/mrawhani/ablations' target=\"_blank\">https://wandb.ai/mrawhani/ablations</a><br/>Synced 4 W&B file(s), 0 media file(s), 0 artifact file(s) and 0 other file(s)"
      ],
      "text/plain": [
       "<IPython.core.display.HTML object>"
      ]
     },
     "metadata": {},
     "output_type": "display_data"
    },
    {
     "data": {
      "text/html": [
       "Find logs at: <code>./wandb/run-20240711_142334-2yhrx7kr/logs</code>"
      ],
      "text/plain": [
       "<IPython.core.display.HTML object>"
      ]
     },
     "metadata": {},
     "output_type": "display_data"
    },
    {
     "name": "stdout",
     "output_type": "stream",
     "text": [
      "Mean Results: {'last_epoch': {'source_test/loss': 0.6279034415880839, 'source_test/accuracy': 0.7920746405919393, 'source_test/f1': 0.7923547824223837, 'source_test/f1_macro': 0.782021184762319, 'target_test/loss': 0.6930757959683737, 'target_test/accuracy': 0.77450559536616, 'target_test/f1': 0.7739213109016418, 'target_test/f1_macro': 0.7657591700553894}, 'best_model': {'source_test/loss': 0.5278663833936056, 'source_test/accuracy': 0.7912345925966898, 'source_test/f1': 0.7931098937988281, 'source_test/f1_macro': 0.7799893021583557, 'target_test/loss': 0.5783842206001282, 'target_test/accuracy': 0.7700172861417135, 'target_test/f1': 0.7722216447194418, 'target_test/f1_macro': 0.7579466303189596}, 'epoch_saved': {'source_test/loss': 0.5447187225023905, 'source_test/accuracy': 0.7974509994188944, 'source_test/f1': 0.7985249559084574, 'source_test/f1_macro': 0.7873855630556742, 'target_test/loss': 0.6039687395095825, 'target_test/accuracy': 0.7729934652646383, 'target_test/f1': 0.773472785949707, 'target_test/f1_macro': 0.7628747423489889}}\n",
      "Standard Deviation Results: {'last_epoch': {'source_test/loss': 0.03657776293821497, 'source_test/accuracy': 0.002552071855243586, 'source_test/f1': 0.002570391301308683, 'source_test/f1_macro': 0.0016445368801930671, 'target_test/loss': 0.017563235538714046, 'target_test/accuracy': 0.0018218970330350285, 'target_test/f1': 0.0027860074762889693, 'target_test/f1_macro': 0.0003524024906017915}, 'best_model': {'source_test/loss': 0.0031714223567356876, 'source_test/accuracy': 0.0016104333040864263, 'source_test/f1': 0.0017811243766063568, 'source_test/f1_macro': 0.002281458633757766, 'target_test/loss': 0.00449927325120986, 'target_test/accuracy': 0.0012346085020664979, 'target_test/f1': 0.0009169616087046619, 'target_test/f1_macro': 0.001974150712101245}, 'epoch_saved': {'source_test/loss': 0.004834429764444956, 'source_test/accuracy': 0.003796955524252901, 'source_test/f1': 0.0034971714167326617, 'source_test/f1_macro': 0.004793608101667592, 'target_test/loss': 0.004803114722747975, 'target_test/accuracy': 0.0053865329185236715, 'target_test/f1': 0.005280790442258574, 'target_test/f1_macro': 0.005608707174636839}}\n"
     ]
    }
   ],
   "source": [
    "# Calculate mean and standard deviation for each scenario\n",
    "mean_results = {scenario: {key: np.mean(values) for key, values in metrics.items()} for scenario, metrics in results.items()}\n",
    "std_results = {scenario: {key: np.std(values) for key, values in metrics.items()} for scenario, metrics in results.items()}\n",
    "\n",
    "# Log mean and standard deviation results to wandb\n",
    "wandb.init(project=project_name, name=f'{domain}_mean_results')\n",
    "for scenario in mean_results:\n",
    "    for key, value in mean_results[scenario].items():\n",
    "        wandb.log({f\"{scenario}/{key}\": value})\n",
    "        wandb.log({f\"{scenario}/{key}_std\": std_results[scenario][key]})\n",
    "wandb.finish()\n",
    "\n",
    "print(\"Mean Results:\", mean_results)\n",
    "print(\"Standard Deviation Results:\", std_results)\n",
    "\n",
    "# # Save the best model's adapter\n",
    "# if model:\n",
    "#     adapter_save_path = f\"../../saved/adapter_after_run/{hparams['task_adapter_name']}\"\n",
    "#     model.save_adapter(adapter_save_path, hparams['task_adapter_name'])\n",
    "#     print(f\"Adapter saved to {adapter_save_path}\")\n",
    "# else:\n",
    "#     print(\"No best model to save.\")"
   ]
  },
  {
   "cell_type": "code",
   "execution_count": null,
   "metadata": {},
   "outputs": [],
   "source": []
  },
  {
   "cell_type": "code",
   "execution_count": null,
   "metadata": {},
   "outputs": [
    {
     "name": "stdout",
     "output_type": "stream",
     "text": [
      "dones\n"
     ]
    }
   ],
   "source": [
    "print('dones')"
   ]
  },
  {
   "cell_type": "code",
   "execution_count": null,
   "metadata": {},
   "outputs": [
    {
     "data": {
      "text/plain": [
       "inf"
      ]
     },
     "execution_count": 9,
     "metadata": {},
     "output_type": "execute_result"
    }
   ],
   "source": [
    "best_val_loss"
   ]
  },
  {
   "cell_type": "code",
   "execution_count": null,
   "metadata": {},
   "outputs": [],
   "source": []
  }
 ],
 "metadata": {
  "kernelspec": {
   "display_name": ".venv",
   "language": "python",
   "name": "python3"
  },
  "language_info": {
   "codemirror_mode": {
    "name": "ipython",
    "version": 3
   },
   "file_extension": ".py",
   "mimetype": "text/x-python",
   "name": "python",
   "nbconvert_exporter": "python",
   "pygments_lexer": "ipython3",
   "version": "3.8.10"
  }
 },
 "nbformat": 4,
 "nbformat_minor": 2
}
