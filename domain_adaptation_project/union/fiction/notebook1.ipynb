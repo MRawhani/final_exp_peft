{
 "cells": [
  {
   "cell_type": "code",
   "execution_count": 1,
   "id": "ae1e9d02",
   "metadata": {
    "execution": {
     "iopub.execute_input": "2024-07-14T18:59:37.230771Z",
     "iopub.status.busy": "2024-07-14T18:59:37.230602Z",
     "iopub.status.idle": "2024-07-14T18:59:37.249144Z",
     "shell.execute_reply": "2024-07-14T18:59:37.247435Z"
    },
    "papermill": {
     "duration": 0.028548,
     "end_time": "2024-07-14T18:59:37.253029",
     "exception": false,
     "start_time": "2024-07-14T18:59:37.224481",
     "status": "completed"
    },
    "tags": []
   },
   "outputs": [
    {
     "name": "stdout",
     "output_type": "stream",
     "text": [
      "priwwwnt\n"
     ]
    }
   ],
   "source": [
    "print(\"priwwwnt\")"
   ]
  },
  {
   "cell_type": "code",
   "execution_count": null,
   "id": "b1e512a8",
   "metadata": {
    "papermill": {
     "duration": 0.002375,
     "end_time": "2024-07-14T18:59:37.259342",
     "exception": false,
     "start_time": "2024-07-14T18:59:37.256967",
     "status": "completed"
    },
    "tags": []
   },
   "outputs": [],
   "source": []
  },
  {
   "cell_type": "code",
   "execution_count": 2,
   "id": "620c853c",
   "metadata": {
    "execution": {
     "iopub.execute_input": "2024-07-14T18:59:37.263944Z",
     "iopub.status.busy": "2024-07-14T18:59:37.263615Z",
     "iopub.status.idle": "2024-07-14T18:59:37.266939Z",
     "shell.execute_reply": "2024-07-14T18:59:37.266568Z"
    },
    "papermill": {
     "duration": 0.006384,
     "end_time": "2024-07-14T18:59:37.267688",
     "exception": false,
     "start_time": "2024-07-14T18:59:37.261304",
     "status": "completed"
    },
    "tags": []
   },
   "outputs": [
    {
     "name": "stdout",
     "output_type": "stream",
     "text": [
      "print\n",
      "prsacdaedewcwint\n",
      "print\n"
     ]
    }
   ],
   "source": [
    "print(\"print\")\n",
    "print(\"prsacdaedewcwint\")\n",
    "print(\"print\")"
   ]
  },
  {
   "cell_type": "code",
   "execution_count": 3,
   "id": "c8cf6f5c",
   "metadata": {
    "execution": {
     "iopub.execute_input": "2024-07-14T18:59:37.270156Z",
     "iopub.status.busy": "2024-07-14T18:59:37.269954Z",
     "iopub.status.idle": "2024-07-14T18:59:37.272738Z",
     "shell.execute_reply": "2024-07-14T18:59:37.272383Z"
    },
    "papermill": {
     "duration": 0.005047,
     "end_time": "2024-07-14T18:59:37.273630",
     "exception": false,
     "start_time": "2024-07-14T18:59:37.268583",
     "status": "completed"
    },
    "tags": []
   },
   "outputs": [
    {
     "name": "stdout",
     "output_type": "stream",
     "text": [
      "ddd\n"
     ]
    }
   ],
   "source": [
    "print('ddd')"
   ]
  },
  {
   "cell_type": "code",
   "execution_count": 4,
   "id": "58ae07db",
   "metadata": {
    "execution": {
     "iopub.execute_input": "2024-07-14T18:59:37.275963Z",
     "iopub.status.busy": "2024-07-14T18:59:37.275792Z",
     "iopub.status.idle": "2024-07-14T18:59:37.278106Z",
     "shell.execute_reply": "2024-07-14T18:59:37.277780Z"
    },
    "papermill": {
     "duration": 0.004477,
     "end_time": "2024-07-14T18:59:37.278961",
     "exception": false,
     "start_time": "2024-07-14T18:59:37.274484",
     "status": "completed"
    },
    "tags": []
   },
   "outputs": [
    {
     "name": "stdout",
     "output_type": "stream",
     "text": [
      "print\n",
      "print\n",
      "print\n"
     ]
    }
   ],
   "source": [
    "print(\"print\")\n",
    "print(\"print\")\n",
    "print(\"print\")"
   ]
  }
 ],
 "metadata": {
  "language_info": {
   "codemirror_mode": {
    "name": "ipython",
    "version": 3
   },
   "file_extension": ".py",
   "mimetype": "text/x-python",
   "name": "python",
   "nbconvert_exporter": "python",
   "pygments_lexer": "ipython3",
   "version": "3.8.10"
  },
  "papermill": {
   "default_parameters": {},
   "duration": 0.906906,
   "end_time": "2024-07-14T18:59:37.396124",
   "environment_variables": {},
   "exception": null,
   "input_path": "notebook1.ipynb",
   "output_path": "notebook1.ipynb",
   "parameters": {},
   "start_time": "2024-07-14T18:59:36.489218",
   "version": "2.6.0"
  }
 },
 "nbformat": 4,
 "nbformat_minor": 5
}