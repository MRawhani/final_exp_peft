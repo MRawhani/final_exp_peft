{
 "cells": [
  {
   "cell_type": "code",
   "execution_count": 1,
   "metadata": {},
   "outputs": [
    {
     "data": {
      "text/plain": [
       "0"
      ]
     },
     "execution_count": 1,
     "metadata": {},
     "output_type": "execute_result"
    }
   ],
   "source": [
    "\n",
    "import torch\n",
    "import gc   \n",
    "torch.cuda.empty_cache()\n",
    "gc.collect()\n"
   ]
  },
  {
   "cell_type": "code",
   "execution_count": 2,
   "metadata": {},
   "outputs": [
    {
     "name": "stdout",
     "output_type": "stream",
     "text": [
      "['/home/guest/Desktop/projects/fourth-expeiments/domain_adaptation_project/continous/travel', '/usr/lib/python38.zip', '/usr/lib/python3.8', '/usr/lib/python3.8/lib-dynload', '', '/home/guest/.cache/pypoetry/virtualenvs/fourth-experments-OVNdUUAn-py3.8/lib/python3.8/site-packages', '/tmp/tmp5z4rrzco', '/home/guest/Desktop/projects/fourth-expeiments/domain_adaptation_project/modules']\n"
     ]
    },
    {
     "name": "stderr",
     "output_type": "stream",
     "text": [
      "2024-07-04 16:24:24.107258: I tensorflow/core/util/port.cc:110] oneDNN custom operations are on. You may see slightly different numerical results due to floating-point round-off errors from different computation orders. To turn them off, set the environment variable `TF_ENABLE_ONEDNN_OPTS=0`.\n",
      "2024-07-04 16:24:24.283676: I tensorflow/core/platform/cpu_feature_guard.cc:182] This TensorFlow binary is optimized to use available CPU instructions in performance-critical operations.\n",
      "To enable the following instructions: AVX2 AVX512F AVX512_VNNI FMA, in other operations, rebuild TensorFlow with the appropriate compiler flags.\n",
      "2024-07-04 16:24:25.033501: W tensorflow/compiler/tf2tensorrt/utils/py_utils.cc:38] TF-TRT Warning: Could not find TensorRT\n"
     ]
    },
    {
     "name": "stdout",
     "output_type": "stream",
     "text": [
      "./text-files/\n",
      "./hp-model-\n"
     ]
    }
   ],
   "source": [
    "import os\n",
    "os.environ[\"TOKENIZERS_PARALLELISM\"] = \"false\"\n",
    "os.environ[\"OMP_NUM_THREADS\"] = \"1\"\n",
    "\n",
    "# Step 2: Import necessary libraries\n",
    "from typing import Optional, Dict, Any\n",
    "import os\n",
    "import torch\n",
    "import pytorch_lightning as pl\n",
    "import pandas as pd\n",
    "from transformers import AutoTokenizer\n",
    "from torch.utils.data import Dataset, DataLoader\n",
    "from rich.traceback import install\n",
    "from pytorch_lightning.loggers import WandbLogger\n",
    "import torch.nn as nn\n",
    "import torch.optim as optim\n",
    "from transformers import AutoConfig, get_cosine_schedule_with_warmup\n",
    "from adapters import AutoAdapterModel, AdapterConfig\n",
    "from adapters.composition import Stack\n",
    "from pytorch_lightning import seed_everything, Trainer\n",
    "from pytorch_lightning.callbacks import ModelCheckpoint, EarlyStopping\n",
    "import torchmetrics\n",
    "from sklearn.metrics import confusion_matrix, ConfusionMatrixDisplay\n",
    "from sklearn.manifold import TSNE\n",
    "import matplotlib.pyplot as plt\n",
    "import numpy as np\n",
    "\n",
    "install(show_locals=True)\n",
    "\n",
    "from setup import setup_src_path\n",
    "print(setup_src_path())\n",
    "import data.processed as processed\n",
    "import config.config as config\n",
    "import utils.setup as setup\n",
    "import utils.functions as fn\n",
    "from importlib import reload\n",
    "\n",
    "from datasets import load_from_disk\n",
    "\n",
    "print(config.Config.TXT_SAVE_PATH)\n",
    "print(config.Config.MODEL_SAVE_PATH)\n",
    "\n",
    "dataset = load_from_disk(f\"../{config.Config.DATASETS_SAVE_PATH}/datasets\")\n"
   ]
  },
  {
   "cell_type": "code",
   "execution_count": 3,
   "metadata": {},
   "outputs": [],
   "source": [
    "# Step 4: Define the DomainTaskAdapter class\n",
    "\n",
    "\n",
    "\n",
    "class DomainTaskAdapter(pl.LightningModule):\n",
    "    def __init__(self, hparams):\n",
    "        super(DomainTaskAdapter, self).__init__()\n",
    "        self.save_hyperparameters(hparams)\n",
    "        self.config = AutoConfig.from_pretrained(self.hparams[\"pretrained_model_name\"])\n",
    "        self.config.output_hidden_states = True\n",
    "        self.model = AutoAdapterModel.from_pretrained(self.hparams[\"pretrained_model_name\"], config=self.config)\n",
    "        \n",
    "        self.reduction_factor = self.hparams.get(\"reduction_factor\", 16)\n",
    "        if self.reduction_factor == \"None\":\n",
    "            self.reduction_factor = 16\n",
    "        self.leave_out = self.hparams.get(\"leave_out\", [])\n",
    "       \n",
    "        self.saved_adapter_dir = self.hparams[\"saved_adapter_dir\"]\n",
    "        self.domain_adapter_name = self.hparams[\"domain_adapter_name\"]\n",
    "        \n",
    "        adapter_config = AdapterConfig.load(\"lora\", r=8, alpha=16)\n",
    "        \n",
    "        self.task_adapter_name = self.hparams[\"task_adapter_name\"]\n",
    "        self.model.add_adapter(self.task_adapter_name, config=adapter_config)\n",
    "\n",
    "        self.model.load_adapter(f\"{self.saved_adapter_dir}/{self.domain_adapter_name}\", with_head=False)\n",
    "        self.model.add_classification_head(self.task_adapter_name, num_labels=self.hparams[\"num_classes\"])\n",
    "        self.model.active_adapters = Stack(self.domain_adapter_name, self.task_adapter_name)\n",
    "\n",
    "        self.model.train_adapter(Stack(self.domain_adapter_name, self.task_adapter_name))\n",
    "        print(self.model.adapter_summary())\n",
    "        print(fn.print_trainable_parameters(self.model))\n",
    "\n",
    "        self.training_outputs = []\n",
    "        self.validation_outputs = []\n",
    "        self.test_outputs = []\n",
    "        self.criterion = nn.CrossEntropyLoss()\n",
    "        self.accuracy = torchmetrics.Accuracy(task='multiclass',                                           \n",
    "                                     num_classes=self.hparams[\"num_classes\"])\n",
    "        self.f1 = torchmetrics.F1Score(task='multiclass',num_classes=self.hparams[\"num_classes\"], average=\"weighted\")\n",
    "        self.softmax = nn.Softmax(dim=1)\n",
    "        self.entropy_values = []  # For entropy minimization\n",
    "    def forward(self, input_ids, attention_mask):\n",
    "        outputs = self.model(input_ids=input_ids, attention_mask=attention_mask)\n",
    "        return outputs.logits\n",
    "\n",
    "    def training_step(self, batch, batch_idx):\n",
    "        input_ids, attention_mask = batch[\"source_input_ids\"], batch[\"source_attention_mask\"]\n",
    "        labels = batch[\"label_source\"]\n",
    "        logits = self(input_ids=input_ids, attention_mask=attention_mask)\n",
    "        loss = self.criterion(logits, labels)\n",
    "        accuracy = self.accuracy(labels, torch.argmax(self.softmax(logits), dim=1))\n",
    "        f1 = self.f1(labels, torch.argmax(self.softmax(logits), dim=1))\n",
    "        # self.training_outputs.append({\n",
    "        #     \"train_loss\": loss,\n",
    "        #     \"train_accuracy\":accuracy,\n",
    "        #     \"train_f1\":f1,\n",
    "        #     })\n",
    "        self.log(\"train_loss\", loss)\n",
    "        self.log(\"train_accuracy\", accuracy)\n",
    "        self.log(\"train_f1\", f1)\n",
    "        \n",
    "        return loss\n",
    "   \n",
    "    def validation_step(self, batch, batch_idx):\n",
    "        \"\"\"validation step of DomainTaskAdapter\"\"\"\n",
    "        # get the input ids and attention mask for source data\n",
    "        input_ids, attention_mask = batch[\"source_input_ids\"], batch[\"source_attention_mask\"]\n",
    "        logits = self(input_ids=input_ids, attention_mask=attention_mask)\n",
    "        labels = batch[\"label_source\"]\n",
    "        source_loss = self.criterion(logits, labels)\n",
    "        source_accuracy = self.accuracy(labels, torch.argmax(self.softmax(logits), dim=1))\n",
    "        source_f1 = self.f1(labels, torch.argmax(self.softmax(logits), dim=1))\n",
    "\n",
    "\n",
    "        # get the input ids and attention mask for target data\n",
    "        input_ids, attention_mask = batch[\"target_input_ids\"], batch[\"target_attention_mask\"]\n",
    "        logits  = self(input_ids=input_ids, attention_mask=attention_mask)\n",
    "        labels = batch[\"label_target\"]\n",
    "        target_loss = self.criterion(logits, labels)\n",
    "        target_accuracy = self.accuracy(labels, torch.argmax(self.softmax(logits), dim=1))\n",
    "        target_f1 = self.f1(labels, torch.argmax(self.softmax(logits), dim=1))\n",
    "        # # Entropy minimization - calculate and log entropy\n",
    "        # probs = self.softmax(logits).cpu().numpy()\n",
    "        # entropy = -np.sum(probs * np.log(probs + 1e-10), axis=1)\n",
    "        # avg_entropy = np.mean(entropy)\n",
    "        # self.entropy_values.append(avg_entropy)\n",
    "     \n",
    "        # this will log the mean div value across epoch\n",
    "        self.log(name=\"source_val/loss\", value=source_loss, prog_bar=True, logger=True)\n",
    "        self.log(name=\"source_val/accuracy\", value=source_accuracy, prog_bar=True, logger=True)\n",
    "        self.log(name=\"source_val/f1\", value=source_f1, prog_bar=True, logger=True)\n",
    "        self.log(name=\"target_val/loss\", value=target_loss, prog_bar=True, logger=True)\n",
    "        self.log(name=\"target_val/accuracy\", value=target_accuracy, prog_bar=True, logger=True)\n",
    "        self.log(name=\"target_val/f1\", value=target_f1, prog_bar=True, logger=True)\n",
    "        \n",
    "        self.validation_outputs.append({\n",
    "            \"source_val/loss\": source_loss,\n",
    "            \"source_val/accuracy\": source_accuracy,\n",
    "            \"source_val/f1\": source_f1,\n",
    "            \"target_val/loss\": target_loss,\n",
    "            \"target_val/accuracy\": target_accuracy,\n",
    "            \"target_val/f1\": target_f1,\n",
    "            # \"features\": target_features.cpu(),  # Collect features for t-SNE\n",
    "            # \"logits\": logits.cpu(),  # Collect logits for confusion matrix\n",
    "            # \"labels\": labels.cpu()  # Collect labels for confusion matrix   \n",
    "                })\n",
    "        return {\n",
    "            \"source_val/loss\": source_loss,\n",
    "            \"source_val/accuracy\": source_accuracy,\n",
    "            \"source_val/f1\": source_f1,\n",
    "            \"target_val/loss\": target_loss,\n",
    "            \"target_val/accuracy\": target_accuracy,\n",
    "            \"target_val/f1\": target_f1,\n",
    "            # \"features\": target_features.cpu(),  # Collect features for t-SNE\n",
    "            # \"logits\": logits.cpu(),  # Collect logits for confusion matrix\n",
    "            # \"labels\": labels.cpu()  # Collect labels for confusion matrix   \n",
    "                            }\n",
    "    def on_validation_epoch_start(self):\n",
    "        self.validation_outputs = []\n",
    "    \n",
    "    def on_validation_epoch_end(self):\n",
    "        try:\n",
    "            outputs= self.validation_outputs\n",
    "            mean_source_loss = torch.stack([x[\"source_val/loss\"] for x in outputs]).mean()\n",
    "            mean_source_accuracy = torch.stack([x[\"source_val/accuracy\"] for x in outputs]).mean()\n",
    "            mean_source_f1 = torch.stack([x[\"source_val/f1\"] for x in outputs]).mean()\n",
    "\n",
    "            mean_target_loss = torch.stack([x[\"target_val/loss\"] for x in outputs]).mean()\n",
    "            mean_target_accuracy = torch.stack([x[\"target_val/accuracy\"] for x in outputs]).mean()\n",
    "            mean_target_f1 = torch.stack([x[\"target_val/f1\"] for x in outputs]).mean()\n",
    "            print(f\"target_val/loss: {mean_target_loss}\")\n",
    "            print(f\"target_val/accuracy: {mean_target_accuracy}\")\n",
    "            print(f\"target_val/f1: {mean_target_f1}\")\n",
    "            print(f\"source_val/loss: {mean_source_loss}\")\n",
    "            print(f\"source_val/accuracy: {mean_source_accuracy}\")\n",
    "            print(f\"source_val/f1: {mean_source_f1}\")\n",
    "\n",
    "            self.log(name=\"source_val/loss\", value=mean_source_loss, prog_bar=True, logger=True)\n",
    "            self.log(name=\"source_val/accuracy\", value=mean_source_accuracy, prog_bar=True, logger=True)\n",
    "            self.log(name=\"target_val/loss\", value=mean_target_loss, prog_bar=True, logger=True)\n",
    "            self.log(name=\"target_val/accuracy\", value=mean_target_accuracy, prog_bar=True, logger=True)\n",
    "            self.log(name=\"target_val/f1\", value=mean_target_f1, prog_bar=True, logger=True)\n",
    "            self.log(name=\"source_val/f1\", value=mean_source_f1, prog_bar=True, logger=True)\n",
    "        \n",
    "        \n",
    "            self.log(\"val_loss\", mean_source_loss)\n",
    "            # Generate and log visualizations\n",
    "            # if hasattr(self.trainer, 'current_epoch'):\n",
    "            #     self.plot_tsne(outputs, epoch=self.trainer.current_epoch, phase='validation')\n",
    "            #     self.plot_confusion_matrix(outputs, phase='validation')\n",
    "        except Exception as e:\n",
    "            print(f\"Error during on_validation_epoch_end: {e}\")\n",
    "            raise\n",
    "\n",
    "    def test_step(self, batch, batch_idx):\n",
    "        \"\"\"validation step of DomainTaskAdapter\"\"\"\n",
    "        # get the input ids and attention mask for source data\n",
    "        input_ids, attention_mask = batch[\"source_input_ids\"], batch[\"source_attention_mask\"]\n",
    "        logits  = self(input_ids=input_ids, attention_mask=attention_mask)\n",
    "        labels = batch[\"label_source\"]\n",
    "        source_loss = self.criterion(logits, labels)\n",
    "        source_accuracy = self.accuracy(labels, torch.argmax(self.softmax(logits), dim=1))\n",
    "        source_f1 = self.f1(labels, torch.argmax(self.softmax(logits), dim=1))\n",
    "\n",
    "        # get the input ids and attention mask for target data\n",
    "        input_ids, attention_mask = batch[\"target_input_ids\"], batch[\"target_attention_mask\"]\n",
    "        logits = self(input_ids=input_ids, attention_mask=attention_mask)\n",
    "        labels = batch[\"label_target\"]\n",
    "        target_loss = self.criterion(logits, labels)\n",
    "        target_accuracy = self.accuracy(labels, torch.argmax(self.softmax(logits), dim=1))\n",
    "        target_f1 = self.f1(labels, torch.argmax(self.softmax(logits), dim=1))\n",
    "\n",
    "       \n",
    "\n",
    "        self.log(name=\"source_test/loss\", value=source_loss, logger=True)\n",
    "        self.log(name=\"source_test/accuracy\", value=source_accuracy, logger=True)\n",
    "        self.log(name=\"source_test/f1\", value=source_f1, logger=True)\n",
    "        self.log(name=\"target_test/loss\", value=target_loss, logger=True)\n",
    "        self.log(name=\"target_test/accuracy\", value=target_accuracy, logger=True)\n",
    "        self.log(name=\"target_test/f1\", value=target_f1, logger=True)\n",
    "        \n",
    "        self.test_outputs.append({\n",
    "            \"source_test/loss\": source_loss,\n",
    "            \"source_test/accuracy\": source_accuracy,\n",
    "            \"source_test/f1\": source_f1,\n",
    "            \"target_test/loss\": target_loss,\n",
    "            \"target_test/accuracy\": target_accuracy,\n",
    "            \"target_test/f1\": target_f1,\n",
    "            # \"features\": target_features.cpu(),  # Collect features for t-SNE\n",
    "            # \"logits\": logits.cpu(),  # Collect logits for confusion matrix\n",
    "            # \"labels\": labels.cpu()  # Collect labels for confusion matrix   \n",
    "        })\n",
    "        return {\n",
    "            \"source_test/loss\": source_loss,\n",
    "            \"source_test/accuracy\": source_accuracy,\n",
    "            \"source_test/f1\": source_f1,\n",
    "            \"target_test/loss\": target_loss,\n",
    "            \"target_test/accuracy\": target_accuracy,\n",
    "            \"target_test/f1\": target_f1,\n",
    "            # \"features\": target_features.cpu(),  # Collect features for t-SNE\n",
    "            # \"logits\": logits.cpu(),  # Collect logits for confusion matrix\n",
    "            # \"labels\": labels.cpu()  # Collect labels for confusion matrix   \n",
    "        }\n",
    "    def on_test_epoch_start(self):\n",
    "        self.test_outputs = []\n",
    "    def on_test_epoch_end(self):\n",
    "        try:\n",
    "            outputs=  self.test_outputs\n",
    "            mean_source_loss = torch.stack([x[\"source_test/loss\"] for x in outputs]).mean()\n",
    "            mean_source_accuracy = torch.stack([x[\"source_test/accuracy\"] for x in outputs]).mean()\n",
    "            mean_source_f1 = torch.stack([x[\"source_test/f1\"] for x in outputs]).mean()\n",
    "\n",
    "            mean_target_loss = torch.stack([x[\"target_test/loss\"] for x in outputs]).mean()\n",
    "            mean_target_accuracy = torch.stack([x[\"target_test/accuracy\"] for x in outputs]).mean()\n",
    "            mean_target_f1 = torch.stack([x[\"target_test/f1\"] for x in outputs]).mean()\n",
    "\n",
    "            self.log(name=\"source_test/loss\", value=mean_source_loss)\n",
    "            self.log(name=\"source_test/accuracy\", value=mean_source_accuracy)\n",
    "            self.log(name=\"source_test/f1\", value=mean_source_f1)\n",
    "            self.log(name=\"target_test/loss\", value=mean_target_loss)\n",
    "            self.log(name=\"target_test/accuracy\", value=mean_target_accuracy)\n",
    "            self.log(name=\"target_test/f1\", value=mean_target_f1)\n",
    "\n",
    "            # # Generate and log visualizations\n",
    "            # if hasattr(self.trainer, 'current_epoch'):\n",
    "            #     self.plot_tsne(outputs, epoch=self.trainer.current_epoch, phase='test')\n",
    "            #     self.plot_confusion_matrix(outputs, phase='test')\n",
    "        except Exception as e:\n",
    "            print(f\"Error during on_test_epoch_end: {e}\")\n",
    "            raise\n",
    "    def save_adapter(self, location, adapter_name):\n",
    "        self.model.save_adapter(location, adapter_name)\n",
    "    def configure_optimizers(self):\n",
    "        optimizer = optim.AdamW(self.parameters(), lr=self.hparams[\"learning_rate\"])\n",
    "        lr_scheduler = {\n",
    "            'scheduler': optim.lr_scheduler.ReduceLROnPlateau(optimizer, mode='min', factor=0.1, patience=2, threshold=0.0001, cooldown=0, min_lr=1e-8),\n",
    "            'monitor': 'val_loss'\n",
    "        }\n",
    "        return [optimizer], [lr_scheduler]\n",
    "    def plot_tsne(self, outputs, epoch, phase):\n",
    "        try:\n",
    "            features = []\n",
    "            labels = []\n",
    "            for output in outputs:\n",
    "                features.extend(output[\"features\"].numpy())  # Use target features\n",
    "                labels.extend(output[\"labels\"].numpy())  # Use target labels\n",
    "\n",
    "            features = np.array(features)\n",
    "            labels = np.array(labels)\n",
    "            print(f\"Features shape: {features.shape}\")\n",
    "            print(f\"Labels shape: {labels.shape}\")\n",
    "\n",
    "            # Flatten features if necessary\n",
    "            if features.ndim > 2:\n",
    "                features = features.reshape(features.shape[0], -1)\n",
    "                print(f\"Flattened features shape: {features.shape}\")\n",
    "\n",
    "            tsne = TSNE(n_components=2)\n",
    "            tsne_results = tsne.fit_transform(features)\n",
    "            plt.figure(figsize=(10, 6))\n",
    "            for i in range(self.hparams[\"num_classes\"]):\n",
    "                idxs = np.where(labels == i)\n",
    "                plt.scatter(tsne_results[idxs, 0], tsne_results[idxs, 1], label=f'Class {i}')\n",
    "            plt.legend()\n",
    "            plt.title(f't-SNE plot {phase} Epoch {epoch}')\n",
    "            plt.show()  # Display the plot inline\n",
    "        except Exception as e:\n",
    "            print(f\"Error during t-SNE plotting: {e}\")\n",
    "            raise\n",
    "\n",
    "    def plot_confusion_matrix(self, outputs, phase):\n",
    "        try:\n",
    "            y_true = []\n",
    "            y_pred = []\n",
    "            for output in outputs:\n",
    "                y_true.extend(output[\"labels\"].numpy())  # Use target labels\n",
    "                y_pred.extend(torch.argmax(output[\"logits\"], dim=1).numpy())  # Use predicted labels from logits\n",
    "\n",
    "            y_true = np.array(y_true)\n",
    "            y_pred = np.array(y_pred)\n",
    "            print(f\"y_true shape: {y_true.shape}\")\n",
    "            print(f\"y_pred shape: {y_pred.shape}\")\n",
    "\n",
    "            cm = confusion_matrix(y_true, y_pred)\n",
    "            disp = ConfusionMatrixDisplay(confusion_matrix=cm)\n",
    "            disp.plot()\n",
    "            plt.title(f'Confusion Matrix {phase}')\n",
    "            plt.show()  # Display the plot inline\n",
    "        except Exception as e:\n",
    "            print(f\"Error during confusion matrix plotting: {e}\")\n",
    "            raise"
   ]
  },
  {
   "cell_type": "code",
   "execution_count": 4,
   "metadata": {},
   "outputs": [
    {
     "name": "stderr",
     "output_type": "stream",
     "text": [
      "Failed to detect the name of this notebook, you can set it manually with the WANDB_NOTEBOOK_NAME environment variable to enable code saving.\n",
      "\u001b[34m\u001b[1mwandb\u001b[0m: Currently logged in as: \u001b[33mmrawhani5\u001b[0m (\u001b[33mmrawhani\u001b[0m). Use \u001b[1m`wandb login --relogin`\u001b[0m to force relogin\n"
     ]
    }
   ],
   "source": [
    "# Step 5: Training and Evaluation Loop with Wandb logging\n",
    "import wandb\n",
    "wandb.login()\n",
    "# Wandb setup and training loop\n",
    "seeds = [42,10,100]  # List of seeds\n",
    "project_name = 'final_continous'  # Replace with your wandb project name\n",
    "domain = 'STR'  # Replace with the specific domain for this notebook\n",
    "type = 'invLora'  # Replace with the specific type for this notebook\n",
    "domain_aprev ='STR'\n",
    "\n",
    "# Initialize results dictionary\n",
    "results = {\n",
    "    \"last_epoch\": {\n",
    "        \n",
    "        \"source_test/loss\": [],\n",
    "        \"source_test/accuracy\": [],\n",
    "        \"source_test/f1\": [],\n",
    "        \"target_test/loss\": [],\n",
    "        \"target_test/accuracy\": [],\n",
    "        \"target_test/f1\": [],\n",
    "    },\n",
    "    \"best_model\": {\n",
    "        \n",
    "        \"source_test/loss\": [],\n",
    "        \"source_test/accuracy\": [],\n",
    "        \"source_test/f1\": [],\n",
    "        \"target_test/loss\": [],\n",
    "        \"target_test/accuracy\": [],\n",
    "        \"target_test/f1\": [],\n",
    "    },\n",
    "    \"epoch_saved\": {\n",
    "        \n",
    "        \"source_test/loss\": [],\n",
    "        \"source_test/accuracy\": [],\n",
    "        \"source_test/f1\": [],\n",
    "        \"target_test/loss\": [],\n",
    "        \"target_test/accuracy\": [],\n",
    "        \"target_test/f1\": [],\n",
    "    }\n",
    "}\n",
    "\n",
    "best_val_loss = float('inf')\n",
    "best_model = None\n",
    "best_model_path = \"\"\n"
   ]
  },
  {
   "cell_type": "code",
   "execution_count": 5,
   "metadata": {},
   "outputs": [
    {
     "data": {
      "text/html": [
       "wandb version 0.17.4 is available!  To upgrade, please run:\n",
       " $ pip install wandb --upgrade"
      ],
      "text/plain": [
       "<IPython.core.display.HTML object>"
      ]
     },
     "metadata": {},
     "output_type": "display_data"
    },
    {
     "data": {
      "text/html": [
       "Tracking run with wandb version 0.17.0"
      ],
      "text/plain": [
       "<IPython.core.display.HTML object>"
      ]
     },
     "metadata": {},
     "output_type": "display_data"
    },
    {
     "data": {
      "text/html": [
       "Run data is saved locally in <code>/home/guest/Desktop/projects/fourth-expeiments/domain_adaptation_project/continous/travel/wandb/run-20240704_162427-j8bw0trl</code>"
      ],
      "text/plain": [
       "<IPython.core.display.HTML object>"
      ]
     },
     "metadata": {},
     "output_type": "display_data"
    },
    {
     "data": {
      "text/html": [
       "Syncing run <strong><a href='https://wandb.ai/mrawhani/final_continous/runs/j8bw0trl' target=\"_blank\">STR_invLora_run_with_seed_42</a></strong> to <a href='https://wandb.ai/mrawhani/final_continous' target=\"_blank\">Weights & Biases</a> (<a href='https://wandb.me/run' target=\"_blank\">docs</a>)<br/>"
      ],
      "text/plain": [
       "<IPython.core.display.HTML object>"
      ]
     },
     "metadata": {},
     "output_type": "display_data"
    },
    {
     "data": {
      "text/html": [
       " View project at <a href='https://wandb.ai/mrawhani/final_continous' target=\"_blank\">https://wandb.ai/mrawhani/final_continous</a>"
      ],
      "text/plain": [
       "<IPython.core.display.HTML object>"
      ]
     },
     "metadata": {},
     "output_type": "display_data"
    },
    {
     "data": {
      "text/html": [
       " View run at <a href='https://wandb.ai/mrawhani/final_continous/runs/j8bw0trl' target=\"_blank\">https://wandb.ai/mrawhani/final_continous/runs/j8bw0trl</a>"
      ],
      "text/plain": [
       "<IPython.core.display.HTML object>"
      ]
     },
     "metadata": {},
     "output_type": "display_data"
    },
    {
     "name": "stderr",
     "output_type": "stream",
     "text": [
      "Seed set to 42\n",
      "/home/guest/.cache/pypoetry/virtualenvs/fourth-experments-OVNdUUAn-py3.8/lib/python3.8/site-packages/huggingface_hub/file_download.py:1132: FutureWarning: `resume_download` is deprecated and will be removed in version 1.0.0. Downloads always resume when possible. If you want to force a new download, use `force_download=True`.\n",
      "  warnings.warn(\n"
     ]
    },
    {
     "name": "stdout",
     "output_type": "stream",
     "text": [
      "prinssst: slate\n",
      "print: travel\n",
      "print: 69615\n",
      "prinssst: slate\n",
      "print: travel\n",
      "print: 69615\n"
     ]
    },
    {
     "name": "stderr",
     "output_type": "stream",
     "text": [
      "Some weights of BertAdapterModel were not initialized from the model checkpoint at bert-base-uncased and are newly initialized: ['heads.default.3.bias']\n",
      "You should probably TRAIN this model on a down-stream task to be able to use it for predictions and inference.\n",
      "/home/guest/.cache/pypoetry/virtualenvs/fourth-experments-OVNdUUAn-py3.8/lib/python3.8/site-packages/torch/utils/data/dataloader.py:558: UserWarning: This DataLoader will create 16 worker processes in total. Our suggested max number of worker in current system is 12, which is smaller than what this DataLoader is going to create. Please be aware that excessive worker creation might get DataLoader running slow or even freeze, lower the worker number to avoid potential slowness/freeze if necessary.\n",
      "  warnings.warn(_create_warning_msg(\n",
      "GPU available: True (cuda), used: True\n",
      "TPU available: False, using: 0 TPU cores\n",
      "IPU available: False, using: 0 IPUs\n",
      "HPU available: False, using: 0 HPUs\n",
      "`Trainer(limit_train_batches=1.0)` was configured so 100% of the batches per epoch will be used..\n",
      "`Trainer(limit_val_batches=1.0)` was configured so 100% of the batches will be used..\n",
      "`Trainer(limit_test_batches=1.0)` was configured so 100% of the batches will be used..\n",
      "/home/guest/.cache/pypoetry/virtualenvs/fourth-experments-OVNdUUAn-py3.8/lib/python3.8/site-packages/pytorch_lightning/loggers/wandb.py:396: There is a wandb run already in progress and newly created instances of `WandbLogger` will reuse this run. If this is not desired, call `wandb.finish()` before instantiating `WandbLogger`.\n",
      "LOCAL_RANK: 0 - CUDA_VISIBLE_DEVICES: [0]\n"
     ]
    },
    {
     "name": "stdout",
     "output_type": "stream",
     "text": [
      "================================================================================\n",
      "Name                     Architecture         #Param      %Param  Active   Train\n",
      "--------------------------------------------------------------------------------\n",
      "task_STR                 lora                294,912       0.269       1       1\n",
      "mlm_inv_TR               bottleneck        7,387,776       6.748       1       1\n",
      "--------------------------------------------------------------------------------\n",
      "Full model                               109,482,240     100.000               0\n",
      "================================================================================\n",
      "trainable params: 8898237 || all params: 118380477 || trainable%: 7.5166422922928415\n",
      "None\n"
     ]
    },
    {
     "name": "stderr",
     "output_type": "stream",
     "text": [
      "\n",
      "  | Name      | Type               | Params\n",
      "-------------------------------------------------\n",
      "0 | model     | BertAdapterModel   | 118 M \n",
      "1 | criterion | CrossEntropyLoss   | 0     \n",
      "2 | accuracy  | MulticlassAccuracy | 0     \n",
      "3 | f1        | MulticlassF1Score  | 0     \n",
      "4 | softmax   | Softmax            | 0     \n",
      "-------------------------------------------------\n",
      "8.9 M     Trainable params\n",
      "109 M     Non-trainable params\n",
      "118 M     Total params\n",
      "473.522   Total estimated model params size (MB)\n"
     ]
    },
    {
     "data": {
      "application/vnd.jupyter.widget-view+json": {
       "model_id": "e4f59908420845b7bd19598fe044c63e",
       "version_major": 2,
       "version_minor": 0
      },
      "text/plain": [
       "Sanity Checking: |          | 0/? [00:00<?, ?it/s]"
      ]
     },
     "metadata": {},
     "output_type": "display_data"
    },
    {
     "name": "stdout",
     "output_type": "stream",
     "text": [
      "target_val/loss: 1.11525559425354\n",
      "target_val/accuracy: 0.3125\n",
      "target_val/f1: 0.47532615065574646\n",
      "source_val/loss: 1.1008481979370117\n",
      "source_val/accuracy: 0.34375\n",
      "source_val/f1: 0.4772660732269287\n"
     ]
    },
    {
     "data": {
      "application/vnd.jupyter.widget-view+json": {
       "model_id": "a8a7ad57ea374026af81fecf18b08558",
       "version_major": 2,
       "version_minor": 0
      },
      "text/plain": [
       "Training: |          | 0/? [00:00<?, ?it/s]"
      ]
     },
     "metadata": {},
     "output_type": "display_data"
    },
    {
     "data": {
      "application/vnd.jupyter.widget-view+json": {
       "model_id": "a5a201f602014bd385254576d31591c5",
       "version_major": 2,
       "version_minor": 0
      },
      "text/plain": [
       "Validation: |          | 0/? [00:00<?, ?it/s]"
      ]
     },
     "metadata": {},
     "output_type": "display_data"
    },
    {
     "name": "stdout",
     "output_type": "stream",
     "text": [
      "target_val/loss: 0.5850382447242737\n",
      "target_val/accuracy: 0.762301504611969\n",
      "target_val/f1: 0.763073205947876\n",
      "source_val/loss: 0.6530811786651611\n",
      "source_val/accuracy: 0.7269124984741211\n",
      "source_val/f1: 0.7278218269348145\n"
     ]
    },
    {
     "data": {
      "application/vnd.jupyter.widget-view+json": {
       "model_id": "19e9559795484685aeebe4672590c84c",
       "version_major": 2,
       "version_minor": 0
      },
      "text/plain": [
       "Validation: |          | 0/? [00:00<?, ?it/s]"
      ]
     },
     "metadata": {},
     "output_type": "display_data"
    },
    {
     "name": "stdout",
     "output_type": "stream",
     "text": [
      "target_val/loss: 0.5574072003364563\n",
      "target_val/accuracy: 0.7784430384635925\n",
      "target_val/f1: 0.7802185416221619\n",
      "source_val/loss: 0.6239158511161804\n",
      "source_val/accuracy: 0.7477911114692688\n",
      "source_val/f1: 0.7492186427116394\n"
     ]
    },
    {
     "data": {
      "application/vnd.jupyter.widget-view+json": {
       "model_id": "88265773fabd4618a6d10e803a16da35",
       "version_major": 2,
       "version_minor": 0
      },
      "text/plain": [
       "Validation: |          | 0/? [00:00<?, ?it/s]"
      ]
     },
     "metadata": {},
     "output_type": "display_data"
    },
    {
     "name": "stdout",
     "output_type": "stream",
     "text": [
      "target_val/loss: 0.551195502281189\n",
      "target_val/accuracy: 0.7877813577651978\n",
      "target_val/f1: 0.7889870405197144\n",
      "source_val/loss: 0.6148663759231567\n",
      "source_val/accuracy: 0.755151629447937\n",
      "source_val/f1: 0.756422758102417\n"
     ]
    },
    {
     "data": {
      "application/vnd.jupyter.widget-view+json": {
       "model_id": "3dabe1f784394f0798ba111bf5101cd3",
       "version_major": 2,
       "version_minor": 0
      },
      "text/plain": [
       "Validation: |          | 0/? [00:00<?, ?it/s]"
      ]
     },
     "metadata": {},
     "output_type": "display_data"
    },
    {
     "name": "stdout",
     "output_type": "stream",
     "text": [
      "target_val/loss: 0.592216432094574\n",
      "target_val/accuracy: 0.7846822142601013\n",
      "target_val/f1: 0.7856282591819763\n",
      "source_val/loss: 0.6492370963096619\n",
      "source_val/accuracy: 0.7579517960548401\n",
      "source_val/f1: 0.758747398853302\n"
     ]
    },
    {
     "data": {
      "application/vnd.jupyter.widget-view+json": {
       "model_id": "ebc03f1e8caf4a1daf84e91d48c84660",
       "version_major": 2,
       "version_minor": 0
      },
      "text/plain": [
       "Validation: |          | 0/? [00:00<?, ?it/s]"
      ]
     },
     "metadata": {},
     "output_type": "display_data"
    },
    {
     "name": "stderr",
     "output_type": "stream",
     "text": [
      "`Trainer.fit` stopped: `max_epochs=5` reached.\n"
     ]
    },
    {
     "name": "stdout",
     "output_type": "stream",
     "text": [
      "target_val/loss: 0.6288801431655884\n",
      "target_val/accuracy: 0.7845122814178467\n",
      "target_val/f1: 0.7857784032821655\n",
      "source_val/loss: 0.7010982036590576\n",
      "source_val/accuracy: 0.7516650557518005\n",
      "source_val/f1: 0.752224326133728\n",
      "Best checkpoint path: ./lightning_logs/j8bw0trl/checkpoints/task-STR-epoch=02-val_loss=0.61.ckpt\n",
      "Saved epoch checkpoint path: ./lightning_logs/j8bw0trl/checkpoints/STR-epoch=02.ckpt\n"
     ]
    },
    {
     "name": "stderr",
     "output_type": "stream",
     "text": [
      "LOCAL_RANK: 0 - CUDA_VISIBLE_DEVICES: [0]\n"
     ]
    },
    {
     "name": "stdout",
     "output_type": "stream",
     "text": [
      "prinssst: slate\n",
      "print: travel\n",
      "print: 69615\n"
     ]
    },
    {
     "data": {
      "application/vnd.jupyter.widget-view+json": {
       "model_id": "008d4ff3cbd34d7e93058176ccdf0767",
       "version_major": 2,
       "version_minor": 0
      },
      "text/plain": [
       "Testing: |          | 0/? [00:00<?, ?it/s]"
      ]
     },
     "metadata": {},
     "output_type": "display_data"
    },
    {
     "data": {
      "text/html": [
       "<pre style=\"white-space:pre;overflow-x:auto;line-height:normal;font-family:Menlo,'DejaVu Sans Mono',consolas,'Courier New',monospace\">┏━━━━━━━━━━━━━━━━━━━━━━━━━━━┳━━━━━━━━━━━━━━━━━━━━━━━━━━━┓\n",
       "┃<span style=\"font-weight: bold\">        Test metric        </span>┃<span style=\"font-weight: bold\">       DataLoader 0        </span>┃\n",
       "┡━━━━━━━━━━━━━━━━━━━━━━━━━━━╇━━━━━━━━━━━━━━━━━━━━━━━━━━━┩\n",
       "│<span style=\"color: #008080; text-decoration-color: #008080\">   source_test/accuracy    </span>│<span style=\"color: #800080; text-decoration-color: #800080\">    0.7641128897666931     </span>│\n",
       "│<span style=\"color: #008080; text-decoration-color: #008080\">      source_test/f1       </span>│<span style=\"color: #800080; text-decoration-color: #800080\">    0.7644995450973511     </span>│\n",
       "│<span style=\"color: #008080; text-decoration-color: #008080\">     source_test/loss      </span>│<span style=\"color: #800080; text-decoration-color: #800080\">    0.6922851800918579     </span>│\n",
       "│<span style=\"color: #008080; text-decoration-color: #008080\">   target_test/accuracy    </span>│<span style=\"color: #800080; text-decoration-color: #800080\">    0.7918346524238586     </span>│\n",
       "│<span style=\"color: #008080; text-decoration-color: #008080\">      target_test/f1       </span>│<span style=\"color: #800080; text-decoration-color: #800080\">    0.7918846011161804     </span>│\n",
       "│<span style=\"color: #008080; text-decoration-color: #008080\">     target_test/loss      </span>│<span style=\"color: #800080; text-decoration-color: #800080\">    0.5934373140335083     </span>│\n",
       "└───────────────────────────┴───────────────────────────┘\n",
       "</pre>\n"
      ],
      "text/plain": [
       "┏━━━━━━━━━━━━━━━━━━━━━━━━━━━┳━━━━━━━━━━━━━━━━━━━━━━━━━━━┓\n",
       "┃\u001b[1m \u001b[0m\u001b[1m       Test metric       \u001b[0m\u001b[1m \u001b[0m┃\u001b[1m \u001b[0m\u001b[1m      DataLoader 0       \u001b[0m\u001b[1m \u001b[0m┃\n",
       "┡━━━━━━━━━━━━━━━━━━━━━━━━━━━╇━━━━━━━━━━━━━━━━━━━━━━━━━━━┩\n",
       "│\u001b[36m \u001b[0m\u001b[36m  source_test/accuracy   \u001b[0m\u001b[36m \u001b[0m│\u001b[35m \u001b[0m\u001b[35m   0.7641128897666931    \u001b[0m\u001b[35m \u001b[0m│\n",
       "│\u001b[36m \u001b[0m\u001b[36m     source_test/f1      \u001b[0m\u001b[36m \u001b[0m│\u001b[35m \u001b[0m\u001b[35m   0.7644995450973511    \u001b[0m\u001b[35m \u001b[0m│\n",
       "│\u001b[36m \u001b[0m\u001b[36m    source_test/loss     \u001b[0m\u001b[36m \u001b[0m│\u001b[35m \u001b[0m\u001b[35m   0.6922851800918579    \u001b[0m\u001b[35m \u001b[0m│\n",
       "│\u001b[36m \u001b[0m\u001b[36m  target_test/accuracy   \u001b[0m\u001b[36m \u001b[0m│\u001b[35m \u001b[0m\u001b[35m   0.7918346524238586    \u001b[0m\u001b[35m \u001b[0m│\n",
       "│\u001b[36m \u001b[0m\u001b[36m     target_test/f1      \u001b[0m\u001b[36m \u001b[0m│\u001b[35m \u001b[0m\u001b[35m   0.7918846011161804    \u001b[0m\u001b[35m \u001b[0m│\n",
       "│\u001b[36m \u001b[0m\u001b[36m    target_test/loss     \u001b[0m\u001b[36m \u001b[0m│\u001b[35m \u001b[0m\u001b[35m   0.5934373140335083    \u001b[0m\u001b[35m \u001b[0m│\n",
       "└───────────────────────────┴───────────────────────────┘\n"
      ]
     },
     "metadata": {},
     "output_type": "display_data"
    },
    {
     "name": "stdout",
     "output_type": "stream",
     "text": [
      "Test Results Last Epoch: [{'source_test/loss': 0.6922851800918579, 'source_test/accuracy': 0.7641128897666931, 'source_test/f1': 0.7644995450973511, 'target_test/loss': 0.5934373140335083, 'target_test/accuracy': 0.7918346524238586, 'target_test/f1': 0.7918846011161804}]\n",
      "Best checkpoint path: ./lightning_logs/j8bw0trl/checkpoints/task-STR-epoch=02-val_loss=0.61.ckpt\n",
      "Saved epoch checkpoint path: ./lightning_logs/j8bw0trl/checkpoints/STR-epoch=02.ckpt\n"
     ]
    },
    {
     "name": "stderr",
     "output_type": "stream",
     "text": [
      "Some weights of BertAdapterModel were not initialized from the model checkpoint at bert-base-uncased and are newly initialized: ['heads.default.3.bias']\n",
      "You should probably TRAIN this model on a down-stream task to be able to use it for predictions and inference.\n"
     ]
    },
    {
     "name": "stdout",
     "output_type": "stream",
     "text": [
      "================================================================================\n",
      "Name                     Architecture         #Param      %Param  Active   Train\n",
      "--------------------------------------------------------------------------------\n",
      "task_STR                 lora                294,912       0.269       1       1\n",
      "mlm_inv_TR               bottleneck        7,387,776       6.748       1       1\n",
      "--------------------------------------------------------------------------------\n",
      "Full model                               109,482,240     100.000               0\n",
      "================================================================================\n",
      "trainable params: 8898237 || all params: 118380477 || trainable%: 7.5166422922928415\n",
      "None\n"
     ]
    },
    {
     "name": "stderr",
     "output_type": "stream",
     "text": [
      "LOCAL_RANK: 0 - CUDA_VISIBLE_DEVICES: [0]\n"
     ]
    },
    {
     "data": {
      "application/vnd.jupyter.widget-view+json": {
       "model_id": "85a4a0075ff3441cb021ec95fde66d59",
       "version_major": 2,
       "version_minor": 0
      },
      "text/plain": [
       "Testing: |          | 0/? [00:00<?, ?it/s]"
      ]
     },
     "metadata": {},
     "output_type": "display_data"
    },
    {
     "data": {
      "text/html": [
       "<pre style=\"white-space:pre;overflow-x:auto;line-height:normal;font-family:Menlo,'DejaVu Sans Mono',consolas,'Courier New',monospace\">┏━━━━━━━━━━━━━━━━━━━━━━━━━━━┳━━━━━━━━━━━━━━━━━━━━━━━━━━━┓\n",
       "┃<span style=\"font-weight: bold\">        Test metric        </span>┃<span style=\"font-weight: bold\">       DataLoader 0        </span>┃\n",
       "┡━━━━━━━━━━━━━━━━━━━━━━━━━━━╇━━━━━━━━━━━━━━━━━━━━━━━━━━━┩\n",
       "│<span style=\"color: #008080; text-decoration-color: #008080\">   source_test/accuracy    </span>│<span style=\"color: #800080; text-decoration-color: #800080\">    0.7560483813285828     </span>│\n",
       "│<span style=\"color: #008080; text-decoration-color: #008080\">      source_test/f1       </span>│<span style=\"color: #800080; text-decoration-color: #800080\">    0.7568851709365845     </span>│\n",
       "│<span style=\"color: #008080; text-decoration-color: #008080\">     source_test/loss      </span>│<span style=\"color: #800080; text-decoration-color: #800080\">    0.6271538138389587     </span>│\n",
       "│<span style=\"color: #008080; text-decoration-color: #008080\">   target_test/accuracy    </span>│<span style=\"color: #800080; text-decoration-color: #800080\">    0.7872983813285828     </span>│\n",
       "│<span style=\"color: #008080; text-decoration-color: #008080\">      target_test/f1       </span>│<span style=\"color: #800080; text-decoration-color: #800080\">    0.7872546911239624     </span>│\n",
       "│<span style=\"color: #008080; text-decoration-color: #008080\">     target_test/loss      </span>│<span style=\"color: #800080; text-decoration-color: #800080\">    0.5353726148605347     </span>│\n",
       "└───────────────────────────┴───────────────────────────┘\n",
       "</pre>\n"
      ],
      "text/plain": [
       "┏━━━━━━━━━━━━━━━━━━━━━━━━━━━┳━━━━━━━━━━━━━━━━━━━━━━━━━━━┓\n",
       "┃\u001b[1m \u001b[0m\u001b[1m       Test metric       \u001b[0m\u001b[1m \u001b[0m┃\u001b[1m \u001b[0m\u001b[1m      DataLoader 0       \u001b[0m\u001b[1m \u001b[0m┃\n",
       "┡━━━━━━━━━━━━━━━━━━━━━━━━━━━╇━━━━━━━━━━━━━━━━━━━━━━━━━━━┩\n",
       "│\u001b[36m \u001b[0m\u001b[36m  source_test/accuracy   \u001b[0m\u001b[36m \u001b[0m│\u001b[35m \u001b[0m\u001b[35m   0.7560483813285828    \u001b[0m\u001b[35m \u001b[0m│\n",
       "│\u001b[36m \u001b[0m\u001b[36m     source_test/f1      \u001b[0m\u001b[36m \u001b[0m│\u001b[35m \u001b[0m\u001b[35m   0.7568851709365845    \u001b[0m\u001b[35m \u001b[0m│\n",
       "│\u001b[36m \u001b[0m\u001b[36m    source_test/loss     \u001b[0m\u001b[36m \u001b[0m│\u001b[35m \u001b[0m\u001b[35m   0.6271538138389587    \u001b[0m\u001b[35m \u001b[0m│\n",
       "│\u001b[36m \u001b[0m\u001b[36m  target_test/accuracy   \u001b[0m\u001b[36m \u001b[0m│\u001b[35m \u001b[0m\u001b[35m   0.7872983813285828    \u001b[0m\u001b[35m \u001b[0m│\n",
       "│\u001b[36m \u001b[0m\u001b[36m     target_test/f1      \u001b[0m\u001b[36m \u001b[0m│\u001b[35m \u001b[0m\u001b[35m   0.7872546911239624    \u001b[0m\u001b[35m \u001b[0m│\n",
       "│\u001b[36m \u001b[0m\u001b[36m    target_test/loss     \u001b[0m\u001b[36m \u001b[0m│\u001b[35m \u001b[0m\u001b[35m   0.5353726148605347    \u001b[0m\u001b[35m \u001b[0m│\n",
       "└───────────────────────────┴───────────────────────────┘\n"
      ]
     },
     "metadata": {},
     "output_type": "display_data"
    },
    {
     "name": "stdout",
     "output_type": "stream",
     "text": [
      "Test Results on Best Model: [{'source_test/loss': 0.6271538138389587, 'source_test/accuracy': 0.7560483813285828, 'source_test/f1': 0.7568851709365845, 'target_test/loss': 0.5353726148605347, 'target_test/accuracy': 0.7872983813285828, 'target_test/f1': 0.7872546911239624}]\n"
     ]
    },
    {
     "name": "stderr",
     "output_type": "stream",
     "text": [
      "Some weights of BertAdapterModel were not initialized from the model checkpoint at bert-base-uncased and are newly initialized: ['heads.default.3.bias']\n",
      "You should probably TRAIN this model on a down-stream task to be able to use it for predictions and inference.\n"
     ]
    },
    {
     "name": "stdout",
     "output_type": "stream",
     "text": [
      "================================================================================\n",
      "Name                     Architecture         #Param      %Param  Active   Train\n",
      "--------------------------------------------------------------------------------\n",
      "task_STR                 lora                294,912       0.269       1       1\n",
      "mlm_inv_TR               bottleneck        7,387,776       6.748       1       1\n",
      "--------------------------------------------------------------------------------\n",
      "Full model                               109,482,240     100.000               0\n",
      "================================================================================\n",
      "trainable params: 8898237 || all params: 118380477 || trainable%: 7.5166422922928415\n",
      "None\n"
     ]
    },
    {
     "name": "stderr",
     "output_type": "stream",
     "text": [
      "LOCAL_RANK: 0 - CUDA_VISIBLE_DEVICES: [0]\n"
     ]
    },
    {
     "data": {
      "application/vnd.jupyter.widget-view+json": {
       "model_id": "ba59eacc81c447d688ff355636940104",
       "version_major": 2,
       "version_minor": 0
      },
      "text/plain": [
       "Testing: |          | 0/? [00:00<?, ?it/s]"
      ]
     },
     "metadata": {},
     "output_type": "display_data"
    },
    {
     "data": {
      "text/html": [
       "<pre style=\"white-space:pre;overflow-x:auto;line-height:normal;font-family:Menlo,'DejaVu Sans Mono',consolas,'Courier New',monospace\">┏━━━━━━━━━━━━━━━━━━━━━━━━━━━┳━━━━━━━━━━━━━━━━━━━━━━━━━━━┓\n",
       "┃<span style=\"font-weight: bold\">        Test metric        </span>┃<span style=\"font-weight: bold\">       DataLoader 0        </span>┃\n",
       "┡━━━━━━━━━━━━━━━━━━━━━━━━━━━╇━━━━━━━━━━━━━━━━━━━━━━━━━━━┩\n",
       "│<span style=\"color: #008080; text-decoration-color: #008080\">   source_test/accuracy    </span>│<span style=\"color: #800080; text-decoration-color: #800080\">    0.7560483813285828     </span>│\n",
       "│<span style=\"color: #008080; text-decoration-color: #008080\">      source_test/f1       </span>│<span style=\"color: #800080; text-decoration-color: #800080\">    0.7568851709365845     </span>│\n",
       "│<span style=\"color: #008080; text-decoration-color: #008080\">     source_test/loss      </span>│<span style=\"color: #800080; text-decoration-color: #800080\">    0.6271538138389587     </span>│\n",
       "│<span style=\"color: #008080; text-decoration-color: #008080\">   target_test/accuracy    </span>│<span style=\"color: #800080; text-decoration-color: #800080\">    0.7872983813285828     </span>│\n",
       "│<span style=\"color: #008080; text-decoration-color: #008080\">      target_test/f1       </span>│<span style=\"color: #800080; text-decoration-color: #800080\">    0.7872546911239624     </span>│\n",
       "│<span style=\"color: #008080; text-decoration-color: #008080\">     target_test/loss      </span>│<span style=\"color: #800080; text-decoration-color: #800080\">    0.5353726148605347     </span>│\n",
       "└───────────────────────────┴───────────────────────────┘\n",
       "</pre>\n"
      ],
      "text/plain": [
       "┏━━━━━━━━━━━━━━━━━━━━━━━━━━━┳━━━━━━━━━━━━━━━━━━━━━━━━━━━┓\n",
       "┃\u001b[1m \u001b[0m\u001b[1m       Test metric       \u001b[0m\u001b[1m \u001b[0m┃\u001b[1m \u001b[0m\u001b[1m      DataLoader 0       \u001b[0m\u001b[1m \u001b[0m┃\n",
       "┡━━━━━━━━━━━━━━━━━━━━━━━━━━━╇━━━━━━━━━━━━━━━━━━━━━━━━━━━┩\n",
       "│\u001b[36m \u001b[0m\u001b[36m  source_test/accuracy   \u001b[0m\u001b[36m \u001b[0m│\u001b[35m \u001b[0m\u001b[35m   0.7560483813285828    \u001b[0m\u001b[35m \u001b[0m│\n",
       "│\u001b[36m \u001b[0m\u001b[36m     source_test/f1      \u001b[0m\u001b[36m \u001b[0m│\u001b[35m \u001b[0m\u001b[35m   0.7568851709365845    \u001b[0m\u001b[35m \u001b[0m│\n",
       "│\u001b[36m \u001b[0m\u001b[36m    source_test/loss     \u001b[0m\u001b[36m \u001b[0m│\u001b[35m \u001b[0m\u001b[35m   0.6271538138389587    \u001b[0m\u001b[35m \u001b[0m│\n",
       "│\u001b[36m \u001b[0m\u001b[36m  target_test/accuracy   \u001b[0m\u001b[36m \u001b[0m│\u001b[35m \u001b[0m\u001b[35m   0.7872983813285828    \u001b[0m\u001b[35m \u001b[0m│\n",
       "│\u001b[36m \u001b[0m\u001b[36m     target_test/f1      \u001b[0m\u001b[36m \u001b[0m│\u001b[35m \u001b[0m\u001b[35m   0.7872546911239624    \u001b[0m\u001b[35m \u001b[0m│\n",
       "│\u001b[36m \u001b[0m\u001b[36m    target_test/loss     \u001b[0m\u001b[36m \u001b[0m│\u001b[35m \u001b[0m\u001b[35m   0.5353726148605347    \u001b[0m\u001b[35m \u001b[0m│\n",
       "└───────────────────────────┴───────────────────────────┘\n"
      ]
     },
     "metadata": {},
     "output_type": "display_data"
    },
    {
     "name": "stdout",
     "output_type": "stream",
     "text": [
      "Test Results on saved epoch: [{'source_test/loss': 0.6271538138389587, 'source_test/accuracy': 0.7560483813285828, 'source_test/f1': 0.7568851709365845, 'target_test/loss': 0.5353726148605347, 'target_test/accuracy': 0.7872983813285828, 'target_test/f1': 0.7872546911239624}]\n"
     ]
    },
    {
     "data": {
      "application/vnd.jupyter.widget-view+json": {
       "model_id": "ed74d2eb6a024a3fb149869cc7911cee",
       "version_major": 2,
       "version_minor": 0
      },
      "text/plain": [
       "VBox(children=(Label(value='0.002 MB of 0.002 MB uploaded\\r'), FloatProgress(value=1.0, max=1.0)))"
      ]
     },
     "metadata": {},
     "output_type": "display_data"
    },
    {
     "data": {
      "text/html": [
       "<style>\n",
       "    table.wandb td:nth-child(1) { padding: 0 10px; text-align: left ; width: auto;} td:nth-child(2) {text-align: left ; width: 100%}\n",
       "    .wandb-row { display: flex; flex-direction: row; flex-wrap: wrap; justify-content: flex-start; width: 100% }\n",
       "    .wandb-col { display: flex; flex-direction: column; flex-basis: 100%; flex: 1; padding: 10px; }\n",
       "    </style>\n",
       "<div class=\"wandb-row\"><div class=\"wandb-col\"><h3>Run history:</h3><br/><table class=\"wandb\"><tr><td>epoch</td><td>▁▁▁▁▁▁▁▁▂▂▂▂▂▂▂▂▄▄▄▄▄▄▄▄▅▅▅▅▅▅▅▅▇▇▇▇▇▇▇█</td></tr><tr><td>source_test/accuracy</td><td>█▁▁</td></tr><tr><td>source_test/f1</td><td>█▁▁</td></tr><tr><td>source_test/loss</td><td>█▁▁</td></tr><tr><td>source_val/accuracy</td><td>▁▆▇█▇</td></tr><tr><td>source_val/f1</td><td>▁▆▇█▇</td></tr><tr><td>source_val/loss</td><td>▄▂▁▄█</td></tr><tr><td>target_test/accuracy</td><td>█▁▁</td></tr><tr><td>target_test/f1</td><td>█▁▁</td></tr><tr><td>target_test/loss</td><td>█▁▁</td></tr><tr><td>target_val/accuracy</td><td>▁▅█▇▇</td></tr><tr><td>target_val/f1</td><td>▁▆█▇▇</td></tr><tr><td>target_val/loss</td><td>▄▂▁▅█</td></tr><tr><td>train_accuracy</td><td>▂▆▁▄▄▄▃▃▄▄▇▅▃▇▅▄▅▅▆▅▆▆▅▆▅█▆▇▇▆▅▅▆▆▇█▅▇█▅</td></tr><tr><td>train_f1</td><td>▂▆▁▄▄▄▃▃▄▄▇▅▃▇▅▄▅▅▆▅▆▆▅▆▅█▆▇▇▆▅▅▆▆▇█▅▇█▅</td></tr><tr><td>train_loss</td><td>█▆▇▆▄▅▆▅▆▄▂▄▆▃▄▄▅▄▃▅▃▄▄▃▃▁▄▃▂▃▃▄▃▃▂▁▄▂▁▃</td></tr><tr><td>trainer/global_step</td><td>▁▁▁▂▂▂▂▂▂▃▃▃▃▃▄▄▄▄▄▄▅▅▅▅▅▆▆▆▆▆▆▇▇▇▇▇▇███</td></tr><tr><td>val_loss</td><td>▄▂▁▄█</td></tr></table><br/></div><div class=\"wandb-col\"><h3>Run summary:</h3><br/><table class=\"wandb\"><tr><td>epoch</td><td>5</td></tr><tr><td>source_test/accuracy</td><td>0.75605</td></tr><tr><td>source_test/f1</td><td>0.75689</td></tr><tr><td>source_test/loss</td><td>0.62715</td></tr><tr><td>source_val/accuracy</td><td>0.75167</td></tr><tr><td>source_val/f1</td><td>0.75222</td></tr><tr><td>source_val/loss</td><td>0.7011</td></tr><tr><td>target_test/accuracy</td><td>0.7873</td></tr><tr><td>target_test/f1</td><td>0.78725</td></tr><tr><td>target_test/loss</td><td>0.53537</td></tr><tr><td>target_val/accuracy</td><td>0.78451</td></tr><tr><td>target_val/f1</td><td>0.78578</td></tr><tr><td>target_val/loss</td><td>0.62888</td></tr><tr><td>train_accuracy</td><td>0.9375</td></tr><tr><td>train_f1</td><td>0.9375</td></tr><tr><td>train_loss</td><td>0.19436</td></tr><tr><td>trainer/global_step</td><td>10875</td></tr><tr><td>val_loss</td><td>0.7011</td></tr></table><br/></div></div>"
      ],
      "text/plain": [
       "<IPython.core.display.HTML object>"
      ]
     },
     "metadata": {},
     "output_type": "display_data"
    },
    {
     "data": {
      "text/html": [
       " View run <strong style=\"color:#cdcd00\">STR_invLora_run_with_seed_42</strong> at: <a href='https://wandb.ai/mrawhani/final_continous/runs/j8bw0trl' target=\"_blank\">https://wandb.ai/mrawhani/final_continous/runs/j8bw0trl</a><br/> View project at: <a href='https://wandb.ai/mrawhani/final_continous' target=\"_blank\">https://wandb.ai/mrawhani/final_continous</a><br/>Synced 5 W&B file(s), 0 media file(s), 0 artifact file(s) and 0 other file(s)"
      ],
      "text/plain": [
       "<IPython.core.display.HTML object>"
      ]
     },
     "metadata": {},
     "output_type": "display_data"
    },
    {
     "data": {
      "text/html": [
       "Find logs at: <code>./wandb/run-20240704_162427-j8bw0trl/logs</code>"
      ],
      "text/plain": [
       "<IPython.core.display.HTML object>"
      ]
     },
     "metadata": {},
     "output_type": "display_data"
    },
    {
     "data": {
      "application/vnd.jupyter.widget-view+json": {
       "model_id": "f605b8c247d04417a9f69262887b3ddf",
       "version_major": 2,
       "version_minor": 0
      },
      "text/plain": [
       "VBox(children=(Label(value='Waiting for wandb.init()...\\r'), FloatProgress(value=0.011112209400016582, max=1.0…"
      ]
     },
     "metadata": {},
     "output_type": "display_data"
    },
    {
     "data": {
      "text/html": [
       "wandb version 0.17.4 is available!  To upgrade, please run:\n",
       " $ pip install wandb --upgrade"
      ],
      "text/plain": [
       "<IPython.core.display.HTML object>"
      ]
     },
     "metadata": {},
     "output_type": "display_data"
    },
    {
     "data": {
      "text/html": [
       "Tracking run with wandb version 0.17.0"
      ],
      "text/plain": [
       "<IPython.core.display.HTML object>"
      ]
     },
     "metadata": {},
     "output_type": "display_data"
    },
    {
     "data": {
      "text/html": [
       "Run data is saved locally in <code>/home/guest/Desktop/projects/fourth-expeiments/domain_adaptation_project/continous/travel/wandb/run-20240704_170939-tkb4m42c</code>"
      ],
      "text/plain": [
       "<IPython.core.display.HTML object>"
      ]
     },
     "metadata": {},
     "output_type": "display_data"
    },
    {
     "data": {
      "text/html": [
       "Syncing run <strong><a href='https://wandb.ai/mrawhani/final_continous/runs/tkb4m42c' target=\"_blank\">STR_invLora_run_with_seed_10</a></strong> to <a href='https://wandb.ai/mrawhani/final_continous' target=\"_blank\">Weights & Biases</a> (<a href='https://wandb.me/run' target=\"_blank\">docs</a>)<br/>"
      ],
      "text/plain": [
       "<IPython.core.display.HTML object>"
      ]
     },
     "metadata": {},
     "output_type": "display_data"
    },
    {
     "data": {
      "text/html": [
       " View project at <a href='https://wandb.ai/mrawhani/final_continous' target=\"_blank\">https://wandb.ai/mrawhani/final_continous</a>"
      ],
      "text/plain": [
       "<IPython.core.display.HTML object>"
      ]
     },
     "metadata": {},
     "output_type": "display_data"
    },
    {
     "data": {
      "text/html": [
       " View run at <a href='https://wandb.ai/mrawhani/final_continous/runs/tkb4m42c' target=\"_blank\">https://wandb.ai/mrawhani/final_continous/runs/tkb4m42c</a>"
      ],
      "text/plain": [
       "<IPython.core.display.HTML object>"
      ]
     },
     "metadata": {},
     "output_type": "display_data"
    },
    {
     "name": "stderr",
     "output_type": "stream",
     "text": [
      "Seed set to 10\n",
      "/home/guest/.cache/pypoetry/virtualenvs/fourth-experments-OVNdUUAn-py3.8/lib/python3.8/site-packages/huggingface_hub/file_download.py:1132: FutureWarning: `resume_download` is deprecated and will be removed in version 1.0.0. Downloads always resume when possible. If you want to force a new download, use `force_download=True`.\n",
      "  warnings.warn(\n"
     ]
    },
    {
     "name": "stdout",
     "output_type": "stream",
     "text": [
      "prinssst: slate\n",
      "print: travel\n",
      "print: 69615\n",
      "prinssst: slate\n",
      "print: travel\n",
      "print: 69615\n"
     ]
    },
    {
     "name": "stderr",
     "output_type": "stream",
     "text": [
      "Some weights of BertAdapterModel were not initialized from the model checkpoint at bert-base-uncased and are newly initialized: ['heads.default.3.bias']\n",
      "You should probably TRAIN this model on a down-stream task to be able to use it for predictions and inference.\n",
      "/home/guest/.cache/pypoetry/virtualenvs/fourth-experments-OVNdUUAn-py3.8/lib/python3.8/site-packages/torch/utils/data/dataloader.py:558: UserWarning: This DataLoader will create 16 worker processes in total. Our suggested max number of worker in current system is 12, which is smaller than what this DataLoader is going to create. Please be aware that excessive worker creation might get DataLoader running slow or even freeze, lower the worker number to avoid potential slowness/freeze if necessary.\n",
      "  warnings.warn(_create_warning_msg(\n",
      "GPU available: True (cuda), used: True\n",
      "TPU available: False, using: 0 TPU cores\n",
      "IPU available: False, using: 0 IPUs\n",
      "HPU available: False, using: 0 HPUs\n",
      "`Trainer(limit_train_batches=1.0)` was configured so 100% of the batches per epoch will be used..\n",
      "`Trainer(limit_val_batches=1.0)` was configured so 100% of the batches will be used..\n",
      "`Trainer(limit_test_batches=1.0)` was configured so 100% of the batches will be used..\n",
      "/home/guest/.cache/pypoetry/virtualenvs/fourth-experments-OVNdUUAn-py3.8/lib/python3.8/site-packages/pytorch_lightning/loggers/wandb.py:396: There is a wandb run already in progress and newly created instances of `WandbLogger` will reuse this run. If this is not desired, call `wandb.finish()` before instantiating `WandbLogger`.\n",
      "LOCAL_RANK: 0 - CUDA_VISIBLE_DEVICES: [0]\n"
     ]
    },
    {
     "name": "stdout",
     "output_type": "stream",
     "text": [
      "================================================================================\n",
      "Name                     Architecture         #Param      %Param  Active   Train\n",
      "--------------------------------------------------------------------------------\n",
      "task_STR                 lora                294,912       0.269       1       1\n",
      "mlm_inv_TR               bottleneck        7,387,776       6.748       1       1\n",
      "--------------------------------------------------------------------------------\n",
      "Full model                               109,482,240     100.000               0\n",
      "================================================================================\n",
      "trainable params: 8898237 || all params: 118380477 || trainable%: 7.5166422922928415\n",
      "None\n"
     ]
    },
    {
     "name": "stderr",
     "output_type": "stream",
     "text": [
      "\n",
      "  | Name      | Type               | Params\n",
      "-------------------------------------------------\n",
      "0 | model     | BertAdapterModel   | 118 M \n",
      "1 | criterion | CrossEntropyLoss   | 0     \n",
      "2 | accuracy  | MulticlassAccuracy | 0     \n",
      "3 | f1        | MulticlassF1Score  | 0     \n",
      "4 | softmax   | Softmax            | 0     \n",
      "-------------------------------------------------\n",
      "8.9 M     Trainable params\n",
      "109 M     Non-trainable params\n",
      "118 M     Total params\n",
      "473.522   Total estimated model params size (MB)\n"
     ]
    },
    {
     "data": {
      "application/vnd.jupyter.widget-view+json": {
       "model_id": "e4127b95159a43d1b515f9c60e28b008",
       "version_major": 2,
       "version_minor": 0
      },
      "text/plain": [
       "Sanity Checking: |          | 0/? [00:00<?, ?it/s]"
      ]
     },
     "metadata": {},
     "output_type": "display_data"
    },
    {
     "name": "stdout",
     "output_type": "stream",
     "text": [
      "target_val/loss: 1.1016168594360352\n",
      "target_val/accuracy: 0.3125\n",
      "target_val/f1: 0.36324483156204224\n",
      "source_val/loss: 1.1008799076080322\n",
      "source_val/accuracy: 0.296875\n",
      "source_val/f1: 0.41936367750167847\n"
     ]
    },
    {
     "data": {
      "application/vnd.jupyter.widget-view+json": {
       "model_id": "670df05e2855417ba8d3177dc569318d",
       "version_major": 2,
       "version_minor": 0
      },
      "text/plain": [
       "Training: |          | 0/? [00:00<?, ?it/s]"
      ]
     },
     "metadata": {},
     "output_type": "display_data"
    },
    {
     "data": {
      "application/vnd.jupyter.widget-view+json": {
       "model_id": "0d8702470267403f81c6ab51ada7b9f9",
       "version_major": 2,
       "version_minor": 0
      },
      "text/plain": [
       "Validation: |          | 0/? [00:00<?, ?it/s]"
      ]
     },
     "metadata": {},
     "output_type": "display_data"
    },
    {
     "name": "stdout",
     "output_type": "stream",
     "text": [
      "target_val/loss: 0.5839832425117493\n",
      "target_val/accuracy: 0.7578701972961426\n",
      "target_val/f1: 0.7587681412696838\n",
      "source_val/loss: 0.6505833864212036\n",
      "source_val/accuracy: 0.7290194034576416\n",
      "source_val/f1: 0.7300960421562195\n"
     ]
    },
    {
     "data": {
      "application/vnd.jupyter.widget-view+json": {
       "model_id": "603858c8d3d54968afa049ecccc43db1",
       "version_major": 2,
       "version_minor": 0
      },
      "text/plain": [
       "Validation: |          | 0/? [00:00<?, ?it/s]"
      ]
     },
     "metadata": {},
     "output_type": "display_data"
    },
    {
     "name": "stdout",
     "output_type": "stream",
     "text": [
      "target_val/loss: 0.546908974647522\n",
      "target_val/accuracy: 0.7796528339385986\n",
      "target_val/f1: 0.7804722785949707\n",
      "source_val/loss: 0.6099622249603271\n",
      "source_val/accuracy: 0.7526097893714905\n",
      "source_val/f1: 0.7535496950149536\n"
     ]
    },
    {
     "data": {
      "application/vnd.jupyter.widget-view+json": {
       "model_id": "30f3f2cc965f428592ece8df68a883e0",
       "version_major": 2,
       "version_minor": 0
      },
      "text/plain": [
       "Validation: |          | 0/? [00:00<?, ?it/s]"
      ]
     },
     "metadata": {},
     "output_type": "display_data"
    },
    {
     "name": "stdout",
     "output_type": "stream",
     "text": [
      "target_val/loss: 0.5501554608345032\n",
      "target_val/accuracy: 0.7868842482566833\n",
      "target_val/f1: 0.7877405285835266\n",
      "source_val/loss: 0.6058125495910645\n",
      "source_val/accuracy: 0.7558788657188416\n",
      "source_val/f1: 0.7566591501235962\n"
     ]
    },
    {
     "data": {
      "application/vnd.jupyter.widget-view+json": {
       "model_id": "bdb65ba3c2f349b298c642292478b334",
       "version_major": 2,
       "version_minor": 0
      },
      "text/plain": [
       "Validation: |          | 0/? [00:00<?, ?it/s]"
      ]
     },
     "metadata": {},
     "output_type": "display_data"
    },
    {
     "name": "stdout",
     "output_type": "stream",
     "text": [
      "target_val/loss: 0.5665605664253235\n",
      "target_val/accuracy: 0.7840365171432495\n",
      "target_val/f1: 0.7858307361602783\n",
      "source_val/loss: 0.6419625282287598\n",
      "source_val/accuracy: 0.7508019208908081\n",
      "source_val/f1: 0.7529399394989014\n"
     ]
    },
    {
     "data": {
      "application/vnd.jupyter.widget-view+json": {
       "model_id": "285f78c5e9224ec5ae149a478ac842f1",
       "version_major": 2,
       "version_minor": 0
      },
      "text/plain": [
       "Validation: |          | 0/? [00:00<?, ?it/s]"
      ]
     },
     "metadata": {},
     "output_type": "display_data"
    },
    {
     "name": "stderr",
     "output_type": "stream",
     "text": [
      "`Trainer.fit` stopped: `max_epochs=5` reached.\n"
     ]
    },
    {
     "name": "stdout",
     "output_type": "stream",
     "text": [
      "target_val/loss: 0.6288866996765137\n",
      "target_val/accuracy: 0.7848113179206848\n",
      "target_val/f1: 0.7857545614242554\n",
      "source_val/loss: 0.6975551247596741\n",
      "source_val/accuracy: 0.7520456314086914\n",
      "source_val/f1: 0.7531121373176575\n",
      "Best checkpoint path: ./lightning_logs/tkb4m42c/checkpoints/task-STR-epoch=02-val_loss=0.61.ckpt\n",
      "Saved epoch checkpoint path: ./lightning_logs/tkb4m42c/checkpoints/STR-epoch=02.ckpt\n"
     ]
    },
    {
     "name": "stderr",
     "output_type": "stream",
     "text": [
      "LOCAL_RANK: 0 - CUDA_VISIBLE_DEVICES: [0]\n"
     ]
    },
    {
     "name": "stdout",
     "output_type": "stream",
     "text": [
      "prinssst: slate\n",
      "print: travel\n",
      "print: 69615\n"
     ]
    },
    {
     "data": {
      "application/vnd.jupyter.widget-view+json": {
       "model_id": "08ac5d7236974d2a9985b49e7e7f8921",
       "version_major": 2,
       "version_minor": 0
      },
      "text/plain": [
       "Testing: |          | 0/? [00:00<?, ?it/s]"
      ]
     },
     "metadata": {},
     "output_type": "display_data"
    },
    {
     "data": {
      "text/html": [
       "<pre style=\"white-space:pre;overflow-x:auto;line-height:normal;font-family:Menlo,'DejaVu Sans Mono',consolas,'Courier New',monospace\">┏━━━━━━━━━━━━━━━━━━━━━━━━━━━┳━━━━━━━━━━━━━━━━━━━━━━━━━━━┓\n",
       "┃<span style=\"font-weight: bold\">        Test metric        </span>┃<span style=\"font-weight: bold\">       DataLoader 0        </span>┃\n",
       "┡━━━━━━━━━━━━━━━━━━━━━━━━━━━╇━━━━━━━━━━━━━━━━━━━━━━━━━━━┩\n",
       "│<span style=\"color: #008080; text-decoration-color: #008080\">   source_test/accuracy    </span>│<span style=\"color: #800080; text-decoration-color: #800080\">    0.7459677457809448     </span>│\n",
       "│<span style=\"color: #008080; text-decoration-color: #008080\">      source_test/f1       </span>│<span style=\"color: #800080; text-decoration-color: #800080\">    0.7458705306053162     </span>│\n",
       "│<span style=\"color: #008080; text-decoration-color: #008080\">     source_test/loss      </span>│<span style=\"color: #800080; text-decoration-color: #800080\">    0.7286478281021118     </span>│\n",
       "│<span style=\"color: #008080; text-decoration-color: #008080\">   target_test/accuracy    </span>│<span style=\"color: #800080; text-decoration-color: #800080\">    0.7893145084381104     </span>│\n",
       "│<span style=\"color: #008080; text-decoration-color: #008080\">      target_test/f1       </span>│<span style=\"color: #800080; text-decoration-color: #800080\">    0.7895204424858093     </span>│\n",
       "│<span style=\"color: #008080; text-decoration-color: #008080\">     target_test/loss      </span>│<span style=\"color: #800080; text-decoration-color: #800080\">    0.6068739891052246     </span>│\n",
       "└───────────────────────────┴───────────────────────────┘\n",
       "</pre>\n"
      ],
      "text/plain": [
       "┏━━━━━━━━━━━━━━━━━━━━━━━━━━━┳━━━━━━━━━━━━━━━━━━━━━━━━━━━┓\n",
       "┃\u001b[1m \u001b[0m\u001b[1m       Test metric       \u001b[0m\u001b[1m \u001b[0m┃\u001b[1m \u001b[0m\u001b[1m      DataLoader 0       \u001b[0m\u001b[1m \u001b[0m┃\n",
       "┡━━━━━━━━━━━━━━━━━━━━━━━━━━━╇━━━━━━━━━━━━━━━━━━━━━━━━━━━┩\n",
       "│\u001b[36m \u001b[0m\u001b[36m  source_test/accuracy   \u001b[0m\u001b[36m \u001b[0m│\u001b[35m \u001b[0m\u001b[35m   0.7459677457809448    \u001b[0m\u001b[35m \u001b[0m│\n",
       "│\u001b[36m \u001b[0m\u001b[36m     source_test/f1      \u001b[0m\u001b[36m \u001b[0m│\u001b[35m \u001b[0m\u001b[35m   0.7458705306053162    \u001b[0m\u001b[35m \u001b[0m│\n",
       "│\u001b[36m \u001b[0m\u001b[36m    source_test/loss     \u001b[0m\u001b[36m \u001b[0m│\u001b[35m \u001b[0m\u001b[35m   0.7286478281021118    \u001b[0m\u001b[35m \u001b[0m│\n",
       "│\u001b[36m \u001b[0m\u001b[36m  target_test/accuracy   \u001b[0m\u001b[36m \u001b[0m│\u001b[35m \u001b[0m\u001b[35m   0.7893145084381104    \u001b[0m\u001b[35m \u001b[0m│\n",
       "│\u001b[36m \u001b[0m\u001b[36m     target_test/f1      \u001b[0m\u001b[36m \u001b[0m│\u001b[35m \u001b[0m\u001b[35m   0.7895204424858093    \u001b[0m\u001b[35m \u001b[0m│\n",
       "│\u001b[36m \u001b[0m\u001b[36m    target_test/loss     \u001b[0m\u001b[36m \u001b[0m│\u001b[35m \u001b[0m\u001b[35m   0.6068739891052246    \u001b[0m\u001b[35m \u001b[0m│\n",
       "└───────────────────────────┴───────────────────────────┘\n"
      ]
     },
     "metadata": {},
     "output_type": "display_data"
    },
    {
     "name": "stdout",
     "output_type": "stream",
     "text": [
      "Test Results Last Epoch: [{'source_test/loss': 0.7286478281021118, 'source_test/accuracy': 0.7459677457809448, 'source_test/f1': 0.7458705306053162, 'target_test/loss': 0.6068739891052246, 'target_test/accuracy': 0.7893145084381104, 'target_test/f1': 0.7895204424858093}]\n",
      "Best checkpoint path: ./lightning_logs/tkb4m42c/checkpoints/task-STR-epoch=02-val_loss=0.61.ckpt\n",
      "Saved epoch checkpoint path: ./lightning_logs/tkb4m42c/checkpoints/STR-epoch=02.ckpt\n"
     ]
    },
    {
     "name": "stderr",
     "output_type": "stream",
     "text": [
      "Some weights of BertAdapterModel were not initialized from the model checkpoint at bert-base-uncased and are newly initialized: ['heads.default.3.bias']\n",
      "You should probably TRAIN this model on a down-stream task to be able to use it for predictions and inference.\n"
     ]
    },
    {
     "name": "stdout",
     "output_type": "stream",
     "text": [
      "================================================================================\n",
      "Name                     Architecture         #Param      %Param  Active   Train\n",
      "--------------------------------------------------------------------------------\n",
      "task_STR                 lora                294,912       0.269       1       1\n",
      "mlm_inv_TR               bottleneck        7,387,776       6.748       1       1\n",
      "--------------------------------------------------------------------------------\n",
      "Full model                               109,482,240     100.000               0\n",
      "================================================================================\n",
      "trainable params: 8898237 || all params: 118380477 || trainable%: 7.5166422922928415\n",
      "None\n"
     ]
    },
    {
     "name": "stderr",
     "output_type": "stream",
     "text": [
      "LOCAL_RANK: 0 - CUDA_VISIBLE_DEVICES: [0]\n"
     ]
    },
    {
     "data": {
      "application/vnd.jupyter.widget-view+json": {
       "model_id": "07478c689b674566b76e498377f09f8b",
       "version_major": 2,
       "version_minor": 0
      },
      "text/plain": [
       "Testing: |          | 0/? [00:00<?, ?it/s]"
      ]
     },
     "metadata": {},
     "output_type": "display_data"
    },
    {
     "data": {
      "text/html": [
       "<pre style=\"white-space:pre;overflow-x:auto;line-height:normal;font-family:Menlo,'DejaVu Sans Mono',consolas,'Courier New',monospace\">┏━━━━━━━━━━━━━━━━━━━━━━━━━━━┳━━━━━━━━━━━━━━━━━━━━━━━━━━━┓\n",
       "┃<span style=\"font-weight: bold\">        Test metric        </span>┃<span style=\"font-weight: bold\">       DataLoader 0        </span>┃\n",
       "┡━━━━━━━━━━━━━━━━━━━━━━━━━━━╇━━━━━━━━━━━━━━━━━━━━━━━━━━━┩\n",
       "│<span style=\"color: #008080; text-decoration-color: #008080\">   source_test/accuracy    </span>│<span style=\"color: #800080; text-decoration-color: #800080\">    0.7444556355476379     </span>│\n",
       "│<span style=\"color: #008080; text-decoration-color: #008080\">      source_test/f1       </span>│<span style=\"color: #800080; text-decoration-color: #800080\">    0.7457309365272522     </span>│\n",
       "│<span style=\"color: #008080; text-decoration-color: #008080\">     source_test/loss      </span>│<span style=\"color: #800080; text-decoration-color: #800080\">    0.6431580781936646     </span>│\n",
       "│<span style=\"color: #008080; text-decoration-color: #008080\">   target_test/accuracy    </span>│<span style=\"color: #800080; text-decoration-color: #800080\">    0.7948588728904724     </span>│\n",
       "│<span style=\"color: #008080; text-decoration-color: #008080\">      target_test/f1       </span>│<span style=\"color: #800080; text-decoration-color: #800080\">    0.7955042719841003     </span>│\n",
       "│<span style=\"color: #008080; text-decoration-color: #008080\">     target_test/loss      </span>│<span style=\"color: #800080; text-decoration-color: #800080\">    0.5204665660858154     </span>│\n",
       "└───────────────────────────┴───────────────────────────┘\n",
       "</pre>\n"
      ],
      "text/plain": [
       "┏━━━━━━━━━━━━━━━━━━━━━━━━━━━┳━━━━━━━━━━━━━━━━━━━━━━━━━━━┓\n",
       "┃\u001b[1m \u001b[0m\u001b[1m       Test metric       \u001b[0m\u001b[1m \u001b[0m┃\u001b[1m \u001b[0m\u001b[1m      DataLoader 0       \u001b[0m\u001b[1m \u001b[0m┃\n",
       "┡━━━━━━━━━━━━━━━━━━━━━━━━━━━╇━━━━━━━━━━━━━━━━━━━━━━━━━━━┩\n",
       "│\u001b[36m \u001b[0m\u001b[36m  source_test/accuracy   \u001b[0m\u001b[36m \u001b[0m│\u001b[35m \u001b[0m\u001b[35m   0.7444556355476379    \u001b[0m\u001b[35m \u001b[0m│\n",
       "│\u001b[36m \u001b[0m\u001b[36m     source_test/f1      \u001b[0m\u001b[36m \u001b[0m│\u001b[35m \u001b[0m\u001b[35m   0.7457309365272522    \u001b[0m\u001b[35m \u001b[0m│\n",
       "│\u001b[36m \u001b[0m\u001b[36m    source_test/loss     \u001b[0m\u001b[36m \u001b[0m│\u001b[35m \u001b[0m\u001b[35m   0.6431580781936646    \u001b[0m\u001b[35m \u001b[0m│\n",
       "│\u001b[36m \u001b[0m\u001b[36m  target_test/accuracy   \u001b[0m\u001b[36m \u001b[0m│\u001b[35m \u001b[0m\u001b[35m   0.7948588728904724    \u001b[0m\u001b[35m \u001b[0m│\n",
       "│\u001b[36m \u001b[0m\u001b[36m     target_test/f1      \u001b[0m\u001b[36m \u001b[0m│\u001b[35m \u001b[0m\u001b[35m   0.7955042719841003    \u001b[0m\u001b[35m \u001b[0m│\n",
       "│\u001b[36m \u001b[0m\u001b[36m    target_test/loss     \u001b[0m\u001b[36m \u001b[0m│\u001b[35m \u001b[0m\u001b[35m   0.5204665660858154    \u001b[0m\u001b[35m \u001b[0m│\n",
       "└───────────────────────────┴───────────────────────────┘\n"
      ]
     },
     "metadata": {},
     "output_type": "display_data"
    },
    {
     "name": "stdout",
     "output_type": "stream",
     "text": [
      "Test Results on Best Model: [{'source_test/loss': 0.6431580781936646, 'source_test/accuracy': 0.7444556355476379, 'source_test/f1': 0.7457309365272522, 'target_test/loss': 0.5204665660858154, 'target_test/accuracy': 0.7948588728904724, 'target_test/f1': 0.7955042719841003}]\n"
     ]
    },
    {
     "name": "stderr",
     "output_type": "stream",
     "text": [
      "Some weights of BertAdapterModel were not initialized from the model checkpoint at bert-base-uncased and are newly initialized: ['heads.default.3.bias']\n",
      "You should probably TRAIN this model on a down-stream task to be able to use it for predictions and inference.\n"
     ]
    },
    {
     "name": "stdout",
     "output_type": "stream",
     "text": [
      "================================================================================\n",
      "Name                     Architecture         #Param      %Param  Active   Train\n",
      "--------------------------------------------------------------------------------\n",
      "task_STR                 lora                294,912       0.269       1       1\n",
      "mlm_inv_TR               bottleneck        7,387,776       6.748       1       1\n",
      "--------------------------------------------------------------------------------\n",
      "Full model                               109,482,240     100.000               0\n",
      "================================================================================\n",
      "trainable params: 8898237 || all params: 118380477 || trainable%: 7.5166422922928415\n",
      "None\n"
     ]
    },
    {
     "name": "stderr",
     "output_type": "stream",
     "text": [
      "LOCAL_RANK: 0 - CUDA_VISIBLE_DEVICES: [0]\n"
     ]
    },
    {
     "data": {
      "application/vnd.jupyter.widget-view+json": {
       "model_id": "b667d889dc0d464ebf6d3cd408dad437",
       "version_major": 2,
       "version_minor": 0
      },
      "text/plain": [
       "Testing: |          | 0/? [00:00<?, ?it/s]"
      ]
     },
     "metadata": {},
     "output_type": "display_data"
    },
    {
     "data": {
      "text/html": [
       "<pre style=\"white-space:pre;overflow-x:auto;line-height:normal;font-family:Menlo,'DejaVu Sans Mono',consolas,'Courier New',monospace\">┏━━━━━━━━━━━━━━━━━━━━━━━━━━━┳━━━━━━━━━━━━━━━━━━━━━━━━━━━┓\n",
       "┃<span style=\"font-weight: bold\">        Test metric        </span>┃<span style=\"font-weight: bold\">       DataLoader 0        </span>┃\n",
       "┡━━━━━━━━━━━━━━━━━━━━━━━━━━━╇━━━━━━━━━━━━━━━━━━━━━━━━━━━┩\n",
       "│<span style=\"color: #008080; text-decoration-color: #008080\">   source_test/accuracy    </span>│<span style=\"color: #800080; text-decoration-color: #800080\">    0.7444556355476379     </span>│\n",
       "│<span style=\"color: #008080; text-decoration-color: #008080\">      source_test/f1       </span>│<span style=\"color: #800080; text-decoration-color: #800080\">    0.7457309365272522     </span>│\n",
       "│<span style=\"color: #008080; text-decoration-color: #008080\">     source_test/loss      </span>│<span style=\"color: #800080; text-decoration-color: #800080\">    0.6431580781936646     </span>│\n",
       "│<span style=\"color: #008080; text-decoration-color: #008080\">   target_test/accuracy    </span>│<span style=\"color: #800080; text-decoration-color: #800080\">    0.7948588728904724     </span>│\n",
       "│<span style=\"color: #008080; text-decoration-color: #008080\">      target_test/f1       </span>│<span style=\"color: #800080; text-decoration-color: #800080\">    0.7955042719841003     </span>│\n",
       "│<span style=\"color: #008080; text-decoration-color: #008080\">     target_test/loss      </span>│<span style=\"color: #800080; text-decoration-color: #800080\">    0.5204665660858154     </span>│\n",
       "└───────────────────────────┴───────────────────────────┘\n",
       "</pre>\n"
      ],
      "text/plain": [
       "┏━━━━━━━━━━━━━━━━━━━━━━━━━━━┳━━━━━━━━━━━━━━━━━━━━━━━━━━━┓\n",
       "┃\u001b[1m \u001b[0m\u001b[1m       Test metric       \u001b[0m\u001b[1m \u001b[0m┃\u001b[1m \u001b[0m\u001b[1m      DataLoader 0       \u001b[0m\u001b[1m \u001b[0m┃\n",
       "┡━━━━━━━━━━━━━━━━━━━━━━━━━━━╇━━━━━━━━━━━━━━━━━━━━━━━━━━━┩\n",
       "│\u001b[36m \u001b[0m\u001b[36m  source_test/accuracy   \u001b[0m\u001b[36m \u001b[0m│\u001b[35m \u001b[0m\u001b[35m   0.7444556355476379    \u001b[0m\u001b[35m \u001b[0m│\n",
       "│\u001b[36m \u001b[0m\u001b[36m     source_test/f1      \u001b[0m\u001b[36m \u001b[0m│\u001b[35m \u001b[0m\u001b[35m   0.7457309365272522    \u001b[0m\u001b[35m \u001b[0m│\n",
       "│\u001b[36m \u001b[0m\u001b[36m    source_test/loss     \u001b[0m\u001b[36m \u001b[0m│\u001b[35m \u001b[0m\u001b[35m   0.6431580781936646    \u001b[0m\u001b[35m \u001b[0m│\n",
       "│\u001b[36m \u001b[0m\u001b[36m  target_test/accuracy   \u001b[0m\u001b[36m \u001b[0m│\u001b[35m \u001b[0m\u001b[35m   0.7948588728904724    \u001b[0m\u001b[35m \u001b[0m│\n",
       "│\u001b[36m \u001b[0m\u001b[36m     target_test/f1      \u001b[0m\u001b[36m \u001b[0m│\u001b[35m \u001b[0m\u001b[35m   0.7955042719841003    \u001b[0m\u001b[35m \u001b[0m│\n",
       "│\u001b[36m \u001b[0m\u001b[36m    target_test/loss     \u001b[0m\u001b[36m \u001b[0m│\u001b[35m \u001b[0m\u001b[35m   0.5204665660858154    \u001b[0m\u001b[35m \u001b[0m│\n",
       "└───────────────────────────┴───────────────────────────┘\n"
      ]
     },
     "metadata": {},
     "output_type": "display_data"
    },
    {
     "name": "stdout",
     "output_type": "stream",
     "text": [
      "Test Results on saved epoch: [{'source_test/loss': 0.6431580781936646, 'source_test/accuracy': 0.7444556355476379, 'source_test/f1': 0.7457309365272522, 'target_test/loss': 0.5204665660858154, 'target_test/accuracy': 0.7948588728904724, 'target_test/f1': 0.7955042719841003}]\n"
     ]
    },
    {
     "data": {
      "application/vnd.jupyter.widget-view+json": {
       "model_id": "f7bd332158c6459eb2ade9fb7d25fb35",
       "version_major": 2,
       "version_minor": 0
      },
      "text/plain": [
       "VBox(children=(Label(value='0.002 MB of 0.002 MB uploaded\\r'), FloatProgress(value=1.0, max=1.0)))"
      ]
     },
     "metadata": {},
     "output_type": "display_data"
    },
    {
     "data": {
      "text/html": [
       "<style>\n",
       "    table.wandb td:nth-child(1) { padding: 0 10px; text-align: left ; width: auto;} td:nth-child(2) {text-align: left ; width: 100%}\n",
       "    .wandb-row { display: flex; flex-direction: row; flex-wrap: wrap; justify-content: flex-start; width: 100% }\n",
       "    .wandb-col { display: flex; flex-direction: column; flex-basis: 100%; flex: 1; padding: 10px; }\n",
       "    </style>\n",
       "<div class=\"wandb-row\"><div class=\"wandb-col\"><h3>Run history:</h3><br/><table class=\"wandb\"><tr><td>epoch</td><td>▁▁▁▁▁▁▁▁▂▂▂▂▂▂▂▂▄▄▄▄▄▄▄▄▅▅▅▅▅▅▅▅▇▇▇▇▇▇▇█</td></tr><tr><td>source_test/accuracy</td><td>█▁▁</td></tr><tr><td>source_test/f1</td><td>█▁▁</td></tr><tr><td>source_test/loss</td><td>█▁▁</td></tr><tr><td>source_val/accuracy</td><td>▁▇█▇▇</td></tr><tr><td>source_val/f1</td><td>▁▇█▇▇</td></tr><tr><td>source_val/loss</td><td>▄▁▁▄█</td></tr><tr><td>target_test/accuracy</td><td>▁██</td></tr><tr><td>target_test/f1</td><td>▁██</td></tr><tr><td>target_test/loss</td><td>█▁▁</td></tr><tr><td>target_val/accuracy</td><td>▁▆█▇▇</td></tr><tr><td>target_val/f1</td><td>▁▆███</td></tr><tr><td>target_val/loss</td><td>▄▁▁▃█</td></tr><tr><td>train_accuracy</td><td>▁▅▁▅▅▅▄▃▄▅▇▅▅▆▆▅▅▅▇▅▇▅▅▆▆█▇▆▆▇▆▆▇▆▇▇▆▇▇▇</td></tr><tr><td>train_f1</td><td>▁▄▁▅▅▄▄▃▃▅▇▅▅▆▆▅▄▅▇▄▇▅▅▆▆█▇▆▆▇▆▆▇▆▇▇▆▇▇▇</td></tr><tr><td>train_loss</td><td>█▆▇▅▅▅▆▆▆▄▂▄▆▂▃▅▅▅▃▄▂▄▄▃▃▁▂▃▃▂▃▃▃▃▃▃▃▂▂▃</td></tr><tr><td>trainer/global_step</td><td>▁▁▁▂▂▂▂▂▂▃▃▃▃▃▄▄▄▄▄▄▅▅▅▅▅▆▆▆▆▆▆▇▇▇▇▇▇███</td></tr><tr><td>val_loss</td><td>▄▁▁▄█</td></tr></table><br/></div><div class=\"wandb-col\"><h3>Run summary:</h3><br/><table class=\"wandb\"><tr><td>epoch</td><td>5</td></tr><tr><td>source_test/accuracy</td><td>0.74446</td></tr><tr><td>source_test/f1</td><td>0.74573</td></tr><tr><td>source_test/loss</td><td>0.64316</td></tr><tr><td>source_val/accuracy</td><td>0.75205</td></tr><tr><td>source_val/f1</td><td>0.75311</td></tr><tr><td>source_val/loss</td><td>0.69756</td></tr><tr><td>target_test/accuracy</td><td>0.79486</td></tr><tr><td>target_test/f1</td><td>0.7955</td></tr><tr><td>target_test/loss</td><td>0.52047</td></tr><tr><td>target_val/accuracy</td><td>0.78481</td></tr><tr><td>target_val/f1</td><td>0.78575</td></tr><tr><td>target_val/loss</td><td>0.62889</td></tr><tr><td>train_accuracy</td><td>1.0</td></tr><tr><td>train_f1</td><td>1.0</td></tr><tr><td>train_loss</td><td>0.10032</td></tr><tr><td>trainer/global_step</td><td>10875</td></tr><tr><td>val_loss</td><td>0.69756</td></tr></table><br/></div></div>"
      ],
      "text/plain": [
       "<IPython.core.display.HTML object>"
      ]
     },
     "metadata": {},
     "output_type": "display_data"
    },
    {
     "data": {
      "text/html": [
       " View run <strong style=\"color:#cdcd00\">STR_invLora_run_with_seed_10</strong> at: <a href='https://wandb.ai/mrawhani/final_continous/runs/tkb4m42c' target=\"_blank\">https://wandb.ai/mrawhani/final_continous/runs/tkb4m42c</a><br/> View project at: <a href='https://wandb.ai/mrawhani/final_continous' target=\"_blank\">https://wandb.ai/mrawhani/final_continous</a><br/>Synced 5 W&B file(s), 0 media file(s), 0 artifact file(s) and 0 other file(s)"
      ],
      "text/plain": [
       "<IPython.core.display.HTML object>"
      ]
     },
     "metadata": {},
     "output_type": "display_data"
    },
    {
     "data": {
      "text/html": [
       "Find logs at: <code>./wandb/run-20240704_170939-tkb4m42c/logs</code>"
      ],
      "text/plain": [
       "<IPython.core.display.HTML object>"
      ]
     },
     "metadata": {},
     "output_type": "display_data"
    },
    {
     "data": {
      "application/vnd.jupyter.widget-view+json": {
       "model_id": "5f452ee7f4d84009a1e1893bb4c7a593",
       "version_major": 2,
       "version_minor": 0
      },
      "text/plain": [
       "VBox(children=(Label(value='Waiting for wandb.init()...\\r'), FloatProgress(value=0.011112607011131734, max=1.0…"
      ]
     },
     "metadata": {},
     "output_type": "display_data"
    },
    {
     "data": {
      "text/html": [
       "wandb version 0.17.4 is available!  To upgrade, please run:\n",
       " $ pip install wandb --upgrade"
      ],
      "text/plain": [
       "<IPython.core.display.HTML object>"
      ]
     },
     "metadata": {},
     "output_type": "display_data"
    },
    {
     "data": {
      "text/html": [
       "Tracking run with wandb version 0.17.0"
      ],
      "text/plain": [
       "<IPython.core.display.HTML object>"
      ]
     },
     "metadata": {},
     "output_type": "display_data"
    },
    {
     "data": {
      "text/html": [
       "Run data is saved locally in <code>/home/guest/Desktop/projects/fourth-expeiments/domain_adaptation_project/continous/travel/wandb/run-20240704_175513-5kqni641</code>"
      ],
      "text/plain": [
       "<IPython.core.display.HTML object>"
      ]
     },
     "metadata": {},
     "output_type": "display_data"
    },
    {
     "data": {
      "text/html": [
       "Syncing run <strong><a href='https://wandb.ai/mrawhani/final_continous/runs/5kqni641' target=\"_blank\">STR_invLora_run_with_seed_100</a></strong> to <a href='https://wandb.ai/mrawhani/final_continous' target=\"_blank\">Weights & Biases</a> (<a href='https://wandb.me/run' target=\"_blank\">docs</a>)<br/>"
      ],
      "text/plain": [
       "<IPython.core.display.HTML object>"
      ]
     },
     "metadata": {},
     "output_type": "display_data"
    },
    {
     "data": {
      "text/html": [
       " View project at <a href='https://wandb.ai/mrawhani/final_continous' target=\"_blank\">https://wandb.ai/mrawhani/final_continous</a>"
      ],
      "text/plain": [
       "<IPython.core.display.HTML object>"
      ]
     },
     "metadata": {},
     "output_type": "display_data"
    },
    {
     "data": {
      "text/html": [
       " View run at <a href='https://wandb.ai/mrawhani/final_continous/runs/5kqni641' target=\"_blank\">https://wandb.ai/mrawhani/final_continous/runs/5kqni641</a>"
      ],
      "text/plain": [
       "<IPython.core.display.HTML object>"
      ]
     },
     "metadata": {},
     "output_type": "display_data"
    },
    {
     "name": "stderr",
     "output_type": "stream",
     "text": [
      "Seed set to 100\n",
      "/home/guest/.cache/pypoetry/virtualenvs/fourth-experments-OVNdUUAn-py3.8/lib/python3.8/site-packages/huggingface_hub/file_download.py:1132: FutureWarning: `resume_download` is deprecated and will be removed in version 1.0.0. Downloads always resume when possible. If you want to force a new download, use `force_download=True`.\n",
      "  warnings.warn(\n"
     ]
    },
    {
     "name": "stdout",
     "output_type": "stream",
     "text": [
      "prinssst: slate\n",
      "print: travel\n",
      "print: 69615\n",
      "prinssst: slate\n",
      "print: travel\n",
      "print: 69615\n"
     ]
    },
    {
     "name": "stderr",
     "output_type": "stream",
     "text": [
      "Some weights of BertAdapterModel were not initialized from the model checkpoint at bert-base-uncased and are newly initialized: ['heads.default.3.bias']\n",
      "You should probably TRAIN this model on a down-stream task to be able to use it for predictions and inference.\n",
      "/home/guest/.cache/pypoetry/virtualenvs/fourth-experments-OVNdUUAn-py3.8/lib/python3.8/site-packages/torch/utils/data/dataloader.py:558: UserWarning: This DataLoader will create 16 worker processes in total. Our suggested max number of worker in current system is 12, which is smaller than what this DataLoader is going to create. Please be aware that excessive worker creation might get DataLoader running slow or even freeze, lower the worker number to avoid potential slowness/freeze if necessary.\n",
      "  warnings.warn(_create_warning_msg(\n",
      "GPU available: True (cuda), used: True\n",
      "TPU available: False, using: 0 TPU cores\n",
      "IPU available: False, using: 0 IPUs\n",
      "HPU available: False, using: 0 HPUs\n",
      "`Trainer(limit_train_batches=1.0)` was configured so 100% of the batches per epoch will be used..\n",
      "`Trainer(limit_val_batches=1.0)` was configured so 100% of the batches will be used..\n",
      "`Trainer(limit_test_batches=1.0)` was configured so 100% of the batches will be used..\n",
      "/home/guest/.cache/pypoetry/virtualenvs/fourth-experments-OVNdUUAn-py3.8/lib/python3.8/site-packages/pytorch_lightning/loggers/wandb.py:396: There is a wandb run already in progress and newly created instances of `WandbLogger` will reuse this run. If this is not desired, call `wandb.finish()` before instantiating `WandbLogger`.\n",
      "LOCAL_RANK: 0 - CUDA_VISIBLE_DEVICES: [0]\n"
     ]
    },
    {
     "name": "stdout",
     "output_type": "stream",
     "text": [
      "================================================================================\n",
      "Name                     Architecture         #Param      %Param  Active   Train\n",
      "--------------------------------------------------------------------------------\n",
      "task_STR                 lora                294,912       0.269       1       1\n",
      "mlm_inv_TR               bottleneck        7,387,776       6.748       1       1\n",
      "--------------------------------------------------------------------------------\n",
      "Full model                               109,482,240     100.000               0\n",
      "================================================================================\n",
      "trainable params: 8898237 || all params: 118380477 || trainable%: 7.5166422922928415\n",
      "None\n"
     ]
    },
    {
     "name": "stderr",
     "output_type": "stream",
     "text": [
      "\n",
      "  | Name      | Type               | Params\n",
      "-------------------------------------------------\n",
      "0 | model     | BertAdapterModel   | 118 M \n",
      "1 | criterion | CrossEntropyLoss   | 0     \n",
      "2 | accuracy  | MulticlassAccuracy | 0     \n",
      "3 | f1        | MulticlassF1Score  | 0     \n",
      "4 | softmax   | Softmax            | 0     \n",
      "-------------------------------------------------\n",
      "8.9 M     Trainable params\n",
      "109 M     Non-trainable params\n",
      "118 M     Total params\n",
      "473.522   Total estimated model params size (MB)\n"
     ]
    },
    {
     "data": {
      "application/vnd.jupyter.widget-view+json": {
       "model_id": "86266ec1fa9a4d57bc289f6238a87d93",
       "version_major": 2,
       "version_minor": 0
      },
      "text/plain": [
       "Sanity Checking: |          | 0/? [00:00<?, ?it/s]"
      ]
     },
     "metadata": {},
     "output_type": "display_data"
    },
    {
     "name": "stdout",
     "output_type": "stream",
     "text": [
      "target_val/loss: 1.103621244430542\n",
      "target_val/accuracy: 0.25\n",
      "target_val/f1: 0.2690538167953491\n",
      "source_val/loss: 1.1005911827087402\n",
      "source_val/accuracy: 0.359375\n",
      "source_val/f1: 0.39907705783843994\n"
     ]
    },
    {
     "data": {
      "application/vnd.jupyter.widget-view+json": {
       "model_id": "635deee6abc74c669e53df10a09b1464",
       "version_major": 2,
       "version_minor": 0
      },
      "text/plain": [
       "Training: |          | 0/? [00:00<?, ?it/s]"
      ]
     },
     "metadata": {},
     "output_type": "display_data"
    },
    {
     "data": {
      "application/vnd.jupyter.widget-view+json": {
       "model_id": "6ae506d0a7004b6aad3d6c66d87af197",
       "version_major": 2,
       "version_minor": 0
      },
      "text/plain": [
       "Validation: |          | 0/? [00:00<?, ?it/s]"
      ]
     },
     "metadata": {},
     "output_type": "display_data"
    },
    {
     "name": "stdout",
     "output_type": "stream",
     "text": [
      "target_val/loss: 0.5784354209899902\n",
      "target_val/accuracy: 0.7641977071762085\n",
      "target_val/f1: 0.7648637890815735\n",
      "source_val/loss: 0.6513800024986267\n",
      "source_val/accuracy: 0.7281630039215088\n",
      "source_val/f1: 0.7293218374252319\n"
     ]
    },
    {
     "data": {
      "application/vnd.jupyter.widget-view+json": {
       "model_id": "205ddda3198b442d9ba69b20c261b3ce",
       "version_major": 2,
       "version_minor": 0
      },
      "text/plain": [
       "Validation: |          | 0/? [00:00<?, ?it/s]"
      ]
     },
     "metadata": {},
     "output_type": "display_data"
    },
    {
     "name": "stdout",
     "output_type": "stream",
     "text": [
      "target_val/loss: 0.5502280592918396\n",
      "target_val/accuracy: 0.7831801176071167\n",
      "target_val/f1: 0.7834101319313049\n",
      "source_val/loss: 0.6125956773757935\n",
      "source_val/accuracy: 0.7499456405639648\n",
      "source_val/f1: 0.7500099539756775\n"
     ]
    },
    {
     "data": {
      "application/vnd.jupyter.widget-view+json": {
       "model_id": "687dd763cee34529a0972619bd38d045",
       "version_major": 2,
       "version_minor": 0
      },
      "text/plain": [
       "Validation: |          | 0/? [00:00<?, ?it/s]"
      ]
     },
     "metadata": {},
     "output_type": "display_data"
    },
    {
     "name": "stdout",
     "output_type": "stream",
     "text": [
      "target_val/loss: 0.5555829405784607\n",
      "target_val/accuracy: 0.7844714522361755\n",
      "target_val/f1: 0.7848204970359802\n",
      "source_val/loss: 0.6198166012763977\n",
      "source_val/accuracy: 0.7542884945869446\n",
      "source_val/f1: 0.7541908621788025\n"
     ]
    },
    {
     "data": {
      "application/vnd.jupyter.widget-view+json": {
       "model_id": "ad9be239614e4661a91669a3d0bfb231",
       "version_major": 2,
       "version_minor": 0
      },
      "text/plain": [
       "Validation: |          | 0/? [00:00<?, ?it/s]"
      ]
     },
     "metadata": {},
     "output_type": "display_data"
    },
    {
     "name": "stdout",
     "output_type": "stream",
     "text": [
      "target_val/loss: 0.6064547300338745\n",
      "target_val/accuracy: 0.7773624062538147\n",
      "target_val/f1: 0.7777844071388245\n",
      "source_val/loss: 0.6729131937026978\n",
      "source_val/accuracy: 0.7508902549743652\n",
      "source_val/f1: 0.7509143352508545\n"
     ]
    },
    {
     "data": {
      "application/vnd.jupyter.widget-view+json": {
       "model_id": "f85d8433b0f64901815249e055f3b2c3",
       "version_major": 2,
       "version_minor": 0
      },
      "text/plain": [
       "Validation: |          | 0/? [00:00<?, ?it/s]"
      ]
     },
     "metadata": {},
     "output_type": "display_data"
    },
    {
     "name": "stderr",
     "output_type": "stream",
     "text": [
      "`Trainer.fit` stopped: `max_epochs=5` reached.\n"
     ]
    },
    {
     "name": "stdout",
     "output_type": "stream",
     "text": [
      "target_val/loss: 0.6121286153793335\n",
      "target_val/accuracy: 0.7813247442245483\n",
      "target_val/f1: 0.7818000316619873\n",
      "source_val/loss: 0.6889101266860962\n",
      "source_val/accuracy: 0.7566196918487549\n",
      "source_val/f1: 0.7574341893196106\n",
      "Best checkpoint path: ./lightning_logs/5kqni641/checkpoints/task-STR-epoch=01-val_loss=0.61.ckpt\n",
      "Saved epoch checkpoint path: ./lightning_logs/5kqni641/checkpoints/STR-epoch=02.ckpt\n"
     ]
    },
    {
     "name": "stderr",
     "output_type": "stream",
     "text": [
      "LOCAL_RANK: 0 - CUDA_VISIBLE_DEVICES: [0]\n"
     ]
    },
    {
     "name": "stdout",
     "output_type": "stream",
     "text": [
      "prinssst: slate\n",
      "print: travel\n",
      "print: 69615\n"
     ]
    },
    {
     "data": {
      "application/vnd.jupyter.widget-view+json": {
       "model_id": "e9d36a8891d144fd9952d30cfcc45bb9",
       "version_major": 2,
       "version_minor": 0
      },
      "text/plain": [
       "Testing: |          | 0/? [00:00<?, ?it/s]"
      ]
     },
     "metadata": {},
     "output_type": "display_data"
    },
    {
     "data": {
      "text/html": [
       "<pre style=\"white-space:pre;overflow-x:auto;line-height:normal;font-family:Menlo,'DejaVu Sans Mono',consolas,'Courier New',monospace\">┏━━━━━━━━━━━━━━━━━━━━━━━━━━━┳━━━━━━━━━━━━━━━━━━━━━━━━━━━┓\n",
       "┃<span style=\"font-weight: bold\">        Test metric        </span>┃<span style=\"font-weight: bold\">       DataLoader 0        </span>┃\n",
       "┡━━━━━━━━━━━━━━━━━━━━━━━━━━━╇━━━━━━━━━━━━━━━━━━━━━━━━━━━┩\n",
       "│<span style=\"color: #008080; text-decoration-color: #008080\">   source_test/accuracy    </span>│<span style=\"color: #800080; text-decoration-color: #800080\">    0.7510080337524414     </span>│\n",
       "│<span style=\"color: #008080; text-decoration-color: #008080\">      source_test/f1       </span>│<span style=\"color: #800080; text-decoration-color: #800080\">    0.7511485815048218     </span>│\n",
       "│<span style=\"color: #008080; text-decoration-color: #008080\">     source_test/loss      </span>│<span style=\"color: #800080; text-decoration-color: #800080\">    0.6931704878807068     </span>│\n",
       "│<span style=\"color: #008080; text-decoration-color: #008080\">   target_test/accuracy    </span>│<span style=\"color: #800080; text-decoration-color: #800080\">     0.789818525314331     </span>│\n",
       "│<span style=\"color: #008080; text-decoration-color: #008080\">      target_test/f1       </span>│<span style=\"color: #800080; text-decoration-color: #800080\">    0.7896298170089722     </span>│\n",
       "│<span style=\"color: #008080; text-decoration-color: #008080\">     target_test/loss      </span>│<span style=\"color: #800080; text-decoration-color: #800080\">    0.6010395884513855     </span>│\n",
       "└───────────────────────────┴───────────────────────────┘\n",
       "</pre>\n"
      ],
      "text/plain": [
       "┏━━━━━━━━━━━━━━━━━━━━━━━━━━━┳━━━━━━━━━━━━━━━━━━━━━━━━━━━┓\n",
       "┃\u001b[1m \u001b[0m\u001b[1m       Test metric       \u001b[0m\u001b[1m \u001b[0m┃\u001b[1m \u001b[0m\u001b[1m      DataLoader 0       \u001b[0m\u001b[1m \u001b[0m┃\n",
       "┡━━━━━━━━━━━━━━━━━━━━━━━━━━━╇━━━━━━━━━━━━━━━━━━━━━━━━━━━┩\n",
       "│\u001b[36m \u001b[0m\u001b[36m  source_test/accuracy   \u001b[0m\u001b[36m \u001b[0m│\u001b[35m \u001b[0m\u001b[35m   0.7510080337524414    \u001b[0m\u001b[35m \u001b[0m│\n",
       "│\u001b[36m \u001b[0m\u001b[36m     source_test/f1      \u001b[0m\u001b[36m \u001b[0m│\u001b[35m \u001b[0m\u001b[35m   0.7511485815048218    \u001b[0m\u001b[35m \u001b[0m│\n",
       "│\u001b[36m \u001b[0m\u001b[36m    source_test/loss     \u001b[0m\u001b[36m \u001b[0m│\u001b[35m \u001b[0m\u001b[35m   0.6931704878807068    \u001b[0m\u001b[35m \u001b[0m│\n",
       "│\u001b[36m \u001b[0m\u001b[36m  target_test/accuracy   \u001b[0m\u001b[36m \u001b[0m│\u001b[35m \u001b[0m\u001b[35m    0.789818525314331    \u001b[0m\u001b[35m \u001b[0m│\n",
       "│\u001b[36m \u001b[0m\u001b[36m     target_test/f1      \u001b[0m\u001b[36m \u001b[0m│\u001b[35m \u001b[0m\u001b[35m   0.7896298170089722    \u001b[0m\u001b[35m \u001b[0m│\n",
       "│\u001b[36m \u001b[0m\u001b[36m    target_test/loss     \u001b[0m\u001b[36m \u001b[0m│\u001b[35m \u001b[0m\u001b[35m   0.6010395884513855    \u001b[0m\u001b[35m \u001b[0m│\n",
       "└───────────────────────────┴───────────────────────────┘\n"
      ]
     },
     "metadata": {},
     "output_type": "display_data"
    },
    {
     "name": "stdout",
     "output_type": "stream",
     "text": [
      "Test Results Last Epoch: [{'source_test/loss': 0.6931704878807068, 'source_test/accuracy': 0.7510080337524414, 'source_test/f1': 0.7511485815048218, 'target_test/loss': 0.6010395884513855, 'target_test/accuracy': 0.789818525314331, 'target_test/f1': 0.7896298170089722}]\n",
      "Best checkpoint path: ./lightning_logs/5kqni641/checkpoints/task-STR-epoch=01-val_loss=0.61.ckpt\n",
      "Saved epoch checkpoint path: ./lightning_logs/5kqni641/checkpoints/STR-epoch=02.ckpt\n"
     ]
    },
    {
     "name": "stderr",
     "output_type": "stream",
     "text": [
      "Some weights of BertAdapterModel were not initialized from the model checkpoint at bert-base-uncased and are newly initialized: ['heads.default.3.bias']\n",
      "You should probably TRAIN this model on a down-stream task to be able to use it for predictions and inference.\n"
     ]
    },
    {
     "name": "stdout",
     "output_type": "stream",
     "text": [
      "================================================================================\n",
      "Name                     Architecture         #Param      %Param  Active   Train\n",
      "--------------------------------------------------------------------------------\n",
      "task_STR                 lora                294,912       0.269       1       1\n",
      "mlm_inv_TR               bottleneck        7,387,776       6.748       1       1\n",
      "--------------------------------------------------------------------------------\n",
      "Full model                               109,482,240     100.000               0\n",
      "================================================================================\n",
      "trainable params: 8898237 || all params: 118380477 || trainable%: 7.5166422922928415\n",
      "None\n"
     ]
    },
    {
     "name": "stderr",
     "output_type": "stream",
     "text": [
      "LOCAL_RANK: 0 - CUDA_VISIBLE_DEVICES: [0]\n"
     ]
    },
    {
     "data": {
      "application/vnd.jupyter.widget-view+json": {
       "model_id": "9c9cc9b9d4de49aeb098257f13a44a2a",
       "version_major": 2,
       "version_minor": 0
      },
      "text/plain": [
       "Testing: |          | 0/? [00:00<?, ?it/s]"
      ]
     },
     "metadata": {},
     "output_type": "display_data"
    },
    {
     "data": {
      "text/html": [
       "<pre style=\"white-space:pre;overflow-x:auto;line-height:normal;font-family:Menlo,'DejaVu Sans Mono',consolas,'Courier New',monospace\">┏━━━━━━━━━━━━━━━━━━━━━━━━━━━┳━━━━━━━━━━━━━━━━━━━━━━━━━━━┓\n",
       "┃<span style=\"font-weight: bold\">        Test metric        </span>┃<span style=\"font-weight: bold\">       DataLoader 0        </span>┃\n",
       "┡━━━━━━━━━━━━━━━━━━━━━━━━━━━╇━━━━━━━━━━━━━━━━━━━━━━━━━━━┩\n",
       "│<span style=\"color: #008080; text-decoration-color: #008080\">   source_test/accuracy    </span>│<span style=\"color: #800080; text-decoration-color: #800080\">    0.7454636693000793     </span>│\n",
       "│<span style=\"color: #008080; text-decoration-color: #008080\">      source_test/f1       </span>│<span style=\"color: #800080; text-decoration-color: #800080\">    0.7466877102851868     </span>│\n",
       "│<span style=\"color: #008080; text-decoration-color: #008080\">     source_test/loss      </span>│<span style=\"color: #800080; text-decoration-color: #800080\">    0.6241580247879028     </span>│\n",
       "│<span style=\"color: #008080; text-decoration-color: #008080\">   target_test/accuracy    </span>│<span style=\"color: #800080; text-decoration-color: #800080\">    0.7777217626571655     </span>│\n",
       "│<span style=\"color: #008080; text-decoration-color: #008080\">      target_test/f1       </span>│<span style=\"color: #800080; text-decoration-color: #800080\">     0.778388261795044     </span>│\n",
       "│<span style=\"color: #008080; text-decoration-color: #008080\">     target_test/loss      </span>│<span style=\"color: #800080; text-decoration-color: #800080\">    0.5365455150604248     </span>│\n",
       "└───────────────────────────┴───────────────────────────┘\n",
       "</pre>\n"
      ],
      "text/plain": [
       "┏━━━━━━━━━━━━━━━━━━━━━━━━━━━┳━━━━━━━━━━━━━━━━━━━━━━━━━━━┓\n",
       "┃\u001b[1m \u001b[0m\u001b[1m       Test metric       \u001b[0m\u001b[1m \u001b[0m┃\u001b[1m \u001b[0m\u001b[1m      DataLoader 0       \u001b[0m\u001b[1m \u001b[0m┃\n",
       "┡━━━━━━━━━━━━━━━━━━━━━━━━━━━╇━━━━━━━━━━━━━━━━━━━━━━━━━━━┩\n",
       "│\u001b[36m \u001b[0m\u001b[36m  source_test/accuracy   \u001b[0m\u001b[36m \u001b[0m│\u001b[35m \u001b[0m\u001b[35m   0.7454636693000793    \u001b[0m\u001b[35m \u001b[0m│\n",
       "│\u001b[36m \u001b[0m\u001b[36m     source_test/f1      \u001b[0m\u001b[36m \u001b[0m│\u001b[35m \u001b[0m\u001b[35m   0.7466877102851868    \u001b[0m\u001b[35m \u001b[0m│\n",
       "│\u001b[36m \u001b[0m\u001b[36m    source_test/loss     \u001b[0m\u001b[36m \u001b[0m│\u001b[35m \u001b[0m\u001b[35m   0.6241580247879028    \u001b[0m\u001b[35m \u001b[0m│\n",
       "│\u001b[36m \u001b[0m\u001b[36m  target_test/accuracy   \u001b[0m\u001b[36m \u001b[0m│\u001b[35m \u001b[0m\u001b[35m   0.7777217626571655    \u001b[0m\u001b[35m \u001b[0m│\n",
       "│\u001b[36m \u001b[0m\u001b[36m     target_test/f1      \u001b[0m\u001b[36m \u001b[0m│\u001b[35m \u001b[0m\u001b[35m    0.778388261795044    \u001b[0m\u001b[35m \u001b[0m│\n",
       "│\u001b[36m \u001b[0m\u001b[36m    target_test/loss     \u001b[0m\u001b[36m \u001b[0m│\u001b[35m \u001b[0m\u001b[35m   0.5365455150604248    \u001b[0m\u001b[35m \u001b[0m│\n",
       "└───────────────────────────┴───────────────────────────┘\n"
      ]
     },
     "metadata": {},
     "output_type": "display_data"
    },
    {
     "name": "stdout",
     "output_type": "stream",
     "text": [
      "Test Results on Best Model: [{'source_test/loss': 0.6241580247879028, 'source_test/accuracy': 0.7454636693000793, 'source_test/f1': 0.7466877102851868, 'target_test/loss': 0.5365455150604248, 'target_test/accuracy': 0.7777217626571655, 'target_test/f1': 0.778388261795044}]\n"
     ]
    },
    {
     "name": "stderr",
     "output_type": "stream",
     "text": [
      "Some weights of BertAdapterModel were not initialized from the model checkpoint at bert-base-uncased and are newly initialized: ['heads.default.3.bias']\n",
      "You should probably TRAIN this model on a down-stream task to be able to use it for predictions and inference.\n"
     ]
    },
    {
     "name": "stdout",
     "output_type": "stream",
     "text": [
      "================================================================================\n",
      "Name                     Architecture         #Param      %Param  Active   Train\n",
      "--------------------------------------------------------------------------------\n",
      "task_STR                 lora                294,912       0.269       1       1\n",
      "mlm_inv_TR               bottleneck        7,387,776       6.748       1       1\n",
      "--------------------------------------------------------------------------------\n",
      "Full model                               109,482,240     100.000               0\n",
      "================================================================================\n",
      "trainable params: 8898237 || all params: 118380477 || trainable%: 7.5166422922928415\n",
      "None\n"
     ]
    },
    {
     "name": "stderr",
     "output_type": "stream",
     "text": [
      "LOCAL_RANK: 0 - CUDA_VISIBLE_DEVICES: [0]\n"
     ]
    },
    {
     "data": {
      "application/vnd.jupyter.widget-view+json": {
       "model_id": "d7908dfedabd439c85ded8bf953daab6",
       "version_major": 2,
       "version_minor": 0
      },
      "text/plain": [
       "Testing: |          | 0/? [00:00<?, ?it/s]"
      ]
     },
     "metadata": {},
     "output_type": "display_data"
    },
    {
     "data": {
      "text/html": [
       "<pre style=\"white-space:pre;overflow-x:auto;line-height:normal;font-family:Menlo,'DejaVu Sans Mono',consolas,'Courier New',monospace\">┏━━━━━━━━━━━━━━━━━━━━━━━━━━━┳━━━━━━━━━━━━━━━━━━━━━━━━━━━┓\n",
       "┃<span style=\"font-weight: bold\">        Test metric        </span>┃<span style=\"font-weight: bold\">       DataLoader 0        </span>┃\n",
       "┡━━━━━━━━━━━━━━━━━━━━━━━━━━━╇━━━━━━━━━━━━━━━━━━━━━━━━━━━┩\n",
       "│<span style=\"color: #008080; text-decoration-color: #008080\">   source_test/accuracy    </span>│<span style=\"color: #800080; text-decoration-color: #800080\">     0.753024160861969     </span>│\n",
       "│<span style=\"color: #008080; text-decoration-color: #008080\">      source_test/f1       </span>│<span style=\"color: #800080; text-decoration-color: #800080\">    0.7540767788887024     </span>│\n",
       "│<span style=\"color: #008080; text-decoration-color: #008080\">     source_test/loss      </span>│<span style=\"color: #800080; text-decoration-color: #800080\">    0.6309478282928467     </span>│\n",
       "│<span style=\"color: #008080; text-decoration-color: #008080\">   target_test/accuracy    </span>│<span style=\"color: #800080; text-decoration-color: #800080\">    0.7792338728904724     </span>│\n",
       "│<span style=\"color: #008080; text-decoration-color: #008080\">      target_test/f1       </span>│<span style=\"color: #800080; text-decoration-color: #800080\">    0.7795416116714478     </span>│\n",
       "│<span style=\"color: #008080; text-decoration-color: #008080\">     target_test/loss      </span>│<span style=\"color: #800080; text-decoration-color: #800080\">    0.5431810021400452     </span>│\n",
       "└───────────────────────────┴───────────────────────────┘\n",
       "</pre>\n"
      ],
      "text/plain": [
       "┏━━━━━━━━━━━━━━━━━━━━━━━━━━━┳━━━━━━━━━━━━━━━━━━━━━━━━━━━┓\n",
       "┃\u001b[1m \u001b[0m\u001b[1m       Test metric       \u001b[0m\u001b[1m \u001b[0m┃\u001b[1m \u001b[0m\u001b[1m      DataLoader 0       \u001b[0m\u001b[1m \u001b[0m┃\n",
       "┡━━━━━━━━━━━━━━━━━━━━━━━━━━━╇━━━━━━━━━━━━━━━━━━━━━━━━━━━┩\n",
       "│\u001b[36m \u001b[0m\u001b[36m  source_test/accuracy   \u001b[0m\u001b[36m \u001b[0m│\u001b[35m \u001b[0m\u001b[35m    0.753024160861969    \u001b[0m\u001b[35m \u001b[0m│\n",
       "│\u001b[36m \u001b[0m\u001b[36m     source_test/f1      \u001b[0m\u001b[36m \u001b[0m│\u001b[35m \u001b[0m\u001b[35m   0.7540767788887024    \u001b[0m\u001b[35m \u001b[0m│\n",
       "│\u001b[36m \u001b[0m\u001b[36m    source_test/loss     \u001b[0m\u001b[36m \u001b[0m│\u001b[35m \u001b[0m\u001b[35m   0.6309478282928467    \u001b[0m\u001b[35m \u001b[0m│\n",
       "│\u001b[36m \u001b[0m\u001b[36m  target_test/accuracy   \u001b[0m\u001b[36m \u001b[0m│\u001b[35m \u001b[0m\u001b[35m   0.7792338728904724    \u001b[0m\u001b[35m \u001b[0m│\n",
       "│\u001b[36m \u001b[0m\u001b[36m     target_test/f1      \u001b[0m\u001b[36m \u001b[0m│\u001b[35m \u001b[0m\u001b[35m   0.7795416116714478    \u001b[0m\u001b[35m \u001b[0m│\n",
       "│\u001b[36m \u001b[0m\u001b[36m    target_test/loss     \u001b[0m\u001b[36m \u001b[0m│\u001b[35m \u001b[0m\u001b[35m   0.5431810021400452    \u001b[0m\u001b[35m \u001b[0m│\n",
       "└───────────────────────────┴───────────────────────────┘\n"
      ]
     },
     "metadata": {},
     "output_type": "display_data"
    },
    {
     "name": "stdout",
     "output_type": "stream",
     "text": [
      "Test Results on saved epoch: [{'source_test/loss': 0.6309478282928467, 'source_test/accuracy': 0.753024160861969, 'source_test/f1': 0.7540767788887024, 'target_test/loss': 0.5431810021400452, 'target_test/accuracy': 0.7792338728904724, 'target_test/f1': 0.7795416116714478}]\n"
     ]
    },
    {
     "data": {
      "application/vnd.jupyter.widget-view+json": {
       "model_id": "f35e37e328734091a3246078338291cd",
       "version_major": 2,
       "version_minor": 0
      },
      "text/plain": [
       "VBox(children=(Label(value='0.002 MB of 0.002 MB uploaded\\r'), FloatProgress(value=1.0, max=1.0)))"
      ]
     },
     "metadata": {},
     "output_type": "display_data"
    },
    {
     "data": {
      "text/html": [
       "<style>\n",
       "    table.wandb td:nth-child(1) { padding: 0 10px; text-align: left ; width: auto;} td:nth-child(2) {text-align: left ; width: 100%}\n",
       "    .wandb-row { display: flex; flex-direction: row; flex-wrap: wrap; justify-content: flex-start; width: 100% }\n",
       "    .wandb-col { display: flex; flex-direction: column; flex-basis: 100%; flex: 1; padding: 10px; }\n",
       "    </style>\n",
       "<div class=\"wandb-row\"><div class=\"wandb-col\"><h3>Run history:</h3><br/><table class=\"wandb\"><tr><td>epoch</td><td>▁▁▁▁▁▁▁▁▂▂▂▂▂▂▂▂▄▄▄▄▄▄▄▄▅▅▅▅▅▅▅▅▇▇▇▇▇▇▇█</td></tr><tr><td>source_test/accuracy</td><td>▆▁█</td></tr><tr><td>source_test/f1</td><td>▅▁█</td></tr><tr><td>source_test/loss</td><td>█▁▂</td></tr><tr><td>source_val/accuracy</td><td>▁▆▇▇█</td></tr><tr><td>source_val/f1</td><td>▁▆▇▆█</td></tr><tr><td>source_val/loss</td><td>▅▁▂▇█</td></tr><tr><td>target_test/accuracy</td><td>█▁▂</td></tr><tr><td>target_test/f1</td><td>█▁▂</td></tr><tr><td>target_test/loss</td><td>█▁▂</td></tr><tr><td>target_val/accuracy</td><td>▁██▆▇</td></tr><tr><td>target_val/f1</td><td>▁██▆▇</td></tr><tr><td>target_val/loss</td><td>▄▁▂▇█</td></tr><tr><td>train_accuracy</td><td>▁▅▁▄▃▃▃▄▅▅▆▅▅▇▅▅▆▅▆▅▆▆▅▆▇█▇▇▆▇▆▆▅▆▇▇▅█▇▅</td></tr><tr><td>train_f1</td><td>▁▅▁▄▃▂▃▄▅▅▆▅▅▇▅▅▆▅▆▅▆▆▅▆▇█▇▇▆▇▆▆▅▆▇▇▅█▇▄</td></tr><tr><td>train_loss</td><td>█▆█▆▆▇▆▅▅▄▃▅▆▃▄▅▅▄▃▅▃▄▅▄▃▁▂▃▄▃▃▄▅▃▂▃▄▂▃▄</td></tr><tr><td>trainer/global_step</td><td>▁▁▁▂▂▂▂▂▂▃▃▃▃▃▄▄▄▄▄▄▅▅▅▅▅▆▆▆▆▆▆▇▇▇▇▇▇███</td></tr><tr><td>val_loss</td><td>▅▁▂▇█</td></tr></table><br/></div><div class=\"wandb-col\"><h3>Run summary:</h3><br/><table class=\"wandb\"><tr><td>epoch</td><td>5</td></tr><tr><td>source_test/accuracy</td><td>0.75302</td></tr><tr><td>source_test/f1</td><td>0.75408</td></tr><tr><td>source_test/loss</td><td>0.63095</td></tr><tr><td>source_val/accuracy</td><td>0.75662</td></tr><tr><td>source_val/f1</td><td>0.75743</td></tr><tr><td>source_val/loss</td><td>0.68891</td></tr><tr><td>target_test/accuracy</td><td>0.77923</td></tr><tr><td>target_test/f1</td><td>0.77954</td></tr><tr><td>target_test/loss</td><td>0.54318</td></tr><tr><td>target_val/accuracy</td><td>0.78132</td></tr><tr><td>target_val/f1</td><td>0.7818</td></tr><tr><td>target_val/loss</td><td>0.61213</td></tr><tr><td>train_accuracy</td><td>0.9375</td></tr><tr><td>train_f1</td><td>0.93769</td></tr><tr><td>train_loss</td><td>0.27956</td></tr><tr><td>trainer/global_step</td><td>10875</td></tr><tr><td>val_loss</td><td>0.68891</td></tr></table><br/></div></div>"
      ],
      "text/plain": [
       "<IPython.core.display.HTML object>"
      ]
     },
     "metadata": {},
     "output_type": "display_data"
    },
    {
     "data": {
      "text/html": [
       " View run <strong style=\"color:#cdcd00\">STR_invLora_run_with_seed_100</strong> at: <a href='https://wandb.ai/mrawhani/final_continous/runs/5kqni641' target=\"_blank\">https://wandb.ai/mrawhani/final_continous/runs/5kqni641</a><br/> View project at: <a href='https://wandb.ai/mrawhani/final_continous' target=\"_blank\">https://wandb.ai/mrawhani/final_continous</a><br/>Synced 5 W&B file(s), 0 media file(s), 0 artifact file(s) and 0 other file(s)"
      ],
      "text/plain": [
       "<IPython.core.display.HTML object>"
      ]
     },
     "metadata": {},
     "output_type": "display_data"
    },
    {
     "data": {
      "text/html": [
       "Find logs at: <code>./wandb/run-20240704_175513-5kqni641/logs</code>"
      ],
      "text/plain": [
       "<IPython.core.display.HTML object>"
      ]
     },
     "metadata": {},
     "output_type": "display_data"
    }
   ],
   "source": [
    "for seed in seeds:\n",
    "    wandb.init(project=project_name, name=f'{domain}_{type}_run_with_seed_{seed}', config={'seed': seed})\n",
    "\n",
    "    try:\n",
    "        seed_everything(seed)\n",
    "\n",
    "        hparams = {\n",
    "            \"source_target\": \"slate_travel\",\n",
    "            \"source_domain\": \"slate\",\n",
    "            \"target_domain\": \"travel\",\n",
    "            \"domain_adapter_name\": \"mlm_inv_TR\",\n",
    "            \"task_adapter_name\": \"task_STR\",\n",
    "            \"pretrained_model_name\": \"bert-base-uncased\",\n",
    "            \"padding\": \"max_length\",\n",
    "            \"max_seq_length\": 128,\n",
    "            \"bsz\": 32,\n",
    "            \"num_classes\": 3,\n",
    "            \"learning_rate\": 1e-4,\n",
    "            \"reduction_factor\": 16,\n",
    "            \"mode\": \"domain\",\n",
    "            \"saved_adapter_dir\": \"../../saved/adapters\",\n",
    "        }\n",
    "\n",
    "        save_dir = \"checkpoints\"\n",
    "        save_epoch_3 = 3  # Save model at the 3rd epoch\n",
    "        #save_model_callback_epoch = SaveModelAtEpochCallback(save_dir, save_epoch_3)\n",
    "        # Add a print statement to confirm the callback initialization\n",
    "        #print(f\"Initialized SaveModelAtEpochCallback with save_dir={save_dir} and save_epoch={save_epoch_3}\")\n",
    "        dm = processed.DataModuleSourceTarget(hparams)\n",
    "        dm.setup('fit')\n",
    "        dm.setup(\"test\")\n",
    "\n",
    "        model = DomainTaskAdapter(hparams)\n",
    "\n",
    "        checkpoint_callback = ModelCheckpoint(\n",
    "            filename=\"task-STR-{epoch:02d}-{val_loss:.2f}\",\n",
    "            save_top_k=1,\n",
    "            monitor=\"val_loss\",\n",
    "            mode=\"min\",\n",
    "        )\n",
    "        save_model_callback_epoch = ModelCheckpoint(\n",
    "                # dirpath=checkpoints_path, # <--- specify this on the trainer itself for version control\n",
    "                filename=\"STR-{epoch:02d}\",\n",
    "                every_n_epochs=save_epoch_3,\n",
    "                save_top_k=-1,  # <--- this is important!\n",
    "            )\n",
    "       \n",
    "        wandb_logger = WandbLogger()\n",
    "        \n",
    "    except Exception as e:\n",
    "        print(f\"Error during preprocessing : {e}\")   \n",
    "\n",
    "    try:\n",
    "        train_loader = dm.train_dataloader()\n",
    "        val_loader = dm.val_dataloader()\n",
    "        trainer = Trainer(\n",
    "            max_epochs=5,\n",
    "            accelerator=\"auto\",\n",
    "            default_root_dir=\"checkpoints\",\n",
    "            # precision=16,\n",
    "            logger=wandb_logger,\n",
    "            callbacks=[checkpoint_callback,save_model_callback_epoch],\n",
    "            limit_train_batches=1.0,\n",
    "            limit_val_batches=1.0,\n",
    "            limit_test_batches=1.0,\n",
    "            # log_every_n_GTRps=10,\n",
    "        )\n",
    "      \n",
    "        trainer.fit(model, train_loader, val_loader)\n",
    "           # After training, print the paths to verify\n",
    "        print(f\"Best checkpoint path: {checkpoint_callback.best_model_path}\")\n",
    "        print(f\"Saved epoch checkpoint path: {save_model_callback_epoch.best_model_path}\")\n",
    "    except Exception as e:\n",
    "        print(f\"Error during training : {e}\")\n",
    "\n",
    "    try:\n",
    "        \n",
    "        dm.setup(\"test\")\n",
    "        test_loader = dm.test_dataloader()\n",
    "        test_results_last = trainer.test(model, test_loader)\n",
    "        print(\"Test Results Last Epoch:\", test_results_last)\n",
    "\n",
    "        # Collect results for last epoch model\n",
    "        for key, value in test_results_last[0].items():\n",
    "            results[\"last_epoch\"][key].append(value)\n",
    "\n",
    "        # Paths to the saved checkpoints\n",
    "        best_checkpoint_path = checkpoint_callback.best_model_path\n",
    "        saved_epoch_checkpoint_path = save_model_callback_epoch.best_model_path\n",
    "        # Print the paths to verify\n",
    "        print(f\"Best checkpoint path: {best_checkpoint_path}\")\n",
    "        print(f\"Saved epoch checkpoint path: {saved_epoch_checkpoint_path}\")\n",
    "        \n",
    "        best_model = DomainTaskAdapter.load_from_checkpoint(best_checkpoint_path)\n",
    "        test_results_best = trainer.test(best_model, test_loader)\n",
    "        print(\"Test Results on Best Model:\", test_results_best)\n",
    "        # Collect results for best model\n",
    "        for key, value in test_results_best[0].items():\n",
    "            results[\"best_model\"][key].append(value)\n",
    "\n",
    "        saved_epoch_model = DomainTaskAdapter.load_from_checkpoint(saved_epoch_checkpoint_path)\n",
    "        test_results_saved_epoch = trainer.test(saved_epoch_model, test_loader)\n",
    "        print(\"Test Results on saved epoch:\", test_results_saved_epoch)\n",
    "        # Collect results for 3rd epoch model\n",
    "        for key, value in test_results_saved_epoch[0].items():\n",
    "            results[\"epoch_saved\"][key].append(value)\n",
    "        \n",
    "\n",
    "    except Exception as e:\n",
    "        print(f\"Error during testing: {e}\")\n",
    "\n",
    "    # Finish the wandb run\n",
    "    wandb.finish()"
   ]
  },
  {
   "cell_type": "code",
   "execution_count": 6,
   "metadata": {},
   "outputs": [
    {
     "data": {
      "text/plain": [
       "dict_items([('last_epoch', {'source_test/loss': [0.6922851800918579, 0.7286478281021118, 0.6931704878807068], 'source_test/accuracy': [0.7641128897666931, 0.7459677457809448, 0.7510080337524414], 'source_test/f1': [0.7644995450973511, 0.7458705306053162, 0.7511485815048218], 'target_test/loss': [0.5934373140335083, 0.6068739891052246, 0.6010395884513855], 'target_test/accuracy': [0.7918346524238586, 0.7893145084381104, 0.789818525314331], 'target_test/f1': [0.7918846011161804, 0.7895204424858093, 0.7896298170089722]}), ('best_model', {'source_test/loss': [0.6271538138389587, 0.6431580781936646, 0.6241580247879028], 'source_test/accuracy': [0.7560483813285828, 0.7444556355476379, 0.7454636693000793], 'source_test/f1': [0.7568851709365845, 0.7457309365272522, 0.7466877102851868], 'target_test/loss': [0.5353726148605347, 0.5204665660858154, 0.5365455150604248], 'target_test/accuracy': [0.7872983813285828, 0.7948588728904724, 0.7777217626571655], 'target_test/f1': [0.7872546911239624, 0.7955042719841003, 0.778388261795044]}), ('epoch_saved', {'source_test/loss': [0.6271538138389587, 0.6431580781936646, 0.6309478282928467], 'source_test/accuracy': [0.7560483813285828, 0.7444556355476379, 0.753024160861969], 'source_test/f1': [0.7568851709365845, 0.7457309365272522, 0.7540767788887024], 'target_test/loss': [0.5353726148605347, 0.5204665660858154, 0.5431810021400452], 'target_test/accuracy': [0.7872983813285828, 0.7948588728904724, 0.7792338728904724], 'target_test/f1': [0.7872546911239624, 0.7955042719841003, 0.7795416116714478]})])"
      ]
     },
     "execution_count": 6,
     "metadata": {},
     "output_type": "execute_result"
    }
   ],
   "source": [
    "results.items()"
   ]
  },
  {
   "cell_type": "code",
   "execution_count": 7,
   "metadata": {},
   "outputs": [
    {
     "data": {
      "text/html": [
       "wandb version 0.17.4 is available!  To upgrade, please run:\n",
       " $ pip install wandb --upgrade"
      ],
      "text/plain": [
       "<IPython.core.display.HTML object>"
      ]
     },
     "metadata": {},
     "output_type": "display_data"
    },
    {
     "data": {
      "text/html": [
       "Tracking run with wandb version 0.17.0"
      ],
      "text/plain": [
       "<IPython.core.display.HTML object>"
      ]
     },
     "metadata": {},
     "output_type": "display_data"
    },
    {
     "data": {
      "text/html": [
       "Run data is saved locally in <code>/home/guest/Desktop/projects/fourth-expeiments/domain_adaptation_project/continous/travel/wandb/run-20240704_184222-l3l3eelc</code>"
      ],
      "text/plain": [
       "<IPython.core.display.HTML object>"
      ]
     },
     "metadata": {},
     "output_type": "display_data"
    },
    {
     "data": {
      "text/html": [
       "Syncing run <strong><a href='https://wandb.ai/mrawhani/final_continous/runs/l3l3eelc' target=\"_blank\">STR_mean_results</a></strong> to <a href='https://wandb.ai/mrawhani/final_continous' target=\"_blank\">Weights & Biases</a> (<a href='https://wandb.me/run' target=\"_blank\">docs</a>)<br/>"
      ],
      "text/plain": [
       "<IPython.core.display.HTML object>"
      ]
     },
     "metadata": {},
     "output_type": "display_data"
    },
    {
     "data": {
      "text/html": [
       " View project at <a href='https://wandb.ai/mrawhani/final_continous' target=\"_blank\">https://wandb.ai/mrawhani/final_continous</a>"
      ],
      "text/plain": [
       "<IPython.core.display.HTML object>"
      ]
     },
     "metadata": {},
     "output_type": "display_data"
    },
    {
     "data": {
      "text/html": [
       " View run at <a href='https://wandb.ai/mrawhani/final_continous/runs/l3l3eelc' target=\"_blank\">https://wandb.ai/mrawhani/final_continous/runs/l3l3eelc</a>"
      ],
      "text/plain": [
       "<IPython.core.display.HTML object>"
      ]
     },
     "metadata": {},
     "output_type": "display_data"
    },
    {
     "data": {
      "application/vnd.jupyter.widget-view+json": {
       "model_id": "6e5eb430b0d44821b9639a23a5b38a58",
       "version_major": 2,
       "version_minor": 0
      },
      "text/plain": [
       "VBox(children=(Label(value='0.002 MB of 0.002 MB uploaded\\r'), FloatProgress(value=1.0, max=1.0)))"
      ]
     },
     "metadata": {},
     "output_type": "display_data"
    },
    {
     "data": {
      "text/html": [
       "<style>\n",
       "    table.wandb td:nth-child(1) { padding: 0 10px; text-align: left ; width: auto;} td:nth-child(2) {text-align: left ; width: 100%}\n",
       "    .wandb-row { display: flex; flex-direction: row; flex-wrap: wrap; justify-content: flex-start; width: 100% }\n",
       "    .wandb-col { display: flex; flex-direction: column; flex-basis: 100%; flex: 1; padding: 10px; }\n",
       "    </style>\n",
       "<div class=\"wandb-row\"><div class=\"wandb-col\"><h3>Run history:</h3><br/><table class=\"wandb\"><tr><td>best_model/source_test/accuracy</td><td>▁</td></tr><tr><td>best_model/source_test/accuracy_std</td><td>▁</td></tr><tr><td>best_model/source_test/f1</td><td>▁</td></tr><tr><td>best_model/source_test/f1_std</td><td>▁</td></tr><tr><td>best_model/source_test/loss</td><td>▁</td></tr><tr><td>best_model/source_test/loss_std</td><td>▁</td></tr><tr><td>best_model/target_test/accuracy</td><td>▁</td></tr><tr><td>best_model/target_test/accuracy_std</td><td>▁</td></tr><tr><td>best_model/target_test/f1</td><td>▁</td></tr><tr><td>best_model/target_test/f1_std</td><td>▁</td></tr><tr><td>best_model/target_test/loss</td><td>▁</td></tr><tr><td>best_model/target_test/loss_std</td><td>▁</td></tr><tr><td>epoch_saved/source_test/accuracy</td><td>▁</td></tr><tr><td>epoch_saved/source_test/accuracy_std</td><td>▁</td></tr><tr><td>epoch_saved/source_test/f1</td><td>▁</td></tr><tr><td>epoch_saved/source_test/f1_std</td><td>▁</td></tr><tr><td>epoch_saved/source_test/loss</td><td>▁</td></tr><tr><td>epoch_saved/source_test/loss_std</td><td>▁</td></tr><tr><td>epoch_saved/target_test/accuracy</td><td>▁</td></tr><tr><td>epoch_saved/target_test/accuracy_std</td><td>▁</td></tr><tr><td>epoch_saved/target_test/f1</td><td>▁</td></tr><tr><td>epoch_saved/target_test/f1_std</td><td>▁</td></tr><tr><td>epoch_saved/target_test/loss</td><td>▁</td></tr><tr><td>epoch_saved/target_test/loss_std</td><td>▁</td></tr><tr><td>last_epoch/source_test/accuracy</td><td>▁</td></tr><tr><td>last_epoch/source_test/accuracy_std</td><td>▁</td></tr><tr><td>last_epoch/source_test/f1</td><td>▁</td></tr><tr><td>last_epoch/source_test/f1_std</td><td>▁</td></tr><tr><td>last_epoch/source_test/loss</td><td>▁</td></tr><tr><td>last_epoch/source_test/loss_std</td><td>▁</td></tr><tr><td>last_epoch/target_test/accuracy</td><td>▁</td></tr><tr><td>last_epoch/target_test/accuracy_std</td><td>▁</td></tr><tr><td>last_epoch/target_test/f1</td><td>▁</td></tr><tr><td>last_epoch/target_test/f1_std</td><td>▁</td></tr><tr><td>last_epoch/target_test/loss</td><td>▁</td></tr><tr><td>last_epoch/target_test/loss_std</td><td>▁</td></tr></table><br/></div><div class=\"wandb-col\"><h3>Run summary:</h3><br/><table class=\"wandb\"><tr><td>best_model/source_test/accuracy</td><td>0.74866</td></tr><tr><td>best_model/source_test/accuracy_std</td><td>0.00524</td></tr><tr><td>best_model/source_test/f1</td><td>0.74977</td></tr><tr><td>best_model/source_test/f1_std</td><td>0.00505</td></tr><tr><td>best_model/source_test/loss</td><td>0.63149</td></tr><tr><td>best_model/source_test/loss_std</td><td>0.00834</td></tr><tr><td>best_model/target_test/accuracy</td><td>0.78663</td></tr><tr><td>best_model/target_test/accuracy_std</td><td>0.00701</td></tr><tr><td>best_model/target_test/f1</td><td>0.78705</td></tr><tr><td>best_model/target_test/f1_std</td><td>0.00699</td></tr><tr><td>best_model/target_test/loss</td><td>0.53079</td></tr><tr><td>best_model/target_test/loss_std</td><td>0.00732</td></tr><tr><td>epoch_saved/source_test/accuracy</td><td>0.75118</td></tr><tr><td>epoch_saved/source_test/accuracy_std</td><td>0.00491</td></tr><tr><td>epoch_saved/source_test/f1</td><td>0.75223</td></tr><tr><td>epoch_saved/source_test/f1_std</td><td>0.00474</td></tr><tr><td>epoch_saved/source_test/loss</td><td>0.63375</td></tr><tr><td>epoch_saved/source_test/loss_std</td><td>0.00683</td></tr><tr><td>epoch_saved/target_test/accuracy</td><td>0.78713</td></tr><tr><td>epoch_saved/target_test/accuracy_std</td><td>0.00638</td></tr><tr><td>epoch_saved/target_test/f1</td><td>0.78743</td></tr><tr><td>epoch_saved/target_test/f1_std</td><td>0.00652</td></tr><tr><td>epoch_saved/target_test/loss</td><td>0.53301</td></tr><tr><td>epoch_saved/target_test/loss_std</td><td>0.00942</td></tr><tr><td>last_epoch/source_test/accuracy</td><td>0.7537</td></tr><tr><td>last_epoch/source_test/accuracy_std</td><td>0.00765</td></tr><tr><td>last_epoch/source_test/f1</td><td>0.75384</td></tr><tr><td>last_epoch/source_test/f1_std</td><td>0.00784</td></tr><tr><td>last_epoch/source_test/loss</td><td>0.7047</td></tr><tr><td>last_epoch/source_test/loss_std</td><td>0.01694</td></tr><tr><td>last_epoch/target_test/accuracy</td><td>0.79032</td></tr><tr><td>last_epoch/target_test/accuracy_std</td><td>0.00109</td></tr><tr><td>last_epoch/target_test/f1</td><td>0.79034</td></tr><tr><td>last_epoch/target_test/f1_std</td><td>0.00109</td></tr><tr><td>last_epoch/target_test/loss</td><td>0.60045</td></tr><tr><td>last_epoch/target_test/loss_std</td><td>0.0055</td></tr></table><br/></div></div>"
      ],
      "text/plain": [
       "<IPython.core.display.HTML object>"
      ]
     },
     "metadata": {},
     "output_type": "display_data"
    },
    {
     "data": {
      "text/html": [
       " View run <strong style=\"color:#cdcd00\">STR_mean_results</strong> at: <a href='https://wandb.ai/mrawhani/final_continous/runs/l3l3eelc' target=\"_blank\">https://wandb.ai/mrawhani/final_continous/runs/l3l3eelc</a><br/> View project at: <a href='https://wandb.ai/mrawhani/final_continous' target=\"_blank\">https://wandb.ai/mrawhani/final_continous</a><br/>Synced 4 W&B file(s), 0 media file(s), 0 artifact file(s) and 0 other file(s)"
      ],
      "text/plain": [
       "<IPython.core.display.HTML object>"
      ]
     },
     "metadata": {},
     "output_type": "display_data"
    },
    {
     "data": {
      "text/html": [
       "Find logs at: <code>./wandb/run-20240704_184222-l3l3eelc/logs</code>"
      ],
      "text/plain": [
       "<IPython.core.display.HTML object>"
      ]
     },
     "metadata": {},
     "output_type": "display_data"
    },
    {
     "name": "stdout",
     "output_type": "stream",
     "text": [
      "Mean Results: {'last_epoch': {'source_test/loss': 0.7047011653582255, 'source_test/accuracy': 0.7536962231000265, 'source_test/f1': 0.7538395524024963, 'target_test/loss': 0.6004502971967062, 'target_test/accuracy': 0.7903225620587667, 'target_test/f1': 0.7903449535369873}, 'best_model': {'source_test/loss': 0.6314899722735087, 'source_test/accuracy': 0.7486558953921, 'source_test/f1': 0.7497679392496744, 'target_test/loss': 0.5307948986689249, 'target_test/accuracy': 0.7866263389587402, 'target_test/f1': 0.7870490749677023}, 'epoch_saved': {'source_test/loss': 0.63375324010849, 'source_test/accuracy': 0.7511760592460632, 'source_test/f1': 0.7522309621175131, 'target_test/loss': 0.5330067276954651, 'target_test/accuracy': 0.7871303757031759, 'target_test/f1': 0.7874335249265035}}\n",
      "Standard Deviation Results: {'last_epoch': {'source_test/loss': 0.0169367044196389, 'source_test/accuracy': 0.007647715739235981, 'source_test/f1': 0.007839687005453311, 'target_test/loss': 0.005501303323325713, 'target_test/accuracy': 0.0010888284857380037, 'target_test/f1': 0.001089610541329849}, 'best_model': {'source_test/loss': 0.008340751757988745, 'source_test/accuracy': 0.0052434511060519854, 'source_test/f1': 0.00504777800422026, 'target_test/loss': 0.007318914499669887, 'target_test/accuracy': 0.007012316188786487, 'target_test/f1': 0.006989094347660838}, 'epoch_saved': {'source_test/loss': 0.006828219434832679, 'source_test/accuracy': 0.0049098233758074995, 'source_test/f1': 0.00473705365385039, 'target_test/loss': 0.009422825757128403, 'target_test/accuracy': 0.0063799856670490145, 'target_test/f1': 0.006517955569603196}}\n"
     ]
    }
   ],
   "source": [
    "# Calculate mean and standard deviation for each scenario\n",
    "mean_results = {scenario: {key: np.mean(values) for key, values in metrics.items()} for scenario, metrics in results.items()}\n",
    "std_results = {scenario: {key: np.std(values) for key, values in metrics.items()} for scenario, metrics in results.items()}\n",
    "\n",
    "# Log mean and standard deviation results to wandb\n",
    "wandb.init(project=project_name, name=f'{domain}_mean_results')\n",
    "for scenario in mean_results:\n",
    "    for key, value in mean_results[scenario].items():\n",
    "        wandb.log({f\"{scenario}/{key}\": value})\n",
    "        wandb.log({f\"{scenario}/{key}_std\": std_results[scenario][key]})\n",
    "wandb.finish()\n",
    "\n",
    "print(\"Mean Results:\", mean_results)\n",
    "print(\"Standard Deviation Results:\", std_results)\n",
    "\n",
    "# # Save the best model's adapter\n",
    "# if model:\n",
    "#     adapter_save_path = f\"../../saved/adapter_after_run/{hparams['task_adapter_name']}\"\n",
    "#     model.save_adapter(adapter_save_path, hparams['task_adapter_name'])\n",
    "#     print(f\"Adapter saved to {adapter_save_path}\")\n",
    "# else:\n",
    "#     print(\"No best model to save.\")"
   ]
  },
  {
   "cell_type": "code",
   "execution_count": null,
   "metadata": {},
   "outputs": [],
   "source": []
  },
  {
   "cell_type": "code",
   "execution_count": 8,
   "metadata": {},
   "outputs": [
    {
     "name": "stdout",
     "output_type": "stream",
     "text": [
      "dones\n"
     ]
    }
   ],
   "source": [
    "print('dones')"
   ]
  },
  {
   "cell_type": "code",
   "execution_count": 9,
   "metadata": {},
   "outputs": [
    {
     "data": {
      "text/plain": [
       "inf"
      ]
     },
     "execution_count": 9,
     "metadata": {},
     "output_type": "execute_result"
    }
   ],
   "source": [
    "best_val_loss"
   ]
  },
  {
   "cell_type": "code",
   "execution_count": null,
   "metadata": {},
   "outputs": [],
   "source": []
  }
 ],
 "metadata": {
  "kernelspec": {
   "display_name": ".venv",
   "language": "python",
   "name": "python3"
  },
  "language_info": {
   "codemirror_mode": {
    "name": "ipython",
    "version": 3
   },
   "file_extension": ".py",
   "mimetype": "text/x-python",
   "name": "python",
   "nbconvert_exporter": "python",
   "pygments_lexer": "ipython3",
   "version": "3.8.10"
  }
 },
 "nbformat": 4,
 "nbformat_minor": 2
}
